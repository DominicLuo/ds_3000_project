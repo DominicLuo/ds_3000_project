{
 "cells": [
  {
   "attachments": {},
   "cell_type": "markdown",
   "metadata": {},
   "source": [
    "### Topic Proposal\n",
    "Throughout history, numerous innovations and strategies have been developed to enhance financial stability for corporations. A key factor in sustaining strong growth is the organization of human capital. Today, an increasing number of female leaders are rising to leadership roles in industries historically dominated by men. This proposal aims to investigate whether there is a correlation between workforce composition and a company's ability to grow and maintain stability. We plan to analyze various financial metrics, along with CEO demographics and employee data from Fortune 500 companies, to address the following questions.\n",
    "\n",
    "### Questions:\n",
    "- Does more employees mean more robust financial growth?\n",
    "- Does human resource play an important role in how the companies are ranked?\n",
    "- Does having female CEOs correlate with more efficiency within corporations?"
   ]
  },
  {
   "attachments": {},
   "cell_type": "markdown",
   "metadata": {},
   "source": [
    "### Data Pipeline Summary\n",
    "- We first conduct data scraping from the data source \"https://fortune.com/ranking/global500/search/?fortune500_y_n=true\" (top 500 companies we would like to conduct our data exploration on). We then leveraged another datasource \"https://en.wikipedia.org/wiki/List_of_women_CEOs_of_Fortune_500_companies\" to find information on CEOs who are female to help answer our aforementioned questions.\n",
    "Please refer to the blocks code below to see how we scrape these data.\n",
    "- We then identify the numerical features such as Revenues, Profits, Assets and number of Employees, as well categorical features such as CEO gender information and ranking.\n",
    "- Once all the data is scraped, we removed unnecessary columns, refine the data types for numerical data (raw data was in mixed types) to help conduct further calculations as well as graphing purposes.\n",
    "- To determine the companies' resource utilisation efficiency, we used Asset Turonver Ratio, calculated Revenue/Total Assets, to help draw conclusions on the aforementioned questions.\n",
    "- Gather up all the columns we need into a consolidated data file.\n",
    "- We then visualised the data to check if our proposal is coherent."
   ]
  },
  {
   "cell_type": "code",
   "execution_count": 1,
   "metadata": {},
   "outputs": [
    {
     "data": {
      "text/html": [
       "<div>\n",
       "<style scoped>\n",
       "    .dataframe tbody tr th:only-of-type {\n",
       "        vertical-align: middle;\n",
       "    }\n",
       "\n",
       "    .dataframe tbody tr th {\n",
       "        vertical-align: top;\n",
       "    }\n",
       "\n",
       "    .dataframe thead th {\n",
       "        text-align: right;\n",
       "    }\n",
       "</style>\n",
       "<table border=\"1\" class=\"dataframe\">\n",
       "  <thead>\n",
       "    <tr style=\"text-align: right;\">\n",
       "      <th></th>\n",
       "      <th>Rank</th>\n",
       "      <th>Name</th>\n",
       "      <th>Revenues ($M)</th>\n",
       "      <th>Revenue Percent Change</th>\n",
       "      <th>Profits ($M)</th>\n",
       "      <th>Profits Percent Change</th>\n",
       "      <th>Assets ($M)</th>\n",
       "      <th>Employees</th>\n",
       "      <th>Change in Rank</th>\n",
       "      <th>Years on Global 500 List</th>\n",
       "    </tr>\n",
       "  </thead>\n",
       "  <tbody>\n",
       "    <tr>\n",
       "      <th>0</th>\n",
       "      <td>1</td>\n",
       "      <td>Walmart</td>\n",
       "      <td>$648,125</td>\n",
       "      <td>6%</td>\n",
       "      <td>$15,511</td>\n",
       "      <td>32.8%</td>\n",
       "      <td>$252,399</td>\n",
       "      <td>2,100,000</td>\n",
       "      <td>-</td>\n",
       "      <td>30</td>\n",
       "    </tr>\n",
       "    <tr>\n",
       "      <th>1</th>\n",
       "      <td>2</td>\n",
       "      <td>Amazon</td>\n",
       "      <td>$574,785</td>\n",
       "      <td>11.8%</td>\n",
       "      <td>$30,425</td>\n",
       "      <td>-</td>\n",
       "      <td>$527,854</td>\n",
       "      <td>1,525,000</td>\n",
       "      <td>2</td>\n",
       "      <td>16</td>\n",
       "    </tr>\n",
       "    <tr>\n",
       "      <th>2</th>\n",
       "      <td>3</td>\n",
       "      <td>State Grid</td>\n",
       "      <td>$545,947.5</td>\n",
       "      <td>3%</td>\n",
       "      <td>$9,204.3</td>\n",
       "      <td>12.4%</td>\n",
       "      <td>$781,126.2</td>\n",
       "      <td>1,361,423</td>\n",
       "      <td>-</td>\n",
       "      <td>24</td>\n",
       "    </tr>\n",
       "    <tr>\n",
       "      <th>3</th>\n",
       "      <td>4</td>\n",
       "      <td>Saudi Aramco</td>\n",
       "      <td>$494,890.1</td>\n",
       "      <td>-18%</td>\n",
       "      <td>$120,699.3</td>\n",
       "      <td>-24.1%</td>\n",
       "      <td>$660,819.2</td>\n",
       "      <td>73,311</td>\n",
       "      <td>-2</td>\n",
       "      <td>6</td>\n",
       "    </tr>\n",
       "    <tr>\n",
       "      <th>4</th>\n",
       "      <td>5</td>\n",
       "      <td>Sinopec Group</td>\n",
       "      <td>$429,699.7</td>\n",
       "      <td>-8.8%</td>\n",
       "      <td>$9,393.4</td>\n",
       "      <td>-2.7%</td>\n",
       "      <td>$382,688</td>\n",
       "      <td>513,434</td>\n",
       "      <td>1</td>\n",
       "      <td>26</td>\n",
       "    </tr>\n",
       "    <tr>\n",
       "      <th>...</th>\n",
       "      <td>...</td>\n",
       "      <td>...</td>\n",
       "      <td>...</td>\n",
       "      <td>...</td>\n",
       "      <td>...</td>\n",
       "      <td>...</td>\n",
       "      <td>...</td>\n",
       "      <td>...</td>\n",
       "      <td>...</td>\n",
       "      <td>...</td>\n",
       "    </tr>\n",
       "    <tr>\n",
       "      <th>495</th>\n",
       "      <td>496</td>\n",
       "      <td>Air France-KLM Group</td>\n",
       "      <td>$32,452.3</td>\n",
       "      <td>16.9%</td>\n",
       "      <td>$1,009.7</td>\n",
       "      <td>31.9%</td>\n",
       "      <td>$38,093.7</td>\n",
       "      <td>76,271</td>\n",
       "      <td>-</td>\n",
       "      <td>25</td>\n",
       "    </tr>\n",
       "    <tr>\n",
       "      <th>496</th>\n",
       "      <td>497</td>\n",
       "      <td>Enbridge</td>\n",
       "      <td>$32,349.5</td>\n",
       "      <td>-21%</td>\n",
       "      <td>$4,588.3</td>\n",
       "      <td>98.8%</td>\n",
       "      <td>$136,769.6</td>\n",
       "      <td>12,450</td>\n",
       "      <td>-132</td>\n",
       "      <td>11</td>\n",
       "    </tr>\n",
       "    <tr>\n",
       "      <th>497</th>\n",
       "      <td>498</td>\n",
       "      <td>ABB</td>\n",
       "      <td>$32,235</td>\n",
       "      <td>9.5%</td>\n",
       "      <td>$3,745</td>\n",
       "      <td>51.3%</td>\n",
       "      <td>$40,940</td>\n",
       "      <td>107,900</td>\n",
       "      <td>-</td>\n",
       "      <td>29</td>\n",
       "    </tr>\n",
       "    <tr>\n",
       "      <th>498</th>\n",
       "      <td>499</td>\n",
       "      <td>Mitsubishi Heavy Industries</td>\n",
       "      <td>$32,223.2</td>\n",
       "      <td>3.8%</td>\n",
       "      <td>$1,536.2</td>\n",
       "      <td>59.4%</td>\n",
       "      <td>$41,371.9</td>\n",
       "      <td>77,697</td>\n",
       "      <td>-</td>\n",
       "      <td>30</td>\n",
       "    </tr>\n",
       "    <tr>\n",
       "      <th>499</th>\n",
       "      <td>500</td>\n",
       "      <td>Samsung C&amp;T</td>\n",
       "      <td>$32,077.9</td>\n",
       "      <td>-4.1%</td>\n",
       "      <td>$1,698.5</td>\n",
       "      <td>7.3%</td>\n",
       "      <td>$51,046.8</td>\n",
       "      <td>18,685</td>\n",
       "      <td>-43</td>\n",
       "      <td>8</td>\n",
       "    </tr>\n",
       "  </tbody>\n",
       "</table>\n",
       "<p>500 rows × 10 columns</p>\n",
       "</div>"
      ],
      "text/plain": [
       "    Rank                         Name Revenues ($M) Revenue Percent Change  \\\n",
       "0      1                      Walmart      $648,125                     6%   \n",
       "1      2                       Amazon      $574,785                  11.8%   \n",
       "2      3                   State Grid    $545,947.5                     3%   \n",
       "3      4                 Saudi Aramco    $494,890.1                   -18%   \n",
       "4      5                Sinopec Group    $429,699.7                  -8.8%   \n",
       "..   ...                          ...           ...                    ...   \n",
       "495  496         Air France-KLM Group     $32,452.3                  16.9%   \n",
       "496  497                     Enbridge     $32,349.5                   -21%   \n",
       "497  498                          ABB       $32,235                   9.5%   \n",
       "498  499  Mitsubishi Heavy Industries     $32,223.2                   3.8%   \n",
       "499  500                  Samsung C&T     $32,077.9                  -4.1%   \n",
       "\n",
       "    Profits ($M) Profits Percent Change Assets ($M)  Employees Change in Rank  \\\n",
       "0        $15,511                  32.8%    $252,399  2,100,000              -   \n",
       "1        $30,425                      -    $527,854  1,525,000              2   \n",
       "2       $9,204.3                  12.4%  $781,126.2  1,361,423              -   \n",
       "3     $120,699.3                 -24.1%  $660,819.2     73,311             -2   \n",
       "4       $9,393.4                  -2.7%    $382,688    513,434              1   \n",
       "..           ...                    ...         ...        ...            ...   \n",
       "495     $1,009.7                  31.9%   $38,093.7     76,271              -   \n",
       "496     $4,588.3                  98.8%  $136,769.6     12,450           -132   \n",
       "497       $3,745                  51.3%     $40,940    107,900              -   \n",
       "498     $1,536.2                  59.4%   $41,371.9     77,697              -   \n",
       "499     $1,698.5                   7.3%   $51,046.8     18,685            -43   \n",
       "\n",
       "    Years on Global 500 List  \n",
       "0                         30  \n",
       "1                         16  \n",
       "2                         24  \n",
       "3                          6  \n",
       "4                         26  \n",
       "..                       ...  \n",
       "495                       25  \n",
       "496                       11  \n",
       "497                       29  \n",
       "498                       30  \n",
       "499                        8  \n",
       "\n",
       "[500 rows x 10 columns]"
      ]
     },
     "execution_count": 1,
     "metadata": {},
     "output_type": "execute_result"
    }
   ],
   "source": [
    "\"\"\"\n",
    "\n",
    "Links:\n",
    "https://fortune.com/ranking/global500/search/?fortune500_y_n=true\n",
    "\n",
    "Numerical Features:\n",
    "'Rank', 'Name', 'Revenues ($M)', 'Revenue Percent Change',\n",
    "'Profits ($M)', 'Profits Percent Change', 'Assets ($M)', 'Employees',\n",
    "'Change in Rank', 'Years on Global 500 List'\n",
    "\n",
    "Categorical Features:\n",
    "Fortune Global 500 (Top 10 Specifically)\n",
    "Female CEO\n",
    "\n",
    "How the data will be used:\n",
    "The data from the Fortune Global 500 will be used to answer two critically important questions. First, which factors influence a company's\n",
    "profitability relative to revenue and second how the number of employyes correlate with revenue and profits. By analyzing the key statistics\n",
    "of companies such as their revenue, profits, assets, number of employees, etc. we will be able to compare these values and see where the pattern \n",
    "lies between the most successful companies and companies that may not be most successful. Predictive modeling can be used to forecast a\n",
    "company's future performance based on these statistics. \n",
    "\"\"\"\n",
    "import requests\n",
    "from bs4 import BeautifulSoup\n",
    "import pandas as pd\n",
    "import numpy as np\n",
    "\n",
    "url = \"https://fortune.com/ranking/global500/search/\"\n",
    "page = requests.get(url)\n",
    "soup = BeautifulSoup(page.text, 'html')\n",
    "\n",
    "headers = [th.get_text(strip=True) for th in soup.find_all('th')]\n",
    "cleaned_headers = [header.replace('Remove', '') for header in headers]\n",
    "\n",
    "df = pd.DataFrame(columns = cleaned_headers)\n",
    "\n",
    "column_data = soup.find_all('td')\n",
    "\n",
    "data = []\n",
    "for td in column_data:\n",
    "    if not td.find('a'):\n",
    "        data.append(td.get_text(strip=True))\n",
    "\n",
    "num_columns = len(cleaned_headers)\n",
    "\n",
    "rows = [data[i:i + num_columns] for i in range(0, len(data), num_columns)]\n",
    "\n",
    "for row in rows:\n",
    "    df.loc[len(df)] = row\n",
    "        \n",
    "df\n",
    "\n",
    "#df.to_csv(\"Fortune 500 webscraping data.csv\")\n",
    "#Column for Female CEO \n",
    "#Save data to csv file "
   ]
  },
  {
   "cell_type": "code",
   "execution_count": 2,
   "metadata": {},
   "outputs": [
    {
     "data": {
      "text/html": [
       "<div>\n",
       "<style scoped>\n",
       "    .dataframe tbody tr th:only-of-type {\n",
       "        vertical-align: middle;\n",
       "    }\n",
       "\n",
       "    .dataframe tbody tr th {\n",
       "        vertical-align: top;\n",
       "    }\n",
       "\n",
       "    .dataframe thead th {\n",
       "        text-align: right;\n",
       "    }\n",
       "</style>\n",
       "<table border=\"1\" class=\"dataframe\">\n",
       "  <thead>\n",
       "    <tr style=\"text-align: right;\">\n",
       "      <th></th>\n",
       "      <th>CEO</th>\n",
       "      <th>Company</th>\n",
       "      <th>Fortune 500 rank</th>\n",
       "      <th>Start date</th>\n",
       "    </tr>\n",
       "  </thead>\n",
       "  <tbody>\n",
       "    <tr>\n",
       "      <th>0</th>\n",
       "      <td>Karen S. Lynch</td>\n",
       "      <td>CVS Health</td>\n",
       "      <td>6</td>\n",
       "      <td>February 1, 2021</td>\n",
       "    </tr>\n",
       "    <tr>\n",
       "      <th>1</th>\n",
       "      <td>Mary T. Barra</td>\n",
       "      <td>General Motors</td>\n",
       "      <td>19</td>\n",
       "      <td>January 1, 2014</td>\n",
       "    </tr>\n",
       "    <tr>\n",
       "      <th>2</th>\n",
       "      <td>Gail K. Boudreaux</td>\n",
       "      <td>Elevance Health</td>\n",
       "      <td>20</td>\n",
       "      <td>November 1, 2017</td>\n",
       "    </tr>\n",
       "    <tr>\n",
       "      <th>3</th>\n",
       "      <td>Jane Fraser</td>\n",
       "      <td>Citigroup</td>\n",
       "      <td>21</td>\n",
       "      <td>February 1, 2021</td>\n",
       "    </tr>\n",
       "    <tr>\n",
       "      <th>4</th>\n",
       "      <td>Sarah London</td>\n",
       "      <td>Centene</td>\n",
       "      <td>22</td>\n",
       "      <td>March 1, 2022</td>\n",
       "    </tr>\n",
       "    <tr>\n",
       "      <th>5</th>\n",
       "      <td>Priscilla Almodovar</td>\n",
       "      <td>Fannie Mae</td>\n",
       "      <td>27</td>\n",
       "      <td>December 1, 2022</td>\n",
       "    </tr>\n",
       "    <tr>\n",
       "      <th>6</th>\n",
       "      <td>Carol B. Tomé</td>\n",
       "      <td>United Parcel Service</td>\n",
       "      <td>45</td>\n",
       "      <td>June 1, 2020</td>\n",
       "    </tr>\n",
       "    <tr>\n",
       "      <th>7</th>\n",
       "      <td>Susan Patricia Griffith</td>\n",
       "      <td>Progressive</td>\n",
       "      <td>62</td>\n",
       "      <td>July 1, 2016</td>\n",
       "    </tr>\n",
       "    <tr>\n",
       "      <th>8</th>\n",
       "      <td>Safra A. Catz</td>\n",
       "      <td>Oracle</td>\n",
       "      <td>89</td>\n",
       "      <td>September 1, 2014</td>\n",
       "    </tr>\n",
       "    <tr>\n",
       "      <th>9</th>\n",
       "      <td>Thasunda Brown Duckett</td>\n",
       "      <td>Tiaa</td>\n",
       "      <td>96</td>\n",
       "      <td>May 1, 2021</td>\n",
       "    </tr>\n",
       "    <tr>\n",
       "      <th>10</th>\n",
       "      <td>Corie S. Barry</td>\n",
       "      <td>Best Buy</td>\n",
       "      <td>100</td>\n",
       "      <td>June 1, 2019</td>\n",
       "    </tr>\n",
       "    <tr>\n",
       "      <th>11</th>\n",
       "      <td>Phebe N. Novakovic</td>\n",
       "      <td>General Dynamics</td>\n",
       "      <td>104</td>\n",
       "      <td>January 1, 2013</td>\n",
       "    </tr>\n",
       "    <tr>\n",
       "      <th>12</th>\n",
       "      <td>Kathy J. Warden</td>\n",
       "      <td>Northrop Grumman</td>\n",
       "      <td>109</td>\n",
       "      <td>January 1, 2019</td>\n",
       "    </tr>\n",
       "    <tr>\n",
       "      <th>13</th>\n",
       "      <td>Jennifer Rumsey</td>\n",
       "      <td>Cummins</td>\n",
       "      <td>129</td>\n",
       "      <td>August 1, 2022</td>\n",
       "    </tr>\n",
       "    <tr>\n",
       "      <th>14</th>\n",
       "      <td>Lynn J. Good</td>\n",
       "      <td>Duke Energy</td>\n",
       "      <td>148</td>\n",
       "      <td>July 1, 2013</td>\n",
       "    </tr>\n",
       "    <tr>\n",
       "      <th>15</th>\n",
       "      <td>Vicki A. Hollub</td>\n",
       "      <td>Occidental Petroleum</td>\n",
       "      <td>149</td>\n",
       "      <td>April 1, 2016</td>\n",
       "    </tr>\n",
       "    <tr>\n",
       "      <th>16</th>\n",
       "      <td>Patricia K. Poppe</td>\n",
       "      <td>PG&amp;E</td>\n",
       "      <td>167</td>\n",
       "      <td>January 1, 2021</td>\n",
       "    </tr>\n",
       "    <tr>\n",
       "      <th>17</th>\n",
       "      <td>Heidi G. Petz</td>\n",
       "      <td>Sherwin-Williams</td>\n",
       "      <td>176</td>\n",
       "      <td>January 1, 2024</td>\n",
       "    </tr>\n",
       "    <tr>\n",
       "      <th>18</th>\n",
       "      <td>Lisa T. Su</td>\n",
       "      <td>Advanced Micro Devices</td>\n",
       "      <td>181</td>\n",
       "      <td>August 1, 2014</td>\n",
       "    </tr>\n",
       "    <tr>\n",
       "      <th>19</th>\n",
       "      <td>Christine A. Leahy</td>\n",
       "      <td>CDW</td>\n",
       "      <td>189</td>\n",
       "      <td>January 1, 2019</td>\n",
       "    </tr>\n",
       "    <tr>\n",
       "      <th>20</th>\n",
       "      <td>Barbara Rentler</td>\n",
       "      <td>Ross Stores</td>\n",
       "      <td>201</td>\n",
       "      <td>June 1, 2014</td>\n",
       "    </tr>\n",
       "    <tr>\n",
       "      <th>21</th>\n",
       "      <td>Jennifer A. Parmentier</td>\n",
       "      <td>Parker-Hannifin</td>\n",
       "      <td>216</td>\n",
       "      <td>January 1, 2023</td>\n",
       "    </tr>\n",
       "    <tr>\n",
       "      <th>22</th>\n",
       "      <td>Maria Black</td>\n",
       "      <td>Automatic Data Processing</td>\n",
       "      <td>228</td>\n",
       "      <td>January 1, 2023</td>\n",
       "    </tr>\n",
       "    <tr>\n",
       "      <th>23</th>\n",
       "      <td>Beth E. Ford</td>\n",
       "      <td>Land O'Lakes</td>\n",
       "      <td>245</td>\n",
       "      <td>August 1, 2018</td>\n",
       "    </tr>\n",
       "    <tr>\n",
       "      <th>24</th>\n",
       "      <td>Kim Dang</td>\n",
       "      <td>Kinder Morgan</td>\n",
       "      <td>268</td>\n",
       "      <td>August 1, 2023</td>\n",
       "    </tr>\n",
       "    <tr>\n",
       "      <th>25</th>\n",
       "      <td>Karla R. Lewis</td>\n",
       "      <td>Reliance</td>\n",
       "      <td>280</td>\n",
       "      <td>January 1, 2023</td>\n",
       "    </tr>\n",
       "    <tr>\n",
       "      <th>26</th>\n",
       "      <td>Stephanie L. Ferris</td>\n",
       "      <td>Fidelity National Information Services</td>\n",
       "      <td>288</td>\n",
       "      <td>January 1, 2023</td>\n",
       "    </tr>\n",
       "    <tr>\n",
       "      <th>27</th>\n",
       "      <td>Kathleen E. Johnson</td>\n",
       "      <td>Lumen Technologies</td>\n",
       "      <td>292</td>\n",
       "      <td>November 1, 2022</td>\n",
       "    </tr>\n",
       "    <tr>\n",
       "      <th>28</th>\n",
       "      <td>Judith F. Marks</td>\n",
       "      <td>Otis Worldwide</td>\n",
       "      <td>301</td>\n",
       "      <td>April 1, 2020</td>\n",
       "    </tr>\n",
       "    <tr>\n",
       "      <th>29</th>\n",
       "      <td>Penny Pennington</td>\n",
       "      <td>Jones Financial (Edward Jones)</td>\n",
       "      <td>303</td>\n",
       "      <td>January 1, 2019</td>\n",
       "    </tr>\n",
       "    <tr>\n",
       "      <th>30</th>\n",
       "      <td>Lauren R. Hobart</td>\n",
       "      <td>Dick's Sporting Goods</td>\n",
       "      <td>313</td>\n",
       "      <td>February 1, 2021</td>\n",
       "    </tr>\n",
       "    <tr>\n",
       "      <th>31</th>\n",
       "      <td>Ariane Gorin</td>\n",
       "      <td>Expedia</td>\n",
       "      <td>315</td>\n",
       "      <td>May 1, 2024</td>\n",
       "    </tr>\n",
       "    <tr>\n",
       "      <th>32</th>\n",
       "      <td>Lori D. Koch</td>\n",
       "      <td>DuPont</td>\n",
       "      <td>327</td>\n",
       "      <td>June 1, 2024</td>\n",
       "    </tr>\n",
       "    <tr>\n",
       "      <th>33</th>\n",
       "      <td>Ellen G. Cooper</td>\n",
       "      <td>Lincoln National</td>\n",
       "      <td>354</td>\n",
       "      <td>May 1, 2022</td>\n",
       "    </tr>\n",
       "    <tr>\n",
       "      <th>34</th>\n",
       "      <td>Michele G. Buck</td>\n",
       "      <td>Hershey</td>\n",
       "      <td>361</td>\n",
       "      <td>March 1, 2017</td>\n",
       "    </tr>\n",
       "    <tr>\n",
       "      <th>35</th>\n",
       "      <td>Kathleen M. Mazzarella</td>\n",
       "      <td>Graybar Electric</td>\n",
       "      <td>367</td>\n",
       "      <td>June 1, 2012</td>\n",
       "    </tr>\n",
       "    <tr>\n",
       "      <th>36</th>\n",
       "      <td>Joey Wat</td>\n",
       "      <td>Yum China Holdings</td>\n",
       "      <td>368</td>\n",
       "      <td>March 1, 2018</td>\n",
       "    </tr>\n",
       "    <tr>\n",
       "      <th>37</th>\n",
       "      <td>Lori J. Ryerkerk</td>\n",
       "      <td>Celanese</td>\n",
       "      <td>369</td>\n",
       "      <td>May 1, 2019</td>\n",
       "    </tr>\n",
       "    <tr>\n",
       "      <th>38</th>\n",
       "      <td>Reshma Kewalramani</td>\n",
       "      <td>Vertex Pharmaceuticals</td>\n",
       "      <td>400</td>\n",
       "      <td>April 1, 2020</td>\n",
       "    </tr>\n",
       "    <tr>\n",
       "      <th>39</th>\n",
       "      <td>Teresa J. Rasmussen</td>\n",
       "      <td>Thrivent Financial For Lutherans</td>\n",
       "      <td>405</td>\n",
       "      <td>October 1, 2018</td>\n",
       "    </tr>\n",
       "    <tr>\n",
       "      <th>40</th>\n",
       "      <td>Joanna Geraghty</td>\n",
       "      <td>Jetblue Airways</td>\n",
       "      <td>413</td>\n",
       "      <td>February 1, 2024</td>\n",
       "    </tr>\n",
       "    <tr>\n",
       "      <th>41</th>\n",
       "      <td>Joyce A. Mullen</td>\n",
       "      <td>Insight Enterprises</td>\n",
       "      <td>427</td>\n",
       "      <td>December 1, 2021</td>\n",
       "    </tr>\n",
       "    <tr>\n",
       "      <th>42</th>\n",
       "      <td>Kristin C. Peck</td>\n",
       "      <td>Zoetis</td>\n",
       "      <td>445</td>\n",
       "      <td>January 1, 2020</td>\n",
       "    </tr>\n",
       "    <tr>\n",
       "      <th>43</th>\n",
       "      <td>Adaire Fox-Martin</td>\n",
       "      <td>Equinix</td>\n",
       "      <td>456</td>\n",
       "      <td>June 1, 2024</td>\n",
       "    </tr>\n",
       "    <tr>\n",
       "      <th>44</th>\n",
       "      <td>Mary N. Dillon</td>\n",
       "      <td>Foot Locker</td>\n",
       "      <td>458</td>\n",
       "      <td>September 1, 2022</td>\n",
       "    </tr>\n",
       "    <tr>\n",
       "      <th>45</th>\n",
       "      <td>Jennifer M. Johnson</td>\n",
       "      <td>Franklin Resources</td>\n",
       "      <td>468</td>\n",
       "      <td>February 1, 2020</td>\n",
       "    </tr>\n",
       "    <tr>\n",
       "      <th>46</th>\n",
       "      <td>Laura J. Alber</td>\n",
       "      <td>Williams-Sonoma</td>\n",
       "      <td>474</td>\n",
       "      <td>May 1, 2010</td>\n",
       "    </tr>\n",
       "    <tr>\n",
       "      <th>47</th>\n",
       "      <td>Toni Townes-Whitley</td>\n",
       "      <td>Science Applications International</td>\n",
       "      <td>479</td>\n",
       "      <td>October 1, 2023</td>\n",
       "    </tr>\n",
       "    <tr>\n",
       "      <th>48</th>\n",
       "      <td>Gina R. Boswell</td>\n",
       "      <td>Bath &amp; Body Works</td>\n",
       "      <td>481</td>\n",
       "      <td>December 1, 2022</td>\n",
       "    </tr>\n",
       "    <tr>\n",
       "      <th>49</th>\n",
       "      <td>Sheryl D. Palmer</td>\n",
       "      <td>Taylor Morrison Home</td>\n",
       "      <td>483</td>\n",
       "      <td>November 1, 2012</td>\n",
       "    </tr>\n",
       "    <tr>\n",
       "      <th>50</th>\n",
       "      <td>Linda Rendle</td>\n",
       "      <td>Clorox</td>\n",
       "      <td>485</td>\n",
       "      <td>September 1, 2020</td>\n",
       "    </tr>\n",
       "    <tr>\n",
       "      <th>51</th>\n",
       "      <td>Heather H. Lavallee</td>\n",
       "      <td>Voya Financial</td>\n",
       "      <td>487</td>\n",
       "      <td>January 1, 2023</td>\n",
       "    </tr>\n",
       "  </tbody>\n",
       "</table>\n",
       "</div>"
      ],
      "text/plain": [
       "                        CEO                                 Company  \\\n",
       "0            Karen S. Lynch                              CVS Health   \n",
       "1             Mary T. Barra                          General Motors   \n",
       "2         Gail K. Boudreaux                         Elevance Health   \n",
       "3               Jane Fraser                               Citigroup   \n",
       "4              Sarah London                                 Centene   \n",
       "5       Priscilla Almodovar                              Fannie Mae   \n",
       "6             Carol B. Tomé                   United Parcel Service   \n",
       "7   Susan Patricia Griffith                             Progressive   \n",
       "8             Safra A. Catz                                  Oracle   \n",
       "9    Thasunda Brown Duckett                                    Tiaa   \n",
       "10           Corie S. Barry                                Best Buy   \n",
       "11       Phebe N. Novakovic                        General Dynamics   \n",
       "12          Kathy J. Warden                        Northrop Grumman   \n",
       "13          Jennifer Rumsey                                 Cummins   \n",
       "14             Lynn J. Good                             Duke Energy   \n",
       "15          Vicki A. Hollub                    Occidental Petroleum   \n",
       "16        Patricia K. Poppe                                    PG&E   \n",
       "17            Heidi G. Petz                        Sherwin-Williams   \n",
       "18               Lisa T. Su                  Advanced Micro Devices   \n",
       "19       Christine A. Leahy                                     CDW   \n",
       "20          Barbara Rentler                             Ross Stores   \n",
       "21   Jennifer A. Parmentier                         Parker-Hannifin   \n",
       "22              Maria Black               Automatic Data Processing   \n",
       "23             Beth E. Ford                            Land O'Lakes   \n",
       "24                 Kim Dang                           Kinder Morgan   \n",
       "25           Karla R. Lewis                                Reliance   \n",
       "26      Stephanie L. Ferris  Fidelity National Information Services   \n",
       "27      Kathleen E. Johnson                      Lumen Technologies   \n",
       "28          Judith F. Marks                          Otis Worldwide   \n",
       "29         Penny Pennington          Jones Financial (Edward Jones)   \n",
       "30         Lauren R. Hobart                   Dick's Sporting Goods   \n",
       "31             Ariane Gorin                                 Expedia   \n",
       "32             Lori D. Koch                                  DuPont   \n",
       "33          Ellen G. Cooper                        Lincoln National   \n",
       "34          Michele G. Buck                                 Hershey   \n",
       "35   Kathleen M. Mazzarella                        Graybar Electric   \n",
       "36                 Joey Wat                      Yum China Holdings   \n",
       "37         Lori J. Ryerkerk                                Celanese   \n",
       "38       Reshma Kewalramani                  Vertex Pharmaceuticals   \n",
       "39      Teresa J. Rasmussen        Thrivent Financial For Lutherans   \n",
       "40          Joanna Geraghty                         Jetblue Airways   \n",
       "41          Joyce A. Mullen                     Insight Enterprises   \n",
       "42          Kristin C. Peck                                  Zoetis   \n",
       "43        Adaire Fox-Martin                                 Equinix   \n",
       "44           Mary N. Dillon                             Foot Locker   \n",
       "45      Jennifer M. Johnson                      Franklin Resources   \n",
       "46           Laura J. Alber                         Williams-Sonoma   \n",
       "47      Toni Townes-Whitley      Science Applications International   \n",
       "48          Gina R. Boswell                       Bath & Body Works   \n",
       "49         Sheryl D. Palmer                    Taylor Morrison Home   \n",
       "50             Linda Rendle                                  Clorox   \n",
       "51      Heather H. Lavallee                          Voya Financial   \n",
       "\n",
       "   Fortune 500 rank         Start date  \n",
       "0                 6   February 1, 2021  \n",
       "1                19    January 1, 2014  \n",
       "2                20   November 1, 2017  \n",
       "3                21   February 1, 2021  \n",
       "4                22      March 1, 2022  \n",
       "5                27   December 1, 2022  \n",
       "6                45       June 1, 2020  \n",
       "7                62       July 1, 2016  \n",
       "8                89  September 1, 2014  \n",
       "9                96        May 1, 2021  \n",
       "10              100       June 1, 2019  \n",
       "11              104    January 1, 2013  \n",
       "12              109    January 1, 2019  \n",
       "13              129     August 1, 2022  \n",
       "14              148       July 1, 2013  \n",
       "15              149      April 1, 2016  \n",
       "16              167    January 1, 2021  \n",
       "17              176    January 1, 2024  \n",
       "18              181     August 1, 2014  \n",
       "19              189    January 1, 2019  \n",
       "20              201       June 1, 2014  \n",
       "21              216    January 1, 2023  \n",
       "22              228    January 1, 2023  \n",
       "23              245     August 1, 2018  \n",
       "24              268     August 1, 2023  \n",
       "25              280    January 1, 2023  \n",
       "26              288    January 1, 2023  \n",
       "27              292   November 1, 2022  \n",
       "28              301      April 1, 2020  \n",
       "29              303    January 1, 2019  \n",
       "30              313   February 1, 2021  \n",
       "31              315        May 1, 2024  \n",
       "32              327       June 1, 2024  \n",
       "33              354        May 1, 2022  \n",
       "34              361      March 1, 2017  \n",
       "35              367       June 1, 2012  \n",
       "36              368      March 1, 2018  \n",
       "37              369        May 1, 2019  \n",
       "38              400      April 1, 2020  \n",
       "39              405    October 1, 2018  \n",
       "40              413   February 1, 2024  \n",
       "41              427   December 1, 2021  \n",
       "42              445    January 1, 2020  \n",
       "43              456       June 1, 2024  \n",
       "44              458  September 1, 2022  \n",
       "45              468   February 1, 2020  \n",
       "46              474        May 1, 2010  \n",
       "47              479    October 1, 2023  \n",
       "48              481   December 1, 2022  \n",
       "49              483   November 1, 2012  \n",
       "50              485  September 1, 2020  \n",
       "51              487    January 1, 2023  "
      ]
     },
     "execution_count": 2,
     "metadata": {},
     "output_type": "execute_result"
    }
   ],
   "source": [
    "# scrape companies with female ceos\n",
    "\n",
    "# URL for the Wikipedia page\n",
    "url = \"https://en.wikipedia.org/wiki/List_of_women_CEOs_of_Fortune_500_companies\"\n",
    "\n",
    "# Send GET request to the page\n",
    "page = requests.get(url)\n",
    "soup = BeautifulSoup(page.text, 'html.parser')\n",
    "\n",
    "# Find the table\n",
    "table = soup.find('table', {'class': 'wikitable'})\n",
    "\n",
    "# Extract headers\n",
    "headers = [header.text.strip() for header in table.find_all('th')]\n",
    "\n",
    "# Extract rows\n",
    "rows = []\n",
    "for row in table.find_all('tr')[1:]:  # Skip the header row\n",
    "    cols = [col.text.strip() for col in row.find_all('td')]\n",
    "    rows.append(cols)\n",
    "\n",
    "# Create DataFrame\n",
    "df_female = pd.DataFrame(rows, columns=headers)\n",
    "\n",
    "df_female\n"
   ]
  },
  {
   "cell_type": "code",
   "execution_count": 3,
   "metadata": {},
   "outputs": [],
   "source": [
    "# Function to check if Name is in df_Female\n",
    "\n",
    "def nameCheck(Name):\n",
    "    if Name in df_female['Company'].values:\n",
    "        return True\n",
    "    else:\n",
    "        return False"
   ]
  },
  {
   "cell_type": "code",
   "execution_count": 4,
   "metadata": {},
   "outputs": [],
   "source": [
    "df['Female CEO'] = df['Name'].apply(nameCheck)\n",
    "\n",
    "df\n",
    "\n",
    "df.to_csv(\"With female CEO data-Fortune 500 webscraping data.csv\")"
   ]
  },
  {
   "attachments": {},
   "cell_type": "markdown",
   "metadata": {},
   "source": [
    "### Data Exploration and Curation\n",
    "We would like to determine how personel structure affects a company's ability financial health. The dataset will be conducted on the Global Fortune 500 Companies.\n",
    "\n",
    "- Does employees and revenue growth have positive correlation (does higher number of employees translate to higher growth in revenue) or with the help of technologies, this element is no longer in deciding factor?\n",
    "- Do companies with female CEO have a better strategies, therefore, lead to stronger growth compared to their peers?"
   ]
  },
  {
   "cell_type": "code",
   "execution_count": 5,
   "metadata": {},
   "outputs": [
    {
     "data": {
      "text/plain": [
       "Index(['Rank', 'Name', 'Revenues ($M)', 'Revenue Percent Change',\n",
       "       'Profits ($M)', 'Profits Percent Change', 'Assets ($M)', 'Employees',\n",
       "       'Change in Rank', 'Years on Global 500 List', 'Female CEO'],\n",
       "      dtype='object')"
      ]
     },
     "execution_count": 5,
     "metadata": {},
     "output_type": "execute_result"
    }
   ],
   "source": [
    "df.columns"
   ]
  },
  {
   "cell_type": "code",
   "execution_count": 6,
   "metadata": {},
   "outputs": [
    {
     "data": {
      "text/html": [
       "<div>\n",
       "<style scoped>\n",
       "    .dataframe tbody tr th:only-of-type {\n",
       "        vertical-align: middle;\n",
       "    }\n",
       "\n",
       "    .dataframe tbody tr th {\n",
       "        vertical-align: top;\n",
       "    }\n",
       "\n",
       "    .dataframe thead th {\n",
       "        text-align: right;\n",
       "    }\n",
       "</style>\n",
       "<table border=\"1\" class=\"dataframe\">\n",
       "  <thead>\n",
       "    <tr style=\"text-align: right;\">\n",
       "      <th></th>\n",
       "      <th>Rank</th>\n",
       "      <th>Name</th>\n",
       "      <th>Revenues ($M)</th>\n",
       "      <th>Profits ($M)</th>\n",
       "      <th>Assets ($M)</th>\n",
       "      <th>Asset Turnover Ratio</th>\n",
       "      <th>Employees</th>\n",
       "      <th>Years on Global 500 List</th>\n",
       "      <th>Female CEO</th>\n",
       "    </tr>\n",
       "  </thead>\n",
       "  <tbody>\n",
       "    <tr>\n",
       "      <th>0</th>\n",
       "      <td>1</td>\n",
       "      <td>Walmart</td>\n",
       "      <td>648125.0</td>\n",
       "      <td>15511.0</td>\n",
       "      <td>252399.0</td>\n",
       "      <td>2.567859</td>\n",
       "      <td>2100000.0</td>\n",
       "      <td>30</td>\n",
       "      <td>False</td>\n",
       "    </tr>\n",
       "    <tr>\n",
       "      <th>1</th>\n",
       "      <td>2</td>\n",
       "      <td>Amazon</td>\n",
       "      <td>574785.0</td>\n",
       "      <td>30425.0</td>\n",
       "      <td>527854.0</td>\n",
       "      <td>1.088909</td>\n",
       "      <td>1525000.0</td>\n",
       "      <td>16</td>\n",
       "      <td>False</td>\n",
       "    </tr>\n",
       "    <tr>\n",
       "      <th>2</th>\n",
       "      <td>3</td>\n",
       "      <td>State Grid</td>\n",
       "      <td>545947.5</td>\n",
       "      <td>9204.3</td>\n",
       "      <td>781126.2</td>\n",
       "      <td>0.698924</td>\n",
       "      <td>1361423.0</td>\n",
       "      <td>24</td>\n",
       "      <td>False</td>\n",
       "    </tr>\n",
       "    <tr>\n",
       "      <th>3</th>\n",
       "      <td>4</td>\n",
       "      <td>Saudi Aramco</td>\n",
       "      <td>494890.1</td>\n",
       "      <td>120699.3</td>\n",
       "      <td>660819.2</td>\n",
       "      <td>0.748904</td>\n",
       "      <td>73311.0</td>\n",
       "      <td>6</td>\n",
       "      <td>False</td>\n",
       "    </tr>\n",
       "    <tr>\n",
       "      <th>4</th>\n",
       "      <td>5</td>\n",
       "      <td>Sinopec Group</td>\n",
       "      <td>429699.7</td>\n",
       "      <td>9393.4</td>\n",
       "      <td>382688.0</td>\n",
       "      <td>1.122846</td>\n",
       "      <td>513434.0</td>\n",
       "      <td>26</td>\n",
       "      <td>False</td>\n",
       "    </tr>\n",
       "  </tbody>\n",
       "</table>\n",
       "</div>"
      ],
      "text/plain": [
       "   Rank           Name  Revenues ($M)  Profits ($M)  Assets ($M)  \\\n",
       "0     1        Walmart       648125.0       15511.0     252399.0   \n",
       "1     2         Amazon       574785.0       30425.0     527854.0   \n",
       "2     3     State Grid       545947.5        9204.3     781126.2   \n",
       "3     4   Saudi Aramco       494890.1      120699.3     660819.2   \n",
       "4     5  Sinopec Group       429699.7        9393.4     382688.0   \n",
       "\n",
       "   Asset Turnover Ratio  Employees Years on Global 500 List  Female CEO  \n",
       "0              2.567859  2100000.0                       30       False  \n",
       "1              1.088909  1525000.0                       16       False  \n",
       "2              0.698924  1361423.0                       24       False  \n",
       "3              0.748904    73311.0                        6       False  \n",
       "4              1.122846   513434.0                       26       False  "
      ]
     },
     "execution_count": 6,
     "metadata": {},
     "output_type": "execute_result"
    }
   ],
   "source": [
    "# curate the data\n",
    "# change the datatype of the employees from strings to float\n",
    "df['Employees'] = df['Employees'].str.replace(',', '', regex=False)\n",
    "df['Employees'] = df['Employees'].astype(float)\n",
    "\n",
    "# clean up the revenues metrics\n",
    "df['Revenues ($M)'] = df['Revenues ($M)'].str.replace('$','', regex=False)\n",
    "df['Revenues ($M)'] = df['Revenues ($M)'].str.replace(',','', regex=False)\n",
    "df['Revenues ($M)'] = df['Revenues ($M)'].astype(float)\n",
    "\n",
    "# clean up the profits metrics\n",
    "df['Profits ($M)'] = df['Profits ($M)'].str.replace('$','', regex=False)\n",
    "df['Profits ($M)'] = df['Profits ($M)'].str.replace(',','', regex=False)\n",
    "df['Profits ($M)'] = df['Profits ($M)'].astype(float)\n",
    "\n",
    "# clean up te assets metrics\n",
    "df['Assets ($M)'] = df['Assets ($M)'].str.replace('$','', regex=False)\n",
    "df['Assets ($M)'] = df['Assets ($M)'].str.replace(',','', regex=False)\n",
    "df['Assets ($M)'] = df['Assets ($M)'].astype(float)\n",
    "\n",
    "# clean up the rank metrics\n",
    "df['Rank'] = df['Rank'].astype(int)\n",
    "\n",
    "# drop the unnecessary columns\n",
    "df.drop(['Revenue Percent Change', 'Profits Percent Change', 'Change in Rank'], axis=1, inplace=True)\n",
    "\n",
    "# add asset turnover ratio\n",
    "# this metric measures how efficiently a company is working\n",
    "df['Asset Turnover Ratio'] = df['Revenues ($M)']/df['Assets ($M)']\n",
    "\n",
    "# moving Asset Turnover Ratio to nearer another financials metrics\n",
    "fifth_column = df.pop('Asset Turnover Ratio')\n",
    "df.insert(5, 'Asset Turnover Ratio', fifth_column)\n",
    "\n",
    "# sort the change in revenue to decreasing\n",
    "#new_df = df.sort_values(by=['Employees'], ascending=False)\n",
    "df.head()"
   ]
  },
  {
   "cell_type": "code",
   "execution_count": 7,
   "metadata": {},
   "outputs": [
    {
     "data": {
      "text/html": [
       "<div>\n",
       "<style scoped>\n",
       "    .dataframe tbody tr th:only-of-type {\n",
       "        vertical-align: middle;\n",
       "    }\n",
       "\n",
       "    .dataframe tbody tr th {\n",
       "        vertical-align: top;\n",
       "    }\n",
       "\n",
       "    .dataframe thead th {\n",
       "        text-align: right;\n",
       "    }\n",
       "</style>\n",
       "<table border=\"1\" class=\"dataframe\">\n",
       "  <thead>\n",
       "    <tr style=\"text-align: right;\">\n",
       "      <th></th>\n",
       "      <th>CEO</th>\n",
       "      <th>Company</th>\n",
       "      <th>Fortune 500 rank</th>\n",
       "      <th>Start date</th>\n",
       "    </tr>\n",
       "  </thead>\n",
       "  <tbody>\n",
       "    <tr>\n",
       "      <th>0</th>\n",
       "      <td>Karen S. Lynch</td>\n",
       "      <td>CVS Health</td>\n",
       "      <td>6</td>\n",
       "      <td>February 1, 2021</td>\n",
       "    </tr>\n",
       "    <tr>\n",
       "      <th>1</th>\n",
       "      <td>Mary T. Barra</td>\n",
       "      <td>General Motors</td>\n",
       "      <td>19</td>\n",
       "      <td>January 1, 2014</td>\n",
       "    </tr>\n",
       "    <tr>\n",
       "      <th>2</th>\n",
       "      <td>Gail K. Boudreaux</td>\n",
       "      <td>Elevance Health</td>\n",
       "      <td>20</td>\n",
       "      <td>November 1, 2017</td>\n",
       "    </tr>\n",
       "    <tr>\n",
       "      <th>3</th>\n",
       "      <td>Jane Fraser</td>\n",
       "      <td>Citigroup</td>\n",
       "      <td>21</td>\n",
       "      <td>February 1, 2021</td>\n",
       "    </tr>\n",
       "    <tr>\n",
       "      <th>4</th>\n",
       "      <td>Sarah London</td>\n",
       "      <td>Centene</td>\n",
       "      <td>22</td>\n",
       "      <td>March 1, 2022</td>\n",
       "    </tr>\n",
       "  </tbody>\n",
       "</table>\n",
       "</div>"
      ],
      "text/plain": [
       "                 CEO          Company  Fortune 500 rank        Start date\n",
       "0     Karen S. Lynch       CVS Health                 6  February 1, 2021\n",
       "1      Mary T. Barra   General Motors                19   January 1, 2014\n",
       "2  Gail K. Boudreaux  Elevance Health                20  November 1, 2017\n",
       "3        Jane Fraser        Citigroup                21  February 1, 2021\n",
       "4       Sarah London          Centene                22     March 1, 2022"
      ]
     },
     "execution_count": 7,
     "metadata": {},
     "output_type": "execute_result"
    }
   ],
   "source": [
    "# cleaning the female CEOs data\n",
    "df_female['Fortune 500 rank'] = df_female['Fortune 500 rank'].astype(int)\n",
    "df_female.head()"
   ]
  },
  {
   "cell_type": "code",
   "execution_count": 8,
   "metadata": {},
   "outputs": [],
   "source": [
    "# Getting average ranking of each dataset\n",
    "mean_all = df['Rank'].mean()\n",
    "mean_female_ceo = df_female['Fortune 500 rank'].mean()"
   ]
  },
  {
   "cell_type": "code",
   "execution_count": 9,
   "metadata": {},
   "outputs": [],
   "source": [
    "# importing plotting modules\n",
    "import seaborn as sns \n",
    "import matplotlib as plt\n",
    "import plotly.graph_objects as go\n",
    "import plotly.express as px\n",
    "\n",
    "\n"
   ]
  },
  {
   "cell_type": "code",
   "execution_count": 10,
   "metadata": {},
   "outputs": [
    {
     "data": {
      "application/vnd.plotly.v1+json": {
       "config": {
        "plotlyServerURL": "https://plot.ly"
       },
       "data": [
        {
         "hovertemplate": "Name=Walmart<br>Employees=%{x}<br>Revenues ($M)=%{y}<extra></extra>",
         "legendgroup": "Walmart",
         "marker": {
          "color": "#636efa",
          "symbol": "circle"
         },
         "mode": "markers",
         "name": "Walmart",
         "orientation": "v",
         "showlegend": true,
         "type": "scatter",
         "x": [
          2100000
         ],
         "xaxis": "x",
         "y": [
          648125
         ],
         "yaxis": "y"
        },
        {
         "hovertemplate": "Name=Amazon<br>Employees=%{x}<br>Revenues ($M)=%{y}<extra></extra>",
         "legendgroup": "Amazon",
         "marker": {
          "color": "#EF553B",
          "symbol": "circle"
         },
         "mode": "markers",
         "name": "Amazon",
         "orientation": "v",
         "showlegend": true,
         "type": "scatter",
         "x": [
          1525000
         ],
         "xaxis": "x",
         "y": [
          574785
         ],
         "yaxis": "y"
        },
        {
         "hovertemplate": "Name=State Grid<br>Employees=%{x}<br>Revenues ($M)=%{y}<extra></extra>",
         "legendgroup": "State Grid",
         "marker": {
          "color": "#00cc96",
          "symbol": "circle"
         },
         "mode": "markers",
         "name": "State Grid",
         "orientation": "v",
         "showlegend": true,
         "type": "scatter",
         "x": [
          1361423
         ],
         "xaxis": "x",
         "y": [
          545947.5
         ],
         "yaxis": "y"
        },
        {
         "hovertemplate": "Name=Saudi Aramco<br>Employees=%{x}<br>Revenues ($M)=%{y}<extra></extra>",
         "legendgroup": "Saudi Aramco",
         "marker": {
          "color": "#ab63fa",
          "symbol": "circle"
         },
         "mode": "markers",
         "name": "Saudi Aramco",
         "orientation": "v",
         "showlegend": true,
         "type": "scatter",
         "x": [
          73311
         ],
         "xaxis": "x",
         "y": [
          494890.1
         ],
         "yaxis": "y"
        },
        {
         "hovertemplate": "Name=Sinopec Group<br>Employees=%{x}<br>Revenues ($M)=%{y}<extra></extra>",
         "legendgroup": "Sinopec Group",
         "marker": {
          "color": "#FFA15A",
          "symbol": "circle"
         },
         "mode": "markers",
         "name": "Sinopec Group",
         "orientation": "v",
         "showlegend": true,
         "type": "scatter",
         "x": [
          513434
         ],
         "xaxis": "x",
         "y": [
          429699.7
         ],
         "yaxis": "y"
        },
        {
         "hovertemplate": "Name=China National Petroleum<br>Employees=%{x}<br>Revenues ($M)=%{y}<extra></extra>",
         "legendgroup": "China National Petroleum",
         "marker": {
          "color": "#19d3f3",
          "symbol": "circle"
         },
         "mode": "markers",
         "name": "China National Petroleum",
         "orientation": "v",
         "showlegend": true,
         "type": "scatter",
         "x": [
          1026301
         ],
         "xaxis": "x",
         "y": [
          421713.6
         ],
         "yaxis": "y"
        },
        {
         "hovertemplate": "Name=Apple<br>Employees=%{x}<br>Revenues ($M)=%{y}<extra></extra>",
         "legendgroup": "Apple",
         "marker": {
          "color": "#FF6692",
          "symbol": "circle"
         },
         "mode": "markers",
         "name": "Apple",
         "orientation": "v",
         "showlegend": true,
         "type": "scatter",
         "x": [
          161000
         ],
         "xaxis": "x",
         "y": [
          383285
         ],
         "yaxis": "y"
        },
        {
         "hovertemplate": "Name=UnitedHealth Group<br>Employees=%{x}<br>Revenues ($M)=%{y}<extra></extra>",
         "legendgroup": "UnitedHealth Group",
         "marker": {
          "color": "#B6E880",
          "symbol": "circle"
         },
         "mode": "markers",
         "name": "UnitedHealth Group",
         "orientation": "v",
         "showlegend": true,
         "type": "scatter",
         "x": [
          440000
         ],
         "xaxis": "x",
         "y": [
          371622
         ],
         "yaxis": "y"
        },
        {
         "hovertemplate": "Name=Berkshire Hathaway<br>Employees=%{x}<br>Revenues ($M)=%{y}<extra></extra>",
         "legendgroup": "Berkshire Hathaway",
         "marker": {
          "color": "#FF97FF",
          "symbol": "circle"
         },
         "mode": "markers",
         "name": "Berkshire Hathaway",
         "orientation": "v",
         "showlegend": true,
         "type": "scatter",
         "x": [
          396500
         ],
         "xaxis": "x",
         "y": [
          364482
         ],
         "yaxis": "y"
        },
        {
         "hovertemplate": "Name=CVS Health<br>Employees=%{x}<br>Revenues ($M)=%{y}<extra></extra>",
         "legendgroup": "CVS Health",
         "marker": {
          "color": "#FECB52",
          "symbol": "circle"
         },
         "mode": "markers",
         "name": "CVS Health",
         "orientation": "v",
         "showlegend": true,
         "type": "scatter",
         "x": [
          259500
         ],
         "xaxis": "x",
         "y": [
          357776
         ],
         "yaxis": "y"
        },
        {
         "hovertemplate": "Name=Volkswagen<br>Employees=%{x}<br>Revenues ($M)=%{y}<extra></extra>",
         "legendgroup": "Volkswagen",
         "marker": {
          "color": "#636efa",
          "symbol": "circle"
         },
         "mode": "markers",
         "name": "Volkswagen",
         "orientation": "v",
         "showlegend": true,
         "type": "scatter",
         "x": [
          684025
         ],
         "xaxis": "x",
         "y": [
          348408.1
         ],
         "yaxis": "y"
        },
        {
         "hovertemplate": "Name=Exxon Mobil<br>Employees=%{x}<br>Revenues ($M)=%{y}<extra></extra>",
         "legendgroup": "Exxon Mobil",
         "marker": {
          "color": "#EF553B",
          "symbol": "circle"
         },
         "mode": "markers",
         "name": "Exxon Mobil",
         "orientation": "v",
         "showlegend": true,
         "type": "scatter",
         "x": [
          61500
         ],
         "xaxis": "x",
         "y": [
          344582
         ],
         "yaxis": "y"
        },
        {
         "hovertemplate": "Name=Shell<br>Employees=%{x}<br>Revenues ($M)=%{y}<extra></extra>",
         "legendgroup": "Shell",
         "marker": {
          "color": "#00cc96",
          "symbol": "circle"
         },
         "mode": "markers",
         "name": "Shell",
         "orientation": "v",
         "showlegend": true,
         "type": "scatter",
         "x": [
          103000
         ],
         "xaxis": "x",
         "y": [
          323183
         ],
         "yaxis": "y"
        },
        {
         "hovertemplate": "Name=China State Construction Engineering<br>Employees=%{x}<br>Revenues ($M)=%{y}<extra></extra>",
         "legendgroup": "China State Construction Engineering",
         "marker": {
          "color": "#ab63fa",
          "symbol": "circle"
         },
         "mode": "markers",
         "name": "China State Construction Engineering",
         "orientation": "v",
         "showlegend": true,
         "type": "scatter",
         "x": [
          382894
         ],
         "xaxis": "x",
         "y": [
          320430.5
         ],
         "yaxis": "y"
        },
        {
         "hovertemplate": "Name=Toyota Motor<br>Employees=%{x}<br>Revenues ($M)=%{y}<extra></extra>",
         "legendgroup": "Toyota Motor",
         "marker": {
          "color": "#FFA15A",
          "symbol": "circle"
         },
         "mode": "markers",
         "name": "Toyota Motor",
         "orientation": "v",
         "showlegend": true,
         "type": "scatter",
         "x": [
          380793
         ],
         "xaxis": "x",
         "y": [
          312018.2
         ],
         "yaxis": "y"
        },
        {
         "hovertemplate": "Name=McKesson<br>Employees=%{x}<br>Revenues ($M)=%{y}<extra></extra>",
         "legendgroup": "McKesson",
         "marker": {
          "color": "#19d3f3",
          "symbol": "circle"
         },
         "mode": "markers",
         "name": "McKesson",
         "orientation": "v",
         "showlegend": true,
         "type": "scatter",
         "x": [
          48000
         ],
         "xaxis": "x",
         "y": [
          308951
         ],
         "yaxis": "y"
        },
        {
         "hovertemplate": "Name=Alphabet<br>Employees=%{x}<br>Revenues ($M)=%{y}<extra></extra>",
         "legendgroup": "Alphabet",
         "marker": {
          "color": "#FF6692",
          "symbol": "circle"
         },
         "mode": "markers",
         "name": "Alphabet",
         "orientation": "v",
         "showlegend": true,
         "type": "scatter",
         "x": [
          182502
         ],
         "xaxis": "x",
         "y": [
          307394
         ],
         "yaxis": "y"
        },
        {
         "hovertemplate": "Name=Cencora<br>Employees=%{x}<br>Revenues ($M)=%{y}<extra></extra>",
         "legendgroup": "Cencora",
         "marker": {
          "color": "#B6E880",
          "symbol": "circle"
         },
         "mode": "markers",
         "name": "Cencora",
         "orientation": "v",
         "showlegend": true,
         "type": "scatter",
         "x": [
          44000
         ],
         "xaxis": "x",
         "y": [
          262173.4
         ],
         "yaxis": "y"
        },
        {
         "hovertemplate": "Name=Trafigura Group<br>Employees=%{x}<br>Revenues ($M)=%{y}<extra></extra>",
         "legendgroup": "Trafigura Group",
         "marker": {
          "color": "#FF97FF",
          "symbol": "circle"
         },
         "mode": "markers",
         "name": "Trafigura Group",
         "orientation": "v",
         "showlegend": true,
         "type": "scatter",
         "x": [
          12479
         ],
         "xaxis": "x",
         "y": [
          244280.2
         ],
         "yaxis": "y"
        },
        {
         "hovertemplate": "Name=Costco Wholesale<br>Employees=%{x}<br>Revenues ($M)=%{y}<extra></extra>",
         "legendgroup": "Costco Wholesale",
         "marker": {
          "color": "#FECB52",
          "symbol": "circle"
         },
         "mode": "markers",
         "name": "Costco Wholesale",
         "orientation": "v",
         "showlegend": true,
         "type": "scatter",
         "x": [
          316000
         ],
         "xaxis": "x",
         "y": [
          242290
         ],
         "yaxis": "y"
        },
        {
         "hovertemplate": "Name=JPMorgan Chase<br>Employees=%{x}<br>Revenues ($M)=%{y}<extra></extra>",
         "legendgroup": "JPMorgan Chase",
         "marker": {
          "color": "#636efa",
          "symbol": "circle"
         },
         "mode": "markers",
         "name": "JPMorgan Chase",
         "orientation": "v",
         "showlegend": true,
         "type": "scatter",
         "x": [
          309926
         ],
         "xaxis": "x",
         "y": [
          239425
         ],
         "yaxis": "y"
        },
        {
         "hovertemplate": "Name=Industrial & Commercial Bank of China<br>Employees=%{x}<br>Revenues ($M)=%{y}<extra></extra>",
         "legendgroup": "Industrial & Commercial Bank of China",
         "marker": {
          "color": "#EF553B",
          "symbol": "circle"
         },
         "mode": "markers",
         "name": "Industrial & Commercial Bank of China",
         "orientation": "v",
         "showlegend": true,
         "type": "scatter",
         "x": [
          419252
         ],
         "xaxis": "x",
         "y": [
          222484.2
         ],
         "yaxis": "y"
        },
        {
         "hovertemplate": "Name=TotalEnergies<br>Employees=%{x}<br>Revenues ($M)=%{y}<extra></extra>",
         "legendgroup": "TotalEnergies",
         "marker": {
          "color": "#00cc96",
          "symbol": "circle"
         },
         "mode": "markers",
         "name": "TotalEnergies",
         "orientation": "v",
         "showlegend": true,
         "type": "scatter",
         "x": [
          102579
         ],
         "xaxis": "x",
         "y": [
          218945
         ],
         "yaxis": "y"
        },
        {
         "hovertemplate": "Name=Glencore<br>Employees=%{x}<br>Revenues ($M)=%{y}<extra></extra>",
         "legendgroup": "Glencore",
         "marker": {
          "color": "#ab63fa",
          "symbol": "circle"
         },
         "mode": "markers",
         "name": "Glencore",
         "orientation": "v",
         "showlegend": true,
         "type": "scatter",
         "x": [
          83426
         ],
         "xaxis": "x",
         "y": [
          217829
         ],
         "yaxis": "y"
        },
        {
         "hovertemplate": "Name=BP<br>Employees=%{x}<br>Revenues ($M)=%{y}<extra></extra>",
         "legendgroup": "BP",
         "marker": {
          "color": "#FFA15A",
          "symbol": "circle"
         },
         "mode": "markers",
         "name": "BP",
         "orientation": "v",
         "showlegend": true,
         "type": "scatter",
         "x": [
          79400
         ],
         "xaxis": "x",
         "y": [
          213032
         ],
         "yaxis": "y"
        },
        {
         "hovertemplate": "Name=Microsoft<br>Employees=%{x}<br>Revenues ($M)=%{y}<extra></extra>",
         "legendgroup": "Microsoft",
         "marker": {
          "color": "#19d3f3",
          "symbol": "circle"
         },
         "mode": "markers",
         "name": "Microsoft",
         "orientation": "v",
         "showlegend": true,
         "type": "scatter",
         "x": [
          221000
         ],
         "xaxis": "x",
         "y": [
          211915
         ],
         "yaxis": "y"
        },
        {
         "hovertemplate": "Name=Cardinal Health<br>Employees=%{x}<br>Revenues ($M)=%{y}<extra></extra>",
         "legendgroup": "Cardinal Health",
         "marker": {
          "color": "#FF6692",
          "symbol": "circle"
         },
         "mode": "markers",
         "name": "Cardinal Health",
         "orientation": "v",
         "showlegend": true,
         "type": "scatter",
         "x": [
          47520
         ],
         "xaxis": "x",
         "y": [
          205012
         ],
         "yaxis": "y"
        },
        {
         "hovertemplate": "Name=Stellantis<br>Employees=%{x}<br>Revenues ($M)=%{y}<extra></extra>",
         "legendgroup": "Stellantis",
         "marker": {
          "color": "#B6E880",
          "symbol": "circle"
         },
         "mode": "markers",
         "name": "Stellantis",
         "orientation": "v",
         "showlegend": true,
         "type": "scatter",
         "x": [
          258275
         ],
         "xaxis": "x",
         "y": [
          204908.3
         ],
         "yaxis": "y"
        },
        {
         "hovertemplate": "Name=Chevron<br>Employees=%{x}<br>Revenues ($M)=%{y}<extra></extra>",
         "legendgroup": "Chevron",
         "marker": {
          "color": "#FF97FF",
          "symbol": "circle"
         },
         "mode": "markers",
         "name": "Chevron",
         "orientation": "v",
         "showlegend": true,
         "type": "scatter",
         "x": [
          45600
         ],
         "xaxis": "x",
         "y": [
          200949
         ],
         "yaxis": "y"
        },
        {
         "hovertemplate": "Name=China Construction Bank<br>Employees=%{x}<br>Revenues ($M)=%{y}<extra></extra>",
         "legendgroup": "China Construction Bank",
         "marker": {
          "color": "#FECB52",
          "symbol": "circle"
         },
         "mode": "markers",
         "name": "China Construction Bank",
         "orientation": "v",
         "showlegend": true,
         "type": "scatter",
         "x": [
          376871
         ],
         "xaxis": "x",
         "y": [
          199826.1
         ],
         "yaxis": "y"
        },
        {
         "hovertemplate": "Name=Samsung Electronics<br>Employees=%{x}<br>Revenues ($M)=%{y}<extra></extra>",
         "legendgroup": "Samsung Electronics",
         "marker": {
          "color": "#636efa",
          "symbol": "circle"
         },
         "mode": "markers",
         "name": "Samsung Electronics",
         "orientation": "v",
         "showlegend": true,
         "type": "scatter",
         "x": [
          267860
         ],
         "xaxis": "x",
         "y": [
          198256.7
         ],
         "yaxis": "y"
        },
        {
         "hovertemplate": "Name=Hon Hai Precision Industry<br>Employees=%{x}<br>Revenues ($M)=%{y}<extra></extra>",
         "legendgroup": "Hon Hai Precision Industry",
         "marker": {
          "color": "#EF553B",
          "symbol": "circle"
         },
         "mode": "markers",
         "name": "Hon Hai Precision Industry",
         "orientation": "v",
         "showlegend": true,
         "type": "scatter",
         "x": [
          621393
         ],
         "xaxis": "x",
         "y": [
          197876
         ],
         "yaxis": "y"
        },
        {
         "hovertemplate": "Name=Cigna<br>Employees=%{x}<br>Revenues ($M)=%{y}<extra></extra>",
         "legendgroup": "Cigna",
         "marker": {
          "color": "#00cc96",
          "symbol": "circle"
         },
         "mode": "markers",
         "name": "Cigna",
         "orientation": "v",
         "showlegend": true,
         "type": "scatter",
         "x": [
          71413
         ],
         "xaxis": "x",
         "y": [
          195265
         ],
         "yaxis": "y"
        },
        {
         "hovertemplate": "Name=Agricultural Bank of China<br>Employees=%{x}<br>Revenues ($M)=%{y}<extra></extra>",
         "legendgroup": "Agricultural Bank of China",
         "marker": {
          "color": "#ab63fa",
          "symbol": "circle"
         },
         "mode": "markers",
         "name": "Agricultural Bank of China",
         "orientation": "v",
         "showlegend": true,
         "type": "scatter",
         "x": [
          451003
         ],
         "xaxis": "x",
         "y": [
          192398.3
         ],
         "yaxis": "y"
        },
        {
         "hovertemplate": "Name=China Railway Engineering Group<br>Employees=%{x}<br>Revenues ($M)=%{y}<extra></extra>",
         "legendgroup": "China Railway Engineering Group",
         "marker": {
          "color": "#FFA15A",
          "symbol": "circle"
         },
         "mode": "markers",
         "name": "China Railway Engineering Group",
         "orientation": "v",
         "showlegend": true,
         "type": "scatter",
         "x": [
          314149
         ],
         "xaxis": "x",
         "y": [
          178562.9
         ],
         "yaxis": "y"
        },
        {
         "hovertemplate": "Name=Ford Motor<br>Employees=%{x}<br>Revenues ($M)=%{y}<extra></extra>",
         "legendgroup": "Ford Motor",
         "marker": {
          "color": "#19d3f3",
          "symbol": "circle"
         },
         "mode": "markers",
         "name": "Ford Motor",
         "orientation": "v",
         "showlegend": true,
         "type": "scatter",
         "x": [
          177000
         ],
         "xaxis": "x",
         "y": [
          176191
         ],
         "yaxis": "y"
        },
        {
         "hovertemplate": "Name=Bank of China<br>Employees=%{x}<br>Revenues ($M)=%{y}<extra></extra>",
         "legendgroup": "Bank of China",
         "marker": {
          "color": "#FF6692",
          "symbol": "circle"
         },
         "mode": "markers",
         "name": "Bank of China",
         "orientation": "v",
         "showlegend": true,
         "type": "scatter",
         "x": [
          306931
         ],
         "xaxis": "x",
         "y": [
          172327.6
         ],
         "yaxis": "y"
        },
        {
         "hovertemplate": "Name=Bank of America<br>Employees=%{x}<br>Revenues ($M)=%{y}<extra></extra>",
         "legendgroup": "Bank of America",
         "marker": {
          "color": "#B6E880",
          "symbol": "circle"
         },
         "mode": "markers",
         "name": "Bank of America",
         "orientation": "v",
         "showlegend": true,
         "type": "scatter",
         "x": [
          212985
         ],
         "xaxis": "x",
         "y": [
          171912
         ],
         "yaxis": "y"
        },
        {
         "hovertemplate": "Name=General Motors<br>Employees=%{x}<br>Revenues ($M)=%{y}<extra></extra>",
         "legendgroup": "General Motors",
         "marker": {
          "color": "#FF97FF",
          "symbol": "circle"
         },
         "mode": "markers",
         "name": "General Motors",
         "orientation": "v",
         "showlegend": true,
         "type": "scatter",
         "x": [
          163000
         ],
         "xaxis": "x",
         "y": [
          171842
         ],
         "yaxis": "y"
        },
        {
         "hovertemplate": "Name=Elevance Health<br>Employees=%{x}<br>Revenues ($M)=%{y}<extra></extra>",
         "legendgroup": "Elevance Health",
         "marker": {
          "color": "#FECB52",
          "symbol": "circle"
         },
         "mode": "markers",
         "name": "Elevance Health",
         "orientation": "v",
         "showlegend": true,
         "type": "scatter",
         "x": [
          104900
         ],
         "xaxis": "x",
         "y": [
          171340
         ],
         "yaxis": "y"
        },
        {
         "hovertemplate": "Name=BMW Group<br>Employees=%{x}<br>Revenues ($M)=%{y}<extra></extra>",
         "legendgroup": "BMW Group",
         "marker": {
          "color": "#636efa",
          "symbol": "circle"
         },
         "mode": "markers",
         "name": "BMW Group",
         "orientation": "v",
         "showlegend": true,
         "type": "scatter",
         "x": [
          154950
         ],
         "xaxis": "x",
         "y": [
          168102.6
         ],
         "yaxis": "y"
        },
        {
         "hovertemplate": "Name=Mercedes-Benz Group<br>Employees=%{x}<br>Revenues ($M)=%{y}<extra></extra>",
         "legendgroup": "Mercedes-Benz Group",
         "marker": {
          "color": "#EF553B",
          "symbol": "circle"
         },
         "mode": "markers",
         "name": "Mercedes-Benz Group",
         "orientation": "v",
         "showlegend": true,
         "type": "scatter",
         "x": [
          166056
         ],
         "xaxis": "x",
         "y": [
          165637.8
         ],
         "yaxis": "y"
        },
        {
         "hovertemplate": "Name=China Railway Construction<br>Employees=%{x}<br>Revenues ($M)=%{y}<extra></extra>",
         "legendgroup": "China Railway Construction",
         "marker": {
          "color": "#00cc96",
          "symbol": "circle"
         },
         "mode": "markers",
         "name": "China Railway Construction",
         "orientation": "v",
         "showlegend": true,
         "type": "scatter",
         "x": [
          336433
         ],
         "xaxis": "x",
         "y": [
          160847.4
         ],
         "yaxis": "y"
        },
        {
         "hovertemplate": "Name=China Baowu Steel Group<br>Employees=%{x}<br>Revenues ($M)=%{y}<extra></extra>",
         "legendgroup": "China Baowu Steel Group",
         "marker": {
          "color": "#ab63fa",
          "symbol": "circle"
         },
         "mode": "markers",
         "name": "China Baowu Steel Group",
         "orientation": "v",
         "showlegend": true,
         "type": "scatter",
         "x": [
          258697
         ],
         "xaxis": "x",
         "y": [
          157216.3
         ],
         "yaxis": "y"
        },
        {
         "hovertemplate": "Name=Citigroup<br>Employees=%{x}<br>Revenues ($M)=%{y}<extra></extra>",
         "legendgroup": "Citigroup",
         "marker": {
          "color": "#FFA15A",
          "symbol": "circle"
         },
         "mode": "markers",
         "name": "Citigroup",
         "orientation": "v",
         "showlegend": true,
         "type": "scatter",
         "x": [
          237925
         ],
         "xaxis": "x",
         "y": [
          156820
         ],
         "yaxis": "y"
        },
        {
         "hovertemplate": "Name=Centene<br>Employees=%{x}<br>Revenues ($M)=%{y}<extra></extra>",
         "legendgroup": "Centene",
         "marker": {
          "color": "#19d3f3",
          "symbol": "circle"
         },
         "mode": "markers",
         "name": "Centene",
         "orientation": "v",
         "showlegend": true,
         "type": "scatter",
         "x": [
          67700
         ],
         "xaxis": "x",
         "y": [
          153999
         ],
         "yaxis": "y"
        },
        {
         "hovertemplate": "Name=JD.com<br>Employees=%{x}<br>Revenues ($M)=%{y}<extra></extra>",
         "legendgroup": "JD.com",
         "marker": {
          "color": "#FF6692",
          "symbol": "circle"
         },
         "mode": "markers",
         "name": "JD.com",
         "orientation": "v",
         "showlegend": true,
         "type": "scatter",
         "x": [
          517124
         ],
         "xaxis": "x",
         "y": [
          153217.4
         ],
         "yaxis": "y"
        },
        {
         "hovertemplate": "Name=Home Depot<br>Employees=%{x}<br>Revenues ($M)=%{y}<extra></extra>",
         "legendgroup": "Home Depot",
         "marker": {
          "color": "#B6E880",
          "symbol": "circle"
         },
         "mode": "markers",
         "name": "Home Depot",
         "orientation": "v",
         "showlegend": true,
         "type": "scatter",
         "x": [
          463100
         ],
         "xaxis": "x",
         "y": [
          152669
         ],
         "yaxis": "y"
        },
        {
         "hovertemplate": "Name=Electricité de France<br>Employees=%{x}<br>Revenues ($M)=%{y}<extra></extra>",
         "legendgroup": "Electricité de France",
         "marker": {
          "color": "#FF97FF",
          "symbol": "circle"
         },
         "mode": "markers",
         "name": "Electricité de France",
         "orientation": "v",
         "showlegend": true,
         "type": "scatter",
         "x": [
          171862
         ],
         "xaxis": "x",
         "y": [
          151040.2
         ],
         "yaxis": "y"
        },
        {
         "hovertemplate": "Name=Marathon Petroleum<br>Employees=%{x}<br>Revenues ($M)=%{y}<extra></extra>",
         "legendgroup": "Marathon Petroleum",
         "marker": {
          "color": "#FECB52",
          "symbol": "circle"
         },
         "mode": "markers",
         "name": "Marathon Petroleum",
         "orientation": "v",
         "showlegend": true,
         "type": "scatter",
         "x": [
          18200
         ],
         "xaxis": "x",
         "y": [
          150307
         ],
         "yaxis": "y"
        },
        {
         "hovertemplate": "Name=Kroger<br>Employees=%{x}<br>Revenues ($M)=%{y}<extra></extra>",
         "legendgroup": "Kroger",
         "marker": {
          "color": "#636efa",
          "symbol": "circle"
         },
         "mode": "markers",
         "name": "Kroger",
         "orientation": "v",
         "showlegend": true,
         "type": "scatter",
         "x": [
          414000
         ],
         "xaxis": "x",
         "y": [
          150039
         ],
         "yaxis": "y"
        },
        {
         "hovertemplate": "Name=Phillips 66<br>Employees=%{x}<br>Revenues ($M)=%{y}<extra></extra>",
         "legendgroup": "Phillips 66",
         "marker": {
          "color": "#EF553B",
          "symbol": "circle"
         },
         "mode": "markers",
         "name": "Phillips 66",
         "orientation": "v",
         "showlegend": true,
         "type": "scatter",
         "x": [
          14000
         ],
         "xaxis": "x",
         "y": [
          149890
         ],
         "yaxis": "y"
        },
        {
         "hovertemplate": "Name=Ping An Insurance<br>Employees=%{x}<br>Revenues ($M)=%{y}<extra></extra>",
         "legendgroup": "Ping An Insurance",
         "marker": {
          "color": "#00cc96",
          "symbol": "circle"
         },
         "mode": "markers",
         "name": "Ping An Insurance",
         "orientation": "v",
         "showlegend": true,
         "type": "scatter",
         "x": [
          288751
         ],
         "xaxis": "x",
         "y": [
          145759.1
         ],
         "yaxis": "y"
        },
        {
         "hovertemplate": "Name=Sinochem Holdings<br>Employees=%{x}<br>Revenues ($M)=%{y}<extra></extra>",
         "legendgroup": "Sinochem Holdings",
         "marker": {
          "color": "#ab63fa",
          "symbol": "circle"
         },
         "mode": "markers",
         "name": "Sinochem Holdings",
         "orientation": "v",
         "showlegend": true,
         "type": "scatter",
         "x": [
          203727
         ],
         "xaxis": "x",
         "y": [
          143240
         ],
         "yaxis": "y"
        },
        {
         "hovertemplate": "Name=China Mobile Communications<br>Employees=%{x}<br>Revenues ($M)=%{y}<extra></extra>",
         "legendgroup": "China Mobile Communications",
         "marker": {
          "color": "#FFA15A",
          "symbol": "circle"
         },
         "mode": "markers",
         "name": "China Mobile Communications",
         "orientation": "v",
         "showlegend": true,
         "type": "scatter",
         "x": [
          453394
         ],
         "xaxis": "x",
         "y": [
          142832.4
         ],
         "yaxis": "y"
        },
        {
         "hovertemplate": "Name=China National Offshore Oil<br>Employees=%{x}<br>Revenues ($M)=%{y}<extra></extra>",
         "legendgroup": "China National Offshore Oil",
         "marker": {
          "color": "#19d3f3",
          "symbol": "circle"
         },
         "mode": "markers",
         "name": "China National Offshore Oil",
         "orientation": "v",
         "showlegend": true,
         "type": "scatter",
         "x": [
          82560
         ],
         "xaxis": "x",
         "y": [
          141731.8
         ],
         "yaxis": "y"
        },
        {
         "hovertemplate": "Name=Honda Motor<br>Employees=%{x}<br>Revenues ($M)=%{y}<extra></extra>",
         "legendgroup": "Honda Motor",
         "marker": {
          "color": "#FF6692",
          "symbol": "circle"
         },
         "mode": "markers",
         "name": "Honda Motor",
         "orientation": "v",
         "showlegend": true,
         "type": "scatter",
         "x": [
          194993
         ],
         "xaxis": "x",
         "y": [
          141348.5
         ],
         "yaxis": "y"
        },
        {
         "hovertemplate": "Name=Fannie Mae<br>Employees=%{x}<br>Revenues ($M)=%{y}<extra></extra>",
         "legendgroup": "Fannie Mae",
         "marker": {
          "color": "#B6E880",
          "symbol": "circle"
         },
         "mode": "markers",
         "name": "Fannie Mae",
         "orientation": "v",
         "showlegend": true,
         "type": "scatter",
         "x": [
          8100
         ],
         "xaxis": "x",
         "y": [
          141240
         ],
         "yaxis": "y"
        },
        {
         "hovertemplate": "Name=China Life Insurance<br>Employees=%{x}<br>Revenues ($M)=%{y}<extra></extra>",
         "legendgroup": "China Life Insurance",
         "marker": {
          "color": "#FF97FF",
          "symbol": "circle"
         },
         "mode": "markers",
         "name": "China Life Insurance",
         "orientation": "v",
         "showlegend": true,
         "type": "scatter",
         "x": [
          176625
         ],
         "xaxis": "x",
         "y": [
          139615.9
         ],
         "yaxis": "y"
        },
        {
         "hovertemplate": "Name=Walgreens Boots Alliance<br>Employees=%{x}<br>Revenues ($M)=%{y}<extra></extra>",
         "legendgroup": "Walgreens Boots Alliance",
         "marker": {
          "color": "#FECB52",
          "symbol": "circle"
         },
         "mode": "markers",
         "name": "Walgreens Boots Alliance",
         "orientation": "v",
         "showlegend": true,
         "type": "scatter",
         "x": [
          268500
         ],
         "xaxis": "x",
         "y": [
          139081
         ],
         "yaxis": "y"
        },
        {
         "hovertemplate": "Name=Valero Energy<br>Employees=%{x}<br>Revenues ($M)=%{y}<extra></extra>",
         "legendgroup": "Valero Energy",
         "marker": {
          "color": "#636efa",
          "symbol": "circle"
         },
         "mode": "markers",
         "name": "Valero Energy",
         "orientation": "v",
         "showlegend": true,
         "type": "scatter",
         "x": [
          9897
         ],
         "xaxis": "x",
         "y": [
          139001
         ],
         "yaxis": "y"
        },
        {
         "hovertemplate": "Name=Banco Santander<br>Employees=%{x}<br>Revenues ($M)=%{y}<extra></extra>",
         "legendgroup": "Banco Santander",
         "marker": {
          "color": "#EF553B",
          "symbol": "circle"
         },
         "mode": "markers",
         "name": "Banco Santander",
         "orientation": "v",
         "showlegend": true,
         "type": "scatter",
         "x": [
          207206
         ],
         "xaxis": "x",
         "y": [
          137244.8
         ],
         "yaxis": "y"
        },
        {
         "hovertemplate": "Name=China Communications Construction<br>Employees=%{x}<br>Revenues ($M)=%{y}<extra></extra>",
         "legendgroup": "China Communications Construction",
         "marker": {
          "color": "#00cc96",
          "symbol": "circle"
         },
         "mode": "markers",
         "name": "China Communications Construction",
         "orientation": "v",
         "showlegend": true,
         "type": "scatter",
         "x": [
          219034
         ],
         "xaxis": "x",
         "y": [
          136670.7
         ],
         "yaxis": "y"
        },
        {
         "hovertemplate": "Name=BNP Paribas<br>Employees=%{x}<br>Revenues ($M)=%{y}<extra></extra>",
         "legendgroup": "BNP Paribas",
         "marker": {
          "color": "#ab63fa",
          "symbol": "circle"
         },
         "mode": "markers",
         "name": "BNP Paribas",
         "orientation": "v",
         "showlegend": true,
         "type": "scatter",
         "x": [
          182656
         ],
         "xaxis": "x",
         "y": [
          136076.2
         ],
         "yaxis": "y"
        },
        {
         "hovertemplate": "Name=Mitsubishi<br>Employees=%{x}<br>Revenues ($M)=%{y}<extra></extra>",
         "legendgroup": "Mitsubishi",
         "marker": {
          "color": "#FFA15A",
          "symbol": "circle"
         },
         "mode": "markers",
         "name": "Mitsubishi",
         "orientation": "v",
         "showlegend": true,
         "type": "scatter",
         "x": [
          80037
         ],
         "xaxis": "x",
         "y": [
          135389.8
         ],
         "yaxis": "y"
        },
        {
         "hovertemplate": "Name=Meta Platforms<br>Employees=%{x}<br>Revenues ($M)=%{y}<extra></extra>",
         "legendgroup": "Meta Platforms",
         "marker": {
          "color": "#19d3f3",
          "symbol": "circle"
         },
         "mode": "markers",
         "name": "Meta Platforms",
         "orientation": "v",
         "showlegend": true,
         "type": "scatter",
         "x": [
          67317
         ],
         "xaxis": "x",
         "y": [
          134902
         ],
         "yaxis": "y"
        },
        {
         "hovertemplate": "Name=HSBC Holdings<br>Employees=%{x}<br>Revenues ($M)=%{y}<extra></extra>",
         "legendgroup": "HSBC Holdings",
         "marker": {
          "color": "#FF6692",
          "symbol": "circle"
         },
         "mode": "markers",
         "name": "HSBC Holdings",
         "orientation": "v",
         "showlegend": true,
         "type": "scatter",
         "x": [
          220861
         ],
         "xaxis": "x",
         "y": [
          134901
         ],
         "yaxis": "y"
        },
        {
         "hovertemplate": "Name=Verizon Communications<br>Employees=%{x}<br>Revenues ($M)=%{y}<extra></extra>",
         "legendgroup": "Verizon Communications",
         "marker": {
          "color": "#B6E880",
          "symbol": "circle"
         },
         "mode": "markers",
         "name": "Verizon Communications",
         "orientation": "v",
         "showlegend": true,
         "type": "scatter",
         "x": [
          105400
         ],
         "xaxis": "x",
         "y": [
          133974
         ],
         "yaxis": "y"
        },
        {
         "hovertemplate": "Name=China Minmetals<br>Employees=%{x}<br>Revenues ($M)=%{y}<extra></extra>",
         "legendgroup": "China Minmetals",
         "marker": {
          "color": "#FF97FF",
          "symbol": "circle"
         },
         "mode": "markers",
         "name": "China Minmetals",
         "orientation": "v",
         "showlegend": true,
         "type": "scatter",
         "x": [
          175524
         ],
         "xaxis": "x",
         "y": [
          132019.7
         ],
         "yaxis": "y"
        },
        {
         "hovertemplate": "Name=Alibaba Group<br>Employees=%{x}<br>Revenues ($M)=%{y}<extra></extra>",
         "legendgroup": "Alibaba Group",
         "marker": {
          "color": "#FECB52",
          "symbol": "circle"
         },
         "mode": "markers",
         "name": "Alibaba Group",
         "orientation": "v",
         "showlegend": true,
         "type": "scatter",
         "x": [
          204891
         ],
         "xaxis": "x",
         "y": [
          131337.9
         ],
         "yaxis": "y"
        },
        {
         "hovertemplate": "Name=CITIC Group<br>Employees=%{x}<br>Revenues ($M)=%{y}<extra></extra>",
         "legendgroup": "CITIC Group",
         "marker": {
          "color": "#636efa",
          "symbol": "circle"
         },
         "mode": "markers",
         "name": "CITIC Group",
         "orientation": "v",
         "showlegend": true,
         "type": "scatter",
         "x": [
          213290
         ],
         "xaxis": "x",
         "y": [
          131242.3
         ],
         "yaxis": "y"
        },
        {
         "hovertemplate": "Name=China Resources<br>Employees=%{x}<br>Revenues ($M)=%{y}<extra></extra>",
         "legendgroup": "China Resources",
         "marker": {
          "color": "#EF553B",
          "symbol": "circle"
         },
         "mode": "markers",
         "name": "China Resources",
         "orientation": "v",
         "showlegend": true,
         "type": "scatter",
         "x": [
          394112
         ],
         "xaxis": "x",
         "y": [
          126169.5
         ],
         "yaxis": "y"
        },
        {
         "hovertemplate": "Name=Hyundai Motor<br>Employees=%{x}<br>Revenues ($M)=%{y}<extra></extra>",
         "legendgroup": "Hyundai Motor",
         "marker": {
          "color": "#00cc96",
          "symbol": "circle"
         },
         "mode": "markers",
         "name": "Hyundai Motor",
         "orientation": "v",
         "showlegend": true,
         "type": "scatter",
         "x": [
          73502
         ],
         "xaxis": "x",
         "y": [
          124576.7
         ],
         "yaxis": "y"
        },
        {
         "hovertemplate": "Name=AT&T<br>Employees=%{x}<br>Revenues ($M)=%{y}<extra></extra>",
         "legendgroup": "AT&T",
         "marker": {
          "color": "#ab63fa",
          "symbol": "circle"
         },
         "mode": "markers",
         "name": "AT&T",
         "orientation": "v",
         "showlegend": true,
         "type": "scatter",
         "x": [
          150470
         ],
         "xaxis": "x",
         "y": [
          122428
         ],
         "yaxis": "y"
        },
        {
         "hovertemplate": "Name=Shandong Energy Group<br>Employees=%{x}<br>Revenues ($M)=%{y}<extra></extra>",
         "legendgroup": "Shandong Energy Group",
         "marker": {
          "color": "#FFA15A",
          "symbol": "circle"
         },
         "mode": "markers",
         "name": "Shandong Energy Group",
         "orientation": "v",
         "showlegend": true,
         "type": "scatter",
         "x": [
          214409
         ],
         "xaxis": "x",
         "y": [
          122383.2
         ],
         "yaxis": "y"
        },
        {
         "hovertemplate": "Name=Comcast<br>Employees=%{x}<br>Revenues ($M)=%{y}<extra></extra>",
         "legendgroup": "Comcast",
         "marker": {
          "color": "#19d3f3",
          "symbol": "circle"
         },
         "mode": "markers",
         "name": "Comcast",
         "orientation": "v",
         "showlegend": true,
         "type": "scatter",
         "x": [
          186000
         ],
         "xaxis": "x",
         "y": [
          121572
         ],
         "yaxis": "y"
        },
        {
         "hovertemplate": "Name=Deutsche Telekom<br>Employees=%{x}<br>Revenues ($M)=%{y}<extra></extra>",
         "legendgroup": "Deutsche Telekom",
         "marker": {
          "color": "#FF6692",
          "symbol": "circle"
         },
         "mode": "markers",
         "name": "Deutsche Telekom",
         "orientation": "v",
         "showlegend": true,
         "type": "scatter",
         "x": [
          199652
         ],
         "xaxis": "x",
         "y": [
          121046.2
         ],
         "yaxis": "y"
        },
        {
         "hovertemplate": "Name=China Southern Power Grid<br>Employees=%{x}<br>Revenues ($M)=%{y}<extra></extra>",
         "legendgroup": "China Southern Power Grid",
         "marker": {
          "color": "#B6E880",
          "symbol": "circle"
         },
         "mode": "markers",
         "name": "China Southern Power Grid",
         "orientation": "v",
         "showlegend": true,
         "type": "scatter",
         "x": [
          268471
         ],
         "xaxis": "x",
         "y": [
          118813.5
         ],
         "yaxis": "y"
        },
        {
         "hovertemplate": "Name=Uniper<br>Employees=%{x}<br>Revenues ($M)=%{y}<extra></extra>",
         "legendgroup": "Uniper",
         "marker": {
          "color": "#FF97FF",
          "symbol": "circle"
         },
         "mode": "markers",
         "name": "Uniper",
         "orientation": "v",
         "showlegend": true,
         "type": "scatter",
         "x": [
          6863
         ],
         "xaxis": "x",
         "y": [
          116662.5
         ],
         "yaxis": "y"
        },
        {
         "hovertemplate": "Name=Wells Fargo<br>Employees=%{x}<br>Revenues ($M)=%{y}<extra></extra>",
         "legendgroup": "Wells Fargo",
         "marker": {
          "color": "#FECB52",
          "symbol": "circle"
         },
         "mode": "markers",
         "name": "Wells Fargo",
         "orientation": "v",
         "showlegend": true,
         "type": "scatter",
         "x": [
          226000
         ],
         "xaxis": "x",
         "y": [
          115340
         ],
         "yaxis": "y"
        },
        {
         "hovertemplate": "Name=Hengli Group<br>Employees=%{x}<br>Revenues ($M)=%{y}<extra></extra>",
         "legendgroup": "Hengli Group",
         "marker": {
          "color": "#636efa",
          "symbol": "circle"
         },
         "mode": "markers",
         "name": "Hengli Group",
         "orientation": "v",
         "showlegend": true,
         "type": "scatter",
         "x": [
          173250
         ],
         "xaxis": "x",
         "y": [
          114664.5
         ],
         "yaxis": "y"
        },
        {
         "hovertemplate": "Name=Allianz<br>Employees=%{x}<br>Revenues ($M)=%{y}<extra></extra>",
         "legendgroup": "Allianz",
         "marker": {
          "color": "#EF553B",
          "symbol": "circle"
         },
         "mode": "markers",
         "name": "Allianz",
         "orientation": "v",
         "showlegend": true,
         "type": "scatter",
         "x": [
          157883
         ],
         "xaxis": "x",
         "y": [
          113517.7
         ],
         "yaxis": "y"
        },
        {
         "hovertemplate": "Name=China Post Group<br>Employees=%{x}<br>Revenues ($M)=%{y}<extra></extra>",
         "legendgroup": "China Post Group",
         "marker": {
          "color": "#00cc96",
          "symbol": "circle"
         },
         "mode": "markers",
         "name": "China Post Group",
         "orientation": "v",
         "showlegend": true,
         "type": "scatter",
         "x": [
          728776
         ],
         "xaxis": "x",
         "y": [
          112778.5
         ],
         "yaxis": "y"
        },
        {
         "hovertemplate": "Name=China Energy Investment<br>Employees=%{x}<br>Revenues ($M)=%{y}<extra></extra>",
         "legendgroup": "China Energy Investment",
         "marker": {
          "color": "#ab63fa",
          "symbol": "circle"
         },
         "mode": "markers",
         "name": "China Energy Investment",
         "orientation": "v",
         "showlegend": true,
         "type": "scatter",
         "x": [
          309037
         ],
         "xaxis": "x",
         "y": [
          112048.7
         ],
         "yaxis": "y"
        },
        {
         "hovertemplate": "Name=Xiamen C&D<br>Employees=%{x}<br>Revenues ($M)=%{y}<extra></extra>",
         "legendgroup": "Xiamen C&D",
         "marker": {
          "color": "#FFA15A",
          "symbol": "circle"
         },
         "mode": "markers",
         "name": "Xiamen C&D",
         "orientation": "v",
         "showlegend": true,
         "type": "scatter",
         "x": [
          62740
         ],
         "xaxis": "x",
         "y": [
          110665.6
         ],
         "yaxis": "y"
        },
        {
         "hovertemplate": "Name=Reliance Industries<br>Employees=%{x}<br>Revenues ($M)=%{y}<extra></extra>",
         "legendgroup": "Reliance Industries",
         "marker": {
          "color": "#19d3f3",
          "symbol": "circle"
         },
         "mode": "markers",
         "name": "Reliance Industries",
         "orientation": "v",
         "showlegend": true,
         "type": "scatter",
         "x": [
          347000
         ],
         "xaxis": "x",
         "y": [
          108877.9
         ],
         "yaxis": "y"
        },
        {
         "hovertemplate": "Name=Goldman Sachs Group<br>Employees=%{x}<br>Revenues ($M)=%{y}<extra></extra>",
         "legendgroup": "Goldman Sachs Group",
         "marker": {
          "color": "#FF6692",
          "symbol": "circle"
         },
         "mode": "markers",
         "name": "Goldman Sachs Group",
         "orientation": "v",
         "showlegend": true,
         "type": "scatter",
         "x": [
          45300
         ],
         "xaxis": "x",
         "y": [
          108418
         ],
         "yaxis": "y"
        },
        {
         "hovertemplate": "Name=Freddie Mac<br>Employees=%{x}<br>Revenues ($M)=%{y}<extra></extra>",
         "legendgroup": "Freddie Mac",
         "marker": {
          "color": "#B6E880",
          "symbol": "circle"
         },
         "mode": "markers",
         "name": "Freddie Mac",
         "orientation": "v",
         "showlegend": true,
         "type": "scatter",
         "x": [
          8020
         ],
         "xaxis": "x",
         "y": [
          108050
         ],
         "yaxis": "y"
        },
        {
         "hovertemplate": "Name=Rosneft Oil<br>Employees=%{x}<br>Revenues ($M)=%{y}<extra></extra>",
         "legendgroup": "Rosneft Oil",
         "marker": {
          "color": "#FF97FF",
          "symbol": "circle"
         },
         "mode": "markers",
         "name": "Rosneft Oil",
         "orientation": "v",
         "showlegend": true,
         "type": "scatter",
         "x": [
          323900
         ],
         "xaxis": "x",
         "y": [
          107543.1
         ],
         "yaxis": "y"
        },
        {
         "hovertemplate": "Name=Target<br>Employees=%{x}<br>Revenues ($M)=%{y}<extra></extra>",
         "legendgroup": "Target",
         "marker": {
          "color": "#FECB52",
          "symbol": "circle"
         },
         "mode": "markers",
         "name": "Target",
         "orientation": "v",
         "showlegend": true,
         "type": "scatter",
         "x": [
          415000
         ],
         "xaxis": "x",
         "y": [
          107412
         ],
         "yaxis": "y"
        },
        {
         "hovertemplate": "Name=Equinor<br>Employees=%{x}<br>Revenues ($M)=%{y}<extra></extra>",
         "legendgroup": "Equinor",
         "marker": {
          "color": "#636efa",
          "symbol": "circle"
         },
         "mode": "markers",
         "name": "Equinor",
         "orientation": "v",
         "showlegend": true,
         "type": "scatter",
         "x": [
          23449
         ],
         "xaxis": "x",
         "y": [
          107174
         ],
         "yaxis": "y"
        },
        {
         "hovertemplate": "Name=Humana<br>Employees=%{x}<br>Revenues ($M)=%{y}<extra></extra>",
         "legendgroup": "Humana",
         "marker": {
          "color": "#EF553B",
          "symbol": "circle"
         },
         "mode": "markers",
         "name": "Humana",
         "orientation": "v",
         "showlegend": true,
         "type": "scatter",
         "x": [
          67600
         ],
         "xaxis": "x",
         "y": [
          106374
         ],
         "yaxis": "y"
        },
        {
         "hovertemplate": "Name=SAIC Motor<br>Employees=%{x}<br>Revenues ($M)=%{y}<extra></extra>",
         "legendgroup": "SAIC Motor",
         "marker": {
          "color": "#00cc96",
          "symbol": "circle"
         },
         "mode": "markers",
         "name": "SAIC Motor",
         "orientation": "v",
         "showlegend": true,
         "type": "scatter",
         "x": [
          149505
         ],
         "xaxis": "x",
         "y": [
          105195.7
         ],
         "yaxis": "y"
        },
        {
         "hovertemplate": "Name=State Farm Insurance<br>Employees=%{x}<br>Revenues ($M)=%{y}<extra></extra>",
         "legendgroup": "State Farm Insurance",
         "marker": {
          "color": "#ab63fa",
          "symbol": "circle"
         },
         "mode": "markers",
         "name": "State Farm Insurance",
         "orientation": "v",
         "showlegend": true,
         "type": "scatter",
         "x": [
          65054
         ],
         "xaxis": "x",
         "y": [
          104198.6
         ],
         "yaxis": "y"
        },
        {
         "hovertemplate": "Name=Life Insurance Corp. of India<br>Employees=%{x}<br>Revenues ($M)=%{y}<extra></extra>",
         "legendgroup": "Life Insurance Corp. of India",
         "marker": {
          "color": "#FFA15A",
          "symbol": "circle"
         },
         "mode": "markers",
         "name": "Life Insurance Corp. of India",
         "orientation": "v",
         "showlegend": true,
         "type": "scatter",
         "x": [
          98463
         ],
         "xaxis": "x",
         "y": [
          103547.6
         ],
         "yaxis": "y"
        },
        {
         "hovertemplate": "Name=Nestlé<br>Employees=%{x}<br>Revenues ($M)=%{y}<extra></extra>",
         "legendgroup": "Nestlé",
         "marker": {
          "color": "#19d3f3",
          "symbol": "circle"
         },
         "mode": "markers",
         "name": "Nestlé",
         "orientation": "v",
         "showlegend": true,
         "type": "scatter",
         "x": [
          270000
         ],
         "xaxis": "x",
         "y": [
          103505.2
         ],
         "yaxis": "y"
        },
        {
         "hovertemplate": "Name=Enel<br>Employees=%{x}<br>Revenues ($M)=%{y}<extra></extra>",
         "legendgroup": "Enel",
         "marker": {
          "color": "#FF6692",
          "symbol": "circle"
         },
         "mode": "markers",
         "name": "Enel",
         "orientation": "v",
         "showlegend": true,
         "type": "scatter",
         "x": [
          61055
         ],
         "xaxis": "x",
         "y": [
          103311.4
         ],
         "yaxis": "y"
        },
        {
         "hovertemplate": "Name=ENI<br>Employees=%{x}<br>Revenues ($M)=%{y}<extra></extra>",
         "legendgroup": "ENI",
         "marker": {
          "color": "#B6E880",
          "symbol": "circle"
         },
         "mode": "markers",
         "name": "ENI",
         "orientation": "v",
         "showlegend": true,
         "type": "scatter",
         "x": [
          33142
         ],
         "xaxis": "x",
         "y": [
          102501.7
         ],
         "yaxis": "y"
        },
        {
         "hovertemplate": "Name=Petrobras<br>Employees=%{x}<br>Revenues ($M)=%{y}<extra></extra>",
         "legendgroup": "Petrobras",
         "marker": {
          "color": "#FF97FF",
          "symbol": "circle"
         },
         "mode": "markers",
         "name": "Petrobras",
         "orientation": "v",
         "showlegend": true,
         "type": "scatter",
         "x": [
          46730
         ],
         "xaxis": "x",
         "y": [
          102409
         ],
         "yaxis": "y"
        },
        {
         "hovertemplate": "Name=SK<br>Employees=%{x}<br>Revenues ($M)=%{y}<extra></extra>",
         "legendgroup": "SK",
         "marker": {
          "color": "#FECB52",
          "symbol": "circle"
         },
         "mode": "markers",
         "name": "SK",
         "orientation": "v",
         "showlegend": true,
         "type": "scatter",
         "x": [
          114950
         ],
         "xaxis": "x",
         "y": [
          101968.8
         ],
         "yaxis": "y"
        },
        {
         "hovertemplate": "Name=E.ON<br>Employees=%{x}<br>Revenues ($M)=%{y}<extra></extra>",
         "legendgroup": "E.ON",
         "marker": {
          "color": "#636efa",
          "symbol": "circle"
         },
         "mode": "markers",
         "name": "E.ON",
         "orientation": "v",
         "showlegend": true,
         "type": "scatter",
         "x": [
          72242
         ],
         "xaxis": "x",
         "y": [
          101280.1
         ],
         "yaxis": "y"
        },
        {
         "hovertemplate": "Name=Gazprom<br>Employees=%{x}<br>Revenues ($M)=%{y}<extra></extra>",
         "legendgroup": "Gazprom",
         "marker": {
          "color": "#EF553B",
          "symbol": "circle"
         },
         "mode": "markers",
         "name": "Gazprom",
         "orientation": "v",
         "showlegend": true,
         "type": "scatter",
         "x": [
          492200
         ],
         "xaxis": "x",
         "y": [
          100252.5
         ],
         "yaxis": "y"
        },
        {
         "hovertemplate": "Name=Huawei Investment & Holding<br>Employees=%{x}<br>Revenues ($M)=%{y}<extra></extra>",
         "legendgroup": "Huawei Investment & Holding",
         "marker": {
          "color": "#00cc96",
          "symbol": "circle"
         },
         "mode": "markers",
         "name": "Huawei Investment & Holding",
         "orientation": "v",
         "showlegend": true,
         "type": "scatter",
         "x": [
          207000
         ],
         "xaxis": "x",
         "y": [
          99470.3
         ],
         "yaxis": "y"
        },
        {
         "hovertemplate": "Name=Société Générale<br>Employees=%{x}<br>Revenues ($M)=%{y}<extra></extra>",
         "legendgroup": "Société Générale",
         "marker": {
          "color": "#ab63fa",
          "symbol": "circle"
         },
         "mode": "markers",
         "name": "Société Générale",
         "orientation": "v",
         "showlegend": true,
         "type": "scatter",
         "x": [
          124089
         ],
         "xaxis": "x",
         "y": [
          99163.4
         ],
         "yaxis": "y"
        },
        {
         "hovertemplate": "Name=Bosch Group<br>Employees=%{x}<br>Revenues ($M)=%{y}<extra></extra>",
         "legendgroup": "Bosch Group",
         "marker": {
          "color": "#FFA15A",
          "symbol": "circle"
         },
         "mode": "markers",
         "name": "Bosch Group",
         "orientation": "v",
         "showlegend": true,
         "type": "scatter",
         "x": [
          429416
         ],
         "xaxis": "x",
         "y": [
          99020.7
         ],
         "yaxis": "y"
        },
        {
         "hovertemplate": "Name=COFCO<br>Employees=%{x}<br>Revenues ($M)=%{y}<extra></extra>",
         "legendgroup": "COFCO",
         "marker": {
          "color": "#19d3f3",
          "symbol": "circle"
         },
         "mode": "markers",
         "name": "COFCO",
         "orientation": "v",
         "showlegend": true,
         "type": "scatter",
         "x": [
          111630
         ],
         "xaxis": "x",
         "y": [
          97765.1
         ],
         "yaxis": "y"
        },
        {
         "hovertemplate": "Name=Itochu<br>Employees=%{x}<br>Revenues ($M)=%{y}<extra></extra>",
         "legendgroup": "Itochu",
         "marker": {
          "color": "#FF6692",
          "symbol": "circle"
         },
         "mode": "markers",
         "name": "Itochu",
         "orientation": "v",
         "showlegend": true,
         "type": "scatter",
         "x": [
          136334
         ],
         "xaxis": "x",
         "y": [
          97074.1
         ],
         "yaxis": "y"
        },
        {
         "hovertemplate": "Name=PowerChina<br>Employees=%{x}<br>Revenues ($M)=%{y}<extra></extra>",
         "legendgroup": "PowerChina",
         "marker": {
          "color": "#B6E880",
          "symbol": "circle"
         },
         "mode": "markers",
         "name": "PowerChina",
         "orientation": "v",
         "showlegend": true,
         "type": "scatter",
         "x": [
          184567
         ],
         "xaxis": "x",
         "y": [
          97034.9
         ],
         "yaxis": "y"
        },
        {
         "hovertemplate": "Name=Pemex<br>Employees=%{x}<br>Revenues ($M)=%{y}<extra></extra>",
         "legendgroup": "Pemex",
         "marker": {
          "color": "#FF97FF",
          "symbol": "circle"
         },
         "mode": "markers",
         "name": "Pemex",
         "orientation": "v",
         "showlegend": true,
         "type": "scatter",
         "x": [
          128616
         ],
         "xaxis": "x",
         "y": [
          96978.8
         ],
         "yaxis": "y"
        },
        {
         "hovertemplate": "Name=Tesla<br>Employees=%{x}<br>Revenues ($M)=%{y}<extra></extra>",
         "legendgroup": "Tesla",
         "marker": {
          "color": "#FECB52",
          "symbol": "circle"
         },
         "mode": "markers",
         "name": "Tesla",
         "orientation": "v",
         "showlegend": true,
         "type": "scatter",
         "x": [
          140473
         ],
         "xaxis": "x",
         "y": [
          96773
         ],
         "yaxis": "y"
        },
        {
         "hovertemplate": "Name=Morgan Stanley<br>Employees=%{x}<br>Revenues ($M)=%{y}<extra></extra>",
         "legendgroup": "Morgan Stanley",
         "marker": {
          "color": "#636efa",
          "symbol": "circle"
         },
         "mode": "markers",
         "name": "Morgan Stanley",
         "orientation": "v",
         "showlegend": true,
         "type": "scatter",
         "x": [
          80006
         ],
         "xaxis": "x",
         "y": [
          96194
         ],
         "yaxis": "y"
        },
        {
         "hovertemplate": "Name=Sinopharm<br>Employees=%{x}<br>Revenues ($M)=%{y}<extra></extra>",
         "legendgroup": "Sinopharm",
         "marker": {
          "color": "#EF553B",
          "symbol": "circle"
         },
         "mode": "markers",
         "name": "Sinopharm",
         "orientation": "v",
         "showlegend": true,
         "type": "scatter",
         "x": [
          202426
         ],
         "xaxis": "x",
         "y": [
          96072.2
         ],
         "yaxis": "y"
        },
        {
         "hovertemplate": "Name=Brookfield<br>Employees=%{x}<br>Revenues ($M)=%{y}<extra></extra>",
         "legendgroup": "Brookfield",
         "marker": {
          "color": "#00cc96",
          "symbol": "circle"
         },
         "mode": "markers",
         "name": "Brookfield",
         "orientation": "v",
         "showlegend": true,
         "type": "scatter",
         "x": [
          240000
         ],
         "xaxis": "x",
         "y": [
          95924
         ],
         "yaxis": "y"
        },
        {
         "hovertemplate": "Name=Royal Ahold Delhaize<br>Employees=%{x}<br>Revenues ($M)=%{y}<extra></extra>",
         "legendgroup": "Royal Ahold Delhaize",
         "marker": {
          "color": "#ab63fa",
          "symbol": "circle"
         },
         "mode": "markers",
         "name": "Royal Ahold Delhaize",
         "orientation": "v",
         "showlegend": true,
         "type": "scatter",
         "x": [
          232000
         ],
         "xaxis": "x",
         "y": [
          95834.8
         ],
         "yaxis": "y"
        },
        {
         "hovertemplate": "Name=Johnson & Johnson<br>Employees=%{x}<br>Revenues ($M)=%{y}<extra></extra>",
         "legendgroup": "Johnson & Johnson",
         "marker": {
          "color": "#FFA15A",
          "symbol": "circle"
         },
         "mode": "markers",
         "name": "Johnson & Johnson",
         "orientation": "v",
         "showlegend": true,
         "type": "scatter",
         "x": [
          131900
         ],
         "xaxis": "x",
         "y": [
          95195
         ],
         "yaxis": "y"
        },
        {
         "hovertemplate": "Name=Indian Oil<br>Employees=%{x}<br>Revenues ($M)=%{y}<extra></extra>",
         "legendgroup": "Indian Oil",
         "marker": {
          "color": "#19d3f3",
          "symbol": "circle"
         },
         "mode": "markers",
         "name": "Indian Oil",
         "orientation": "v",
         "showlegend": true,
         "type": "scatter",
         "x": [
          31942
         ],
         "xaxis": "x",
         "y": [
          94273
         ],
         "yaxis": "y"
        },
        {
         "hovertemplate": "Name=Archer Daniels Midland<br>Employees=%{x}<br>Revenues ($M)=%{y}<extra></extra>",
         "legendgroup": "Archer Daniels Midland",
         "marker": {
          "color": "#FF6692",
          "symbol": "circle"
         },
         "mode": "markers",
         "name": "Archer Daniels Midland",
         "orientation": "v",
         "showlegend": true,
         "type": "scatter",
         "x": [
          41008
         ],
         "xaxis": "x",
         "y": [
          93935
         ],
         "yaxis": "y"
        },
        {
         "hovertemplate": "Name=Crédit Agricole<br>Employees=%{x}<br>Revenues ($M)=%{y}<extra></extra>",
         "legendgroup": "Crédit Agricole",
         "marker": {
          "color": "#B6E880",
          "symbol": "circle"
         },
         "mode": "markers",
         "name": "Crédit Agricole",
         "orientation": "v",
         "showlegend": true,
         "type": "scatter",
         "x": [
          75125
         ],
         "xaxis": "x",
         "y": [
          93358.1
         ],
         "yaxis": "y"
        },
        {
         "hovertemplate": "Name=Christian Dior<br>Employees=%{x}<br>Revenues ($M)=%{y}<extra></extra>",
         "legendgroup": "Christian Dior",
         "marker": {
          "color": "#FF97FF",
          "symbol": "circle"
         },
         "mode": "markers",
         "name": "Christian Dior",
         "orientation": "v",
         "showlegend": true,
         "type": "scatter",
         "x": [
          197141
         ],
         "xaxis": "x",
         "y": [
          93136.5
         ],
         "yaxis": "y"
        },
        {
         "hovertemplate": "Name=Nippon Telegraph and Telephone<br>Employees=%{x}<br>Revenues ($M)=%{y}<extra></extra>",
         "legendgroup": "Nippon Telegraph and Telephone",
         "marker": {
          "color": "#FECB52",
          "symbol": "circle"
         },
         "mode": "markers",
         "name": "Nippon Telegraph and Telephone",
         "orientation": "v",
         "showlegend": true,
         "type": "scatter",
         "x": [
          338467
         ],
         "xaxis": "x",
         "y": [
          92539.7
         ],
         "yaxis": "y"
        },
        {
         "hovertemplate": "Name=Mitsui<br>Employees=%{x}<br>Revenues ($M)=%{y}<extra></extra>",
         "legendgroup": "Mitsui",
         "marker": {
          "color": "#636efa",
          "symbol": "circle"
         },
         "mode": "markers",
         "name": "Mitsui",
         "orientation": "v",
         "showlegend": true,
         "type": "scatter",
         "x": [
          53602
         ],
         "xaxis": "x",
         "y": [
          92196.4
         ],
         "yaxis": "y"
        },
        {
         "hovertemplate": "Name=Carrefour<br>Employees=%{x}<br>Revenues ($M)=%{y}<extra></extra>",
         "legendgroup": "Carrefour",
         "marker": {
          "color": "#EF553B",
          "symbol": "circle"
         },
         "mode": "markers",
         "name": "Carrefour",
         "orientation": "v",
         "showlegend": true,
         "type": "scatter",
         "x": [
          305333
         ],
         "xaxis": "x",
         "y": [
          91790.6
         ],
         "yaxis": "y"
        },
        {
         "hovertemplate": "Name=PepsiCo<br>Employees=%{x}<br>Revenues ($M)=%{y}<extra></extra>",
         "legendgroup": "PepsiCo",
         "marker": {
          "color": "#00cc96",
          "symbol": "circle"
         },
         "mode": "markers",
         "name": "PepsiCo",
         "orientation": "v",
         "showlegend": true,
         "type": "scatter",
         "x": [
          318000
         ],
         "xaxis": "x",
         "y": [
          91471
         ],
         "yaxis": "y"
        },
        {
         "hovertemplate": "Name=United Parcel Service<br>Employees=%{x}<br>Revenues ($M)=%{y}<extra></extra>",
         "legendgroup": "United Parcel Service",
         "marker": {
          "color": "#ab63fa",
          "symbol": "circle"
         },
         "mode": "markers",
         "name": "United Parcel Service",
         "orientation": "v",
         "showlegend": true,
         "type": "scatter",
         "x": [
          382550
         ],
         "xaxis": "x",
         "y": [
          90958
         ],
         "yaxis": "y"
        },
        {
         "hovertemplate": "Name=PTT<br>Employees=%{x}<br>Revenues ($M)=%{y}<extra></extra>",
         "legendgroup": "PTT",
         "marker": {
          "color": "#FFA15A",
          "symbol": "circle"
         },
         "mode": "markers",
         "name": "PTT",
         "orientation": "v",
         "showlegend": true,
         "type": "scatter",
         "x": [
          30772
         ],
         "xaxis": "x",
         "y": [
          90418.7
         ],
         "yaxis": "y"
        },
        {
         "hovertemplate": "Name=AXA<br>Employees=%{x}<br>Revenues ($M)=%{y}<extra></extra>",
         "legendgroup": "AXA",
         "marker": {
          "color": "#19d3f3",
          "symbol": "circle"
         },
         "mode": "markers",
         "name": "AXA",
         "orientation": "v",
         "showlegend": true,
         "type": "scatter",
         "x": [
          94705
         ],
         "xaxis": "x",
         "y": [
          90405.8
         ],
         "yaxis": "y"
        },
        {
         "hovertemplate": "Name=FedEx<br>Employees=%{x}<br>Revenues ($M)=%{y}<extra></extra>",
         "legendgroup": "FedEx",
         "marker": {
          "color": "#FF6692",
          "symbol": "circle"
         },
         "mode": "markers",
         "name": "FedEx",
         "orientation": "v",
         "showlegend": true,
         "type": "scatter",
         "x": [
          423228
         ],
         "xaxis": "x",
         "y": [
          90155
         ],
         "yaxis": "y"
        },
        {
         "hovertemplate": "Name=Sony<br>Employees=%{x}<br>Revenues ($M)=%{y}<extra></extra>",
         "legendgroup": "Sony",
         "marker": {
          "color": "#B6E880",
          "symbol": "circle"
         },
         "mode": "markers",
         "name": "Sony",
         "orientation": "v",
         "showlegend": true,
         "type": "scatter",
         "x": [
          113000
         ],
         "xaxis": "x",
         "y": [
          90091.8
         ],
         "yaxis": "y"
        },
        {
         "hovertemplate": "Name=China FAW Group<br>Employees=%{x}<br>Revenues ($M)=%{y}<extra></extra>",
         "legendgroup": "China FAW Group",
         "marker": {
          "color": "#FF97FF",
          "symbol": "circle"
         },
         "mode": "markers",
         "name": "China FAW Group",
         "orientation": "v",
         "showlegend": true,
         "type": "scatter",
         "x": [
          119658
         ],
         "xaxis": "x",
         "y": [
          89485
         ],
         "yaxis": "y"
        },
        {
         "hovertemplate": "Name=Engie<br>Employees=%{x}<br>Revenues ($M)=%{y}<extra></extra>",
         "legendgroup": "Engie",
         "marker": {
          "color": "#FECB52",
          "symbol": "circle"
         },
         "mode": "markers",
         "name": "Engie",
         "orientation": "v",
         "showlegend": true,
         "type": "scatter",
         "x": [
          97297
         ],
         "xaxis": "x",
         "y": [
          89257.7
         ],
         "yaxis": "y"
        },
        {
         "hovertemplate": "Name=Walt Disney<br>Employees=%{x}<br>Revenues ($M)=%{y}<extra></extra>",
         "legendgroup": "Walt Disney",
         "marker": {
          "color": "#636efa",
          "symbol": "circle"
         },
         "mode": "markers",
         "name": "Walt Disney",
         "orientation": "v",
         "showlegend": true,
         "type": "scatter",
         "x": [
          199125
         ],
         "xaxis": "x",
         "y": [
          88898
         ],
         "yaxis": "y"
        },
        {
         "hovertemplate": "Name=Orlen<br>Employees=%{x}<br>Revenues ($M)=%{y}<extra></extra>",
         "legendgroup": "Orlen",
         "marker": {
          "color": "#EF553B",
          "symbol": "circle"
         },
         "mode": "markers",
         "name": "Orlen",
         "orientation": "v",
         "showlegend": true,
         "type": "scatter",
         "x": [
          66554
         ],
         "xaxis": "x",
         "y": [
          88717.6
         ],
         "yaxis": "y"
        },
        {
         "hovertemplate": "Name=Dell Technologies<br>Employees=%{x}<br>Revenues ($M)=%{y}<extra></extra>",
         "legendgroup": "Dell Technologies",
         "marker": {
          "color": "#00cc96",
          "symbol": "circle"
         },
         "mode": "markers",
         "name": "Dell Technologies",
         "orientation": "v",
         "showlegend": true,
         "type": "scatter",
         "x": [
          120000
         ],
         "xaxis": "x",
         "y": [
          88425
         ],
         "yaxis": "y"
        },
        {
         "hovertemplate": "Name=DHL Group<br>Employees=%{x}<br>Revenues ($M)=%{y}<extra></extra>",
         "legendgroup": "DHL Group",
         "marker": {
          "color": "#ab63fa",
          "symbol": "circle"
         },
         "mode": "markers",
         "name": "DHL Group",
         "orientation": "v",
         "showlegend": true,
         "type": "scatter",
         "x": [
          551233
         ],
         "xaxis": "x",
         "y": [
          88385.3
         ],
         "yaxis": "y"
        },
        {
         "hovertemplate": "Name=China Telecommunications<br>Employees=%{x}<br>Revenues ($M)=%{y}<extra></extra>",
         "legendgroup": "China Telecommunications",
         "marker": {
          "color": "#FFA15A",
          "symbol": "circle"
         },
         "mode": "markers",
         "name": "China Telecommunications",
         "orientation": "v",
         "showlegend": true,
         "type": "scatter",
         "x": [
          391691
         ],
         "xaxis": "x",
         "y": [
          87961.5
         ],
         "yaxis": "y"
        },
        {
         "hovertemplate": "Name=Nissan Motor<br>Employees=%{x}<br>Revenues ($M)=%{y}<extra></extra>",
         "legendgroup": "Nissan Motor",
         "marker": {
          "color": "#19d3f3",
          "symbol": "circle"
         },
         "mode": "markers",
         "name": "Nissan Motor",
         "orientation": "v",
         "showlegend": true,
         "type": "scatter",
         "x": [
          141855
         ],
         "xaxis": "x",
         "y": [
          87773.5
         ],
         "yaxis": "y"
        },
        {
         "hovertemplate": "Name=Royal Bank of Canada<br>Employees=%{x}<br>Revenues ($M)=%{y}<extra></extra>",
         "legendgroup": "Royal Bank of Canada",
         "marker": {
          "color": "#FF6692",
          "symbol": "circle"
         },
         "mode": "markers",
         "name": "Royal Bank of Canada",
         "orientation": "v",
         "showlegend": true,
         "type": "scatter",
         "x": [
          91398
         ],
         "xaxis": "x",
         "y": [
          87498.7
         ],
         "yaxis": "y"
        },
        {
         "hovertemplate": "Name=Zhejiang Rongsheng Holding Group<br>Employees=%{x}<br>Revenues ($M)=%{y}<extra></extra>",
         "legendgroup": "Zhejiang Rongsheng Holding Group",
         "marker": {
          "color": "#B6E880",
          "symbol": "circle"
         },
         "mode": "markers",
         "name": "Zhejiang Rongsheng Holding Group",
         "orientation": "v",
         "showlegend": true,
         "type": "scatter",
         "x": [
          23373
         ],
         "xaxis": "x",
         "y": [
          86535.6
         ],
         "yaxis": "y"
        },
        {
         "hovertemplate": "Name=Lowe's<br>Employees=%{x}<br>Revenues ($M)=%{y}<extra></extra>",
         "legendgroup": "Lowe's",
         "marker": {
          "color": "#FF97FF",
          "symbol": "circle"
         },
         "mode": "markers",
         "name": "Lowe's",
         "orientation": "v",
         "showlegend": true,
         "type": "scatter",
         "x": [
          226000
         ],
         "xaxis": "x",
         "y": [
          86377
         ],
         "yaxis": "y"
        },
        {
         "hovertemplate": "Name=Tesco<br>Employees=%{x}<br>Revenues ($M)=%{y}<extra></extra>",
         "legendgroup": "Tesco",
         "marker": {
          "color": "#FECB52",
          "symbol": "circle"
         },
         "mode": "markers",
         "name": "Tesco",
         "orientation": "v",
         "showlegend": true,
         "type": "scatter",
         "x": [
          225659
         ],
         "xaxis": "x",
         "y": [
          86231.3
         ],
         "yaxis": "y"
        },
        {
         "hovertemplate": "Name=Tencent Holdings<br>Employees=%{x}<br>Revenues ($M)=%{y}<extra></extra>",
         "legendgroup": "Tencent Holdings",
         "marker": {
          "color": "#636efa",
          "symbol": "circle"
         },
         "mode": "markers",
         "name": "Tencent Holdings",
         "orientation": "v",
         "showlegend": true,
         "type": "scatter",
         "x": [
          105417
         ],
         "xaxis": "x",
         "y": [
          86028.3
         ],
         "yaxis": "y"
        },
        {
         "hovertemplate": "Name=Xiamen ITG Holding Group<br>Employees=%{x}<br>Revenues ($M)=%{y}<extra></extra>",
         "legendgroup": "Xiamen ITG Holding Group",
         "marker": {
          "color": "#EF553B",
          "symbol": "circle"
         },
         "mode": "markers",
         "name": "Xiamen ITG Holding Group",
         "orientation": "v",
         "showlegend": true,
         "type": "scatter",
         "x": [
          34289
         ],
         "xaxis": "x",
         "y": [
          85818.8
         ],
         "yaxis": "y"
        },
        {
         "hovertemplate": "Name=BYD<br>Employees=%{x}<br>Revenues ($M)=%{y}<extra></extra>",
         "legendgroup": "BYD",
         "marker": {
          "color": "#00cc96",
          "symbol": "circle"
         },
         "mode": "markers",
         "name": "BYD",
         "orientation": "v",
         "showlegend": true,
         "type": "scatter",
         "x": [
          703504
         ],
         "xaxis": "x",
         "y": [
          85082
         ],
         "yaxis": "y"
        },
        {
         "hovertemplate": "Name=Nippon Life Insurance<br>Employees=%{x}<br>Revenues ($M)=%{y}<extra></extra>",
         "legendgroup": "Nippon Life Insurance",
         "marker": {
          "color": "#ab63fa",
          "symbol": "circle"
         },
         "mode": "markers",
         "name": "Nippon Life Insurance",
         "orientation": "v",
         "showlegend": true,
         "type": "scatter",
         "x": [
          85740
         ],
         "xaxis": "x",
         "y": [
          83090
         ],
         "yaxis": "y"
        },
        {
         "hovertemplate": "Name=Siemens<br>Employees=%{x}<br>Revenues ($M)=%{y}<extra></extra>",
         "legendgroup": "Siemens",
         "marker": {
          "color": "#FFA15A",
          "symbol": "circle"
         },
         "mode": "markers",
         "name": "Siemens",
         "orientation": "v",
         "showlegend": true,
         "type": "scatter",
         "x": [
          320000
         ],
         "xaxis": "x",
         "y": [
          82931.9
         ],
         "yaxis": "y"
        },
        {
         "hovertemplate": "Name=Japan Post Holdings<br>Employees=%{x}<br>Revenues ($M)=%{y}<extra></extra>",
         "legendgroup": "Japan Post Holdings",
         "marker": {
          "color": "#19d3f3",
          "symbol": "circle"
         },
         "mode": "markers",
         "name": "Japan Post Holdings",
         "orientation": "v",
         "showlegend": true,
         "type": "scatter",
         "x": [
          221387
         ],
         "xaxis": "x",
         "y": [
          82905.5
         ],
         "yaxis": "y"
        },
        {
         "hovertemplate": "Name=Aviation Industry Corp. of China<br>Employees=%{x}<br>Revenues ($M)=%{y}<extra></extra>",
         "legendgroup": "Aviation Industry Corp. of China",
         "marker": {
          "color": "#FF6692",
          "symbol": "circle"
         },
         "mode": "markers",
         "name": "Aviation Industry Corp. of China",
         "orientation": "v",
         "showlegend": true,
         "type": "scatter",
         "x": [
          384000
         ],
         "xaxis": "x",
         "y": [
          82654.1
         ],
         "yaxis": "y"
        },
        {
         "hovertemplate": "Name=Mitsubishi UFJ Financial Group<br>Employees=%{x}<br>Revenues ($M)=%{y}<extra></extra>",
         "legendgroup": "Mitsubishi UFJ Financial Group",
         "marker": {
          "color": "#B6E880",
          "symbol": "circle"
         },
         "mode": "markers",
         "name": "Mitsubishi UFJ Financial Group",
         "orientation": "v",
         "showlegend": true,
         "type": "scatter",
         "x": [
          145412
         ],
         "xaxis": "x",
         "y": [
          82270.3
         ],
         "yaxis": "y"
        },
        {
         "hovertemplate": "Name=Procter & Gamble<br>Employees=%{x}<br>Revenues ($M)=%{y}<extra></extra>",
         "legendgroup": "Procter & Gamble",
         "marker": {
          "color": "#FF97FF",
          "symbol": "circle"
         },
         "mode": "markers",
         "name": "Procter & Gamble",
         "orientation": "v",
         "showlegend": true,
         "type": "scatter",
         "x": [
          107000
         ],
         "xaxis": "x",
         "y": [
          82006
         ],
         "yaxis": "y"
        },
        {
         "hovertemplate": "Name=Wuchan Zhongda Group<br>Employees=%{x}<br>Revenues ($M)=%{y}<extra></extra>",
         "legendgroup": "Wuchan Zhongda Group",
         "marker": {
          "color": "#FECB52",
          "symbol": "circle"
         },
         "mode": "markers",
         "name": "Wuchan Zhongda Group",
         "orientation": "v",
         "showlegend": true,
         "type": "scatter",
         "x": [
          26354
         ],
         "xaxis": "x",
         "y": [
          81952.4
         ],
         "yaxis": "y"
        },
        {
         "hovertemplate": "Name=Seven & I Holdings<br>Employees=%{x}<br>Revenues ($M)=%{y}<extra></extra>",
         "legendgroup": "Seven & I Holdings",
         "marker": {
          "color": "#636efa",
          "symbol": "circle"
         },
         "mode": "markers",
         "name": "Seven & I Holdings",
         "orientation": "v",
         "showlegend": true,
         "type": "scatter",
         "x": [
          117540
         ],
         "xaxis": "x",
         "y": [
          80124.6
         ],
         "yaxis": "y"
        },
        {
         "hovertemplate": "Name=Albertsons<br>Employees=%{x}<br>Revenues ($M)=%{y}<extra></extra>",
         "legendgroup": "Albertsons",
         "marker": {
          "color": "#EF553B",
          "symbol": "circle"
         },
         "mode": "markers",
         "name": "Albertsons",
         "orientation": "v",
         "showlegend": true,
         "type": "scatter",
         "x": [
          196650
         ],
         "xaxis": "x",
         "y": [
          79237.7
         ],
         "yaxis": "y"
        },
        {
         "hovertemplate": "Name=ENEOS Holdings<br>Employees=%{x}<br>Revenues ($M)=%{y}<extra></extra>",
         "legendgroup": "ENEOS Holdings",
         "marker": {
          "color": "#00cc96",
          "symbol": "circle"
         },
         "mode": "markers",
         "name": "ENEOS Holdings",
         "orientation": "v",
         "showlegend": true,
         "type": "scatter",
         "x": [
          50269
         ],
         "xaxis": "x",
         "y": [
          79020.5
         ],
         "yaxis": "y"
        },
        {
         "hovertemplate": "Name=Bank of Communications<br>Employees=%{x}<br>Revenues ($M)=%{y}<extra></extra>",
         "legendgroup": "Bank of Communications",
         "marker": {
          "color": "#ab63fa",
          "symbol": "circle"
         },
         "mode": "markers",
         "name": "Bank of Communications",
         "orientation": "v",
         "showlegend": true,
         "type": "scatter",
         "x": [
          94275
         ],
         "xaxis": "x",
         "y": [
          78757.1
         ],
         "yaxis": "y"
        },
        {
         "hovertemplate": "Name=Energy Transfer<br>Employees=%{x}<br>Revenues ($M)=%{y}<extra></extra>",
         "legendgroup": "Energy Transfer",
         "marker": {
          "color": "#FFA15A",
          "symbol": "circle"
         },
         "mode": "markers",
         "name": "Energy Transfer",
         "orientation": "v",
         "showlegend": true,
         "type": "scatter",
         "x": [
          13786
         ],
         "xaxis": "x",
         "y": [
          78586
         ],
         "yaxis": "y"
        },
        {
         "hovertemplate": "Name=U.S. Postal Service<br>Employees=%{x}<br>Revenues ($M)=%{y}<extra></extra>",
         "legendgroup": "U.S. Postal Service",
         "marker": {
          "color": "#19d3f3",
          "symbol": "circle"
         },
         "mode": "markers",
         "name": "U.S. Postal Service",
         "orientation": "v",
         "showlegend": true,
         "type": "scatter",
         "x": [
          582781
         ],
         "xaxis": "x",
         "y": [
          78383
         ],
         "yaxis": "y"
        },
        {
         "hovertemplate": "Name=Jiangxi Copper<br>Employees=%{x}<br>Revenues ($M)=%{y}<extra></extra>",
         "legendgroup": "Jiangxi Copper",
         "marker": {
          "color": "#FF6692",
          "symbol": "circle"
         },
         "mode": "markers",
         "name": "Jiangxi Copper",
         "orientation": "v",
         "showlegend": true,
         "type": "scatter",
         "x": [
          32746
         ],
         "xaxis": "x",
         "y": [
          78243.2
         ],
         "yaxis": "y"
        },
        {
         "hovertemplate": "Name=People's Insurance Co. of China<br>Employees=%{x}<br>Revenues ($M)=%{y}<extra></extra>",
         "legendgroup": "People's Insurance Co. of China",
         "marker": {
          "color": "#B6E880",
          "symbol": "circle"
         },
         "mode": "markers",
         "name": "People's Insurance Co. of China",
         "orientation": "v",
         "showlegend": true,
         "type": "scatter",
         "x": [
          175881
         ],
         "xaxis": "x",
         "y": [
          78181.7
         ],
         "yaxis": "y"
        },
        {
         "hovertemplate": "Name=Boeing<br>Employees=%{x}<br>Revenues ($M)=%{y}<extra></extra>",
         "legendgroup": "Boeing",
         "marker": {
          "color": "#FF97FF",
          "symbol": "circle"
         },
         "mode": "markers",
         "name": "Boeing",
         "orientation": "v",
         "showlegend": true,
         "type": "scatter",
         "x": [
          171000
         ],
         "xaxis": "x",
         "y": [
          77794
         ],
         "yaxis": "y"
        },
        {
         "hovertemplate": "Name=China North Industries Group<br>Employees=%{x}<br>Revenues ($M)=%{y}<extra></extra>",
         "legendgroup": "China North Industries Group",
         "marker": {
          "color": "#FECB52",
          "symbol": "circle"
         },
         "mode": "markers",
         "name": "China North Industries Group",
         "orientation": "v",
         "showlegend": true,
         "type": "scatter",
         "x": [
          216528
         ],
         "xaxis": "x",
         "y": [
          76506.9
         ],
         "yaxis": "y"
        },
        {
         "hovertemplate": "Name=Pacific Construction Group<br>Employees=%{x}<br>Revenues ($M)=%{y}<extra></extra>",
         "legendgroup": "Pacific Construction Group",
         "marker": {
          "color": "#636efa",
          "symbol": "circle"
         },
         "mode": "markers",
         "name": "Pacific Construction Group",
         "orientation": "v",
         "showlegend": true,
         "type": "scatter",
         "x": [
          293125
         ],
         "xaxis": "x",
         "y": [
          76433
         ],
         "yaxis": "y"
        },
        {
         "hovertemplate": "Name=Kia<br>Employees=%{x}<br>Revenues ($M)=%{y}<extra></extra>",
         "legendgroup": "Kia",
         "marker": {
          "color": "#EF553B",
          "symbol": "circle"
         },
         "mode": "markers",
         "name": "Kia",
         "orientation": "v",
         "showlegend": true,
         "type": "scatter",
         "x": [
          52871
         ],
         "xaxis": "x",
         "y": [
          76419.4
         ],
         "yaxis": "y"
        },
        {
         "hovertemplate": "Name=Sysco<br>Employees=%{x}<br>Revenues ($M)=%{y}<extra></extra>",
         "legendgroup": "Sysco",
         "marker": {
          "color": "#00cc96",
          "symbol": "circle"
         },
         "mode": "markers",
         "name": "Sysco",
         "orientation": "v",
         "showlegend": true,
         "type": "scatter",
         "x": [
          71750
         ],
         "xaxis": "x",
         "y": [
          76324.7
         ],
         "yaxis": "y"
        },
        {
         "hovertemplate": "Name=Dai-ichi Life Holdings<br>Employees=%{x}<br>Revenues ($M)=%{y}<extra></extra>",
         "legendgroup": "Dai-ichi Life Holdings",
         "marker": {
          "color": "#ab63fa",
          "symbol": "circle"
         },
         "mode": "markers",
         "name": "Dai-ichi Life Holdings",
         "orientation": "v",
         "showlegend": true,
         "type": "scatter",
         "x": [
          59495
         ],
         "xaxis": "x",
         "y": [
          76304.8
         ],
         "yaxis": "y"
        },
        {
         "hovertemplate": "Name=Pertamina<br>Employees=%{x}<br>Revenues ($M)=%{y}<extra></extra>",
         "legendgroup": "Pertamina",
         "marker": {
          "color": "#FFA15A",
          "symbol": "circle"
         },
         "mode": "markers",
         "name": "Pertamina",
         "orientation": "v",
         "showlegend": true,
         "type": "scatter",
         "x": [
          40415
         ],
         "xaxis": "x",
         "y": [
          75787.8
         ],
         "yaxis": "y"
        },
        {
         "hovertemplate": "Name=Vinci<br>Employees=%{x}<br>Revenues ($M)=%{y}<extra></extra>",
         "legendgroup": "Vinci",
         "marker": {
          "color": "#19d3f3",
          "symbol": "circle"
         },
         "mode": "markers",
         "name": "Vinci",
         "orientation": "v",
         "showlegend": true,
         "type": "scatter",
         "x": [
          279426
         ],
         "xaxis": "x",
         "y": [
          75550.9
         ],
         "yaxis": "y"
        },
        {
         "hovertemplate": "Name=Petronas<br>Employees=%{x}<br>Revenues ($M)=%{y}<extra></extra>",
         "legendgroup": "Petronas",
         "marker": {
          "color": "#FF6692",
          "symbol": "circle"
         },
         "mode": "markers",
         "name": "Petronas",
         "orientation": "v",
         "showlegend": true,
         "type": "scatter",
         "x": [
          54105
         ],
         "xaxis": "x",
         "y": [
          75409.6
         ],
         "yaxis": "y"
        },
        {
         "hovertemplate": "Name=Toronto-Dominion Bank<br>Employees=%{x}<br>Revenues ($M)=%{y}<extra></extra>",
         "legendgroup": "Toronto-Dominion Bank",
         "marker": {
          "color": "#B6E880",
          "symbol": "circle"
         },
         "mode": "markers",
         "name": "Toronto-Dominion Bank",
         "orientation": "v",
         "showlegend": true,
         "type": "scatter",
         "x": [
          103257
         ],
         "xaxis": "x",
         "y": [
          75063.3
         ],
         "yaxis": "y"
        },
        {
         "hovertemplate": "Name=Lukoil<br>Employees=%{x}<br>Revenues ($M)=%{y}<extra></extra>",
         "legendgroup": "Lukoil",
         "marker": {
          "color": "#FF97FF",
          "symbol": "circle"
         },
         "mode": "markers",
         "name": "Lukoil",
         "orientation": "v",
         "showlegend": true,
         "type": "scatter",
         "x": [
          107596
         ],
         "xaxis": "x",
         "y": [
          75012.8
         ],
         "yaxis": "y"
        },
        {
         "hovertemplate": "Name=Shaanxi Coal & Chemical Industry<br>Employees=%{x}<br>Revenues ($M)=%{y}<extra></extra>",
         "legendgroup": "Shaanxi Coal & Chemical Industry",
         "marker": {
          "color": "#FECB52",
          "symbol": "circle"
         },
         "mode": "markers",
         "name": "Shaanxi Coal & Chemical Industry",
         "orientation": "v",
         "showlegend": true,
         "type": "scatter",
         "x": [
          140142
         ],
         "xaxis": "x",
         "y": [
          74776.7
         ],
         "yaxis": "y"
        },
        {
         "hovertemplate": "Name=Shenghong Holding Group<br>Employees=%{x}<br>Revenues ($M)=%{y}<extra></extra>",
         "legendgroup": "Shenghong Holding Group",
         "marker": {
          "color": "#636efa",
          "symbol": "circle"
         },
         "mode": "markers",
         "name": "Shenghong Holding Group",
         "orientation": "v",
         "showlegend": true,
         "type": "scatter",
         "x": [
          56863
         ],
         "xaxis": "x",
         "y": [
          74700.8
         ],
         "yaxis": "y"
        },
        {
         "hovertemplate": "Name=BASF<br>Employees=%{x}<br>Revenues ($M)=%{y}<extra></extra>",
         "legendgroup": "BASF",
         "marker": {
          "color": "#EF553B",
          "symbol": "circle"
         },
         "mode": "markers",
         "name": "BASF",
         "orientation": "v",
         "showlegend": true,
         "type": "scatter",
         "x": [
          111991
         ],
         "xaxis": "x",
         "y": [
          74487.2
         ],
         "yaxis": "y"
        },
        {
         "hovertemplate": "Name=China Poly Group<br>Employees=%{x}<br>Revenues ($M)=%{y}<extra></extra>",
         "legendgroup": "China Poly Group",
         "marker": {
          "color": "#00cc96",
          "symbol": "circle"
         },
         "mode": "markers",
         "name": "China Poly Group",
         "orientation": "v",
         "showlegend": true,
         "type": "scatter",
         "x": [
          102834
         ],
         "xaxis": "x",
         "y": [
          73998.5
         ],
         "yaxis": "y"
        },
        {
         "hovertemplate": "Name=Groupe BPCE<br>Employees=%{x}<br>Revenues ($M)=%{y}<extra></extra>",
         "legendgroup": "Groupe BPCE",
         "marker": {
          "color": "#ab63fa",
          "symbol": "circle"
         },
         "mode": "markers",
         "name": "Groupe BPCE",
         "orientation": "v",
         "showlegend": true,
         "type": "scatter",
         "x": [
          97835
         ],
         "xaxis": "x",
         "y": [
          73774.7
         ],
         "yaxis": "y"
        },
        {
         "hovertemplate": "Name=Shandong Weiqiao Pioneering Group<br>Employees=%{x}<br>Revenues ($M)=%{y}<extra></extra>",
         "legendgroup": "Shandong Weiqiao Pioneering Group",
         "marker": {
          "color": "#FFA15A",
          "symbol": "circle"
         },
         "mode": "markers",
         "name": "Shandong Weiqiao Pioneering Group",
         "orientation": "v",
         "showlegend": true,
         "type": "scatter",
         "x": [
          97281
         ],
         "xaxis": "x",
         "y": [
          73484.5
         ],
         "yaxis": "y"
        },
        {
         "hovertemplate": "Name=JBS<br>Employees=%{x}<br>Revenues ($M)=%{y}<extra></extra>",
         "legendgroup": "JBS",
         "marker": {
          "color": "#19d3f3",
          "symbol": "circle"
         },
         "mode": "markers",
         "name": "JBS",
         "orientation": "v",
         "showlegend": true,
         "type": "scatter",
         "x": [
          272565
         ],
         "xaxis": "x",
         "y": [
          72863.2
         ],
         "yaxis": "y"
        },
        {
         "hovertemplate": "Name=Alimentation Couche-Tard<br>Employees=%{x}<br>Revenues ($M)=%{y}<extra></extra>",
         "legendgroup": "Alimentation Couche-Tard",
         "marker": {
          "color": "#FF6692",
          "symbol": "circle"
         },
         "mode": "markers",
         "name": "Alimentation Couche-Tard",
         "orientation": "v",
         "showlegend": true,
         "type": "scatter",
         "x": [
          128000
         ],
         "xaxis": "x",
         "y": [
          71856.7
         ],
         "yaxis": "y"
        },
        {
         "hovertemplate": "Name=State Bank of India<br>Employees=%{x}<br>Revenues ($M)=%{y}<extra></extra>",
         "legendgroup": "State Bank of India",
         "marker": {
          "color": "#B6E880",
          "symbol": "circle"
         },
         "mode": "markers",
         "name": "State Bank of India",
         "orientation": "v",
         "showlegend": true,
         "type": "scatter",
         "x": [
          232296
         ],
         "xaxis": "x",
         "y": [
          71844
         ],
         "yaxis": "y"
        },
        {
         "hovertemplate": "Name=China Merchants Bank<br>Employees=%{x}<br>Revenues ($M)=%{y}<extra></extra>",
         "legendgroup": "China Merchants Bank",
         "marker": {
          "color": "#FF97FF",
          "symbol": "circle"
         },
         "mode": "markers",
         "name": "China Merchants Bank",
         "orientation": "v",
         "showlegend": true,
         "type": "scatter",
         "x": [
          116529
         ],
         "xaxis": "x",
         "y": [
          71514.6
         ],
         "yaxis": "y"
        },
        {
         "hovertemplate": "Name=Oil & Natural Gas<br>Employees=%{x}<br>Revenues ($M)=%{y}<extra></extra>",
         "legendgroup": "Oil & Natural Gas",
         "marker": {
          "color": "#FECB52",
          "symbol": "circle"
         },
         "mode": "markers",
         "name": "Oil & Natural Gas",
         "orientation": "v",
         "showlegend": true,
         "type": "scatter",
         "x": [
          36549
         ],
         "xaxis": "x",
         "y": [
          71466.1
         ],
         "yaxis": "y"
        },
        {
         "hovertemplate": "Name=Guangzhou Automobile Industry Group<br>Employees=%{x}<br>Revenues ($M)=%{y}<extra></extra>",
         "legendgroup": "Guangzhou Automobile Industry Group",
         "marker": {
          "color": "#636efa",
          "symbol": "circle"
         },
         "mode": "markers",
         "name": "Guangzhou Automobile Industry Group",
         "orientation": "v",
         "showlegend": true,
         "type": "scatter",
         "x": [
          110847
         ],
         "xaxis": "x",
         "y": [
          71386.1
         ],
         "yaxis": "y"
        },
        {
         "hovertemplate": "Name=UBS Group<br>Employees=%{x}<br>Revenues ($M)=%{y}<extra></extra>",
         "legendgroup": "UBS Group",
         "marker": {
          "color": "#EF553B",
          "symbol": "circle"
         },
         "mode": "markers",
         "name": "UBS Group",
         "orientation": "v",
         "showlegend": true,
         "type": "scatter",
         "x": [
          112842
         ],
         "xaxis": "x",
         "y": [
          71245
         ],
         "yaxis": "y"
        },
        {
         "hovertemplate": "Name=Airbus<br>Employees=%{x}<br>Revenues ($M)=%{y}<extra></extra>",
         "legendgroup": "Airbus",
         "marker": {
          "color": "#00cc96",
          "symbol": "circle"
         },
         "mode": "markers",
         "name": "Airbus",
         "orientation": "v",
         "showlegend": true,
         "type": "scatter",
         "x": [
          147893
         ],
         "xaxis": "x",
         "y": [
          70751
         ],
         "yaxis": "y"
        },
        {
         "hovertemplate": "Name=Toyota Tsusho<br>Employees=%{x}<br>Revenues ($M)=%{y}<extra></extra>",
         "legendgroup": "Toyota Tsusho",
         "marker": {
          "color": "#ab63fa",
          "symbol": "circle"
         },
         "mode": "markers",
         "name": "Toyota Tsusho",
         "orientation": "v",
         "showlegend": true,
         "type": "scatter",
         "x": [
          69517
         ],
         "xaxis": "x",
         "y": [
          70498.4
         ],
         "yaxis": "y"
        },
        {
         "hovertemplate": "Name=Zhejiang Geely Holding Group<br>Employees=%{x}<br>Revenues ($M)=%{y}<extra></extra>",
         "legendgroup": "Zhejiang Geely Holding Group",
         "marker": {
          "color": "#FFA15A",
          "symbol": "circle"
         },
         "mode": "markers",
         "name": "Zhejiang Geely Holding Group",
         "orientation": "v",
         "showlegend": true,
         "type": "scatter",
         "x": [
          143994
         ],
         "xaxis": "x",
         "y": [
          70356.8
         ],
         "yaxis": "y"
        },
        {
         "hovertemplate": "Name=Taiwan Semiconductor Manufacturing<br>Employees=%{x}<br>Revenues ($M)=%{y}<extra></extra>",
         "legendgroup": "Taiwan Semiconductor Manufacturing",
         "marker": {
          "color": "#19d3f3",
          "symbol": "circle"
         },
         "mode": "markers",
         "name": "Taiwan Semiconductor Manufacturing",
         "orientation": "v",
         "showlegend": true,
         "type": "scatter",
         "x": [
          76478
         ],
         "xaxis": "x",
         "y": [
          69415.8
         ],
         "yaxis": "y"
        },
        {
         "hovertemplate": "Name=XMXYG<br>Employees=%{x}<br>Revenues ($M)=%{y}<extra></extra>",
         "legendgroup": "XMXYG",
         "marker": {
          "color": "#FF6692",
          "symbol": "circle"
         },
         "mode": "markers",
         "name": "XMXYG",
         "orientation": "v",
         "showlegend": true,
         "type": "scatter",
         "x": [
          33214
         ],
         "xaxis": "x",
         "y": [
          69286.9
         ],
         "yaxis": "y"
        },
        {
         "hovertemplate": "Name=RTX<br>Employees=%{x}<br>Revenues ($M)=%{y}<extra></extra>",
         "legendgroup": "RTX",
         "marker": {
          "color": "#B6E880",
          "symbol": "circle"
         },
         "mode": "markers",
         "name": "RTX",
         "orientation": "v",
         "showlegend": true,
         "type": "scatter",
         "x": [
          185000
         ],
         "xaxis": "x",
         "y": [
          68920
         ],
         "yaxis": "y"
        },
        {
         "hovertemplate": "Name=Itau Unibanco Holding<br>Employees=%{x}<br>Revenues ($M)=%{y}<extra></extra>",
         "legendgroup": "Itau Unibanco Holding",
         "marker": {
          "color": "#FF97FF",
          "symbol": "circle"
         },
         "mode": "markers",
         "name": "Itau Unibanco Holding",
         "orientation": "v",
         "showlegend": true,
         "type": "scatter",
         "x": [
          95702
         ],
         "xaxis": "x",
         "y": [
          68455
         ],
         "yaxis": "y"
        },
        {
         "hovertemplate": "Name=ArcelorMittal<br>Employees=%{x}<br>Revenues ($M)=%{y}<extra></extra>",
         "legendgroup": "ArcelorMittal",
         "marker": {
          "color": "#FECB52",
          "symbol": "circle"
         },
         "mode": "markers",
         "name": "ArcelorMittal",
         "orientation": "v",
         "showlegend": true,
         "type": "scatter",
         "x": [
          126756
         ],
         "xaxis": "x",
         "y": [
          68275
         ],
         "yaxis": "y"
        },
        {
         "hovertemplate": "Name=General Electric<br>Employees=%{x}<br>Revenues ($M)=%{y}<extra></extra>",
         "legendgroup": "General Electric",
         "marker": {
          "color": "#636efa",
          "symbol": "circle"
         },
         "mode": "markers",
         "name": "General Electric",
         "orientation": "v",
         "showlegend": true,
         "type": "scatter",
         "x": [
          125000
         ],
         "xaxis": "x",
         "y": [
          67954
         ],
         "yaxis": "y"
        },
        {
         "hovertemplate": "Name=Beijing Automotive Group<br>Employees=%{x}<br>Revenues ($M)=%{y}<extra></extra>",
         "legendgroup": "Beijing Automotive Group",
         "marker": {
          "color": "#EF553B",
          "symbol": "circle"
         },
         "mode": "markers",
         "name": "Beijing Automotive Group",
         "orientation": "v",
         "showlegend": true,
         "type": "scatter",
         "x": [
          90000
         ],
         "xaxis": "x",
         "y": [
          67852.2
         ],
         "yaxis": "y"
        },
        {
         "hovertemplate": "Name=Lockheed Martin<br>Employees=%{x}<br>Revenues ($M)=%{y}<extra></extra>",
         "legendgroup": "Lockheed Martin",
         "marker": {
          "color": "#00cc96",
          "symbol": "circle"
         },
         "mode": "markers",
         "name": "Lockheed Martin",
         "orientation": "v",
         "showlegend": true,
         "type": "scatter",
         "x": [
          122000
         ],
         "xaxis": "x",
         "y": [
          67571
         ],
         "yaxis": "y"
        },
        {
         "hovertemplate": "Name=Koç Holding<br>Employees=%{x}<br>Revenues ($M)=%{y}<extra></extra>",
         "legendgroup": "Koç Holding",
         "marker": {
          "color": "#ab63fa",
          "symbol": "circle"
         },
         "mode": "markers",
         "name": "Koç Holding",
         "orientation": "v",
         "showlegend": true,
         "type": "scatter",
         "x": [
          119306
         ],
         "xaxis": "x",
         "y": [
          67482.7
         ],
         "yaxis": "y"
        },
        {
         "hovertemplate": "Name=American Express<br>Employees=%{x}<br>Revenues ($M)=%{y}<extra></extra>",
         "legendgroup": "American Express",
         "marker": {
          "color": "#FFA15A",
          "symbol": "circle"
         },
         "mode": "markers",
         "name": "American Express",
         "orientation": "v",
         "showlegend": true,
         "type": "scatter",
         "x": [
          74600
         ],
         "xaxis": "x",
         "y": [
          67364
         ],
         "yaxis": "y"
        },
        {
         "hovertemplate": "Name=Hitachi<br>Employees=%{x}<br>Revenues ($M)=%{y}<extra></extra>",
         "legendgroup": "Hitachi",
         "marker": {
          "color": "#19d3f3",
          "symbol": "circle"
         },
         "mode": "markers",
         "name": "Hitachi",
         "orientation": "v",
         "showlegend": true,
         "type": "scatter",
         "x": [
          268655
         ],
         "xaxis": "x",
         "y": [
          67313.8
         ],
         "yaxis": "y"
        },
        {
         "hovertemplate": "Name=Roche Group<br>Employees=%{x}<br>Revenues ($M)=%{y}<extra></extra>",
         "legendgroup": "Roche Group",
         "marker": {
          "color": "#FF6692",
          "symbol": "circle"
         },
         "mode": "markers",
         "name": "Roche Group",
         "orientation": "v",
         "showlegend": true,
         "type": "scatter",
         "x": [
          103605
         ],
         "xaxis": "x",
         "y": [
          67269.8
         ],
         "yaxis": "y"
        },
        {
         "hovertemplate": "Name=Wilmar International<br>Employees=%{x}<br>Revenues ($M)=%{y}<extra></extra>",
         "legendgroup": "Wilmar International",
         "marker": {
          "color": "#B6E880",
          "symbol": "circle"
         },
         "mode": "markers",
         "name": "Wilmar International",
         "orientation": "v",
         "showlegend": true,
         "type": "scatter",
         "x": [
          114123
         ],
         "xaxis": "x",
         "y": [
          67155.3
         ],
         "yaxis": "y"
        },
        {
         "hovertemplate": "Name=Caterpillar<br>Employees=%{x}<br>Revenues ($M)=%{y}<extra></extra>",
         "legendgroup": "Caterpillar",
         "marker": {
          "color": "#FF97FF",
          "symbol": "circle"
         },
         "mode": "markers",
         "name": "Caterpillar",
         "orientation": "v",
         "showlegend": true,
         "type": "scatter",
         "x": [
          113200
         ],
         "xaxis": "x",
         "y": [
          67060
         ],
         "yaxis": "y"
        },
        {
         "hovertemplate": "Name=Banco Bilbao Vizcaya Argentaria<br>Employees=%{x}<br>Revenues ($M)=%{y}<extra></extra>",
         "legendgroup": "Banco Bilbao Vizcaya Argentaria",
         "marker": {
          "color": "#FECB52",
          "symbol": "circle"
         },
         "mode": "markers",
         "name": "Banco Bilbao Vizcaya Argentaria",
         "orientation": "v",
         "showlegend": true,
         "type": "scatter",
         "x": [
          121486
         ],
         "xaxis": "x",
         "y": [
          66978.1
         ],
         "yaxis": "y"
        },
        {
         "hovertemplate": "Name=Korea Electric Power<br>Employees=%{x}<br>Revenues ($M)=%{y}<extra></extra>",
         "legendgroup": "Korea Electric Power",
         "marker": {
          "color": "#636efa",
          "symbol": "circle"
         },
         "mode": "markers",
         "name": "Korea Electric Power",
         "orientation": "v",
         "showlegend": true,
         "type": "scatter",
         "x": [
          48696
         ],
         "xaxis": "x",
         "y": [
          66977.2
         ],
         "yaxis": "y"
        },
        {
         "hovertemplate": "Name=MetLife<br>Employees=%{x}<br>Revenues ($M)=%{y}<extra></extra>",
         "legendgroup": "MetLife",
         "marker": {
          "color": "#EF553B",
          "symbol": "circle"
         },
         "mode": "markers",
         "name": "MetLife",
         "orientation": "v",
         "showlegend": true,
         "type": "scatter",
         "x": [
          45000
         ],
         "xaxis": "x",
         "y": [
          66905
         ],
         "yaxis": "y"
        },
        {
         "hovertemplate": "Name=AEON<br>Employees=%{x}<br>Revenues ($M)=%{y}<extra></extra>",
         "legendgroup": "AEON",
         "marker": {
          "color": "#00cc96",
          "symbol": "circle"
         },
         "mode": "markers",
         "name": "AEON",
         "orientation": "v",
         "showlegend": true,
         "type": "scatter",
         "x": [
          381084
         ],
         "xaxis": "x",
         "y": [
          66727
         ],
         "yaxis": "y"
        },
        {
         "hovertemplate": "Name=Lloyds Banking Group<br>Employees=%{x}<br>Revenues ($M)=%{y}<extra></extra>",
         "legendgroup": "Lloyds Banking Group",
         "marker": {
          "color": "#ab63fa",
          "symbol": "circle"
         },
         "mode": "markers",
         "name": "Lloyds Banking Group",
         "orientation": "v",
         "showlegend": true,
         "type": "scatter",
         "x": [
          62569
         ],
         "xaxis": "x",
         "y": [
          66697.6
         ],
         "yaxis": "y"
        },
        {
         "hovertemplate": "Name=Deutsche Bank<br>Employees=%{x}<br>Revenues ($M)=%{y}<extra></extra>",
         "legendgroup": "Deutsche Bank",
         "marker": {
          "color": "#FFA15A",
          "symbol": "circle"
         },
         "mode": "markers",
         "name": "Deutsche Bank",
         "orientation": "v",
         "showlegend": true,
         "type": "scatter",
         "x": [
          90130
         ],
         "xaxis": "x",
         "y": [
          65978.1
         ],
         "yaxis": "y"
        },
        {
         "hovertemplate": "Name=China Vanke<br>Employees=%{x}<br>Revenues ($M)=%{y}<extra></extra>",
         "legendgroup": "China Vanke",
         "marker": {
          "color": "#19d3f3",
          "symbol": "circle"
         },
         "mode": "markers",
         "name": "China Vanke",
         "orientation": "v",
         "showlegend": true,
         "type": "scatter",
         "x": [
          131097
         ],
         "xaxis": "x",
         "y": [
          65789.5
         ],
         "yaxis": "y"
        },
        {
         "hovertemplate": "Name=HCA Healthcare<br>Employees=%{x}<br>Revenues ($M)=%{y}<extra></extra>",
         "legendgroup": "HCA Healthcare",
         "marker": {
          "color": "#FF6692",
          "symbol": "circle"
         },
         "mode": "markers",
         "name": "HCA Healthcare",
         "orientation": "v",
         "showlegend": true,
         "type": "scatter",
         "x": [
          265000
         ],
         "xaxis": "x",
         "y": [
          64968
         ],
         "yaxis": "y"
        },
        {
         "hovertemplate": "Name=Sumitomo Mitsui Financial Group<br>Employees=%{x}<br>Revenues ($M)=%{y}<extra></extra>",
         "legendgroup": "Sumitomo Mitsui Financial Group",
         "marker": {
          "color": "#B6E880",
          "symbol": "circle"
         },
         "mode": "markers",
         "name": "Sumitomo Mitsui Financial Group",
         "orientation": "v",
         "showlegend": true,
         "type": "scatter",
         "x": [
          120373
         ],
         "xaxis": "x",
         "y": [
          64718.3
         ],
         "yaxis": "y"
        },
        {
         "hovertemplate": "Name=LG Electronics<br>Employees=%{x}<br>Revenues ($M)=%{y}<extra></extra>",
         "legendgroup": "LG Electronics",
         "marker": {
          "color": "#FF97FF",
          "symbol": "circle"
         },
         "mode": "markers",
         "name": "LG Electronics",
         "orientation": "v",
         "showlegend": true,
         "type": "scatter",
         "x": [
          74000
         ],
         "xaxis": "x",
         "y": [
          64490.5
         ],
         "yaxis": "y"
        },
        {
         "hovertemplate": "Name=Unilever<br>Employees=%{x}<br>Revenues ($M)=%{y}<extra></extra>",
         "legendgroup": "Unilever",
         "marker": {
          "color": "#FECB52",
          "symbol": "circle"
         },
         "mode": "markers",
         "name": "Unilever",
         "orientation": "v",
         "showlegend": true,
         "type": "scatter",
         "x": [
          128377
         ],
         "xaxis": "x",
         "y": [
          64435.5
         ],
         "yaxis": "y"
        },
        {
         "hovertemplate": "Name=Accenture<br>Employees=%{x}<br>Revenues ($M)=%{y}<extra></extra>",
         "legendgroup": "Accenture",
         "marker": {
          "color": "#636efa",
          "symbol": "circle"
         },
         "mode": "markers",
         "name": "Accenture",
         "orientation": "v",
         "showlegend": true,
         "type": "scatter",
         "x": [
          732819
         ],
         "xaxis": "x",
         "y": [
          64111.8
         ],
         "yaxis": "y"
        },
        {
         "hovertemplate": "Name=Barclays<br>Employees=%{x}<br>Revenues ($M)=%{y}<extra></extra>",
         "legendgroup": "Barclays",
         "marker": {
          "color": "#EF553B",
          "symbol": "circle"
         },
         "mode": "markers",
         "name": "Barclays",
         "orientation": "v",
         "showlegend": true,
         "type": "scatter",
         "x": [
          92400
         ],
         "xaxis": "x",
         "y": [
          63800.6
         ],
         "yaxis": "y"
        },
        {
         "hovertemplate": "Name=Jinneng Holding Group<br>Employees=%{x}<br>Revenues ($M)=%{y}<extra></extra>",
         "legendgroup": "Jinneng Holding Group",
         "marker": {
          "color": "#00cc96",
          "symbol": "circle"
         },
         "mode": "markers",
         "name": "Jinneng Holding Group",
         "orientation": "v",
         "showlegend": true,
         "type": "scatter",
         "x": [
          439051
         ],
         "xaxis": "x",
         "y": [
          63639.8
         ],
         "yaxis": "y"
        },
        {
         "hovertemplate": "Name=Aluminum Corp. of China<br>Employees=%{x}<br>Revenues ($M)=%{y}<extra></extra>",
         "legendgroup": "Aluminum Corp. of China",
         "marker": {
          "color": "#ab63fa",
          "symbol": "circle"
         },
         "mode": "markers",
         "name": "Aluminum Corp. of China",
         "orientation": "v",
         "showlegend": true,
         "type": "scatter",
         "x": [
          124995
         ],
         "xaxis": "x",
         "y": [
          63595.4
         ],
         "yaxis": "y"
        },
        {
         "hovertemplate": "Name=Munich Re Group<br>Employees=%{x}<br>Revenues ($M)=%{y}<extra></extra>",
         "legendgroup": "Munich Re Group",
         "marker": {
          "color": "#FFA15A",
          "symbol": "circle"
         },
         "mode": "markers",
         "name": "Munich Re Group",
         "orientation": "v",
         "showlegend": true,
         "type": "scatter",
         "x": [
          42812
         ],
         "xaxis": "x",
         "y": [
          63353.3
         ],
         "yaxis": "y"
        },
        {
         "hovertemplate": "Name=Sberbank<br>Employees=%{x}<br>Revenues ($M)=%{y}<extra></extra>",
         "legendgroup": "Sberbank",
         "marker": {
          "color": "#19d3f3",
          "symbol": "circle"
         },
         "mode": "markers",
         "name": "Sberbank",
         "orientation": "v",
         "showlegend": true,
         "type": "scatter",
         "x": [
          210753
         ],
         "xaxis": "x",
         "y": [
          63329.9
         ],
         "yaxis": "y"
        },
        {
         "hovertemplate": "Name=Banco do Brasil<br>Employees=%{x}<br>Revenues ($M)=%{y}<extra></extra>",
         "legendgroup": "Banco do Brasil",
         "marker": {
          "color": "#FF6692",
          "symbol": "circle"
         },
         "mode": "markers",
         "name": "Banco do Brasil",
         "orientation": "v",
         "showlegend": true,
         "type": "scatter",
         "x": [
          86220
         ],
         "xaxis": "x",
         "y": [
          63322.2
         ],
         "yaxis": "y"
        },
        {
         "hovertemplate": "Name=The Progressive Corporation<br>Employees=%{x}<br>Revenues ($M)=%{y}<extra></extra>",
         "legendgroup": "The Progressive Corporation",
         "marker": {
          "color": "#B6E880",
          "symbol": "circle"
         },
         "mode": "markers",
         "name": "The Progressive Corporation",
         "orientation": "v",
         "showlegend": true,
         "type": "scatter",
         "x": [
          61432
         ],
         "xaxis": "x",
         "y": [
          62108.5
         ],
         "yaxis": "y"
        },
        {
         "hovertemplate": "Name=IBM<br>Employees=%{x}<br>Revenues ($M)=%{y}<extra></extra>",
         "legendgroup": "IBM",
         "marker": {
          "color": "#FF97FF",
          "symbol": "circle"
         },
         "mode": "markers",
         "name": "IBM",
         "orientation": "v",
         "showlegend": true,
         "type": "scatter",
         "x": [
          296600
         ],
         "xaxis": "x",
         "y": [
          61860
         ],
         "yaxis": "y"
        },
        {
         "hovertemplate": "Name=Nippon Steel Corporation<br>Employees=%{x}<br>Revenues ($M)=%{y}<extra></extra>",
         "legendgroup": "Nippon Steel Corporation",
         "marker": {
          "color": "#FECB52",
          "symbol": "circle"
         },
         "mode": "markers",
         "name": "Nippon Steel Corporation",
         "orientation": "v",
         "showlegend": true,
         "type": "scatter",
         "x": [
          121236
         ],
         "xaxis": "x",
         "y": [
          61359.1
         ],
         "yaxis": "y"
        },
        {
         "hovertemplate": "Name=Deere<br>Employees=%{x}<br>Revenues ($M)=%{y}<extra></extra>",
         "legendgroup": "Deere",
         "marker": {
          "color": "#636efa",
          "symbol": "circle"
         },
         "mode": "markers",
         "name": "Deere",
         "orientation": "v",
         "showlegend": true,
         "type": "scatter",
         "x": [
          82956
         ],
         "xaxis": "x",
         "y": [
          61251
         ],
         "yaxis": "y"
        },
        {
         "hovertemplate": "Name=Nvidia<br>Employees=%{x}<br>Revenues ($M)=%{y}<extra></extra>",
         "legendgroup": "Nvidia",
         "marker": {
          "color": "#EF553B",
          "symbol": "circle"
         },
         "mode": "markers",
         "name": "Nvidia",
         "orientation": "v",
         "showlegend": true,
         "type": "scatter",
         "x": [
          29600
         ],
         "xaxis": "x",
         "y": [
          60922
         ],
         "yaxis": "y"
        },
        {
         "hovertemplate": "Name=StoneX Group<br>Employees=%{x}<br>Revenues ($M)=%{y}<extra></extra>",
         "legendgroup": "StoneX Group",
         "marker": {
          "color": "#00cc96",
          "symbol": "circle"
         },
         "mode": "markers",
         "name": "StoneX Group",
         "orientation": "v",
         "showlegend": true,
         "type": "scatter",
         "x": [
          4137
         ],
         "xaxis": "x",
         "y": [
          60856.1
         ],
         "yaxis": "y"
        },
        {
         "hovertemplate": "Name=Zurich Insurance Group<br>Employees=%{x}<br>Revenues ($M)=%{y}<extra></extra>",
         "legendgroup": "Zurich Insurance Group",
         "marker": {
          "color": "#ab63fa",
          "symbol": "circle"
         },
         "mode": "markers",
         "name": "Zurich Insurance Group",
         "orientation": "v",
         "showlegend": true,
         "type": "scatter",
         "x": [
          59593
         ],
         "xaxis": "x",
         "y": [
          60645
         ],
         "yaxis": "y"
        },
        {
         "hovertemplate": "Name=Bouygues<br>Employees=%{x}<br>Revenues ($M)=%{y}<extra></extra>",
         "legendgroup": "Bouygues",
         "marker": {
          "color": "#FFA15A",
          "symbol": "circle"
         },
         "mode": "markers",
         "name": "Bouygues",
         "orientation": "v",
         "showlegend": true,
         "type": "scatter",
         "x": [
          201498
         ],
         "xaxis": "x",
         "y": [
          60599.9
         ],
         "yaxis": "y"
        },
        {
         "hovertemplate": "Name=Mizuho Financial Group<br>Employees=%{x}<br>Revenues ($M)=%{y}<extra></extra>",
         "legendgroup": "Mizuho Financial Group",
         "marker": {
          "color": "#19d3f3",
          "symbol": "circle"
         },
         "mode": "markers",
         "name": "Mizuho Financial Group",
         "orientation": "v",
         "showlegend": true,
         "type": "scatter",
         "x": [
          52307
         ],
         "xaxis": "x",
         "y": [
          60503.6
         ],
         "yaxis": "y"
        },
        {
         "hovertemplate": "Name=Daimler Truck Holding<br>Employees=%{x}<br>Revenues ($M)=%{y}<extra></extra>",
         "legendgroup": "Daimler Truck Holding",
         "marker": {
          "color": "#FF6692",
          "symbol": "circle"
         },
         "mode": "markers",
         "name": "Daimler Truck Holding",
         "orientation": "v",
         "showlegend": true,
         "type": "scatter",
         "x": [
          102946
         ],
         "xaxis": "x",
         "y": [
          60420.4
         ],
         "yaxis": "y"
        },
        {
         "hovertemplate": "Name=ING Group<br>Employees=%{x}<br>Revenues ($M)=%{y}<extra></extra>",
         "legendgroup": "ING Group",
         "marker": {
          "color": "#B6E880",
          "symbol": "circle"
         },
         "mode": "markers",
         "name": "ING Group",
         "orientation": "v",
         "showlegend": true,
         "type": "scatter",
         "x": [
          59434
         ],
         "xaxis": "x",
         "y": [
          60401
         ],
         "yaxis": "y"
        },
        {
         "hovertemplate": "Name=Merck<br>Employees=%{x}<br>Revenues ($M)=%{y}<extra></extra>",
         "legendgroup": "Merck",
         "marker": {
          "color": "#FF97FF",
          "symbol": "circle"
         },
         "mode": "markers",
         "name": "Merck",
         "orientation": "v",
         "showlegend": true,
         "type": "scatter",
         "x": [
          71000
         ],
         "xaxis": "x",
         "y": [
          60115
         ],
         "yaxis": "y"
        },
        {
         "hovertemplate": "Name=Bunge<br>Employees=%{x}<br>Revenues ($M)=%{y}<extra></extra>",
         "legendgroup": "Bunge",
         "marker": {
          "color": "#FECB52",
          "symbol": "circle"
         },
         "mode": "markers",
         "name": "Bunge",
         "orientation": "v",
         "showlegend": true,
         "type": "scatter",
         "x": [
          23000
         ],
         "xaxis": "x",
         "y": [
          59540
         ],
         "yaxis": "y"
        },
        {
         "hovertemplate": "Name=Anheuser-Busch InBev<br>Employees=%{x}<br>Revenues ($M)=%{y}<extra></extra>",
         "legendgroup": "Anheuser-Busch InBev",
         "marker": {
          "color": "#636efa",
          "symbol": "circle"
         },
         "mode": "markers",
         "name": "Anheuser-Busch InBev",
         "orientation": "v",
         "showlegend": true,
         "type": "scatter",
         "x": [
          154540
         ],
         "xaxis": "x",
         "y": [
          59380
         ],
         "yaxis": "y"
        },
        {
         "hovertemplate": "Name=Industrial Bank<br>Employees=%{x}<br>Revenues ($M)=%{y}<extra></extra>",
         "legendgroup": "Industrial Bank",
         "marker": {
          "color": "#EF553B",
          "symbol": "circle"
         },
         "mode": "markers",
         "name": "Industrial Bank",
         "orientation": "v",
         "showlegend": true,
         "type": "scatter",
         "x": [
          66569
         ],
         "xaxis": "x",
         "y": [
          59152.3
         ],
         "yaxis": "y"
        },
        {
         "hovertemplate": "Name=POSCO Holdings<br>Employees=%{x}<br>Revenues ($M)=%{y}<extra></extra>",
         "legendgroup": "POSCO Holdings",
         "marker": {
          "color": "#00cc96",
          "symbol": "circle"
         },
         "mode": "markers",
         "name": "POSCO Holdings",
         "orientation": "v",
         "showlegend": true,
         "type": "scatter",
         "x": [
          44501
         ],
         "xaxis": "x",
         "y": [
          58999.2
         ],
         "yaxis": "y"
        },
        {
         "hovertemplate": "Name=Panasonic Holdings<br>Employees=%{x}<br>Revenues ($M)=%{y}<extra></extra>",
         "legendgroup": "Panasonic Holdings",
         "marker": {
          "color": "#ab63fa",
          "symbol": "circle"
         },
         "mode": "markers",
         "name": "Panasonic Holdings",
         "orientation": "v",
         "showlegend": true,
         "type": "scatter",
         "x": [
          228420
         ],
         "xaxis": "x",
         "y": [
          58787.4
         ],
         "yaxis": "y"
        },
        {
         "hovertemplate": "Name=ConocoPhillips<br>Employees=%{x}<br>Revenues ($M)=%{y}<extra></extra>",
         "legendgroup": "ConocoPhillips",
         "marker": {
          "color": "#FFA15A",
          "symbol": "circle"
         },
         "mode": "markers",
         "name": "ConocoPhillips",
         "orientation": "v",
         "showlegend": true,
         "type": "scatter",
         "x": [
          9900
         ],
         "xaxis": "x",
         "y": [
          58574
         ],
         "yaxis": "y"
        },
        {
         "hovertemplate": "Name=Pfizer<br>Employees=%{x}<br>Revenues ($M)=%{y}<extra></extra>",
         "legendgroup": "Pfizer",
         "marker": {
          "color": "#19d3f3",
          "symbol": "circle"
         },
         "mode": "markers",
         "name": "Pfizer",
         "orientation": "v",
         "showlegend": true,
         "type": "scatter",
         "x": [
          88000
         ],
         "xaxis": "x",
         "y": [
          58496
         ],
         "yaxis": "y"
        },
        {
         "hovertemplate": "Name=Delta Air Lines<br>Employees=%{x}<br>Revenues ($M)=%{y}<extra></extra>",
         "legendgroup": "Delta Air Lines",
         "marker": {
          "color": "#FF6692",
          "symbol": "circle"
         },
         "mode": "markers",
         "name": "Delta Air Lines",
         "orientation": "v",
         "showlegend": true,
         "type": "scatter",
         "x": [
          103000
         ],
         "xaxis": "x",
         "y": [
          58048
         ],
         "yaxis": "y"
        },
        {
         "hovertemplate": "Name=China Huaneng Group<br>Employees=%{x}<br>Revenues ($M)=%{y}<extra></extra>",
         "legendgroup": "China Huaneng Group",
         "marker": {
          "color": "#B6E880",
          "symbol": "circle"
         },
         "mode": "markers",
         "name": "China Huaneng Group",
         "orientation": "v",
         "showlegend": true,
         "type": "scatter",
         "x": [
          124623
         ],
         "xaxis": "x",
         "y": [
          57890.8
         ],
         "yaxis": "y"
        },
        {
         "hovertemplate": "Name=China Energy Engineering Group<br>Employees=%{x}<br>Revenues ($M)=%{y}<extra></extra>",
         "legendgroup": "China Energy Engineering Group",
         "marker": {
          "color": "#FF97FF",
          "symbol": "circle"
         },
         "mode": "markers",
         "name": "China Energy Engineering Group",
         "orientation": "v",
         "showlegend": true,
         "type": "scatter",
         "x": [
          119182
         ],
         "xaxis": "x",
         "y": [
          57708.1
         ],
         "yaxis": "y"
        },
        {
         "hovertemplate": "Name=Dongfeng Motor<br>Employees=%{x}<br>Revenues ($M)=%{y}<extra></extra>",
         "legendgroup": "Dongfeng Motor",
         "marker": {
          "color": "#FECB52",
          "symbol": "circle"
         },
         "mode": "markers",
         "name": "Dongfeng Motor",
         "orientation": "v",
         "showlegend": true,
         "type": "scatter",
         "x": [
          122658
         ],
         "xaxis": "x",
         "y": [
          57595.9
         ],
         "yaxis": "y"
        },
        {
         "hovertemplate": "Name=TD Synnex<br>Employees=%{x}<br>Revenues ($M)=%{y}<extra></extra>",
         "legendgroup": "TD Synnex",
         "marker": {
          "color": "#636efa",
          "symbol": "circle"
         },
         "mode": "markers",
         "name": "TD Synnex",
         "orientation": "v",
         "showlegend": true,
         "type": "scatter",
         "x": [
          28000
         ],
         "xaxis": "x",
         "y": [
          57555.4
         ],
         "yaxis": "y"
        },
        {
         "hovertemplate": "Name=Publix Super Markets<br>Employees=%{x}<br>Revenues ($M)=%{y}<extra></extra>",
         "legendgroup": "Publix Super Markets",
         "marker": {
          "color": "#EF553B",
          "symbol": "circle"
         },
         "mode": "markers",
         "name": "Publix Super Markets",
         "orientation": "v",
         "showlegend": true,
         "type": "scatter",
         "x": [
          253000
         ],
         "xaxis": "x",
         "y": [
          57534
         ],
         "yaxis": "y"
        },
        {
         "hovertemplate": "Name=Zhejiang Hengyi Group<br>Employees=%{x}<br>Revenues ($M)=%{y}<extra></extra>",
         "legendgroup": "Zhejiang Hengyi Group",
         "marker": {
          "color": "#00cc96",
          "symbol": "circle"
         },
         "mode": "markers",
         "name": "Zhejiang Hengyi Group",
         "orientation": "v",
         "showlegend": true,
         "type": "scatter",
         "x": [
          22417
         ],
         "xaxis": "x",
         "y": [
          57468
         ],
         "yaxis": "y"
        },
        {
         "hovertemplate": "Name=Allstate<br>Employees=%{x}<br>Revenues ($M)=%{y}<extra></extra>",
         "legendgroup": "Allstate",
         "marker": {
          "color": "#ab63fa",
          "symbol": "circle"
         },
         "mode": "markers",
         "name": "Allstate",
         "orientation": "v",
         "showlegend": true,
         "type": "scatter",
         "x": [
          53200
         ],
         "xaxis": "x",
         "y": [
          57094
         ],
         "yaxis": "y"
        },
        {
         "hovertemplate": "Name=Assicurazioni Generali<br>Employees=%{x}<br>Revenues ($M)=%{y}<extra></extra>",
         "legendgroup": "Assicurazioni Generali",
         "marker": {
          "color": "#FFA15A",
          "symbol": "circle"
         },
         "mode": "markers",
         "name": "Assicurazioni Generali",
         "orientation": "v",
         "showlegend": true,
         "type": "scatter",
         "x": [
          81879
         ],
         "xaxis": "x",
         "y": [
          57022.6
         ],
         "yaxis": "y"
        },
        {
         "hovertemplate": "Name=Cisco Systems<br>Employees=%{x}<br>Revenues ($M)=%{y}<extra></extra>",
         "legendgroup": "Cisco Systems",
         "marker": {
          "color": "#19d3f3",
          "symbol": "circle"
         },
         "mode": "markers",
         "name": "Cisco Systems",
         "orientation": "v",
         "showlegend": true,
         "type": "scatter",
         "x": [
          84900
         ],
         "xaxis": "x",
         "y": [
          56998
         ],
         "yaxis": "y"
        },
        {
         "hovertemplate": "Name=Repsol<br>Employees=%{x}<br>Revenues ($M)=%{y}<extra></extra>",
         "legendgroup": "Repsol",
         "marker": {
          "color": "#FF6692",
          "symbol": "circle"
         },
         "mode": "markers",
         "name": "Repsol",
         "orientation": "v",
         "showlegend": true,
         "type": "scatter",
         "x": [
          23943
         ],
         "xaxis": "x",
         "y": [
          56980.5
         ],
         "yaxis": "y"
        },
        {
         "hovertemplate": "Name=Lenovo Group<br>Employees=%{x}<br>Revenues ($M)=%{y}<extra></extra>",
         "legendgroup": "Lenovo Group",
         "marker": {
          "color": "#B6E880",
          "symbol": "circle"
         },
         "mode": "markers",
         "name": "Lenovo Group",
         "orientation": "v",
         "showlegend": true,
         "type": "scatter",
         "x": [
          69500
         ],
         "xaxis": "x",
         "y": [
          56863.8
         ],
         "yaxis": "y"
        },
        {
         "hovertemplate": "Name=HBIS Group<br>Employees=%{x}<br>Revenues ($M)=%{y}<extra></extra>",
         "legendgroup": "HBIS Group",
         "marker": {
          "color": "#FF97FF",
          "symbol": "circle"
         },
         "mode": "markers",
         "name": "HBIS Group",
         "orientation": "v",
         "showlegend": true,
         "type": "scatter",
         "x": [
          97802
         ],
         "xaxis": "x",
         "y": [
          56728.3
         ],
         "yaxis": "y"
        },
        {
         "hovertemplate": "Name=Contemporary Amperex Technology<br>Employees=%{x}<br>Revenues ($M)=%{y}<extra></extra>",
         "legendgroup": "Contemporary Amperex Technology",
         "marker": {
          "color": "#FECB52",
          "symbol": "circle"
         },
         "mode": "markers",
         "name": "Contemporary Amperex Technology",
         "orientation": "v",
         "showlegend": true,
         "type": "scatter",
         "x": [
          116055
         ],
         "xaxis": "x",
         "y": [
          56632.8
         ],
         "yaxis": "y"
        },
        {
         "hovertemplate": "Name=Renault<br>Employees=%{x}<br>Revenues ($M)=%{y}<extra></extra>",
         "legendgroup": "Renault",
         "marker": {
          "color": "#636efa",
          "symbol": "circle"
         },
         "mode": "markers",
         "name": "Renault",
         "orientation": "v",
         "showlegend": true,
         "type": "scatter",
         "x": [
          105497
         ],
         "xaxis": "x",
         "y": [
          56621.6
         ],
         "yaxis": "y"
        },
        {
         "hovertemplate": "Name=Banco Bradesco<br>Employees=%{x}<br>Revenues ($M)=%{y}<extra></extra>",
         "legendgroup": "Banco Bradesco",
         "marker": {
          "color": "#EF553B",
          "symbol": "circle"
         },
         "mode": "markers",
         "name": "Banco Bradesco",
         "orientation": "v",
         "showlegend": true,
         "type": "scatter",
         "x": [
          79583
         ],
         "xaxis": "x",
         "y": [
          56490.5
         ],
         "yaxis": "y"
        },
        {
         "hovertemplate": "Name=China Electronics Technology Group<br>Employees=%{x}<br>Revenues ($M)=%{y}<extra></extra>",
         "legendgroup": "China Electronics Technology Group",
         "marker": {
          "color": "#00cc96",
          "symbol": "circle"
         },
         "mode": "markers",
         "name": "China Electronics Technology Group",
         "orientation": "v",
         "showlegend": true,
         "type": "scatter",
         "x": [
          241097
         ],
         "xaxis": "x",
         "y": [
          56083.8
         ],
         "yaxis": "y"
        },
        {
         "hovertemplate": "Name=Nationwide<br>Employees=%{x}<br>Revenues ($M)=%{y}<extra></extra>",
         "legendgroup": "Nationwide",
         "marker": {
          "color": "#ab63fa",
          "symbol": "circle"
         },
         "mode": "markers",
         "name": "Nationwide",
         "orientation": "v",
         "showlegend": true,
         "type": "scatter",
         "x": [
          24118
         ],
         "xaxis": "x",
         "y": [
          54609.4
         ],
         "yaxis": "y"
        },
        {
         "hovertemplate": "Name=Charter Communications<br>Employees=%{x}<br>Revenues ($M)=%{y}<extra></extra>",
         "legendgroup": "Charter Communications",
         "marker": {
          "color": "#FFA15A",
          "symbol": "circle"
         },
         "mode": "markers",
         "name": "Charter Communications",
         "orientation": "v",
         "showlegend": true,
         "type": "scatter",
         "x": [
          101100
         ],
         "xaxis": "x",
         "y": [
          54607
         ],
         "yaxis": "y"
        },
        {
         "hovertemplate": "Name=State Power Investment<br>Employees=%{x}<br>Revenues ($M)=%{y}<extra></extra>",
         "legendgroup": "State Power Investment",
         "marker": {
          "color": "#19d3f3",
          "symbol": "circle"
         },
         "mode": "markers",
         "name": "State Power Investment",
         "orientation": "v",
         "showlegend": true,
         "type": "scatter",
         "x": [
          127514
         ],
         "xaxis": "x",
         "y": [
          54484.6
         ],
         "yaxis": "y"
        },
        {
         "hovertemplate": "Name=Edeka Zentrale<br>Employees=%{x}<br>Revenues ($M)=%{y}<extra></extra>",
         "legendgroup": "Edeka Zentrale",
         "marker": {
          "color": "#FF6692",
          "symbol": "circle"
         },
         "mode": "markers",
         "name": "Edeka Zentrale",
         "orientation": "v",
         "showlegend": true,
         "type": "scatter",
         "x": [
          410700
         ],
         "xaxis": "x",
         "y": [
          54454.6
         ],
         "yaxis": "y"
        },
        {
         "hovertemplate": "Name=Bharat Petroleum<br>Employees=%{x}<br>Revenues ($M)=%{y}<extra></extra>",
         "legendgroup": "Bharat Petroleum",
         "marker": {
          "color": "#B6E880",
          "symbol": "circle"
         },
         "mode": "markers",
         "name": "Bharat Petroleum",
         "orientation": "v",
         "showlegend": true,
         "type": "scatter",
         "x": [
          8511
         ],
         "xaxis": "x",
         "y": [
          54413.1
         ],
         "yaxis": "y"
        },
        {
         "hovertemplate": "Name=AbbVie<br>Employees=%{x}<br>Revenues ($M)=%{y}<extra></extra>",
         "legendgroup": "AbbVie",
         "marker": {
          "color": "#FF97FF",
          "symbol": "circle"
         },
         "mode": "markers",
         "name": "AbbVie",
         "orientation": "v",
         "showlegend": true,
         "type": "scatter",
         "x": [
          50000
         ],
         "xaxis": "x",
         "y": [
          54318
         ],
         "yaxis": "y"
        },
        {
         "hovertemplate": "Name=New York Life Insurance<br>Employees=%{x}<br>Revenues ($M)=%{y}<extra></extra>",
         "legendgroup": "New York Life Insurance",
         "marker": {
          "color": "#FECB52",
          "symbol": "circle"
         },
         "mode": "markers",
         "name": "New York Life Insurance",
         "orientation": "v",
         "showlegend": true,
         "type": "scatter",
         "x": [
          15384
         ],
         "xaxis": "x",
         "y": [
          54317.2
         ],
         "yaxis": "y"
        },
        {
         "hovertemplate": "Name=Intel<br>Employees=%{x}<br>Revenues ($M)=%{y}<extra></extra>",
         "legendgroup": "Intel",
         "marker": {
          "color": "#636efa",
          "symbol": "circle"
         },
         "mode": "markers",
         "name": "Intel",
         "orientation": "v",
         "showlegend": true,
         "type": "scatter",
         "x": [
          124800
         ],
         "xaxis": "x",
         "y": [
          54228
         ],
         "yaxis": "y"
        },
        {
         "hovertemplate": "Name=TJX<br>Employees=%{x}<br>Revenues ($M)=%{y}<extra></extra>",
         "legendgroup": "TJX",
         "marker": {
          "color": "#EF553B",
          "symbol": "circle"
         },
         "mode": "markers",
         "name": "TJX",
         "orientation": "v",
         "showlegend": true,
         "type": "scatter",
         "x": [
          349000
         ],
         "xaxis": "x",
         "y": [
          54217
         ],
         "yaxis": "y"
        },
        {
         "hovertemplate": "Name=Novartis<br>Employees=%{x}<br>Revenues ($M)=%{y}<extra></extra>",
         "legendgroup": "Novartis",
         "marker": {
          "color": "#00cc96",
          "symbol": "circle"
         },
         "mode": "markers",
         "name": "Novartis",
         "orientation": "v",
         "showlegend": true,
         "type": "scatter",
         "x": [
          76057
         ],
         "xaxis": "x",
         "y": [
          54088
         ],
         "yaxis": "y"
        },
        {
         "hovertemplate": "Name=Rio Tinto Group<br>Employees=%{x}<br>Revenues ($M)=%{y}<extra></extra>",
         "legendgroup": "Rio Tinto Group",
         "marker": {
          "color": "#ab63fa",
          "symbol": "circle"
         },
         "mode": "markers",
         "name": "Rio Tinto Group",
         "orientation": "v",
         "showlegend": true,
         "type": "scatter",
         "x": [
          57174
         ],
         "xaxis": "x",
         "y": [
          54041
         ],
         "yaxis": "y"
        },
        {
         "hovertemplate": "Name=Tsingshan Holding Group<br>Employees=%{x}<br>Revenues ($M)=%{y}<extra></extra>",
         "legendgroup": "Tsingshan Holding Group",
         "marker": {
          "color": "#FFA15A",
          "symbol": "circle"
         },
         "mode": "markers",
         "name": "Tsingshan Holding Group",
         "orientation": "v",
         "showlegend": true,
         "type": "scatter",
         "x": [
          107805
         ],
         "xaxis": "x",
         "y": [
          53980
         ],
         "yaxis": "y"
        },
        {
         "hovertemplate": "Name=Prudential Financial<br>Employees=%{x}<br>Revenues ($M)=%{y}<extra></extra>",
         "legendgroup": "Prudential Financial",
         "marker": {
          "color": "#19d3f3",
          "symbol": "circle"
         },
         "mode": "markers",
         "name": "Prudential Financial",
         "orientation": "v",
         "showlegend": true,
         "type": "scatter",
         "x": [
          40366
         ],
         "xaxis": "x",
         "y": [
          53979
         ],
         "yaxis": "y"
        },
        {
         "hovertemplate": "Name=COSCO Shipping<br>Employees=%{x}<br>Revenues ($M)=%{y}<extra></extra>",
         "legendgroup": "COSCO Shipping",
         "marker": {
          "color": "#FF6692",
          "symbol": "circle"
         },
         "mode": "markers",
         "name": "COSCO Shipping",
         "orientation": "v",
         "showlegend": true,
         "type": "scatter",
         "x": [
          106221
         ],
         "xaxis": "x",
         "y": [
          53929.6
         ],
         "yaxis": "y"
        },
        {
         "hovertemplate": "Name=BHP Group<br>Employees=%{x}<br>Revenues ($M)=%{y}<extra></extra>",
         "legendgroup": "BHP Group",
         "marker": {
          "color": "#B6E880",
          "symbol": "circle"
         },
         "mode": "markers",
         "name": "BHP Group",
         "orientation": "v",
         "showlegend": true,
         "type": "scatter",
         "x": [
          42319
         ],
         "xaxis": "x",
         "y": [
          53817
         ],
         "yaxis": "y"
        },
        {
         "hovertemplate": "Name=HP<br>Employees=%{x}<br>Revenues ($M)=%{y}<extra></extra>",
         "legendgroup": "HP",
         "marker": {
          "color": "#FF97FF",
          "symbol": "circle"
         },
         "mode": "markers",
         "name": "HP",
         "orientation": "v",
         "showlegend": true,
         "type": "scatter",
         "x": [
          58000
         ],
         "xaxis": "x",
         "y": [
          53718
         ],
         "yaxis": "y"
        },
        {
         "hovertemplate": "Name=United Airlines Holdings<br>Employees=%{x}<br>Revenues ($M)=%{y}<extra></extra>",
         "legendgroup": "United Airlines Holdings",
         "marker": {
          "color": "#FECB52",
          "symbol": "circle"
         },
         "mode": "markers",
         "name": "United Airlines Holdings",
         "orientation": "v",
         "showlegend": true,
         "type": "scatter",
         "x": [
          103300
         ],
         "xaxis": "x",
         "y": [
          53717
         ],
         "yaxis": "y"
        },
        {
         "hovertemplate": "Name=Tata Motors<br>Employees=%{x}<br>Revenues ($M)=%{y}<extra></extra>",
         "legendgroup": "Tata Motors",
         "marker": {
          "color": "#636efa",
          "symbol": "circle"
         },
         "mode": "markers",
         "name": "Tata Motors",
         "orientation": "v",
         "showlegend": true,
         "type": "scatter",
         "x": [
          91496
         ],
         "xaxis": "x",
         "y": [
          53634.9
         ],
         "yaxis": "y"
        },
        {
         "hovertemplate": "Name=Performance Food Group<br>Employees=%{x}<br>Revenues ($M)=%{y}<extra></extra>",
         "legendgroup": "Performance Food Group",
         "marker": {
          "color": "#EF553B",
          "symbol": "circle"
         },
         "mode": "markers",
         "name": "Performance Food Group",
         "orientation": "v",
         "showlegend": true,
         "type": "scatter",
         "x": [
          34825
         ],
         "xaxis": "x",
         "y": [
          53354.7
         ],
         "yaxis": "y"
        },
        {
         "hovertemplate": "Name=Iberdrola<br>Employees=%{x}<br>Revenues ($M)=%{y}<extra></extra>",
         "legendgroup": "Iberdrola",
         "marker": {
          "color": "#00cc96",
          "symbol": "circle"
         },
         "mode": "markers",
         "name": "Iberdrola",
         "orientation": "v",
         "showlegend": true,
         "type": "scatter",
         "x": [
          41448
         ],
         "xaxis": "x",
         "y": [
          53334.1
         ],
         "yaxis": "y"
        },
        {
         "hovertemplate": "Name=Deutsche Bahn<br>Employees=%{x}<br>Revenues ($M)=%{y}<extra></extra>",
         "legendgroup": "Deutsche Bahn",
         "marker": {
          "color": "#ab63fa",
          "symbol": "circle"
         },
         "mode": "markers",
         "name": "Deutsche Bahn",
         "orientation": "v",
         "showlegend": true,
         "type": "scatter",
         "x": [
          326781
         ],
         "xaxis": "x",
         "y": [
          53197.9
         ],
         "yaxis": "y"
        },
        {
         "hovertemplate": "Name=Idemitsu Kosan<br>Employees=%{x}<br>Revenues ($M)=%{y}<extra></extra>",
         "legendgroup": "Idemitsu Kosan",
         "marker": {
          "color": "#FFA15A",
          "symbol": "circle"
         },
         "mode": "markers",
         "name": "Idemitsu Kosan",
         "orientation": "v",
         "showlegend": true,
         "type": "scatter",
         "x": [
          16571
         ],
         "xaxis": "x",
         "y": [
          53042.6
         ],
         "yaxis": "y"
        },
        {
         "hovertemplate": "Name=Tyson Foods<br>Employees=%{x}<br>Revenues ($M)=%{y}<extra></extra>",
         "legendgroup": "Tyson Foods",
         "marker": {
          "color": "#19d3f3",
          "symbol": "circle"
         },
         "mode": "markers",
         "name": "Tyson Foods",
         "orientation": "v",
         "showlegend": true,
         "type": "scatter",
         "x": [
          139000
         ],
         "xaxis": "x",
         "y": [
          52881
         ],
         "yaxis": "y"
        },
        {
         "hovertemplate": "Name=Midea Group<br>Employees=%{x}<br>Revenues ($M)=%{y}<extra></extra>",
         "legendgroup": "Midea Group",
         "marker": {
          "color": "#FF6692",
          "symbol": "circle"
         },
         "mode": "markers",
         "name": "Midea Group",
         "orientation": "v",
         "showlegend": true,
         "type": "scatter",
         "x": [
          198613
         ],
         "xaxis": "x",
         "y": [
          52789.6
         ],
         "yaxis": "y"
        },
        {
         "hovertemplate": "Name=American Airlines Group<br>Employees=%{x}<br>Revenues ($M)=%{y}<extra></extra>",
         "legendgroup": "American Airlines Group",
         "marker": {
          "color": "#B6E880",
          "symbol": "circle"
         },
         "mode": "markers",
         "name": "American Airlines Group",
         "orientation": "v",
         "showlegend": true,
         "type": "scatter",
         "x": [
          132100
         ],
         "xaxis": "x",
         "y": [
          52788
         ],
         "yaxis": "y"
        },
        {
         "hovertemplate": "Name=China United Network Communications<br>Employees=%{x}<br>Revenues ($M)=%{y}<extra></extra>",
         "legendgroup": "China United Network Communications",
         "marker": {
          "color": "#FF97FF",
          "symbol": "circle"
         },
         "mode": "markers",
         "name": "China United Network Communications",
         "orientation": "v",
         "showlegend": true,
         "type": "scatter",
         "x": [
          242891
         ],
         "xaxis": "x",
         "y": [
          52632.3
         ],
         "yaxis": "y"
        },
        {
         "hovertemplate": "Name=Liberty Mutual Insurance Group<br>Employees=%{x}<br>Revenues ($M)=%{y}<extra></extra>",
         "legendgroup": "Liberty Mutual Insurance Group",
         "marker": {
          "color": "#FECB52",
          "symbol": "circle"
         },
         "mode": "markers",
         "name": "Liberty Mutual Insurance Group",
         "orientation": "v",
         "showlegend": true,
         "type": "scatter",
         "x": [
          45000
         ],
         "xaxis": "x",
         "y": [
          52612
         ],
         "yaxis": "y"
        },
        {
         "hovertemplate": "Name=Bank of Nova Scotia<br>Employees=%{x}<br>Revenues ($M)=%{y}<extra></extra>",
         "legendgroup": "Bank of Nova Scotia",
         "marker": {
          "color": "#636efa",
          "symbol": "circle"
         },
         "mode": "markers",
         "name": "Bank of Nova Scotia",
         "orientation": "v",
         "showlegend": true,
         "type": "scatter",
         "x": [
          89483
         ],
         "xaxis": "x",
         "y": [
          52535.8
         ],
         "yaxis": "y"
        },
        {
         "hovertemplate": "Name=Volvo<br>Employees=%{x}<br>Revenues ($M)=%{y}<extra></extra>",
         "legendgroup": "Volvo",
         "marker": {
          "color": "#EF553B",
          "symbol": "circle"
         },
         "mode": "markers",
         "name": "Volvo",
         "orientation": "v",
         "showlegend": true,
         "type": "scatter",
         "x": [
          97440
         ],
         "xaxis": "x",
         "y": [
          52101.5
         ],
         "yaxis": "y"
        },
        {
         "hovertemplate": "Name=Intesa Sanpaolo<br>Employees=%{x}<br>Revenues ($M)=%{y}<extra></extra>",
         "legendgroup": "Intesa Sanpaolo",
         "marker": {
          "color": "#00cc96",
          "symbol": "circle"
         },
         "mode": "markers",
         "name": "Intesa Sanpaolo",
         "orientation": "v",
         "showlegend": true,
         "type": "scatter",
         "x": [
          94368
         ],
         "xaxis": "x",
         "y": [
          52004.4
         ],
         "yaxis": "y"
        },
        {
         "hovertemplate": "Name=Saint-Gobain<br>Employees=%{x}<br>Revenues ($M)=%{y}<extra></extra>",
         "legendgroup": "Saint-Gobain",
         "marker": {
          "color": "#ab63fa",
          "symbol": "circle"
         },
         "mode": "markers",
         "name": "Saint-Gobain",
         "orientation": "v",
         "showlegend": true,
         "type": "scatter",
         "x": [
          144422
         ],
         "xaxis": "x",
         "y": [
          51830.3
         ],
         "yaxis": "y"
        },
        {
         "hovertemplate": "Name=Shaanxi Yanchang Petroleum (Group)<br>Employees=%{x}<br>Revenues ($M)=%{y}<extra></extra>",
         "legendgroup": "Shaanxi Yanchang Petroleum (Group)",
         "marker": {
          "color": "#FFA15A",
          "symbol": "circle"
         },
         "mode": "markers",
         "name": "Shaanxi Yanchang Petroleum (Group)",
         "orientation": "v",
         "showlegend": true,
         "type": "scatter",
         "x": [
          130427
         ],
         "xaxis": "x",
         "y": [
          51525.9
         ],
         "yaxis": "y"
        },
        {
         "hovertemplate": "Name=Bayer<br>Employees=%{x}<br>Revenues ($M)=%{y}<extra></extra>",
         "legendgroup": "Bayer",
         "marker": {
          "color": "#19d3f3",
          "symbol": "circle"
         },
         "mode": "markers",
         "name": "Bayer",
         "orientation": "v",
         "showlegend": true,
         "type": "scatter",
         "x": [
          99723
         ],
         "xaxis": "x",
         "y": [
          51498.4
         ],
         "yaxis": "y"
        },
        {
         "hovertemplate": "Name=Tokio Marine Holdings<br>Employees=%{x}<br>Revenues ($M)=%{y}<extra></extra>",
         "legendgroup": "Tokio Marine Holdings",
         "marker": {
          "color": "#FF6692",
          "symbol": "circle"
         },
         "mode": "markers",
         "name": "Tokio Marine Holdings",
         "orientation": "v",
         "showlegend": true,
         "type": "scatter",
         "x": [
          43870
         ],
         "xaxis": "x",
         "y": [
          51371.9
         ],
         "yaxis": "y"
        },
        {
         "hovertemplate": "Name=Nike<br>Employees=%{x}<br>Revenues ($M)=%{y}<extra></extra>",
         "legendgroup": "Nike",
         "marker": {
          "color": "#B6E880",
          "symbol": "circle"
         },
         "mode": "markers",
         "name": "Nike",
         "orientation": "v",
         "showlegend": true,
         "type": "scatter",
         "x": [
          83700
         ],
         "xaxis": "x",
         "y": [
          51217
         ],
         "yaxis": "y"
        },
        {
         "hovertemplate": "Name=Maersk Group<br>Employees=%{x}<br>Revenues ($M)=%{y}<extra></extra>",
         "legendgroup": "Maersk Group",
         "marker": {
          "color": "#FF97FF",
          "symbol": "circle"
         },
         "mode": "markers",
         "name": "Maersk Group",
         "orientation": "v",
         "showlegend": true,
         "type": "scatter",
         "x": [
          105909
         ],
         "xaxis": "x",
         "y": [
          51065
         ],
         "yaxis": "y"
        },
        {
         "hovertemplate": "Name=Phoenix Pharma<br>Employees=%{x}<br>Revenues ($M)=%{y}<extra></extra>",
         "legendgroup": "Phoenix Pharma",
         "marker": {
          "color": "#FECB52",
          "symbol": "circle"
         },
         "mode": "markers",
         "name": "Phoenix Pharma",
         "orientation": "v",
         "showlegend": true,
         "type": "scatter",
         "x": [
          41276
         ],
         "xaxis": "x",
         "y": [
          50934.9
         ],
         "yaxis": "y"
        },
        {
         "hovertemplate": "Name=Greenland Holding Group<br>Employees=%{x}<br>Revenues ($M)=%{y}<extra></extra>",
         "legendgroup": "Greenland Holding Group",
         "marker": {
          "color": "#636efa",
          "symbol": "circle"
         },
         "mode": "markers",
         "name": "Greenland Holding Group",
         "orientation": "v",
         "showlegend": true,
         "type": "scatter",
         "x": [
          59970
         ],
         "xaxis": "x",
         "y": [
          50897
         ],
         "yaxis": "y"
        },
        {
         "hovertemplate": "Name=Shanghai Pudong Development Bank<br>Employees=%{x}<br>Revenues ($M)=%{y}<extra></extra>",
         "legendgroup": "Shanghai Pudong Development Bank",
         "marker": {
          "color": "#EF553B",
          "symbol": "circle"
         },
         "mode": "markers",
         "name": "Shanghai Pudong Development Bank",
         "orientation": "v",
         "showlegend": true,
         "type": "scatter",
         "x": [
          63582
         ],
         "xaxis": "x",
         "y": [
          50864.5
         ],
         "yaxis": "y"
        },
        {
         "hovertemplate": "Name=Louis Dreyfus<br>Employees=%{x}<br>Revenues ($M)=%{y}<extra></extra>",
         "legendgroup": "Louis Dreyfus",
         "marker": {
          "color": "#00cc96",
          "symbol": "circle"
         },
         "mode": "markers",
         "name": "Louis Dreyfus",
         "orientation": "v",
         "showlegend": true,
         "type": "scatter",
         "x": [
          17017
         ],
         "xaxis": "x",
         "y": [
          50624
         ],
         "yaxis": "y"
        },
        {
         "hovertemplate": "Name=Bank of Montreal<br>Employees=%{x}<br>Revenues ($M)=%{y}<extra></extra>",
         "legendgroup": "Bank of Montreal",
         "marker": {
          "color": "#ab63fa",
          "symbol": "circle"
         },
         "mode": "markers",
         "name": "Bank of Montreal",
         "orientation": "v",
         "showlegend": true,
         "type": "scatter",
         "x": [
          55767
         ],
         "xaxis": "x",
         "y": [
          50495
         ],
         "yaxis": "y"
        },
        {
         "hovertemplate": "Name=ZF Friedrichshafen<br>Employees=%{x}<br>Revenues ($M)=%{y}<extra></extra>",
         "legendgroup": "ZF Friedrichshafen",
         "marker": {
          "color": "#FFA15A",
          "symbol": "circle"
         },
         "mode": "markers",
         "name": "ZF Friedrichshafen",
         "orientation": "v",
         "showlegend": true,
         "type": "scatter",
         "x": [
          165938
         ],
         "xaxis": "x",
         "y": [
          50406.6
         ],
         "yaxis": "y"
        },
        {
         "hovertemplate": "Name=KB Financial Group<br>Employees=%{x}<br>Revenues ($M)=%{y}<extra></extra>",
         "legendgroup": "KB Financial Group",
         "marker": {
          "color": "#19d3f3",
          "symbol": "circle"
         },
         "mode": "markers",
         "name": "KB Financial Group",
         "orientation": "v",
         "showlegend": true,
         "type": "scatter",
         "x": [
          25003
         ],
         "xaxis": "x",
         "y": [
          50228.4
         ],
         "yaxis": "y"
        },
        {
         "hovertemplate": "Name=Sanofi<br>Employees=%{x}<br>Revenues ($M)=%{y}<extra></extra>",
         "legendgroup": "Sanofi",
         "marker": {
          "color": "#FF6692",
          "symbol": "circle"
         },
         "mode": "markers",
         "name": "Sanofi",
         "orientation": "v",
         "showlegend": true,
         "type": "scatter",
         "x": [
          86088
         ],
         "xaxis": "x",
         "y": [
          50208.7
         ],
         "yaxis": "y"
        },
        {
         "hovertemplate": "Name=Marubeni<br>Employees=%{x}<br>Revenues ($M)=%{y}<extra></extra>",
         "legendgroup": "Marubeni",
         "marker": {
          "color": "#B6E880",
          "symbol": "circle"
         },
         "mode": "markers",
         "name": "Marubeni",
         "orientation": "v",
         "showlegend": true,
         "type": "scatter",
         "x": [
          53804
         ],
         "xaxis": "x",
         "y": [
          50166.9
         ],
         "yaxis": "y"
        },
        {
         "hovertemplate": "Name=Oracle<br>Employees=%{x}<br>Revenues ($M)=%{y}<extra></extra>",
         "legendgroup": "Oracle",
         "marker": {
          "color": "#FF97FF",
          "symbol": "circle"
         },
         "mode": "markers",
         "name": "Oracle",
         "orientation": "v",
         "showlegend": true,
         "type": "scatter",
         "x": [
          164000
         ],
         "xaxis": "x",
         "y": [
          49954
         ],
         "yaxis": "y"
        },
        {
         "hovertemplate": "Name=Jinchuan Group<br>Employees=%{x}<br>Revenues ($M)=%{y}<extra></extra>",
         "legendgroup": "Jinchuan Group",
         "marker": {
          "color": "#FECB52",
          "symbol": "circle"
         },
         "mode": "markers",
         "name": "Jinchuan Group",
         "orientation": "v",
         "showlegend": true,
         "type": "scatter",
         "x": [
          31025
         ],
         "xaxis": "x",
         "y": [
          49900.7
         ],
         "yaxis": "y"
        },
        {
         "hovertemplate": "Name=Swiss Re<br>Employees=%{x}<br>Revenues ($M)=%{y}<extra></extra>",
         "legendgroup": "Swiss Re",
         "marker": {
          "color": "#636efa",
          "symbol": "circle"
         },
         "mode": "markers",
         "name": "Swiss Re",
         "orientation": "v",
         "showlegend": true,
         "type": "scatter",
         "x": [
          14719
         ],
         "xaxis": "x",
         "y": [
          49800
         ],
         "yaxis": "y"
        },
        {
         "hovertemplate": "Name=Chubb<br>Employees=%{x}<br>Revenues ($M)=%{y}<extra></extra>",
         "legendgroup": "Chubb",
         "marker": {
          "color": "#EF553B",
          "symbol": "circle"
         },
         "mode": "markers",
         "name": "Chubb",
         "orientation": "v",
         "showlegend": true,
         "type": "scatter",
         "x": [
          40000
         ],
         "xaxis": "x",
         "y": [
          49735
         ],
         "yaxis": "y"
        },
        {
         "hovertemplate": "Name=Enterprise Products Partners<br>Employees=%{x}<br>Revenues ($M)=%{y}<extra></extra>",
         "legendgroup": "Enterprise Products Partners",
         "marker": {
          "color": "#00cc96",
          "symbol": "circle"
         },
         "mode": "markers",
         "name": "Enterprise Products Partners",
         "orientation": "v",
         "showlegend": true,
         "type": "scatter",
         "x": [
          7500
         ],
         "xaxis": "x",
         "y": [
          49715
         ],
         "yaxis": "y"
        },
        {
         "hovertemplate": "Name=Capital One Financial<br>Employees=%{x}<br>Revenues ($M)=%{y}<extra></extra>",
         "legendgroup": "Capital One Financial",
         "marker": {
          "color": "#ab63fa",
          "symbol": "circle"
         },
         "mode": "markers",
         "name": "Capital One Financial",
         "orientation": "v",
         "showlegend": true,
         "type": "scatter",
         "x": [
          51987
         ],
         "xaxis": "x",
         "y": [
          49484
         ],
         "yaxis": "y"
        },
        {
         "hovertemplate": "Name=Denso<br>Employees=%{x}<br>Revenues ($M)=%{y}<extra></extra>",
         "legendgroup": "Denso",
         "marker": {
          "color": "#FFA15A",
          "symbol": "circle"
         },
         "mode": "markers",
         "name": "Denso",
         "orientation": "v",
         "showlegend": true,
         "type": "scatter",
         "x": [
          162029
         ],
         "xaxis": "x",
         "y": [
          49435
         ],
         "yaxis": "y"
        },
        {
         "hovertemplate": "Name=HDFC Bank<br>Employees=%{x}<br>Revenues ($M)=%{y}<extra></extra>",
         "legendgroup": "HDFC Bank",
         "marker": {
          "color": "#19d3f3",
          "symbol": "circle"
         },
         "mode": "markers",
         "name": "HDFC Bank",
         "orientation": "v",
         "showlegend": true,
         "type": "scatter",
         "x": [
          213527
         ],
         "xaxis": "x",
         "y": [
          49299.1
         ],
         "yaxis": "y"
        },
        {
         "hovertemplate": "Name=China National Building Material Group<br>Employees=%{x}<br>Revenues ($M)=%{y}<extra></extra>",
         "legendgroup": "China National Building Material Group",
         "marker": {
          "color": "#FF6692",
          "symbol": "circle"
         },
         "mode": "markers",
         "name": "China National Building Material Group",
         "orientation": "v",
         "showlegend": true,
         "type": "scatter",
         "x": [
          206518
         ],
         "xaxis": "x",
         "y": [
          49088.8
         ],
         "yaxis": "y"
        },
        {
         "hovertemplate": "Name=Veolia Environnement<br>Employees=%{x}<br>Revenues ($M)=%{y}<extra></extra>",
         "legendgroup": "Veolia Environnement",
         "marker": {
          "color": "#B6E880",
          "symbol": "circle"
         },
         "mode": "markers",
         "name": "Veolia Environnement",
         "orientation": "v",
         "showlegend": true,
         "type": "scatter",
         "x": [
          218288
         ],
         "xaxis": "x",
         "y": [
          49027.1
         ],
         "yaxis": "y"
        },
        {
         "hovertemplate": "Name=China State Shipbuilding<br>Employees=%{x}<br>Revenues ($M)=%{y}<extra></extra>",
         "legendgroup": "China State Shipbuilding",
         "marker": {
          "color": "#FF97FF",
          "symbol": "circle"
         },
         "mode": "markers",
         "name": "China State Shipbuilding",
         "orientation": "v",
         "showlegend": true,
         "type": "scatter",
         "x": [
          196309
         ],
         "xaxis": "x",
         "y": [
          48890.1
         ],
         "yaxis": "y"
        },
        {
         "hovertemplate": "Name=Vodafone Group<br>Employees=%{x}<br>Revenues ($M)=%{y}<extra></extra>",
         "legendgroup": "Vodafone Group",
         "marker": {
          "color": "#FECB52",
          "symbol": "circle"
         },
         "mode": "markers",
         "name": "Vodafone Group",
         "orientation": "v",
         "showlegend": true,
         "type": "scatter",
         "x": [
          96282
         ],
         "xaxis": "x",
         "y": [
          48871.9
         ],
         "yaxis": "y"
        },
        {
         "hovertemplate": "Name=Plains GP Holdings<br>Employees=%{x}<br>Revenues ($M)=%{y}<extra></extra>",
         "legendgroup": "Plains GP Holdings",
         "marker": {
          "color": "#636efa",
          "symbol": "circle"
         },
         "mode": "markers",
         "name": "Plains GP Holdings",
         "orientation": "v",
         "showlegend": true,
         "type": "scatter",
         "x": [
          4200
         ],
         "xaxis": "x",
         "y": [
          48712
         ],
         "yaxis": "y"
        },
        {
         "hovertemplate": "Name=Landesbank Baden-Württemberg<br>Employees=%{x}<br>Revenues ($M)=%{y}<extra></extra>",
         "legendgroup": "Landesbank Baden-Württemberg",
         "marker": {
          "color": "#EF553B",
          "symbol": "circle"
         },
         "mode": "markers",
         "name": "Landesbank Baden-Württemberg",
         "orientation": "v",
         "showlegend": true,
         "type": "scatter",
         "x": [
          10434
         ],
         "xaxis": "x",
         "y": [
          48566.6
         ],
         "yaxis": "y"
        },
        {
         "hovertemplate": "Name=EXOR Group<br>Employees=%{x}<br>Revenues ($M)=%{y}<extra></extra>",
         "legendgroup": "EXOR Group",
         "marker": {
          "color": "#00cc96",
          "symbol": "circle"
         },
         "mode": "markers",
         "name": "EXOR Group",
         "orientation": "v",
         "showlegend": true,
         "type": "scatter",
         "x": [
          83773
         ],
         "xaxis": "x",
         "y": [
          48368.8
         ],
         "yaxis": "y"
        },
        {
         "hovertemplate": "Name=Jingye Group<br>Employees=%{x}<br>Revenues ($M)=%{y}<extra></extra>",
         "legendgroup": "Jingye Group",
         "marker": {
          "color": "#ab63fa",
          "symbol": "circle"
         },
         "mode": "markers",
         "name": "Jingye Group",
         "orientation": "v",
         "showlegend": true,
         "type": "scatter",
         "x": [
          33000
         ],
         "xaxis": "x",
         "y": [
          48120
         ],
         "yaxis": "y"
        },
        {
         "hovertemplate": "Name=UniCredit Group<br>Employees=%{x}<br>Revenues ($M)=%{y}<extra></extra>",
         "legendgroup": "UniCredit Group",
         "marker": {
          "color": "#FFA15A",
          "symbol": "circle"
         },
         "mode": "markers",
         "name": "UniCredit Group",
         "orientation": "v",
         "showlegend": true,
         "type": "scatter",
         "x": [
          70752
         ],
         "xaxis": "x",
         "y": [
          48044.4
         ],
         "yaxis": "y"
        },
        {
         "hovertemplate": "Name=Energie Baden-Württemberg<br>Employees=%{x}<br>Revenues ($M)=%{y}<extra></extra>",
         "legendgroup": "Energie Baden-Württemberg",
         "marker": {
          "color": "#19d3f3",
          "symbol": "circle"
         },
         "mode": "markers",
         "name": "Energie Baden-Württemberg",
         "orientation": "v",
         "showlegend": true,
         "type": "scatter",
         "x": [
          26943
         ],
         "xaxis": "x",
         "y": [
          48032.2
         ],
         "yaxis": "y"
        },
        {
         "hovertemplate": "Name=Tokyo Electric Power<br>Employees=%{x}<br>Revenues ($M)=%{y}<extra></extra>",
         "legendgroup": "Tokyo Electric Power",
         "marker": {
          "color": "#FF6692",
          "symbol": "circle"
         },
         "mode": "markers",
         "name": "Tokyo Electric Power",
         "orientation": "v",
         "showlegend": true,
         "type": "scatter",
         "x": [
          38183
         ],
         "xaxis": "x",
         "y": [
          47868.9
         ],
         "yaxis": "y"
        },
        {
         "hovertemplate": "Name=Sumitomo<br>Employees=%{x}<br>Revenues ($M)=%{y}<extra></extra>",
         "legendgroup": "Sumitomo",
         "marker": {
          "color": "#B6E880",
          "symbol": "circle"
         },
         "mode": "markers",
         "name": "Sumitomo",
         "orientation": "v",
         "showlegend": true,
         "type": "scatter",
         "x": [
          79692
         ],
         "xaxis": "x",
         "y": [
          47812.9
         ],
         "yaxis": "y"
        },
        {
         "hovertemplate": "Name=World Kinect<br>Employees=%{x}<br>Revenues ($M)=%{y}<extra></extra>",
         "legendgroup": "World Kinect",
         "marker": {
          "color": "#FF97FF",
          "symbol": "circle"
         },
         "mode": "markers",
         "name": "World Kinect",
         "orientation": "v",
         "showlegend": true,
         "type": "scatter",
         "x": [
          5289
         ],
         "xaxis": "x",
         "y": [
          47710.6
         ],
         "yaxis": "y"
        },
        {
         "hovertemplate": "Name=Orange<br>Employees=%{x}<br>Revenues ($M)=%{y}<extra></extra>",
         "legendgroup": "Orange",
         "marker": {
          "color": "#FECB52",
          "symbol": "circle"
         },
         "mode": "markers",
         "name": "Orange",
         "orientation": "v",
         "showlegend": true,
         "type": "scatter",
         "x": [
          127109
         ],
         "xaxis": "x",
         "y": [
          47698.5
         ],
         "yaxis": "y"
        },
        {
         "hovertemplate": "Name=HD Hyundai<br>Employees=%{x}<br>Revenues ($M)=%{y}<extra></extra>",
         "legendgroup": "HD Hyundai",
         "marker": {
          "color": "#636efa",
          "symbol": "circle"
         },
         "mode": "markers",
         "name": "HD Hyundai",
         "orientation": "v",
         "showlegend": true,
         "type": "scatter",
         "x": [
          34097
         ],
         "xaxis": "x",
         "y": [
          46959
         ],
         "yaxis": "y"
        },
        {
         "hovertemplate": "Name=Ingka Group<br>Employees=%{x}<br>Revenues ($M)=%{y}<extra></extra>",
         "legendgroup": "Ingka Group",
         "marker": {
          "color": "#EF553B",
          "symbol": "circle"
         },
         "mode": "markers",
         "name": "Ingka Group",
         "orientation": "v",
         "showlegend": true,
         "type": "scatter",
         "x": [
          165353
         ],
         "xaxis": "x",
         "y": [
          46938
         ],
         "yaxis": "y"
        },
        {
         "hovertemplate": "Name=ANZ Group Holdings<br>Employees=%{x}<br>Revenues ($M)=%{y}<extra></extra>",
         "legendgroup": "ANZ Group Holdings",
         "marker": {
          "color": "#00cc96",
          "symbol": "circle"
         },
         "mode": "markers",
         "name": "ANZ Group Holdings",
         "orientation": "v",
         "showlegend": true,
         "type": "scatter",
         "x": [
          40342
         ],
         "xaxis": "x",
         "y": [
          46827.7
         ],
         "yaxis": "y"
        },
        {
         "hovertemplate": "Name=AIG<br>Employees=%{x}<br>Revenues ($M)=%{y}<extra></extra>",
         "legendgroup": "AIG",
         "marker": {
          "color": "#ab63fa",
          "symbol": "circle"
         },
         "mode": "markers",
         "name": "AIG",
         "orientation": "v",
         "showlegend": true,
         "type": "scatter",
         "x": [
          25200
         ],
         "xaxis": "x",
         "y": [
          46802
         ],
         "yaxis": "y"
        },
        {
         "hovertemplate": "Name=SoftBank Group<br>Employees=%{x}<br>Revenues ($M)=%{y}<extra></extra>",
         "legendgroup": "SoftBank Group",
         "marker": {
          "color": "#FFA15A",
          "symbol": "circle"
         },
         "mode": "markers",
         "name": "SoftBank Group",
         "orientation": "v",
         "showlegend": true,
         "type": "scatter",
         "x": [
          65352
         ],
         "xaxis": "x",
         "y": [
          46748.8
         ],
         "yaxis": "y"
        },
        {
         "hovertemplate": "Name=Sinomach<br>Employees=%{x}<br>Revenues ($M)=%{y}<extra></extra>",
         "legendgroup": "Sinomach",
         "marker": {
          "color": "#19d3f3",
          "symbol": "circle"
         },
         "mode": "markers",
         "name": "Sinomach",
         "orientation": "v",
         "showlegend": true,
         "type": "scatter",
         "x": [
          117357
         ],
         "xaxis": "x",
         "y": [
          46482.2
         ],
         "yaxis": "y"
        },
        {
         "hovertemplate": "Name=Talanx<br>Employees=%{x}<br>Revenues ($M)=%{y}<extra></extra>",
         "legendgroup": "Talanx",
         "marker": {
          "color": "#FF6692",
          "symbol": "circle"
         },
         "mode": "markers",
         "name": "Talanx",
         "orientation": "v",
         "showlegend": true,
         "type": "scatter",
         "x": [
          27863
         ],
         "xaxis": "x",
         "y": [
          46155.8
         ],
         "yaxis": "y"
        },
        {
         "hovertemplate": "Name=America Movil<br>Employees=%{x}<br>Revenues ($M)=%{y}<extra></extra>",
         "legendgroup": "America Movil",
         "marker": {
          "color": "#B6E880",
          "symbol": "circle"
         },
         "mode": "markers",
         "name": "America Movil",
         "orientation": "v",
         "showlegend": true,
         "type": "scatter",
         "x": [
          176083
         ],
         "xaxis": "x",
         "y": [
          46010.9
         ],
         "yaxis": "y"
        },
        {
         "hovertemplate": "Name=AstraZeneca<br>Employees=%{x}<br>Revenues ($M)=%{y}<extra></extra>",
         "legendgroup": "AstraZeneca",
         "marker": {
          "color": "#FF97FF",
          "symbol": "circle"
         },
         "mode": "markers",
         "name": "AstraZeneca",
         "orientation": "v",
         "showlegend": true,
         "type": "scatter",
         "x": [
          89900
         ],
         "xaxis": "x",
         "y": [
          45811
         ],
         "yaxis": "y"
        },
        {
         "hovertemplate": "Name=Zhejiang Communications Investment Group<br>Employees=%{x}<br>Revenues ($M)=%{y}<extra></extra>",
         "legendgroup": "Zhejiang Communications Investment Group",
         "marker": {
          "color": "#FECB52",
          "symbol": "circle"
         },
         "mode": "markers",
         "name": "Zhejiang Communications Investment Group",
         "orientation": "v",
         "showlegend": true,
         "type": "scatter",
         "x": [
          43266
         ],
         "xaxis": "x",
         "y": [
          45772
         ],
         "yaxis": "y"
        },
        {
         "hovertemplate": "Name=China Pacific Insurance (Group)<br>Employees=%{x}<br>Revenues ($M)=%{y}<extra></extra>",
         "legendgroup": "China Pacific Insurance (Group)",
         "marker": {
          "color": "#636efa",
          "symbol": "circle"
         },
         "mode": "markers",
         "name": "China Pacific Insurance (Group)",
         "orientation": "v",
         "showlegend": true,
         "type": "scatter",
         "x": [
          98732
         ],
         "xaxis": "x",
         "y": [
          45759.9
         ],
         "yaxis": "y"
        },
        {
         "hovertemplate": "Name=Coca-Cola<br>Employees=%{x}<br>Revenues ($M)=%{y}<extra></extra>",
         "legendgroup": "Coca-Cola",
         "marker": {
          "color": "#EF553B",
          "symbol": "circle"
         },
         "mode": "markers",
         "name": "Coca-Cola",
         "orientation": "v",
         "showlegend": true,
         "type": "scatter",
         "x": [
          79100
         ],
         "xaxis": "x",
         "y": [
          45754
         ],
         "yaxis": "y"
        },
        {
         "hovertemplate": "Name=TIAA<br>Employees=%{x}<br>Revenues ($M)=%{y}<extra></extra>",
         "legendgroup": "TIAA",
         "marker": {
          "color": "#00cc96",
          "symbol": "circle"
         },
         "mode": "markers",
         "name": "TIAA",
         "orientation": "v",
         "showlegend": true,
         "type": "scatter",
         "x": [
          16023
         ],
         "xaxis": "x",
         "y": [
          45734.8
         ],
         "yaxis": "y"
        },
        {
         "hovertemplate": "Name=Caixa Economica Federal<br>Employees=%{x}<br>Revenues ($M)=%{y}<extra></extra>",
         "legendgroup": "Caixa Economica Federal",
         "marker": {
          "color": "#ab63fa",
          "symbol": "circle"
         },
         "mode": "markers",
         "name": "Caixa Economica Federal",
         "orientation": "v",
         "showlegend": true,
         "type": "scatter",
         "x": [
          86962
         ],
         "xaxis": "x",
         "y": [
          45706.8
         ],
         "yaxis": "y"
        },
        {
         "hovertemplate": "Name=CHS<br>Employees=%{x}<br>Revenues ($M)=%{y}<extra></extra>",
         "legendgroup": "CHS",
         "marker": {
          "color": "#FFA15A",
          "symbol": "circle"
         },
         "mode": "markers",
         "name": "CHS",
         "orientation": "v",
         "showlegend": true,
         "type": "scatter",
         "x": [
          10609
         ],
         "xaxis": "x",
         "y": [
          45590
         ],
         "yaxis": "y"
        },
        {
         "hovertemplate": "Name=China Huadian<br>Employees=%{x}<br>Revenues ($M)=%{y}<extra></extra>",
         "legendgroup": "China Huadian",
         "marker": {
          "color": "#19d3f3",
          "symbol": "circle"
         },
         "mode": "markers",
         "name": "China Huadian",
         "orientation": "v",
         "showlegend": true,
         "type": "scatter",
         "x": [
          93459
         ],
         "xaxis": "x",
         "y": [
          45534.1
         ],
         "yaxis": "y"
        },
        {
         "hovertemplate": "Name=Crédit Mutuel Group<br>Employees=%{x}<br>Revenues ($M)=%{y}<extra></extra>",
         "legendgroup": "Crédit Mutuel Group",
         "marker": {
          "color": "#FF6692",
          "symbol": "circle"
         },
         "mode": "markers",
         "name": "Crédit Mutuel Group",
         "orientation": "v",
         "showlegend": true,
         "type": "scatter",
         "x": [
          77283
         ],
         "xaxis": "x",
         "y": [
          45489.9
         ],
         "yaxis": "y"
        },
        {
         "hovertemplate": "Name=MS&AD Insurance Group Holdings<br>Employees=%{x}<br>Revenues ($M)=%{y}<extra></extra>",
         "legendgroup": "MS&AD Insurance Group Holdings",
         "marker": {
          "color": "#B6E880",
          "symbol": "circle"
         },
         "mode": "markers",
         "name": "MS&AD Insurance Group Holdings",
         "orientation": "v",
         "showlegend": true,
         "type": "scatter",
         "x": [
          38391
         ],
         "xaxis": "x",
         "y": [
          45478.4
         ],
         "yaxis": "y"
        },
        {
         "hovertemplate": "Name=Hyundai Mobis<br>Employees=%{x}<br>Revenues ($M)=%{y}<extra></extra>",
         "legendgroup": "Hyundai Mobis",
         "marker": {
          "color": "#FF97FF",
          "symbol": "circle"
         },
         "mode": "markers",
         "name": "Hyundai Mobis",
         "orientation": "v",
         "showlegend": true,
         "type": "scatter",
         "x": [
          46183
         ],
         "xaxis": "x",
         "y": [
          45368.7
         ],
         "yaxis": "y"
        },
        {
         "hovertemplate": "Name=Susun Construction Group<br>Employees=%{x}<br>Revenues ($M)=%{y}<extra></extra>",
         "legendgroup": "Susun Construction Group",
         "marker": {
          "color": "#FECB52",
          "symbol": "circle"
         },
         "mode": "markers",
         "name": "Susun Construction Group",
         "orientation": "v",
         "showlegend": true,
         "type": "scatter",
         "x": [
          141256
         ],
         "xaxis": "x",
         "y": [
          45265.4
         ],
         "yaxis": "y"
        },
        {
         "hovertemplate": "Name=SNCF Group<br>Employees=%{x}<br>Revenues ($M)=%{y}<extra></extra>",
         "legendgroup": "SNCF Group",
         "marker": {
          "color": "#636efa",
          "symbol": "circle"
         },
         "mode": "markers",
         "name": "SNCF Group",
         "orientation": "v",
         "showlegend": true,
         "type": "scatter",
         "x": [
          282786
         ],
         "xaxis": "x",
         "y": [
          45145
         ],
         "yaxis": "y"
        },
        {
         "hovertemplate": "Name=Bristol-Myers Squibb<br>Employees=%{x}<br>Revenues ($M)=%{y}<extra></extra>",
         "legendgroup": "Bristol-Myers Squibb",
         "marker": {
          "color": "#EF553B",
          "symbol": "circle"
         },
         "mode": "markers",
         "name": "Bristol-Myers Squibb",
         "orientation": "v",
         "showlegend": true,
         "type": "scatter",
         "x": [
          34100
         ],
         "xaxis": "x",
         "y": [
          45006
         ],
         "yaxis": "y"
        },
        {
         "hovertemplate": "Name=China South Industries Group<br>Employees=%{x}<br>Revenues ($M)=%{y}<extra></extra>",
         "legendgroup": "China South Industries Group",
         "marker": {
          "color": "#00cc96",
          "symbol": "circle"
         },
         "mode": "markers",
         "name": "China South Industries Group",
         "orientation": "v",
         "showlegend": true,
         "type": "scatter",
         "x": [
          159837
         ],
         "xaxis": "x",
         "y": [
          44790.2
         ],
         "yaxis": "y"
        },
        {
         "hovertemplate": "Name=Continental<br>Employees=%{x}<br>Revenues ($M)=%{y}<extra></extra>",
         "legendgroup": "Continental",
         "marker": {
          "color": "#ab63fa",
          "symbol": "circle"
         },
         "mode": "markers",
         "name": "Continental",
         "orientation": "v",
         "showlegend": true,
         "type": "scatter",
         "x": [
          202763
         ],
         "xaxis": "x",
         "y": [
          44778
         ],
         "yaxis": "y"
        },
        {
         "hovertemplate": "Name=Raizen<br>Employees=%{x}<br>Revenues ($M)=%{y}<extra></extra>",
         "legendgroup": "Raizen",
         "marker": {
          "color": "#FFA15A",
          "symbol": "circle"
         },
         "mode": "markers",
         "name": "Raizen",
         "orientation": "v",
         "showlegend": true,
         "type": "scatter",
         "x": [
          45417
         ],
         "xaxis": "x",
         "y": [
          44694.1
         ],
         "yaxis": "y"
        },
        {
         "hovertemplate": "Name=Dow<br>Employees=%{x}<br>Revenues ($M)=%{y}<extra></extra>",
         "legendgroup": "Dow",
         "marker": {
          "color": "#19d3f3",
          "symbol": "circle"
         },
         "mode": "markers",
         "name": "Dow",
         "orientation": "v",
         "showlegend": true,
         "type": "scatter",
         "x": [
          35900
         ],
         "xaxis": "x",
         "y": [
          44622
         ],
         "yaxis": "y"
        },
        {
         "hovertemplate": "Name=George Weston<br>Employees=%{x}<br>Revenues ($M)=%{y}<extra></extra>",
         "legendgroup": "George Weston",
         "marker": {
          "color": "#FF6692",
          "symbol": "circle"
         },
         "mode": "markers",
         "name": "George Weston",
         "orientation": "v",
         "showlegend": true,
         "type": "scatter",
         "x": [
          220280
         ],
         "xaxis": "x",
         "y": [
          44559.6
         ],
         "yaxis": "y"
        },
        {
         "hovertemplate": "Name=L'Oréal<br>Employees=%{x}<br>Revenues ($M)=%{y}<extra></extra>",
         "legendgroup": "L'Oréal",
         "marker": {
          "color": "#B6E880",
          "symbol": "circle"
         },
         "mode": "markers",
         "name": "L'Oréal",
         "orientation": "v",
         "showlegend": true,
         "type": "scatter",
         "x": [
          94605
         ],
         "xaxis": "x",
         "y": [
          44520.7
         ],
         "yaxis": "y"
        },
        {
         "hovertemplate": "Name=Fomento Economico Mexicano<br>Employees=%{x}<br>Revenues ($M)=%{y}<extra></extra>",
         "legendgroup": "Fomento Economico Mexicano",
         "marker": {
          "color": "#FF97FF",
          "symbol": "circle"
         },
         "mode": "markers",
         "name": "Fomento Economico Mexicano",
         "orientation": "v",
         "showlegend": true,
         "type": "scatter",
         "x": [
          392932
         ],
         "xaxis": "x",
         "y": [
          44167.9
         ],
         "yaxis": "y"
        },
        {
         "hovertemplate": "Name=Telefónica<br>Employees=%{x}<br>Revenues ($M)=%{y}<extra></extra>",
         "legendgroup": "Telefónica",
         "marker": {
          "color": "#FECB52",
          "symbol": "circle"
         },
         "mode": "markers",
         "name": "Telefónica",
         "orientation": "v",
         "showlegend": true,
         "type": "scatter",
         "x": [
          104142
         ],
         "xaxis": "x",
         "y": [
          43947.2
         ],
         "yaxis": "y"
        },
        {
         "hovertemplate": "Name=China Minsheng Banking<br>Employees=%{x}<br>Revenues ($M)=%{y}<extra></extra>",
         "legendgroup": "China Minsheng Banking",
         "marker": {
          "color": "#636efa",
          "symbol": "circle"
         },
         "mode": "markers",
         "name": "China Minsheng Banking",
         "orientation": "v",
         "showlegend": true,
         "type": "scatter",
         "x": [
          63742
         ],
         "xaxis": "x",
         "y": [
          43553.6
         ],
         "yaxis": "y"
        },
        {
         "hovertemplate": "Name=Best Buy<br>Employees=%{x}<br>Revenues ($M)=%{y}<extra></extra>",
         "legendgroup": "Best Buy",
         "marker": {
          "color": "#EF553B",
          "symbol": "circle"
         },
         "mode": "markers",
         "name": "Best Buy",
         "orientation": "v",
         "showlegend": true,
         "type": "scatter",
         "x": [
          85000
         ],
         "xaxis": "x",
         "y": [
          43452
         ],
         "yaxis": "y"
        },
        {
         "hovertemplate": "Name=Woolworths Group<br>Employees=%{x}<br>Revenues ($M)=%{y}<extra></extra>",
         "legendgroup": "Woolworths Group",
         "marker": {
          "color": "#00cc96",
          "symbol": "circle"
         },
         "mode": "markers",
         "name": "Woolworths Group",
         "orientation": "v",
         "showlegend": true,
         "type": "scatter",
         "x": [
          200364
         ],
         "xaxis": "x",
         "y": [
          43256.8
         ],
         "yaxis": "y"
        },
        {
         "hovertemplate": "Name=Shanghai Construction Group<br>Employees=%{x}<br>Revenues ($M)=%{y}<extra></extra>",
         "legendgroup": "Shanghai Construction Group",
         "marker": {
          "color": "#ab63fa",
          "symbol": "circle"
         },
         "mode": "markers",
         "name": "Shanghai Construction Group",
         "orientation": "v",
         "showlegend": true,
         "type": "scatter",
         "x": [
          51272
         ],
         "xaxis": "x",
         "y": [
          43031.1
         ],
         "yaxis": "y"
        },
        {
         "hovertemplate": "Name=LG Chem<br>Employees=%{x}<br>Revenues ($M)=%{y}<extra></extra>",
         "legendgroup": "LG Chem",
         "marker": {
          "color": "#FFA15A",
          "symbol": "circle"
         },
         "mode": "markers",
         "name": "LG Chem",
         "orientation": "v",
         "showlegend": true,
         "type": "scatter",
         "x": [
          40000
         ],
         "xaxis": "x",
         "y": [
          42921.6
         ],
         "yaxis": "y"
        },
        {
         "hovertemplate": "Name=Thermo Fisher Scientific<br>Employees=%{x}<br>Revenues ($M)=%{y}<extra></extra>",
         "legendgroup": "Thermo Fisher Scientific",
         "marker": {
          "color": "#19d3f3",
          "symbol": "circle"
         },
         "mode": "markers",
         "name": "Thermo Fisher Scientific",
         "orientation": "v",
         "showlegend": true,
         "type": "scatter",
         "x": [
          122000
         ],
         "xaxis": "x",
         "y": [
          42857
         ],
         "yaxis": "y"
        },
        {
         "hovertemplate": "Name=Magna International<br>Employees=%{x}<br>Revenues ($M)=%{y}<extra></extra>",
         "legendgroup": "Magna International",
         "marker": {
          "color": "#FF6692",
          "symbol": "circle"
         },
         "mode": "markers",
         "name": "Magna International",
         "orientation": "v",
         "showlegend": true,
         "type": "scatter",
         "x": [
          166000
         ],
         "xaxis": "x",
         "y": [
          42797
         ],
         "yaxis": "y"
        },
        {
         "hovertemplate": "Name=OMV Group<br>Employees=%{x}<br>Revenues ($M)=%{y}<extra></extra>",
         "legendgroup": "OMV Group",
         "marker": {
          "color": "#B6E880",
          "symbol": "circle"
         },
         "mode": "markers",
         "name": "OMV Group",
         "orientation": "v",
         "showlegend": true,
         "type": "scatter",
         "x": [
          20592
         ],
         "xaxis": "x",
         "y": [
          42661.8
         ],
         "yaxis": "y"
        },
        {
         "hovertemplate": "Name=Massachusetts Mutual Life Insurance<br>Employees=%{x}<br>Revenues ($M)=%{y}<extra></extra>",
         "legendgroup": "Massachusetts Mutual Life Insurance",
         "marker": {
          "color": "#FF97FF",
          "symbol": "circle"
         },
         "mode": "markers",
         "name": "Massachusetts Mutual Life Insurance",
         "orientation": "v",
         "showlegend": true,
         "type": "scatter",
         "x": [
          11323
         ],
         "xaxis": "x",
         "y": [
          42641.4
         ],
         "yaxis": "y"
        },
        {
         "hovertemplate": "Name=USAA<br>Employees=%{x}<br>Revenues ($M)=%{y}<extra></extra>",
         "legendgroup": "USAA",
         "marker": {
          "color": "#FECB52",
          "symbol": "circle"
         },
         "mode": "markers",
         "name": "USAA",
         "orientation": "v",
         "showlegend": true,
         "type": "scatter",
         "x": [
          37376
         ],
         "xaxis": "x",
         "y": [
          42493.4
         ],
         "yaxis": "y"
        },
        {
         "hovertemplate": "Name=Guangzhou Municipal Construction Group<br>Employees=%{x}<br>Revenues ($M)=%{y}<extra></extra>",
         "legendgroup": "Guangzhou Municipal Construction Group",
         "marker": {
          "color": "#636efa",
          "symbol": "circle"
         },
         "mode": "markers",
         "name": "Guangzhou Municipal Construction Group",
         "orientation": "v",
         "showlegend": true,
         "type": "scatter",
         "x": [
          50608
         ],
         "xaxis": "x",
         "y": [
          42403.2
         ],
         "yaxis": "y"
        },
        {
         "hovertemplate": "Name=General Dynamics<br>Employees=%{x}<br>Revenues ($M)=%{y}<extra></extra>",
         "legendgroup": "General Dynamics",
         "marker": {
          "color": "#EF553B",
          "symbol": "circle"
         },
         "mode": "markers",
         "name": "General Dynamics",
         "orientation": "v",
         "showlegend": true,
         "type": "scatter",
         "x": [
          111600
         ],
         "xaxis": "x",
         "y": [
          42272
         ],
         "yaxis": "y"
        },
        {
         "hovertemplate": "Name=Vale<br>Employees=%{x}<br>Revenues ($M)=%{y}<extra></extra>",
         "legendgroup": "Vale",
         "marker": {
          "color": "#00cc96",
          "symbol": "circle"
         },
         "mode": "markers",
         "name": "Vale",
         "orientation": "v",
         "showlegend": true,
         "type": "scatter",
         "x": [
          66807
         ],
         "xaxis": "x",
         "y": [
          41784
         ],
         "yaxis": "y"
        },
        {
         "hovertemplate": "Name=Zijin Mining Group<br>Employees=%{x}<br>Revenues ($M)=%{y}<extra></extra>",
         "legendgroup": "Zijin Mining Group",
         "marker": {
          "color": "#ab63fa",
          "symbol": "circle"
         },
         "mode": "markers",
         "name": "Zijin Mining Group",
         "orientation": "v",
         "showlegend": true,
         "type": "scatter",
         "x": [
          55239
         ],
         "xaxis": "x",
         "y": [
          41445.6
         ],
         "yaxis": "y"
        },
        {
         "hovertemplate": "Name=Travelers<br>Employees=%{x}<br>Revenues ($M)=%{y}<extra></extra>",
         "legendgroup": "Travelers",
         "marker": {
          "color": "#FFA15A",
          "symbol": "circle"
         },
         "mode": "markers",
         "name": "Travelers",
         "orientation": "v",
         "showlegend": true,
         "type": "scatter",
         "x": [
          33133
         ],
         "xaxis": "x",
         "y": [
          41364
         ],
         "yaxis": "y"
        },
        {
         "hovertemplate": "Name=Warner Bros. Discovery<br>Employees=%{x}<br>Revenues ($M)=%{y}<extra></extra>",
         "legendgroup": "Warner Bros. Discovery",
         "marker": {
          "color": "#19d3f3",
          "symbol": "circle"
         },
         "mode": "markers",
         "name": "Warner Bros. Discovery",
         "orientation": "v",
         "showlegend": true,
         "type": "scatter",
         "x": [
          35300
         ],
         "xaxis": "x",
         "y": [
          41321
         ],
         "yaxis": "y"
        },
        {
         "hovertemplate": "Name=Canadian Imperial Bank of Commerce<br>Employees=%{x}<br>Revenues ($M)=%{y}<extra></extra>",
         "legendgroup": "Canadian Imperial Bank of Commerce",
         "marker": {
          "color": "#FF6692",
          "symbol": "circle"
         },
         "mode": "markers",
         "name": "Canadian Imperial Bank of Commerce",
         "orientation": "v",
         "showlegend": true,
         "type": "scatter",
         "x": [
          48074
         ],
         "xaxis": "x",
         "y": [
          41169.8
         ],
         "yaxis": "y"
        },
        {
         "hovertemplate": "Name=LyondellBasell Industries<br>Employees=%{x}<br>Revenues ($M)=%{y}<extra></extra>",
         "legendgroup": "LyondellBasell Industries",
         "marker": {
          "color": "#B6E880",
          "symbol": "circle"
         },
         "mode": "markers",
         "name": "LyondellBasell Industries",
         "orientation": "v",
         "showlegend": true,
         "type": "scatter",
         "x": [
          20000
         ],
         "xaxis": "x",
         "y": [
          41107
         ],
         "yaxis": "y"
        },
        {
         "hovertemplate": "Name=J. Sainsbury<br>Employees=%{x}<br>Revenues ($M)=%{y}<extra></extra>",
         "legendgroup": "J. Sainsbury",
         "marker": {
          "color": "#FF97FF",
          "symbol": "circle"
         },
         "mode": "markers",
         "name": "J. Sainsbury",
         "orientation": "v",
         "showlegend": true,
         "type": "scatter",
         "x": [
          100000
         ],
         "xaxis": "x",
         "y": [
          41088.4
         ],
         "yaxis": "y"
        },
        {
         "hovertemplate": "Name=Shenzhen Investment Holdings<br>Employees=%{x}<br>Revenues ($M)=%{y}<extra></extra>",
         "legendgroup": "Shenzhen Investment Holdings",
         "marker": {
          "color": "#FECB52",
          "symbol": "circle"
         },
         "mode": "markers",
         "name": "Shenzhen Investment Holdings",
         "orientation": "v",
         "showlegend": true,
         "type": "scatter",
         "x": [
          103928
         ],
         "xaxis": "x",
         "y": [
          41025.2
         ],
         "yaxis": "y"
        },
        {
         "hovertemplate": "Name=Ansteel Group<br>Employees=%{x}<br>Revenues ($M)=%{y}<extra></extra>",
         "legendgroup": "Ansteel Group",
         "marker": {
          "color": "#636efa",
          "symbol": "circle"
         },
         "mode": "markers",
         "name": "Ansteel Group",
         "orientation": "v",
         "showlegend": true,
         "type": "scatter",
         "x": [
          149765
         ],
         "xaxis": "x",
         "y": [
          40684.6
         ],
         "yaxis": "y"
        },
        {
         "hovertemplate": "Name=Hanwha<br>Employees=%{x}<br>Revenues ($M)=%{y}<extra></extra>",
         "legendgroup": "Hanwha",
         "marker": {
          "color": "#EF553B",
          "symbol": "circle"
         },
         "mode": "markers",
         "name": "Hanwha",
         "orientation": "v",
         "showlegend": true,
         "type": "scatter",
         "x": [
          69345
         ],
         "xaxis": "x",
         "y": [
          40683.2
         ],
         "yaxis": "y"
        },
        {
         "hovertemplate": "Name=U.S. Bancorp<br>Employees=%{x}<br>Revenues ($M)=%{y}<extra></extra>",
         "legendgroup": "U.S. Bancorp",
         "marker": {
          "color": "#00cc96",
          "symbol": "circle"
         },
         "mode": "markers",
         "name": "U.S. Bancorp",
         "orientation": "v",
         "showlegend": true,
         "type": "scatter",
         "x": [
          75465
         ],
         "xaxis": "x",
         "y": [
          40624
         ],
         "yaxis": "y"
        },
        {
         "hovertemplate": "Name=Lufthansa Group<br>Employees=%{x}<br>Revenues ($M)=%{y}<extra></extra>",
         "legendgroup": "Lufthansa Group",
         "marker": {
          "color": "#ab63fa",
          "symbol": "circle"
         },
         "mode": "markers",
         "name": "Lufthansa Group",
         "orientation": "v",
         "showlegend": true,
         "type": "scatter",
         "x": [
          79759
         ],
         "xaxis": "x",
         "y": [
          40455.4
         ],
         "yaxis": "y"
        },
        {
         "hovertemplate": "Name=Pegatron<br>Employees=%{x}<br>Revenues ($M)=%{y}<extra></extra>",
         "legendgroup": "Pegatron",
         "marker": {
          "color": "#FFA15A",
          "symbol": "circle"
         },
         "mode": "markers",
         "name": "Pegatron",
         "orientation": "v",
         "showlegend": true,
         "type": "scatter",
         "x": [
          147360
         ],
         "xaxis": "x",
         "y": [
          40356.8
         ],
         "yaxis": "y"
        },
        {
         "hovertemplate": "Name=Abbott Laboratories<br>Employees=%{x}<br>Revenues ($M)=%{y}<extra></extra>",
         "legendgroup": "Abbott Laboratories",
         "marker": {
          "color": "#19d3f3",
          "symbol": "circle"
         },
         "mode": "markers",
         "name": "Abbott Laboratories",
         "orientation": "v",
         "showlegend": true,
         "type": "scatter",
         "x": [
          114000
         ],
         "xaxis": "x",
         "y": [
          40109
         ],
         "yaxis": "y"
        },
        {
         "hovertemplate": "Name=ThyssenKrupp<br>Employees=%{x}<br>Revenues ($M)=%{y}<extra></extra>",
         "legendgroup": "ThyssenKrupp",
         "marker": {
          "color": "#FF6692",
          "symbol": "circle"
         },
         "mode": "markers",
         "name": "ThyssenKrupp",
         "orientation": "v",
         "showlegend": true,
         "type": "scatter",
         "x": [
          99981
         ],
         "xaxis": "x",
         "y": [
          40027.9
         ],
         "yaxis": "y"
        },
        {
         "hovertemplate": "Name=New Hope Holding Group<br>Employees=%{x}<br>Revenues ($M)=%{y}<extra></extra>",
         "legendgroup": "New Hope Holding Group",
         "marker": {
          "color": "#B6E880",
          "symbol": "circle"
         },
         "mode": "markers",
         "name": "New Hope Holding Group",
         "orientation": "v",
         "showlegend": true,
         "type": "scatter",
         "x": [
          79066
         ],
         "xaxis": "x",
         "y": [
          39988
         ],
         "yaxis": "y"
        },
        {
         "hovertemplate": "Name=KDDI<br>Employees=%{x}<br>Revenues ($M)=%{y}<extra></extra>",
         "legendgroup": "KDDI",
         "marker": {
          "color": "#FF97FF",
          "symbol": "circle"
         },
         "mode": "markers",
         "name": "KDDI",
         "orientation": "v",
         "showlegend": true,
         "type": "scatter",
         "x": [
          61288
         ],
         "xaxis": "x",
         "y": [
          39812.7
         ],
         "yaxis": "y"
        },
        {
         "hovertemplate": "Name=China National Nuclear<br>Employees=%{x}<br>Revenues ($M)=%{y}<extra></extra>",
         "legendgroup": "China National Nuclear",
         "marker": {
          "color": "#FECB52",
          "symbol": "circle"
         },
         "mode": "markers",
         "name": "China National Nuclear",
         "orientation": "v",
         "showlegend": true,
         "type": "scatter",
         "x": [
          182750
         ],
         "xaxis": "x",
         "y": [
          39632.9
         ],
         "yaxis": "y"
        },
        {
         "hovertemplate": "Name=Taikang Insurance Group<br>Employees=%{x}<br>Revenues ($M)=%{y}<extra></extra>",
         "legendgroup": "Taikang Insurance Group",
         "marker": {
          "color": "#636efa",
          "symbol": "circle"
         },
         "mode": "markers",
         "name": "Taikang Insurance Group",
         "orientation": "v",
         "showlegend": true,
         "type": "scatter",
         "x": [
          55408
         ],
         "xaxis": "x",
         "y": [
          39411.6
         ],
         "yaxis": "y"
        },
        {
         "hovertemplate": "Name=Northrop Grumman<br>Employees=%{x}<br>Revenues ($M)=%{y}<extra></extra>",
         "legendgroup": "Northrop Grumman",
         "marker": {
          "color": "#EF553B",
          "symbol": "circle"
         },
         "mode": "markers",
         "name": "Northrop Grumman",
         "orientation": "v",
         "showlegend": true,
         "type": "scatter",
         "x": [
          101000
         ],
         "xaxis": "x",
         "y": [
          39290
         ],
         "yaxis": "y"
        },
        {
         "hovertemplate": "Name=Jiangsu Shagang Group<br>Employees=%{x}<br>Revenues ($M)=%{y}<extra></extra>",
         "legendgroup": "Jiangsu Shagang Group",
         "marker": {
          "color": "#00cc96",
          "symbol": "circle"
         },
         "mode": "markers",
         "name": "Jiangsu Shagang Group",
         "orientation": "v",
         "showlegend": true,
         "type": "scatter",
         "x": [
          44004
         ],
         "xaxis": "x",
         "y": [
          39241.3
         ],
         "yaxis": "y"
        },
        {
         "hovertemplate": "Name=Meituan<br>Employees=%{x}<br>Revenues ($M)=%{y}<extra></extra>",
         "legendgroup": "Meituan",
         "marker": {
          "color": "#ab63fa",
          "symbol": "circle"
         },
         "mode": "markers",
         "name": "Meituan",
         "orientation": "v",
         "showlegend": true,
         "type": "scatter",
         "x": [
          114860
         ],
         "xaxis": "x",
         "y": [
          39092.5
         ],
         "yaxis": "y"
        },
        {
         "hovertemplate": "Name=Chery Holding Group<br>Employees=%{x}<br>Revenues ($M)=%{y}<extra></extra>",
         "legendgroup": "Chery Holding Group",
         "marker": {
          "color": "#FFA15A",
          "symbol": "circle"
         },
         "mode": "markers",
         "name": "Chery Holding Group",
         "orientation": "v",
         "showlegend": true,
         "type": "scatter",
         "x": [
          56584
         ],
         "xaxis": "x",
         "y": [
          39091.7
         ],
         "yaxis": "y"
        },
        {
         "hovertemplate": "Name=Inditex<br>Employees=%{x}<br>Revenues ($M)=%{y}<extra></extra>",
         "legendgroup": "Inditex",
         "marker": {
          "color": "#19d3f3",
          "symbol": "circle"
         },
         "mode": "markers",
         "name": "Inditex",
         "orientation": "v",
         "showlegend": true,
         "type": "scatter",
         "x": [
          114510
         ],
         "xaxis": "x",
         "y": [
          38903
         ],
         "yaxis": "y"
        },
        {
         "hovertemplate": "Name=Schneider Electric<br>Employees=%{x}<br>Revenues ($M)=%{y}<extra></extra>",
         "legendgroup": "Schneider Electric",
         "marker": {
          "color": "#FF6692",
          "symbol": "circle"
         },
         "mode": "markers",
         "name": "Schneider Electric",
         "orientation": "v",
         "showlegend": true,
         "type": "scatter",
         "x": [
          168044
         ],
         "xaxis": "x",
         "y": [
          38812.2
         ],
         "yaxis": "y"
        },
        {
         "hovertemplate": "Name=Northwestern Mutual<br>Employees=%{x}<br>Revenues ($M)=%{y}<extra></extra>",
         "legendgroup": "Northwestern Mutual",
         "marker": {
          "color": "#B6E880",
          "symbol": "circle"
         },
         "mode": "markers",
         "name": "Northwestern Mutual",
         "orientation": "v",
         "showlegend": true,
         "type": "scatter",
         "x": [
          8239
         ],
         "xaxis": "x",
         "y": [
          38788.1
         ],
         "yaxis": "y"
        },
        {
         "hovertemplate": "Name=Dollar General<br>Employees=%{x}<br>Revenues ($M)=%{y}<extra></extra>",
         "legendgroup": "Dollar General",
         "marker": {
          "color": "#FF97FF",
          "symbol": "circle"
         },
         "mode": "markers",
         "name": "Dollar General",
         "orientation": "v",
         "showlegend": true,
         "type": "scatter",
         "x": [
          185800
         ],
         "xaxis": "x",
         "y": [
          38691.6
         ],
         "yaxis": "y"
        },
        {
         "hovertemplate": "Name=Cenovus Energy<br>Employees=%{x}<br>Revenues ($M)=%{y}<extra></extra>",
         "legendgroup": "Cenovus Energy",
         "marker": {
          "color": "#FECB52",
          "symbol": "circle"
         },
         "mode": "markers",
         "name": "Cenovus Energy",
         "orientation": "v",
         "showlegend": true,
         "type": "scatter",
         "x": [
          6925
         ],
         "xaxis": "x",
         "y": [
          38689.8
         ],
         "yaxis": "y"
        },
        {
         "hovertemplate": "Name=ACS<br>Employees=%{x}<br>Revenues ($M)=%{y}<extra></extra>",
         "legendgroup": "ACS",
         "marker": {
          "color": "#636efa",
          "symbol": "circle"
         },
         "mode": "markers",
         "name": "ACS",
         "orientation": "v",
         "showlegend": true,
         "type": "scatter",
         "x": [
          122979
         ],
         "xaxis": "x",
         "y": [
          38634.6
         ],
         "yaxis": "y"
        },
        {
         "hovertemplate": "Name=Coop Group<br>Employees=%{x}<br>Revenues ($M)=%{y}<extra></extra>",
         "legendgroup": "Coop Group",
         "marker": {
          "color": "#EF553B",
          "symbol": "circle"
         },
         "mode": "markers",
         "name": "Coop Group",
         "orientation": "v",
         "showlegend": true,
         "type": "scatter",
         "x": [
          82983
         ],
         "xaxis": "x",
         "y": [
          38582.7
         ],
         "yaxis": "y"
        },
        {
         "hovertemplate": "Name=Fairfax Financial Holdings<br>Employees=%{x}<br>Revenues ($M)=%{y}<extra></extra>",
         "legendgroup": "Fairfax Financial Holdings",
         "marker": {
          "color": "#00cc96",
          "symbol": "circle"
         },
         "mode": "markers",
         "name": "Fairfax Financial Holdings",
         "orientation": "v",
         "showlegend": true,
         "type": "scatter",
         "x": [
          51044
         ],
         "xaxis": "x",
         "y": [
          38417.2
         ],
         "yaxis": "y"
        },
        {
         "hovertemplate": "Name=Guangzhou Industrial Investment Holdings<br>Employees=%{x}<br>Revenues ($M)=%{y}<extra></extra>",
         "legendgroup": "Guangzhou Industrial Investment Holdings",
         "marker": {
          "color": "#ab63fa",
          "symbol": "circle"
         },
         "mode": "markers",
         "name": "Guangzhou Industrial Investment Holdings",
         "orientation": "v",
         "showlegend": true,
         "type": "scatter",
         "x": [
          88440
         ],
         "xaxis": "x",
         "y": [
          38345.2
         ],
         "yaxis": "y"
        },
        {
         "hovertemplate": "Name=PBF Energy<br>Employees=%{x}<br>Revenues ($M)=%{y}<extra></extra>",
         "legendgroup": "PBF Energy",
         "marker": {
          "color": "#FFA15A",
          "symbol": "circle"
         },
         "mode": "markers",
         "name": "PBF Energy",
         "orientation": "v",
         "showlegend": true,
         "type": "scatter",
         "x": [
          3776
         ],
         "xaxis": "x",
         "y": [
          38324.8
         ],
         "yaxis": "y"
        },
        {
         "hovertemplate": "Name=Standard Chartered<br>Employees=%{x}<br>Revenues ($M)=%{y}<extra></extra>",
         "legendgroup": "Standard Chartered",
         "marker": {
          "color": "#19d3f3",
          "symbol": "circle"
         },
         "mode": "markers",
         "name": "Standard Chartered",
         "orientation": "v",
         "showlegend": true,
         "type": "scatter",
         "x": [
          84958
         ],
         "xaxis": "x",
         "y": [
          38292
         ],
         "yaxis": "y"
        },
        {
         "hovertemplate": "Name=Xiaomi<br>Employees=%{x}<br>Revenues ($M)=%{y}<extra></extra>",
         "legendgroup": "Xiaomi",
         "marker": {
          "color": "#FF6692",
          "symbol": "circle"
         },
         "mode": "markers",
         "name": "Xiaomi",
         "orientation": "v",
         "showlegend": true,
         "type": "scatter",
         "x": [
          33627
         ],
         "xaxis": "x",
         "y": [
          38276.8
         ],
         "yaxis": "y"
        },
        {
         "hovertemplate": "Name=Compass Group<br>Employees=%{x}<br>Revenues ($M)=%{y}<extra></extra>",
         "legendgroup": "Compass Group",
         "marker": {
          "color": "#B6E880",
          "symbol": "circle"
         },
         "mode": "markers",
         "name": "Compass Group",
         "orientation": "v",
         "showlegend": true,
         "type": "scatter",
         "x": [
          562460
         ],
         "xaxis": "x",
         "y": [
          38004.7
         ],
         "yaxis": "y"
        },
        {
         "hovertemplate": "Name=Meiji Yasuda Life Insurance<br>Employees=%{x}<br>Revenues ($M)=%{y}<extra></extra>",
         "legendgroup": "Meiji Yasuda Life Insurance",
         "marker": {
          "color": "#FF97FF",
          "symbol": "circle"
         },
         "mode": "markers",
         "name": "Meiji Yasuda Life Insurance",
         "orientation": "v",
         "showlegend": true,
         "type": "scatter",
         "x": [
          47140
         ],
         "xaxis": "x",
         "y": [
          37897.4
         ],
         "yaxis": "y"
        },
        {
         "hovertemplate": "Name=GSK<br>Employees=%{x}<br>Revenues ($M)=%{y}<extra></extra>",
         "legendgroup": "GSK",
         "marker": {
          "color": "#FECB52",
          "symbol": "circle"
         },
         "mode": "markers",
         "name": "GSK",
         "orientation": "v",
         "showlegend": true,
         "type": "scatter",
         "x": [
          70212
         ],
         "xaxis": "x",
         "y": [
          37691.8
         ],
         "yaxis": "y"
        },
        {
         "hovertemplate": "Name=Suncor Energy<br>Employees=%{x}<br>Revenues ($M)=%{y}<extra></extra>",
         "legendgroup": "Suncor Energy",
         "marker": {
          "color": "#636efa",
          "symbol": "circle"
         },
         "mode": "markers",
         "name": "Suncor Energy",
         "orientation": "v",
         "showlegend": true,
         "type": "scatter",
         "x": [
          14906
         ],
         "xaxis": "x",
         "y": [
          37609.3
         ],
         "yaxis": "y"
        },
        {
         "hovertemplate": "Name=Hangzhou Industrial Investment Group<br>Employees=%{x}<br>Revenues ($M)=%{y}<extra></extra>",
         "legendgroup": "Hangzhou Industrial Investment Group",
         "marker": {
          "color": "#EF553B",
          "symbol": "circle"
         },
         "mode": "markers",
         "name": "Hangzhou Industrial Investment Group",
         "orientation": "v",
         "showlegend": true,
         "type": "scatter",
         "x": [
          4056
         ],
         "xaxis": "x",
         "y": [
          37398
         ],
         "yaxis": "y"
        },
        {
         "hovertemplate": "Name=Uber Technologies<br>Employees=%{x}<br>Revenues ($M)=%{y}<extra></extra>",
         "legendgroup": "Uber Technologies",
         "marker": {
          "color": "#00cc96",
          "symbol": "circle"
         },
         "mode": "markers",
         "name": "Uber Technologies",
         "orientation": "v",
         "showlegend": true,
         "type": "scatter",
         "x": [
          30400
         ],
         "xaxis": "x",
         "y": [
          37281
         ],
         "yaxis": "y"
        },
        {
         "hovertemplate": "Name=DZ Bank<br>Employees=%{x}<br>Revenues ($M)=%{y}<extra></extra>",
         "legendgroup": "DZ Bank",
         "marker": {
          "color": "#ab63fa",
          "symbol": "circle"
         },
         "mode": "markers",
         "name": "DZ Bank",
         "orientation": "v",
         "showlegend": true,
         "type": "scatter",
         "x": [
          29901
         ],
         "xaxis": "x",
         "y": [
          37220.9
         ],
         "yaxis": "y"
        },
        {
         "hovertemplate": "Name=GS Caltex<br>Employees=%{x}<br>Revenues ($M)=%{y}<extra></extra>",
         "legendgroup": "GS Caltex",
         "marker": {
          "color": "#FFA15A",
          "symbol": "circle"
         },
         "mode": "markers",
         "name": "GS Caltex",
         "orientation": "v",
         "showlegend": true,
         "type": "scatter",
         "x": [
          3268
         ],
         "xaxis": "x",
         "y": [
          37216.9
         ],
         "yaxis": "y"
        },
        {
         "hovertemplate": "Name=Suzuki Motor<br>Employees=%{x}<br>Revenues ($M)=%{y}<extra></extra>",
         "legendgroup": "Suzuki Motor",
         "marker": {
          "color": "#19d3f3",
          "symbol": "circle"
         },
         "mode": "markers",
         "name": "Suzuki Motor",
         "orientation": "v",
         "showlegend": true,
         "type": "scatter",
         "x": [
          72372
         ],
         "xaxis": "x",
         "y": [
          37184.9
         ],
         "yaxis": "y"
        },
        {
         "hovertemplate": "Name=Haier Smart Home<br>Employees=%{x}<br>Revenues ($M)=%{y}<extra></extra>",
         "legendgroup": "Haier Smart Home",
         "marker": {
          "color": "#FF6692",
          "symbol": "circle"
         },
         "mode": "markers",
         "name": "Haier Smart Home",
         "orientation": "v",
         "showlegend": true,
         "type": "scatter",
         "x": [
          112458
         ],
         "xaxis": "x",
         "y": [
          36928.8
         ],
         "yaxis": "y"
        },
        {
         "hovertemplate": "Name=X5 Retail Group<br>Employees=%{x}<br>Revenues ($M)=%{y}<extra></extra>",
         "legendgroup": "X5 Retail Group",
         "marker": {
          "color": "#B6E880",
          "symbol": "circle"
         },
         "mode": "markers",
         "name": "X5 Retail Group",
         "orientation": "v",
         "showlegend": true,
         "type": "scatter",
         "x": [
          372200
         ],
         "xaxis": "x",
         "y": [
          36921.9
         ],
         "yaxis": "y"
        },
        {
         "hovertemplate": "Name=La Poste<br>Employees=%{x}<br>Revenues ($M)=%{y}<extra></extra>",
         "legendgroup": "La Poste",
         "marker": {
          "color": "#FF97FF",
          "symbol": "circle"
         },
         "mode": "markers",
         "name": "La Poste",
         "orientation": "v",
         "showlegend": true,
         "type": "scatter",
         "x": [
          232726
         ],
         "xaxis": "x",
         "y": [
          36834.9
         ],
         "yaxis": "y"
        },
        {
         "hovertemplate": "Name=Hangzhou Iron and Steel Group<br>Employees=%{x}<br>Revenues ($M)=%{y}<extra></extra>",
         "legendgroup": "Hangzhou Iron and Steel Group",
         "marker": {
          "color": "#FECB52",
          "symbol": "circle"
         },
         "mode": "markers",
         "name": "Hangzhou Iron and Steel Group",
         "orientation": "v",
         "showlegend": true,
         "type": "scatter",
         "x": [
          11492
         ],
         "xaxis": "x",
         "y": [
          36772.3
         ],
         "yaxis": "y"
        },
        {
         "hovertemplate": "Name=Shanghai Pharmaceuticals Holding<br>Employees=%{x}<br>Revenues ($M)=%{y}<extra></extra>",
         "legendgroup": "Shanghai Pharmaceuticals Holding",
         "marker": {
          "color": "#636efa",
          "symbol": "circle"
         },
         "mode": "markers",
         "name": "Shanghai Pharmaceuticals Holding",
         "orientation": "v",
         "showlegend": true,
         "type": "scatter",
         "x": [
          48164
         ],
         "xaxis": "x",
         "y": [
          36768.8
         ],
         "yaxis": "y"
        },
        {
         "hovertemplate": "Name=Shandong Hi-Speed Group<br>Employees=%{x}<br>Revenues ($M)=%{y}<extra></extra>",
         "legendgroup": "Shandong Hi-Speed Group",
         "marker": {
          "color": "#EF553B",
          "symbol": "circle"
         },
         "mode": "markers",
         "name": "Shandong Hi-Speed Group",
         "orientation": "v",
         "showlegend": true,
         "type": "scatter",
         "x": [
          56432
         ],
         "xaxis": "x",
         "y": [
          36743.8
         ],
         "yaxis": "y"
        },
        {
         "hovertemplate": "Name=Honeywell International<br>Employees=%{x}<br>Revenues ($M)=%{y}<extra></extra>",
         "legendgroup": "Honeywell International",
         "marker": {
          "color": "#00cc96",
          "symbol": "circle"
         },
         "mode": "markers",
         "name": "Honeywell International",
         "orientation": "v",
         "showlegend": true,
         "type": "scatter",
         "x": [
          95000
         ],
         "xaxis": "x",
         "y": [
          36662
         ],
         "yaxis": "y"
        },
        {
         "hovertemplate": "Name=Guangdong Guangxin Holdings<br>Employees=%{x}<br>Revenues ($M)=%{y}<extra></extra>",
         "legendgroup": "Guangdong Guangxin Holdings",
         "marker": {
          "color": "#ab63fa",
          "symbol": "circle"
         },
         "mode": "markers",
         "name": "Guangdong Guangxin Holdings",
         "orientation": "v",
         "showlegend": true,
         "type": "scatter",
         "x": [
          44837
         ],
         "xaxis": "x",
         "y": [
          36608.9
         ],
         "yaxis": "y"
        },
        {
         "hovertemplate": "Name=S.F. Holding<br>Employees=%{x}<br>Revenues ($M)=%{y}<extra></extra>",
         "legendgroup": "S.F. Holding",
         "marker": {
          "color": "#FFA15A",
          "symbol": "circle"
         },
         "mode": "markers",
         "name": "S.F. Holding",
         "orientation": "v",
         "showlegend": true,
         "type": "scatter",
         "x": [
          153125
         ],
         "xaxis": "x",
         "y": [
          36502.4
         ],
         "yaxis": "y"
        },
        {
         "hovertemplate": "Name=Mitsubishi Electric<br>Employees=%{x}<br>Revenues ($M)=%{y}<extra></extra>",
         "legendgroup": "Mitsubishi Electric",
         "marker": {
          "color": "#19d3f3",
          "symbol": "circle"
         },
         "mode": "markers",
         "name": "Mitsubishi Electric",
         "orientation": "v",
         "showlegend": true,
         "type": "scatter",
         "x": [
          149134
         ],
         "xaxis": "x",
         "y": [
          36379.9
         ],
         "yaxis": "y"
        },
        {
         "hovertemplate": "Name=Guangzhou Pharmaceutical Holdings<br>Employees=%{x}<br>Revenues ($M)=%{y}<extra></extra>",
         "legendgroup": "Guangzhou Pharmaceutical Holdings",
         "marker": {
          "color": "#FF6692",
          "symbol": "circle"
         },
         "mode": "markers",
         "name": "Guangzhou Pharmaceutical Holdings",
         "orientation": "v",
         "showlegend": true,
         "type": "scatter",
         "x": [
          35391
         ],
         "xaxis": "x",
         "y": [
          36309.8
         ],
         "yaxis": "y"
        },
        {
         "hovertemplate": "Name=China Datang<br>Employees=%{x}<br>Revenues ($M)=%{y}<extra></extra>",
         "legendgroup": "China Datang",
         "marker": {
          "color": "#B6E880",
          "symbol": "circle"
         },
         "mode": "markers",
         "name": "China Datang",
         "orientation": "v",
         "showlegend": true,
         "type": "scatter",
         "x": [
          87991
         ],
         "xaxis": "x",
         "y": [
          36266.4
         ],
         "yaxis": "y"
        },
        {
         "hovertemplate": "Name=Mapfre Group<br>Employees=%{x}<br>Revenues ($M)=%{y}<extra></extra>",
         "legendgroup": "Mapfre Group",
         "marker": {
          "color": "#FF97FF",
          "symbol": "circle"
         },
         "mode": "markers",
         "name": "Mapfre Group",
         "orientation": "v",
         "showlegend": true,
         "type": "scatter",
         "x": [
          30873
         ],
         "xaxis": "x",
         "y": [
          36097.7
         ],
         "yaxis": "y"
        },
        {
         "hovertemplate": "Name=CFE<br>Employees=%{x}<br>Revenues ($M)=%{y}<extra></extra>",
         "legendgroup": "CFE",
         "marker": {
          "color": "#FECB52",
          "symbol": "circle"
         },
         "mode": "markers",
         "name": "CFE",
         "orientation": "v",
         "showlegend": true,
         "type": "scatter",
         "x": [
          92054
         ],
         "xaxis": "x",
         "y": [
          36077.6
         ],
         "yaxis": "y"
        },
        {
         "hovertemplate": "Name=Jardine Matheson<br>Employees=%{x}<br>Revenues ($M)=%{y}<extra></extra>",
         "legendgroup": "Jardine Matheson",
         "marker": {
          "color": "#636efa",
          "symbol": "circle"
         },
         "mode": "markers",
         "name": "Jardine Matheson",
         "orientation": "v",
         "showlegend": true,
         "type": "scatter",
         "x": [
          443000
         ],
         "xaxis": "x",
         "y": [
          36049
         ],
         "yaxis": "y"
        },
        {
         "hovertemplate": "Name=Mondelez International<br>Employees=%{x}<br>Revenues ($M)=%{y}<extra></extra>",
         "legendgroup": "Mondelez International",
         "marker": {
          "color": "#EF553B",
          "symbol": "circle"
         },
         "mode": "markers",
         "name": "Mondelez International",
         "orientation": "v",
         "showlegend": true,
         "type": "scatter",
         "x": [
          91000
         ],
         "xaxis": "x",
         "y": [
          36016
         ],
         "yaxis": "y"
        },
        {
         "hovertemplate": "Name=Daiwa House Industry<br>Employees=%{x}<br>Revenues ($M)=%{y}<extra></extra>",
         "legendgroup": "Daiwa House Industry",
         "marker": {
          "color": "#00cc96",
          "symbol": "circle"
         },
         "mode": "markers",
         "name": "Daiwa House Industry",
         "orientation": "v",
         "showlegend": true,
         "type": "scatter",
         "x": [
          48483
         ],
         "xaxis": "x",
         "y": [
          35999.4
         ],
         "yaxis": "y"
        },
        {
         "hovertemplate": "Name=Starbucks<br>Employees=%{x}<br>Revenues ($M)=%{y}<extra></extra>",
         "legendgroup": "Starbucks",
         "marker": {
          "color": "#ab63fa",
          "symbol": "circle"
         },
         "mode": "markers",
         "name": "Starbucks",
         "orientation": "v",
         "showlegend": true,
         "type": "scatter",
         "x": [
          381000
         ],
         "xaxis": "x",
         "y": [
          35975.6
         ],
         "yaxis": "y"
        },
        {
         "hovertemplate": "Name=Olam Group<br>Employees=%{x}<br>Revenues ($M)=%{y}<extra></extra>",
         "legendgroup": "Olam Group",
         "marker": {
          "color": "#FFA15A",
          "symbol": "circle"
         },
         "mode": "markers",
         "name": "Olam Group",
         "orientation": "v",
         "showlegend": true,
         "type": "scatter",
         "x": [
          65980
         ],
         "xaxis": "x",
         "y": [
          35952.8
         ],
         "yaxis": "y"
        },
        {
         "hovertemplate": "Name=Qualcomm<br>Employees=%{x}<br>Revenues ($M)=%{y}<extra></extra>",
         "legendgroup": "Qualcomm",
         "marker": {
          "color": "#19d3f3",
          "symbol": "circle"
         },
         "mode": "markers",
         "name": "Qualcomm",
         "orientation": "v",
         "showlegend": true,
         "type": "scatter",
         "x": [
          50000
         ],
         "xaxis": "x",
         "y": [
          35820
         ],
         "yaxis": "y"
        },
        {
         "hovertemplate": "Name=Broadcom<br>Employees=%{x}<br>Revenues ($M)=%{y}<extra></extra>",
         "legendgroup": "Broadcom",
         "marker": {
          "color": "#FF6692",
          "symbol": "circle"
         },
         "mode": "markers",
         "name": "Broadcom",
         "orientation": "v",
         "showlegend": true,
         "type": "scatter",
         "x": [
          20000
         ],
         "xaxis": "x",
         "y": [
          35819
         ],
         "yaxis": "y"
        },
        {
         "hovertemplate": "Name=JFE Holdings<br>Employees=%{x}<br>Revenues ($M)=%{y}<extra></extra>",
         "legendgroup": "JFE Holdings",
         "marker": {
          "color": "#B6E880",
          "symbol": "circle"
         },
         "mode": "markers",
         "name": "JFE Holdings",
         "orientation": "v",
         "showlegend": true,
         "type": "scatter",
         "x": [
          62218
         ],
         "xaxis": "x",
         "y": [
          35803.7
         ],
         "yaxis": "y"
        },
        {
         "hovertemplate": "Name=Hailiang Group<br>Employees=%{x}<br>Revenues ($M)=%{y}<extra></extra>",
         "legendgroup": "Hailiang Group",
         "marker": {
          "color": "#FF97FF",
          "symbol": "circle"
         },
         "mode": "markers",
         "name": "Hailiang Group",
         "orientation": "v",
         "showlegend": true,
         "type": "scatter",
         "x": [
          26727
         ],
         "xaxis": "x",
         "y": [
          35701.8
         ],
         "yaxis": "y"
        },
        {
         "hovertemplate": "Name=US Foods Holding<br>Employees=%{x}<br>Revenues ($M)=%{y}<extra></extra>",
         "legendgroup": "US Foods Holding",
         "marker": {
          "color": "#FECB52",
          "symbol": "circle"
         },
         "mode": "markers",
         "name": "US Foods Holding",
         "orientation": "v",
         "showlegend": true,
         "type": "scatter",
         "x": [
          30000
         ],
         "xaxis": "x",
         "y": [
          35597
         ],
         "yaxis": "y"
        },
        {
         "hovertemplate": "Name=ELO Group<br>Employees=%{x}<br>Revenues ($M)=%{y}<extra></extra>",
         "legendgroup": "ELO Group",
         "marker": {
          "color": "#636efa",
          "symbol": "circle"
         },
         "mode": "markers",
         "name": "ELO Group",
         "orientation": "v",
         "showlegend": true,
         "type": "scatter",
         "x": [
          145025
         ],
         "xaxis": "x",
         "y": [
          35569
         ],
         "yaxis": "y"
        },
        {
         "hovertemplate": "Name=Migros Group<br>Employees=%{x}<br>Revenues ($M)=%{y}<extra></extra>",
         "legendgroup": "Migros Group",
         "marker": {
          "color": "#EF553B",
          "symbol": "circle"
         },
         "mode": "markers",
         "name": "Migros Group",
         "orientation": "v",
         "showlegend": true,
         "type": "scatter",
         "x": [
          72523
         ],
         "xaxis": "x",
         "y": [
          35563.1
         ],
         "yaxis": "y"
        },
        {
         "hovertemplate": "Name=Mercadona<br>Employees=%{x}<br>Revenues ($M)=%{y}<extra></extra>",
         "legendgroup": "Mercadona",
         "marker": {
          "color": "#00cc96",
          "symbol": "circle"
         },
         "mode": "markers",
         "name": "Mercadona",
         "orientation": "v",
         "showlegend": true,
         "type": "scatter",
         "x": [
          98700
         ],
         "xaxis": "x",
         "y": [
          35525.4
         ],
         "yaxis": "y"
        },
        {
         "hovertemplate": "Name=D.R. Horton<br>Employees=%{x}<br>Revenues ($M)=%{y}<extra></extra>",
         "legendgroup": "D.R. Horton",
         "marker": {
          "color": "#ab63fa",
          "symbol": "circle"
         },
         "mode": "markers",
         "name": "D.R. Horton",
         "orientation": "v",
         "showlegend": true,
         "type": "scatter",
         "x": [
          13450
         ],
         "xaxis": "x",
         "y": [
          35460.4
         ],
         "yaxis": "y"
        },
        {
         "hovertemplate": "Name=China Electronics<br>Employees=%{x}<br>Revenues ($M)=%{y}<extra></extra>",
         "legendgroup": "China Electronics",
         "marker": {
          "color": "#FFA15A",
          "symbol": "circle"
         },
         "mode": "markers",
         "name": "China Electronics",
         "orientation": "v",
         "showlegend": true,
         "type": "scatter",
         "x": [
          183469
         ],
         "xaxis": "x",
         "y": [
          35390.9
         ],
         "yaxis": "y"
        },
        {
         "hovertemplate": "Name=Shudao Investment Group<br>Employees=%{x}<br>Revenues ($M)=%{y}<extra></extra>",
         "legendgroup": "Shudao Investment Group",
         "marker": {
          "color": "#19d3f3",
          "symbol": "circle"
         },
         "mode": "markers",
         "name": "Shudao Investment Group",
         "orientation": "v",
         "showlegend": true,
         "type": "scatter",
         "x": [
          55878
         ],
         "xaxis": "x",
         "y": [
          35379.3
         ],
         "yaxis": "y"
        },
        {
         "hovertemplate": "Name=China National Coal Group<br>Employees=%{x}<br>Revenues ($M)=%{y}<extra></extra>",
         "legendgroup": "China National Coal Group",
         "marker": {
          "color": "#FF6692",
          "symbol": "circle"
         },
         "mode": "markers",
         "name": "China National Coal Group",
         "orientation": "v",
         "showlegend": true,
         "type": "scatter",
         "x": [
          144531
         ],
         "xaxis": "x",
         "y": [
          35364
         ],
         "yaxis": "y"
        },
        {
         "hovertemplate": "Name=TongLing Nonferrous Metals Group<br>Employees=%{x}<br>Revenues ($M)=%{y}<extra></extra>",
         "legendgroup": "TongLing Nonferrous Metals Group",
         "marker": {
          "color": "#B6E880",
          "symbol": "circle"
         },
         "mode": "markers",
         "name": "TongLing Nonferrous Metals Group",
         "orientation": "v",
         "showlegend": true,
         "type": "scatter",
         "x": [
          21443
         ],
         "xaxis": "x",
         "y": [
          35244.5
         ],
         "yaxis": "y"
        },
        {
         "hovertemplate": "Name=CK Hutchison Holdings<br>Employees=%{x}<br>Revenues ($M)=%{y}<extra></extra>",
         "legendgroup": "CK Hutchison Holdings",
         "marker": {
          "color": "#FF97FF",
          "symbol": "circle"
         },
         "mode": "markers",
         "name": "CK Hutchison Holdings",
         "orientation": "v",
         "showlegend": true,
         "type": "scatter",
         "x": [
          300000
         ],
         "xaxis": "x",
         "y": [
          35199.8
         ],
         "yaxis": "y"
        },
        {
         "hovertemplate": "Name=Philip Morris International<br>Employees=%{x}<br>Revenues ($M)=%{y}<extra></extra>",
         "legendgroup": "Philip Morris International",
         "marker": {
          "color": "#FECB52",
          "symbol": "circle"
         },
         "mode": "markers",
         "name": "Philip Morris International",
         "orientation": "v",
         "showlegend": true,
         "type": "scatter",
         "x": [
          82700
         ],
         "xaxis": "x",
         "y": [
          35174
         ],
         "yaxis": "y"
        },
        {
         "hovertemplate": "Name=Paccar<br>Employees=%{x}<br>Revenues ($M)=%{y}<extra></extra>",
         "legendgroup": "Paccar",
         "marker": {
          "color": "#636efa",
          "symbol": "circle"
         },
         "mode": "markers",
         "name": "Paccar",
         "orientation": "v",
         "showlegend": true,
         "type": "scatter",
         "x": [
          32400
         ],
         "xaxis": "x",
         "y": [
          35127.4
         ],
         "yaxis": "y"
        },
        {
         "hovertemplate": "Name=PDD Holdings<br>Employees=%{x}<br>Revenues ($M)=%{y}<extra></extra>",
         "legendgroup": "PDD Holdings",
         "marker": {
          "color": "#EF553B",
          "symbol": "circle"
         },
         "mode": "markers",
         "name": "PDD Holdings",
         "orientation": "v",
         "showlegend": true,
         "type": "scatter",
         "x": [
          17403
         ],
         "xaxis": "x",
         "y": [
          34981.1
         ],
         "yaxis": "y"
        },
        {
         "hovertemplate": "Name=CRH<br>Employees=%{x}<br>Revenues ($M)=%{y}<extra></extra>",
         "legendgroup": "CRH",
         "marker": {
          "color": "#00cc96",
          "symbol": "circle"
         },
         "mode": "markers",
         "name": "CRH",
         "orientation": "v",
         "showlegend": true,
         "type": "scatter",
         "x": [
          78500
         ],
         "xaxis": "x",
         "y": [
          34949
         ],
         "yaxis": "y"
        },
        {
         "hovertemplate": "Name=Quanta Computer<br>Employees=%{x}<br>Revenues ($M)=%{y}<extra></extra>",
         "legendgroup": "Quanta Computer",
         "marker": {
          "color": "#ab63fa",
          "symbol": "circle"
         },
         "mode": "markers",
         "name": "Quanta Computer",
         "orientation": "v",
         "showlegend": true,
         "type": "scatter",
         "x": [
          56708
         ],
         "xaxis": "x",
         "y": [
          34860.2
         ],
         "yaxis": "y"
        },
        {
         "hovertemplate": "Name=Salesforce<br>Employees=%{x}<br>Revenues ($M)=%{y}<extra></extra>",
         "legendgroup": "Salesforce",
         "marker": {
          "color": "#FFA15A",
          "symbol": "circle"
         },
         "mode": "markers",
         "name": "Salesforce",
         "orientation": "v",
         "showlegend": true,
         "type": "scatter",
         "x": [
          72682
         ],
         "xaxis": "x",
         "y": [
          34857
         ],
         "yaxis": "y"
        },
        {
         "hovertemplate": "Name=AIA Group<br>Employees=%{x}<br>Revenues ($M)=%{y}<extra></extra>",
         "legendgroup": "AIA Group",
         "marker": {
          "color": "#19d3f3",
          "symbol": "circle"
         },
         "mode": "markers",
         "name": "AIA Group",
         "orientation": "v",
         "showlegend": true,
         "type": "scatter",
         "x": [
          27320
         ],
         "xaxis": "x",
         "y": [
          34851
         ],
         "yaxis": "y"
        },
        {
         "hovertemplate": "Name=Nucor<br>Employees=%{x}<br>Revenues ($M)=%{y}<extra></extra>",
         "legendgroup": "Nucor",
         "marker": {
          "color": "#FF6692",
          "symbol": "circle"
         },
         "mode": "markers",
         "name": "Nucor",
         "orientation": "v",
         "showlegend": true,
         "type": "scatter",
         "x": [
          32000
         ],
         "xaxis": "x",
         "y": [
          34713.5
         ],
         "yaxis": "y"
        },
        {
         "hovertemplate": "Name=Jabil<br>Employees=%{x}<br>Revenues ($M)=%{y}<extra></extra>",
         "legendgroup": "Jabil",
         "marker": {
          "color": "#B6E880",
          "symbol": "circle"
         },
         "mode": "markers",
         "name": "Jabil",
         "orientation": "v",
         "showlegend": true,
         "type": "scatter",
         "x": [
          236000
         ],
         "xaxis": "x",
         "y": [
          34702
         ],
         "yaxis": "y"
        },
        {
         "hovertemplate": "Name=National Australia Bank<br>Employees=%{x}<br>Revenues ($M)=%{y}<extra></extra>",
         "legendgroup": "National Australia Bank",
         "marker": {
          "color": "#FF97FF",
          "symbol": "circle"
         },
         "mode": "markers",
         "name": "National Australia Bank",
         "orientation": "v",
         "showlegend": true,
         "type": "scatter",
         "x": [
          38516
         ],
         "xaxis": "x",
         "y": [
          34549.9
         ],
         "yaxis": "y"
        },
        {
         "hovertemplate": "Name=SAP SE<br>Employees=%{x}<br>Revenues ($M)=%{y}<extra></extra>",
         "legendgroup": "SAP SE",
         "marker": {
          "color": "#FECB52",
          "symbol": "circle"
         },
         "mode": "markers",
         "name": "SAP SE",
         "orientation": "v",
         "showlegend": true,
         "type": "scatter",
         "x": [
          107602
         ],
         "xaxis": "x",
         "y": [
          34542
         ],
         "yaxis": "y"
        },
        {
         "hovertemplate": "Name=CRRC Group<br>Employees=%{x}<br>Revenues ($M)=%{y}<extra></extra>",
         "legendgroup": "CRRC Group",
         "marker": {
          "color": "#636efa",
          "symbol": "circle"
         },
         "mode": "markers",
         "name": "CRRC Group",
         "orientation": "v",
         "showlegend": true,
         "type": "scatter",
         "x": [
          165344
         ],
         "xaxis": "x",
         "y": [
          34519.7
         ],
         "yaxis": "y"
        },
        {
         "hovertemplate": "Name=Shanghai Delong Steel Group<br>Employees=%{x}<br>Revenues ($M)=%{y}<extra></extra>",
         "legendgroup": "Shanghai Delong Steel Group",
         "marker": {
          "color": "#EF553B",
          "symbol": "circle"
         },
         "mode": "markers",
         "name": "Shanghai Delong Steel Group",
         "orientation": "v",
         "showlegend": true,
         "type": "scatter",
         "x": [
          42843
         ],
         "xaxis": "x",
         "y": [
          34399.5
         ],
         "yaxis": "y"
        },
        {
         "hovertemplate": "Name=Lennar<br>Employees=%{x}<br>Revenues ($M)=%{y}<extra></extra>",
         "legendgroup": "Lennar",
         "marker": {
          "color": "#00cc96",
          "symbol": "circle"
         },
         "mode": "markers",
         "name": "Lennar",
         "orientation": "v",
         "showlegend": true,
         "type": "scatter",
         "x": [
          12284
         ],
         "xaxis": "x",
         "y": [
          34233.4
         ],
         "yaxis": "y"
        },
        {
         "hovertemplate": "Name=Sompo Holdings<br>Employees=%{x}<br>Revenues ($M)=%{y}<extra></extra>",
         "legendgroup": "Sompo Holdings",
         "marker": {
          "color": "#ab63fa",
          "symbol": "circle"
         },
         "mode": "markers",
         "name": "Sompo Holdings",
         "orientation": "v",
         "showlegend": true,
         "type": "scatter",
         "x": [
          48421
         ],
         "xaxis": "x",
         "y": [
          34136.3
         ],
         "yaxis": "y"
        },
        {
         "hovertemplate": "Name=Eli Lilly<br>Employees=%{x}<br>Revenues ($M)=%{y}<extra></extra>",
         "legendgroup": "Eli Lilly",
         "marker": {
          "color": "#FFA15A",
          "symbol": "circle"
         },
         "mode": "markers",
         "name": "Eli Lilly",
         "orientation": "v",
         "showlegend": true,
         "type": "scatter",
         "x": [
          43000
         ],
         "xaxis": "x",
         "y": [
          34124.1
         ],
         "yaxis": "y"
        },
        {
         "hovertemplate": "Name=Korea Gas<br>Employees=%{x}<br>Revenues ($M)=%{y}<extra></extra>",
         "legendgroup": "Korea Gas",
         "marker": {
          "color": "#19d3f3",
          "symbol": "circle"
         },
         "mode": "markers",
         "name": "Korea Gas",
         "orientation": "v",
         "showlegend": true,
         "type": "scatter",
         "x": [
          4163
         ],
         "xaxis": "x",
         "y": [
          34114.8
         ],
         "yaxis": "y"
        },
        {
         "hovertemplate": "Name=Molina Healthcare<br>Employees=%{x}<br>Revenues ($M)=%{y}<extra></extra>",
         "legendgroup": "Molina Healthcare",
         "marker": {
          "color": "#FF6692",
          "symbol": "circle"
         },
         "mode": "markers",
         "name": "Molina Healthcare",
         "orientation": "v",
         "showlegend": true,
         "type": "scatter",
         "x": [
          18000
         ],
         "xaxis": "x",
         "y": [
          34072
         ],
         "yaxis": "y"
        },
        {
         "hovertemplate": "Name=Beijing Jianlong Heavy Industry Group<br>Employees=%{x}<br>Revenues ($M)=%{y}<extra></extra>",
         "legendgroup": "Beijing Jianlong Heavy Industry Group",
         "marker": {
          "color": "#B6E880",
          "symbol": "circle"
         },
         "mode": "markers",
         "name": "Beijing Jianlong Heavy Industry Group",
         "orientation": "v",
         "showlegend": true,
         "type": "scatter",
         "x": [
          57863
         ],
         "xaxis": "x",
         "y": [
          34069.6
         ],
         "yaxis": "y"
        },
        {
         "hovertemplate": "Name=Cummins<br>Employees=%{x}<br>Revenues ($M)=%{y}<extra></extra>",
         "legendgroup": "Cummins",
         "marker": {
          "color": "#FF97FF",
          "symbol": "circle"
         },
         "mode": "markers",
         "name": "Cummins",
         "orientation": "v",
         "showlegend": true,
         "type": "scatter",
         "x": [
          75500
         ],
         "xaxis": "x",
         "y": [
          34065
         ],
         "yaxis": "y"
        },
        {
         "hovertemplate": "Name=Shaanxi Construction Engineering Holding<br>Employees=%{x}<br>Revenues ($M)=%{y}<extra></extra>",
         "legendgroup": "Shaanxi Construction Engineering Holding",
         "marker": {
          "color": "#FECB52",
          "symbol": "circle"
         },
         "mode": "markers",
         "name": "Shaanxi Construction Engineering Holding",
         "orientation": "v",
         "showlegend": true,
         "type": "scatter",
         "x": [
          41390
         ],
         "xaxis": "x",
         "y": [
          34060.9
         ],
         "yaxis": "y"
        },
        {
         "hovertemplate": "Name=Rabobank Group<br>Employees=%{x}<br>Revenues ($M)=%{y}<extra></extra>",
         "legendgroup": "Rabobank Group",
         "marker": {
          "color": "#636efa",
          "symbol": "circle"
         },
         "mode": "markers",
         "name": "Rabobank Group",
         "orientation": "v",
         "showlegend": true,
         "type": "scatter",
         "x": [
          49132
         ],
         "xaxis": "x",
         "y": [
          34042.6
         ],
         "yaxis": "y"
        },
        {
         "hovertemplate": "Name=Aisin<br>Employees=%{x}<br>Revenues ($M)=%{y}<extra></extra>",
         "legendgroup": "Aisin",
         "marker": {
          "color": "#EF553B",
          "symbol": "circle"
         },
         "mode": "markers",
         "name": "Aisin",
         "orientation": "v",
         "showlegend": true,
         "type": "scatter",
         "x": [
          115140
         ],
         "xaxis": "x",
         "y": [
          33969.6
         ],
         "yaxis": "y"
        },
        {
         "hovertemplate": "Name=Rajesh Exports<br>Employees=%{x}<br>Revenues ($M)=%{y}<extra></extra>",
         "legendgroup": "Rajesh Exports",
         "marker": {
          "color": "#00cc96",
          "symbol": "circle"
         },
         "mode": "markers",
         "name": "Rajesh Exports",
         "orientation": "v",
         "showlegend": true,
         "type": "scatter",
         "x": [
          141
         ],
         "xaxis": "x",
         "y": [
          33944.1
         ],
         "yaxis": "y"
        },
        {
         "hovertemplate": "Name=British American Tobacco<br>Employees=%{x}<br>Revenues ($M)=%{y}<extra></extra>",
         "legendgroup": "British American Tobacco",
         "marker": {
          "color": "#ab63fa",
          "symbol": "circle"
         },
         "mode": "markers",
         "name": "British American Tobacco",
         "orientation": "v",
         "showlegend": true,
         "type": "scatter",
         "x": [
          49839
         ],
         "xaxis": "x",
         "y": [
          33907.4
         ],
         "yaxis": "y"
        },
        {
         "hovertemplate": "Name=CPC<br>Employees=%{x}<br>Revenues ($M)=%{y}<extra></extra>",
         "legendgroup": "CPC",
         "marker": {
          "color": "#FFA15A",
          "symbol": "circle"
         },
         "mode": "markers",
         "name": "CPC",
         "orientation": "v",
         "showlegend": true,
         "type": "scatter",
         "x": [
          17142
         ],
         "xaxis": "x",
         "y": [
          33903.7
         ],
         "yaxis": "y"
        },
        {
         "hovertemplate": "Name=Bank of New York Mellon<br>Employees=%{x}<br>Revenues ($M)=%{y}<extra></extra>",
         "legendgroup": "Bank of New York Mellon",
         "marker": {
          "color": "#19d3f3",
          "symbol": "circle"
         },
         "mode": "markers",
         "name": "Bank of New York Mellon",
         "orientation": "v",
         "showlegend": true,
         "type": "scatter",
         "x": [
          53400
         ],
         "xaxis": "x",
         "y": [
          33805
         ],
         "yaxis": "y"
        },
        {
         "hovertemplate": "Name=Tongwei Group<br>Employees=%{x}<br>Revenues ($M)=%{y}<extra></extra>",
         "legendgroup": "Tongwei Group",
         "marker": {
          "color": "#FF6692",
          "symbol": "circle"
         },
         "mode": "markers",
         "name": "Tongwei Group",
         "orientation": "v",
         "showlegend": true,
         "type": "scatter",
         "x": [
          58329
         ],
         "xaxis": "x",
         "y": [
          33731.3
         ],
         "yaxis": "y"
        },
        {
         "hovertemplate": "Name=Netflix<br>Employees=%{x}<br>Revenues ($M)=%{y}<extra></extra>",
         "legendgroup": "Netflix",
         "marker": {
          "color": "#B6E880",
          "symbol": "circle"
         },
         "mode": "markers",
         "name": "Netflix",
         "orientation": "v",
         "showlegend": true,
         "type": "scatter",
         "x": [
          13000
         ],
         "xaxis": "x",
         "y": [
          33723.3
         ],
         "yaxis": "y"
        },
        {
         "hovertemplate": "Name=Novo Nordisk<br>Employees=%{x}<br>Revenues ($M)=%{y}<extra></extra>",
         "legendgroup": "Novo Nordisk",
         "marker": {
          "color": "#FF97FF",
          "symbol": "circle"
         },
         "mode": "markers",
         "name": "Novo Nordisk",
         "orientation": "v",
         "showlegend": true,
         "type": "scatter",
         "x": [
          63845
         ],
         "xaxis": "x",
         "y": [
          33703.8
         ],
         "yaxis": "y"
        },
        {
         "hovertemplate": "Name=Shougang Group<br>Employees=%{x}<br>Revenues ($M)=%{y}<extra></extra>",
         "legendgroup": "Shougang Group",
         "marker": {
          "color": "#FECB52",
          "symbol": "circle"
         },
         "mode": "markers",
         "name": "Shougang Group",
         "orientation": "v",
         "showlegend": true,
         "type": "scatter",
         "x": [
          83509
         ],
         "xaxis": "x",
         "y": [
          33621.3
         ],
         "yaxis": "y"
        },
        {
         "hovertemplate": "Name=Shanxi Coking Coal Group<br>Employees=%{x}<br>Revenues ($M)=%{y}<extra></extra>",
         "legendgroup": "Shanxi Coking Coal Group",
         "marker": {
          "color": "#636efa",
          "symbol": "circle"
         },
         "mode": "markers",
         "name": "Shanxi Coking Coal Group",
         "orientation": "v",
         "showlegend": true,
         "type": "scatter",
         "x": [
          214937
         ],
         "xaxis": "x",
         "y": [
          33533.2
         ],
         "yaxis": "y"
        },
        {
         "hovertemplate": "Name=Guangxi Investment Group<br>Employees=%{x}<br>Revenues ($M)=%{y}<extra></extra>",
         "legendgroup": "Guangxi Investment Group",
         "marker": {
          "color": "#EF553B",
          "symbol": "circle"
         },
         "mode": "markers",
         "name": "Guangxi Investment Group",
         "orientation": "v",
         "showlegend": true,
         "type": "scatter",
         "x": [
          32241
         ],
         "xaxis": "x",
         "y": [
          33428.1
         ],
         "yaxis": "y"
        },
        {
         "hovertemplate": "Name=VTB Bank<br>Employees=%{x}<br>Revenues ($M)=%{y}<extra></extra>",
         "legendgroup": "VTB Bank",
         "marker": {
          "color": "#00cc96",
          "symbol": "circle"
         },
         "mode": "markers",
         "name": "VTB Bank",
         "orientation": "v",
         "showlegend": true,
         "type": "scatter",
         "x": [
          76100
         ],
         "xaxis": "x",
         "y": [
          33420.2
         ],
         "yaxis": "y"
        },
        {
         "hovertemplate": "Name=Mazda Motor<br>Employees=%{x}<br>Revenues ($M)=%{y}<extra></extra>",
         "legendgroup": "Mazda Motor",
         "marker": {
          "color": "#ab63fa",
          "symbol": "circle"
         },
         "mode": "markers",
         "name": "Mazda Motor",
         "orientation": "v",
         "showlegend": true,
         "type": "scatter",
         "x": [
          48685
         ],
         "xaxis": "x",
         "y": [
          33403
         ],
         "yaxis": "y"
        },
        {
         "hovertemplate": "Name=Hunan Iron & Steel Group<br>Employees=%{x}<br>Revenues ($M)=%{y}<extra></extra>",
         "legendgroup": "Hunan Iron & Steel Group",
         "marker": {
          "color": "#FFA15A",
          "symbol": "circle"
         },
         "mode": "markers",
         "name": "Hunan Iron & Steel Group",
         "orientation": "v",
         "showlegend": true,
         "type": "scatter",
         "x": [
          36114
         ],
         "xaxis": "x",
         "y": [
          33344.8
         ],
         "yaxis": "y"
        },
        {
         "hovertemplate": "Name=Power Corp. of Canada<br>Employees=%{x}<br>Revenues ($M)=%{y}<extra></extra>",
         "legendgroup": "Power Corp. of Canada",
         "marker": {
          "color": "#19d3f3",
          "symbol": "circle"
         },
         "mode": "markers",
         "name": "Power Corp. of Canada",
         "orientation": "v",
         "showlegend": true,
         "type": "scatter",
         "x": [
          40300
         ],
         "xaxis": "x",
         "y": [
          33264.8
         ],
         "yaxis": "y"
        },
        {
         "hovertemplate": "Name=Truist Financial<br>Employees=%{x}<br>Revenues ($M)=%{y}<extra></extra>",
         "legendgroup": "Truist Financial",
         "marker": {
          "color": "#FF6692",
          "symbol": "circle"
         },
         "mode": "markers",
         "name": "Truist Financial",
         "orientation": "v",
         "showlegend": true,
         "type": "scatter",
         "x": [
          49935
         ],
         "xaxis": "x",
         "y": [
          33246
         ],
         "yaxis": "y"
        },
        {
         "hovertemplate": "Name=Siemens Energy<br>Employees=%{x}<br>Revenues ($M)=%{y}<extra></extra>",
         "legendgroup": "Siemens Energy",
         "marker": {
          "color": "#B6E880",
          "symbol": "circle"
         },
         "mode": "markers",
         "name": "Siemens Energy",
         "orientation": "v",
         "showlegend": true,
         "type": "scatter",
         "x": [
          94000
         ],
         "xaxis": "x",
         "y": [
          33184.9
         ],
         "yaxis": "y"
        },
        {
         "hovertemplate": "Name=Schlumberger<br>Employees=%{x}<br>Revenues ($M)=%{y}<extra></extra>",
         "legendgroup": "Schlumberger",
         "marker": {
          "color": "#FF97FF",
          "symbol": "circle"
         },
         "mode": "markers",
         "name": "Schlumberger",
         "orientation": "v",
         "showlegend": true,
         "type": "scatter",
         "x": [
          111000
         ],
         "xaxis": "x",
         "y": [
          33135
         ],
         "yaxis": "y"
        },
        {
         "hovertemplate": "Name=Ecopetrol<br>Employees=%{x}<br>Revenues ($M)=%{y}<extra></extra>",
         "legendgroup": "Ecopetrol",
         "marker": {
          "color": "#FECB52",
          "symbol": "circle"
         },
         "mode": "markers",
         "name": "Ecopetrol",
         "orientation": "v",
         "showlegend": true,
         "type": "scatter",
         "x": [
          19657
         ],
         "xaxis": "x",
         "y": [
          33126.5
         ],
         "yaxis": "y"
        },
        {
         "hovertemplate": "Name=Arrow Electronics<br>Employees=%{x}<br>Revenues ($M)=%{y}<extra></extra>",
         "legendgroup": "Arrow Electronics",
         "marker": {
          "color": "#636efa",
          "symbol": "circle"
         },
         "mode": "markers",
         "name": "Arrow Electronics",
         "orientation": "v",
         "showlegend": true,
         "type": "scatter",
         "x": [
          22100
         ],
         "xaxis": "x",
         "y": [
          33107.1
         ],
         "yaxis": "y"
        },
        {
         "hovertemplate": "Name=Jerónimo Martins<br>Employees=%{x}<br>Revenues ($M)=%{y}<extra></extra>",
         "legendgroup": "Jerónimo Martins",
         "marker": {
          "color": "#EF553B",
          "symbol": "circle"
         },
         "mode": "markers",
         "name": "Jerónimo Martins",
         "orientation": "v",
         "showlegend": true,
         "type": "scatter",
         "x": [
          134379
         ],
         "xaxis": "x",
         "y": [
          33089.1
         ],
         "yaxis": "y"
        },
        {
         "hovertemplate": "Name=China National Aviation Fuel Group<br>Employees=%{x}<br>Revenues ($M)=%{y}<extra></extra>",
         "legendgroup": "China National Aviation Fuel Group",
         "marker": {
          "color": "#00cc96",
          "symbol": "circle"
         },
         "mode": "markers",
         "name": "China National Aviation Fuel Group",
         "orientation": "v",
         "showlegend": true,
         "type": "scatter",
         "x": [
          13694
         ],
         "xaxis": "x",
         "y": [
          32984.2
         ],
         "yaxis": "y"
        },
        {
         "hovertemplate": "Name=Commonwealth Bank of Australia<br>Employees=%{x}<br>Revenues ($M)=%{y}<extra></extra>",
         "legendgroup": "Commonwealth Bank of Australia",
         "marker": {
          "color": "#ab63fa",
          "symbol": "circle"
         },
         "mode": "markers",
         "name": "Commonwealth Bank of Australia",
         "orientation": "v",
         "showlegend": true,
         "type": "scatter",
         "x": [
          49454
         ],
         "xaxis": "x",
         "y": [
          32980.5
         ],
         "yaxis": "y"
        },
        {
         "hovertemplate": "Name=Centrica<br>Employees=%{x}<br>Revenues ($M)=%{y}<extra></extra>",
         "legendgroup": "Centrica",
         "marker": {
          "color": "#FFA15A",
          "symbol": "circle"
         },
         "mode": "markers",
         "name": "Centrica",
         "orientation": "v",
         "showlegend": true,
         "type": "scatter",
         "x": [
          21014
         ],
         "xaxis": "x",
         "y": [
          32882.1
         ],
         "yaxis": "y"
        },
        {
         "hovertemplate": "Name=Linde<br>Employees=%{x}<br>Revenues ($M)=%{y}<extra></extra>",
         "legendgroup": "Linde",
         "marker": {
          "color": "#19d3f3",
          "symbol": "circle"
         },
         "mode": "markers",
         "name": "Linde",
         "orientation": "v",
         "showlegend": true,
         "type": "scatter",
         "x": [
          66323
         ],
         "xaxis": "x",
         "y": [
          32854
         ],
         "yaxis": "y"
        },
        {
         "hovertemplate": "Name=Heineken<br>Employees=%{x}<br>Revenues ($M)=%{y}<extra></extra>",
         "legendgroup": "Heineken",
         "marker": {
          "color": "#FF6692",
          "symbol": "circle"
         },
         "mode": "markers",
         "name": "Heineken",
         "orientation": "v",
         "showlegend": true,
         "type": "scatter",
         "x": [
          89732
         ],
         "xaxis": "x",
         "y": [
          32823.1
         ],
         "yaxis": "y"
        },
        {
         "hovertemplate": "Name=Luxshare Precision Industry<br>Employees=%{x}<br>Revenues ($M)=%{y}<extra></extra>",
         "legendgroup": "Luxshare Precision Industry",
         "marker": {
          "color": "#B6E880",
          "symbol": "circle"
         },
         "mode": "markers",
         "name": "Luxshare Precision Industry",
         "orientation": "v",
         "showlegend": true,
         "type": "scatter",
         "x": [
          232585
         ],
         "xaxis": "x",
         "y": [
          32758.5
         ],
         "yaxis": "y"
        },
        {
         "hovertemplate": "Name=3M<br>Employees=%{x}<br>Revenues ($M)=%{y}<extra></extra>",
         "legendgroup": "3M",
         "marker": {
          "color": "#FF97FF",
          "symbol": "circle"
         },
         "mode": "markers",
         "name": "3M",
         "orientation": "v",
         "showlegend": true,
         "type": "scatter",
         "x": [
          85000
         ],
         "xaxis": "x",
         "y": [
          32681
         ],
         "yaxis": "y"
        },
        {
         "hovertemplate": "Name=Visa<br>Employees=%{x}<br>Revenues ($M)=%{y}<extra></extra>",
         "legendgroup": "Visa",
         "marker": {
          "color": "#FECB52",
          "symbol": "circle"
         },
         "mode": "markers",
         "name": "Visa",
         "orientation": "v",
         "showlegend": true,
         "type": "scatter",
         "x": [
          28800
         ],
         "xaxis": "x",
         "y": [
          32653
         ],
         "yaxis": "y"
        },
        {
         "hovertemplate": "Name=Apollo Global Management<br>Employees=%{x}<br>Revenues ($M)=%{y}<extra></extra>",
         "legendgroup": "Apollo Global Management",
         "marker": {
          "color": "#636efa",
          "symbol": "circle"
         },
         "mode": "markers",
         "name": "Apollo Global Management",
         "orientation": "v",
         "showlegend": true,
         "type": "scatter",
         "x": [
          6855
         ],
         "xaxis": "x",
         "y": [
          32644
         ],
         "yaxis": "y"
        },
        {
         "hovertemplate": "Name=Emirates Group<br>Employees=%{x}<br>Revenues ($M)=%{y}<extra></extra>",
         "legendgroup": "Emirates Group",
         "marker": {
          "color": "#EF553B",
          "symbol": "circle"
         },
         "mode": "markers",
         "name": "Emirates Group",
         "orientation": "v",
         "showlegend": true,
         "type": "scatter",
         "x": [
          112406
         ],
         "xaxis": "x",
         "y": [
          32637.9
         ],
         "yaxis": "y"
        },
        {
         "hovertemplate": "Name=Vibra Energia<br>Employees=%{x}<br>Revenues ($M)=%{y}<extra></extra>",
         "legendgroup": "Vibra Energia",
         "marker": {
          "color": "#00cc96",
          "symbol": "circle"
         },
         "mode": "markers",
         "name": "Vibra Energia",
         "orientation": "v",
         "showlegend": true,
         "type": "scatter",
         "x": [
          3526
         ],
         "xaxis": "x",
         "y": [
          32634.1
         ],
         "yaxis": "y"
        },
        {
         "hovertemplate": "Name=Metro<br>Employees=%{x}<br>Revenues ($M)=%{y}<extra></extra>",
         "legendgroup": "Metro",
         "marker": {
          "color": "#ab63fa",
          "symbol": "circle"
         },
         "mode": "markers",
         "name": "Metro",
         "orientation": "v",
         "showlegend": true,
         "type": "scatter",
         "x": [
          81834
         ],
         "xaxis": "x",
         "y": [
          32579.2
         ],
         "yaxis": "y"
        },
        {
         "hovertemplate": "Name=Subaru<br>Employees=%{x}<br>Revenues ($M)=%{y}<extra></extra>",
         "legendgroup": "Subaru",
         "marker": {
          "color": "#FFA15A",
          "symbol": "circle"
         },
         "mode": "markers",
         "name": "Subaru",
         "orientation": "v",
         "showlegend": true,
         "type": "scatter",
         "x": [
          37693
         ],
         "xaxis": "x",
         "y": [
          32540.1
         ],
         "yaxis": "y"
        },
        {
         "hovertemplate": "Name=Air France-KLM Group<br>Employees=%{x}<br>Revenues ($M)=%{y}<extra></extra>",
         "legendgroup": "Air France-KLM Group",
         "marker": {
          "color": "#19d3f3",
          "symbol": "circle"
         },
         "mode": "markers",
         "name": "Air France-KLM Group",
         "orientation": "v",
         "showlegend": true,
         "type": "scatter",
         "x": [
          76271
         ],
         "xaxis": "x",
         "y": [
          32452.3
         ],
         "yaxis": "y"
        },
        {
         "hovertemplate": "Name=Enbridge<br>Employees=%{x}<br>Revenues ($M)=%{y}<extra></extra>",
         "legendgroup": "Enbridge",
         "marker": {
          "color": "#FF6692",
          "symbol": "circle"
         },
         "mode": "markers",
         "name": "Enbridge",
         "orientation": "v",
         "showlegend": true,
         "type": "scatter",
         "x": [
          12450
         ],
         "xaxis": "x",
         "y": [
          32349.5
         ],
         "yaxis": "y"
        },
        {
         "hovertemplate": "Name=ABB<br>Employees=%{x}<br>Revenues ($M)=%{y}<extra></extra>",
         "legendgroup": "ABB",
         "marker": {
          "color": "#B6E880",
          "symbol": "circle"
         },
         "mode": "markers",
         "name": "ABB",
         "orientation": "v",
         "showlegend": true,
         "type": "scatter",
         "x": [
          107900
         ],
         "xaxis": "x",
         "y": [
          32235
         ],
         "yaxis": "y"
        },
        {
         "hovertemplate": "Name=Mitsubishi Heavy Industries<br>Employees=%{x}<br>Revenues ($M)=%{y}<extra></extra>",
         "legendgroup": "Mitsubishi Heavy Industries",
         "marker": {
          "color": "#FF97FF",
          "symbol": "circle"
         },
         "mode": "markers",
         "name": "Mitsubishi Heavy Industries",
         "orientation": "v",
         "showlegend": true,
         "type": "scatter",
         "x": [
          77697
         ],
         "xaxis": "x",
         "y": [
          32223.2
         ],
         "yaxis": "y"
        },
        {
         "hovertemplate": "Name=Samsung C&T<br>Employees=%{x}<br>Revenues ($M)=%{y}<extra></extra>",
         "legendgroup": "Samsung C&T",
         "marker": {
          "color": "#FECB52",
          "symbol": "circle"
         },
         "mode": "markers",
         "name": "Samsung C&T",
         "orientation": "v",
         "showlegend": true,
         "type": "scatter",
         "x": [
          18685
         ],
         "xaxis": "x",
         "y": [
          32077.9
         ],
         "yaxis": "y"
        }
       ],
       "layout": {
        "legend": {
         "title": {
          "text": "Name"
         },
         "tracegroupgap": 0
        },
        "template": {
         "data": {
          "bar": [
           {
            "error_x": {
             "color": "#2a3f5f"
            },
            "error_y": {
             "color": "#2a3f5f"
            },
            "marker": {
             "line": {
              "color": "#E5ECF6",
              "width": 0.5
             },
             "pattern": {
              "fillmode": "overlay",
              "size": 10,
              "solidity": 0.2
             }
            },
            "type": "bar"
           }
          ],
          "barpolar": [
           {
            "marker": {
             "line": {
              "color": "#E5ECF6",
              "width": 0.5
             },
             "pattern": {
              "fillmode": "overlay",
              "size": 10,
              "solidity": 0.2
             }
            },
            "type": "barpolar"
           }
          ],
          "carpet": [
           {
            "aaxis": {
             "endlinecolor": "#2a3f5f",
             "gridcolor": "white",
             "linecolor": "white",
             "minorgridcolor": "white",
             "startlinecolor": "#2a3f5f"
            },
            "baxis": {
             "endlinecolor": "#2a3f5f",
             "gridcolor": "white",
             "linecolor": "white",
             "minorgridcolor": "white",
             "startlinecolor": "#2a3f5f"
            },
            "type": "carpet"
           }
          ],
          "choropleth": [
           {
            "colorbar": {
             "outlinewidth": 0,
             "ticks": ""
            },
            "type": "choropleth"
           }
          ],
          "contour": [
           {
            "colorbar": {
             "outlinewidth": 0,
             "ticks": ""
            },
            "colorscale": [
             [
              0,
              "#0d0887"
             ],
             [
              0.1111111111111111,
              "#46039f"
             ],
             [
              0.2222222222222222,
              "#7201a8"
             ],
             [
              0.3333333333333333,
              "#9c179e"
             ],
             [
              0.4444444444444444,
              "#bd3786"
             ],
             [
              0.5555555555555556,
              "#d8576b"
             ],
             [
              0.6666666666666666,
              "#ed7953"
             ],
             [
              0.7777777777777778,
              "#fb9f3a"
             ],
             [
              0.8888888888888888,
              "#fdca26"
             ],
             [
              1,
              "#f0f921"
             ]
            ],
            "type": "contour"
           }
          ],
          "contourcarpet": [
           {
            "colorbar": {
             "outlinewidth": 0,
             "ticks": ""
            },
            "type": "contourcarpet"
           }
          ],
          "heatmap": [
           {
            "colorbar": {
             "outlinewidth": 0,
             "ticks": ""
            },
            "colorscale": [
             [
              0,
              "#0d0887"
             ],
             [
              0.1111111111111111,
              "#46039f"
             ],
             [
              0.2222222222222222,
              "#7201a8"
             ],
             [
              0.3333333333333333,
              "#9c179e"
             ],
             [
              0.4444444444444444,
              "#bd3786"
             ],
             [
              0.5555555555555556,
              "#d8576b"
             ],
             [
              0.6666666666666666,
              "#ed7953"
             ],
             [
              0.7777777777777778,
              "#fb9f3a"
             ],
             [
              0.8888888888888888,
              "#fdca26"
             ],
             [
              1,
              "#f0f921"
             ]
            ],
            "type": "heatmap"
           }
          ],
          "heatmapgl": [
           {
            "colorbar": {
             "outlinewidth": 0,
             "ticks": ""
            },
            "colorscale": [
             [
              0,
              "#0d0887"
             ],
             [
              0.1111111111111111,
              "#46039f"
             ],
             [
              0.2222222222222222,
              "#7201a8"
             ],
             [
              0.3333333333333333,
              "#9c179e"
             ],
             [
              0.4444444444444444,
              "#bd3786"
             ],
             [
              0.5555555555555556,
              "#d8576b"
             ],
             [
              0.6666666666666666,
              "#ed7953"
             ],
             [
              0.7777777777777778,
              "#fb9f3a"
             ],
             [
              0.8888888888888888,
              "#fdca26"
             ],
             [
              1,
              "#f0f921"
             ]
            ],
            "type": "heatmapgl"
           }
          ],
          "histogram": [
           {
            "marker": {
             "pattern": {
              "fillmode": "overlay",
              "size": 10,
              "solidity": 0.2
             }
            },
            "type": "histogram"
           }
          ],
          "histogram2d": [
           {
            "colorbar": {
             "outlinewidth": 0,
             "ticks": ""
            },
            "colorscale": [
             [
              0,
              "#0d0887"
             ],
             [
              0.1111111111111111,
              "#46039f"
             ],
             [
              0.2222222222222222,
              "#7201a8"
             ],
             [
              0.3333333333333333,
              "#9c179e"
             ],
             [
              0.4444444444444444,
              "#bd3786"
             ],
             [
              0.5555555555555556,
              "#d8576b"
             ],
             [
              0.6666666666666666,
              "#ed7953"
             ],
             [
              0.7777777777777778,
              "#fb9f3a"
             ],
             [
              0.8888888888888888,
              "#fdca26"
             ],
             [
              1,
              "#f0f921"
             ]
            ],
            "type": "histogram2d"
           }
          ],
          "histogram2dcontour": [
           {
            "colorbar": {
             "outlinewidth": 0,
             "ticks": ""
            },
            "colorscale": [
             [
              0,
              "#0d0887"
             ],
             [
              0.1111111111111111,
              "#46039f"
             ],
             [
              0.2222222222222222,
              "#7201a8"
             ],
             [
              0.3333333333333333,
              "#9c179e"
             ],
             [
              0.4444444444444444,
              "#bd3786"
             ],
             [
              0.5555555555555556,
              "#d8576b"
             ],
             [
              0.6666666666666666,
              "#ed7953"
             ],
             [
              0.7777777777777778,
              "#fb9f3a"
             ],
             [
              0.8888888888888888,
              "#fdca26"
             ],
             [
              1,
              "#f0f921"
             ]
            ],
            "type": "histogram2dcontour"
           }
          ],
          "mesh3d": [
           {
            "colorbar": {
             "outlinewidth": 0,
             "ticks": ""
            },
            "type": "mesh3d"
           }
          ],
          "parcoords": [
           {
            "line": {
             "colorbar": {
              "outlinewidth": 0,
              "ticks": ""
             }
            },
            "type": "parcoords"
           }
          ],
          "pie": [
           {
            "automargin": true,
            "type": "pie"
           }
          ],
          "scatter": [
           {
            "fillpattern": {
             "fillmode": "overlay",
             "size": 10,
             "solidity": 0.2
            },
            "type": "scatter"
           }
          ],
          "scatter3d": [
           {
            "line": {
             "colorbar": {
              "outlinewidth": 0,
              "ticks": ""
             }
            },
            "marker": {
             "colorbar": {
              "outlinewidth": 0,
              "ticks": ""
             }
            },
            "type": "scatter3d"
           }
          ],
          "scattercarpet": [
           {
            "marker": {
             "colorbar": {
              "outlinewidth": 0,
              "ticks": ""
             }
            },
            "type": "scattercarpet"
           }
          ],
          "scattergeo": [
           {
            "marker": {
             "colorbar": {
              "outlinewidth": 0,
              "ticks": ""
             }
            },
            "type": "scattergeo"
           }
          ],
          "scattergl": [
           {
            "marker": {
             "colorbar": {
              "outlinewidth": 0,
              "ticks": ""
             }
            },
            "type": "scattergl"
           }
          ],
          "scattermapbox": [
           {
            "marker": {
             "colorbar": {
              "outlinewidth": 0,
              "ticks": ""
             }
            },
            "type": "scattermapbox"
           }
          ],
          "scatterpolar": [
           {
            "marker": {
             "colorbar": {
              "outlinewidth": 0,
              "ticks": ""
             }
            },
            "type": "scatterpolar"
           }
          ],
          "scatterpolargl": [
           {
            "marker": {
             "colorbar": {
              "outlinewidth": 0,
              "ticks": ""
             }
            },
            "type": "scatterpolargl"
           }
          ],
          "scatterternary": [
           {
            "marker": {
             "colorbar": {
              "outlinewidth": 0,
              "ticks": ""
             }
            },
            "type": "scatterternary"
           }
          ],
          "surface": [
           {
            "colorbar": {
             "outlinewidth": 0,
             "ticks": ""
            },
            "colorscale": [
             [
              0,
              "#0d0887"
             ],
             [
              0.1111111111111111,
              "#46039f"
             ],
             [
              0.2222222222222222,
              "#7201a8"
             ],
             [
              0.3333333333333333,
              "#9c179e"
             ],
             [
              0.4444444444444444,
              "#bd3786"
             ],
             [
              0.5555555555555556,
              "#d8576b"
             ],
             [
              0.6666666666666666,
              "#ed7953"
             ],
             [
              0.7777777777777778,
              "#fb9f3a"
             ],
             [
              0.8888888888888888,
              "#fdca26"
             ],
             [
              1,
              "#f0f921"
             ]
            ],
            "type": "surface"
           }
          ],
          "table": [
           {
            "cells": {
             "fill": {
              "color": "#EBF0F8"
             },
             "line": {
              "color": "white"
             }
            },
            "header": {
             "fill": {
              "color": "#C8D4E3"
             },
             "line": {
              "color": "white"
             }
            },
            "type": "table"
           }
          ]
         },
         "layout": {
          "annotationdefaults": {
           "arrowcolor": "#2a3f5f",
           "arrowhead": 0,
           "arrowwidth": 1
          },
          "autotypenumbers": "strict",
          "coloraxis": {
           "colorbar": {
            "outlinewidth": 0,
            "ticks": ""
           }
          },
          "colorscale": {
           "diverging": [
            [
             0,
             "#8e0152"
            ],
            [
             0.1,
             "#c51b7d"
            ],
            [
             0.2,
             "#de77ae"
            ],
            [
             0.3,
             "#f1b6da"
            ],
            [
             0.4,
             "#fde0ef"
            ],
            [
             0.5,
             "#f7f7f7"
            ],
            [
             0.6,
             "#e6f5d0"
            ],
            [
             0.7,
             "#b8e186"
            ],
            [
             0.8,
             "#7fbc41"
            ],
            [
             0.9,
             "#4d9221"
            ],
            [
             1,
             "#276419"
            ]
           ],
           "sequential": [
            [
             0,
             "#0d0887"
            ],
            [
             0.1111111111111111,
             "#46039f"
            ],
            [
             0.2222222222222222,
             "#7201a8"
            ],
            [
             0.3333333333333333,
             "#9c179e"
            ],
            [
             0.4444444444444444,
             "#bd3786"
            ],
            [
             0.5555555555555556,
             "#d8576b"
            ],
            [
             0.6666666666666666,
             "#ed7953"
            ],
            [
             0.7777777777777778,
             "#fb9f3a"
            ],
            [
             0.8888888888888888,
             "#fdca26"
            ],
            [
             1,
             "#f0f921"
            ]
           ],
           "sequentialminus": [
            [
             0,
             "#0d0887"
            ],
            [
             0.1111111111111111,
             "#46039f"
            ],
            [
             0.2222222222222222,
             "#7201a8"
            ],
            [
             0.3333333333333333,
             "#9c179e"
            ],
            [
             0.4444444444444444,
             "#bd3786"
            ],
            [
             0.5555555555555556,
             "#d8576b"
            ],
            [
             0.6666666666666666,
             "#ed7953"
            ],
            [
             0.7777777777777778,
             "#fb9f3a"
            ],
            [
             0.8888888888888888,
             "#fdca26"
            ],
            [
             1,
             "#f0f921"
            ]
           ]
          },
          "colorway": [
           "#636efa",
           "#EF553B",
           "#00cc96",
           "#ab63fa",
           "#FFA15A",
           "#19d3f3",
           "#FF6692",
           "#B6E880",
           "#FF97FF",
           "#FECB52"
          ],
          "font": {
           "color": "#2a3f5f"
          },
          "geo": {
           "bgcolor": "white",
           "lakecolor": "white",
           "landcolor": "#E5ECF6",
           "showlakes": true,
           "showland": true,
           "subunitcolor": "white"
          },
          "hoverlabel": {
           "align": "left"
          },
          "hovermode": "closest",
          "mapbox": {
           "style": "light"
          },
          "paper_bgcolor": "white",
          "plot_bgcolor": "#E5ECF6",
          "polar": {
           "angularaxis": {
            "gridcolor": "white",
            "linecolor": "white",
            "ticks": ""
           },
           "bgcolor": "#E5ECF6",
           "radialaxis": {
            "gridcolor": "white",
            "linecolor": "white",
            "ticks": ""
           }
          },
          "scene": {
           "xaxis": {
            "backgroundcolor": "#E5ECF6",
            "gridcolor": "white",
            "gridwidth": 2,
            "linecolor": "white",
            "showbackground": true,
            "ticks": "",
            "zerolinecolor": "white"
           },
           "yaxis": {
            "backgroundcolor": "#E5ECF6",
            "gridcolor": "white",
            "gridwidth": 2,
            "linecolor": "white",
            "showbackground": true,
            "ticks": "",
            "zerolinecolor": "white"
           },
           "zaxis": {
            "backgroundcolor": "#E5ECF6",
            "gridcolor": "white",
            "gridwidth": 2,
            "linecolor": "white",
            "showbackground": true,
            "ticks": "",
            "zerolinecolor": "white"
           }
          },
          "shapedefaults": {
           "line": {
            "color": "#2a3f5f"
           }
          },
          "ternary": {
           "aaxis": {
            "gridcolor": "white",
            "linecolor": "white",
            "ticks": ""
           },
           "baxis": {
            "gridcolor": "white",
            "linecolor": "white",
            "ticks": ""
           },
           "bgcolor": "#E5ECF6",
           "caxis": {
            "gridcolor": "white",
            "linecolor": "white",
            "ticks": ""
           }
          },
          "title": {
           "x": 0.05
          },
          "xaxis": {
           "automargin": true,
           "gridcolor": "white",
           "linecolor": "white",
           "ticks": "",
           "title": {
            "standoff": 15
           },
           "zerolinecolor": "white",
           "zerolinewidth": 2
          },
          "yaxis": {
           "automargin": true,
           "gridcolor": "white",
           "linecolor": "white",
           "ticks": "",
           "title": {
            "standoff": 15
           },
           "zerolinecolor": "white",
           "zerolinewidth": 2
          }
         }
        },
        "title": {
         "text": "Revenues vs Number of Employees among companies"
        },
        "xaxis": {
         "anchor": "y",
         "domain": [
          0,
          1
         ],
         "title": {
          "text": "Employees"
         }
        },
        "yaxis": {
         "anchor": "x",
         "domain": [
          0,
          1
         ],
         "title": {
          "text": "Revenues ($M)"
         }
        }
       }
      }
     },
     "metadata": {},
     "output_type": "display_data"
    }
   ],
   "source": [
    "# plotting the number of employees vs Revenue\n",
    "fig = px.scatter(df, x='Employees', y='Revenues ($M)', color='Name', title='Revenues vs Number of Employees among companies')\n",
    "fig.show()"
   ]
  },
  {
   "cell_type": "code",
   "execution_count": 11,
   "metadata": {},
   "outputs": [
    {
     "data": {
      "application/vnd.plotly.v1+json": {
       "config": {
        "plotlyServerURL": "https://plot.ly"
       },
       "data": [
        {
         "hovertemplate": "Name=Walmart<br>Rank=%{x}<br>Employees=%{y}<extra></extra>",
         "legendgroup": "Walmart",
         "marker": {
          "color": "#636efa",
          "symbol": "circle"
         },
         "mode": "markers",
         "name": "Walmart",
         "orientation": "v",
         "showlegend": true,
         "type": "scatter",
         "x": [
          1
         ],
         "xaxis": "x",
         "y": [
          2100000
         ],
         "yaxis": "y"
        },
        {
         "hovertemplate": "Name=Amazon<br>Rank=%{x}<br>Employees=%{y}<extra></extra>",
         "legendgroup": "Amazon",
         "marker": {
          "color": "#EF553B",
          "symbol": "circle"
         },
         "mode": "markers",
         "name": "Amazon",
         "orientation": "v",
         "showlegend": true,
         "type": "scatter",
         "x": [
          2
         ],
         "xaxis": "x",
         "y": [
          1525000
         ],
         "yaxis": "y"
        },
        {
         "hovertemplate": "Name=State Grid<br>Rank=%{x}<br>Employees=%{y}<extra></extra>",
         "legendgroup": "State Grid",
         "marker": {
          "color": "#00cc96",
          "symbol": "circle"
         },
         "mode": "markers",
         "name": "State Grid",
         "orientation": "v",
         "showlegend": true,
         "type": "scatter",
         "x": [
          3
         ],
         "xaxis": "x",
         "y": [
          1361423
         ],
         "yaxis": "y"
        },
        {
         "hovertemplate": "Name=Saudi Aramco<br>Rank=%{x}<br>Employees=%{y}<extra></extra>",
         "legendgroup": "Saudi Aramco",
         "marker": {
          "color": "#ab63fa",
          "symbol": "circle"
         },
         "mode": "markers",
         "name": "Saudi Aramco",
         "orientation": "v",
         "showlegend": true,
         "type": "scatter",
         "x": [
          4
         ],
         "xaxis": "x",
         "y": [
          73311
         ],
         "yaxis": "y"
        },
        {
         "hovertemplate": "Name=Sinopec Group<br>Rank=%{x}<br>Employees=%{y}<extra></extra>",
         "legendgroup": "Sinopec Group",
         "marker": {
          "color": "#FFA15A",
          "symbol": "circle"
         },
         "mode": "markers",
         "name": "Sinopec Group",
         "orientation": "v",
         "showlegend": true,
         "type": "scatter",
         "x": [
          5
         ],
         "xaxis": "x",
         "y": [
          513434
         ],
         "yaxis": "y"
        },
        {
         "hovertemplate": "Name=China National Petroleum<br>Rank=%{x}<br>Employees=%{y}<extra></extra>",
         "legendgroup": "China National Petroleum",
         "marker": {
          "color": "#19d3f3",
          "symbol": "circle"
         },
         "mode": "markers",
         "name": "China National Petroleum",
         "orientation": "v",
         "showlegend": true,
         "type": "scatter",
         "x": [
          6
         ],
         "xaxis": "x",
         "y": [
          1026301
         ],
         "yaxis": "y"
        },
        {
         "hovertemplate": "Name=Apple<br>Rank=%{x}<br>Employees=%{y}<extra></extra>",
         "legendgroup": "Apple",
         "marker": {
          "color": "#FF6692",
          "symbol": "circle"
         },
         "mode": "markers",
         "name": "Apple",
         "orientation": "v",
         "showlegend": true,
         "type": "scatter",
         "x": [
          7
         ],
         "xaxis": "x",
         "y": [
          161000
         ],
         "yaxis": "y"
        },
        {
         "hovertemplate": "Name=UnitedHealth Group<br>Rank=%{x}<br>Employees=%{y}<extra></extra>",
         "legendgroup": "UnitedHealth Group",
         "marker": {
          "color": "#B6E880",
          "symbol": "circle"
         },
         "mode": "markers",
         "name": "UnitedHealth Group",
         "orientation": "v",
         "showlegend": true,
         "type": "scatter",
         "x": [
          8
         ],
         "xaxis": "x",
         "y": [
          440000
         ],
         "yaxis": "y"
        },
        {
         "hovertemplate": "Name=Berkshire Hathaway<br>Rank=%{x}<br>Employees=%{y}<extra></extra>",
         "legendgroup": "Berkshire Hathaway",
         "marker": {
          "color": "#FF97FF",
          "symbol": "circle"
         },
         "mode": "markers",
         "name": "Berkshire Hathaway",
         "orientation": "v",
         "showlegend": true,
         "type": "scatter",
         "x": [
          9
         ],
         "xaxis": "x",
         "y": [
          396500
         ],
         "yaxis": "y"
        },
        {
         "hovertemplate": "Name=CVS Health<br>Rank=%{x}<br>Employees=%{y}<extra></extra>",
         "legendgroup": "CVS Health",
         "marker": {
          "color": "#FECB52",
          "symbol": "circle"
         },
         "mode": "markers",
         "name": "CVS Health",
         "orientation": "v",
         "showlegend": true,
         "type": "scatter",
         "x": [
          10
         ],
         "xaxis": "x",
         "y": [
          259500
         ],
         "yaxis": "y"
        },
        {
         "hovertemplate": "Name=Volkswagen<br>Rank=%{x}<br>Employees=%{y}<extra></extra>",
         "legendgroup": "Volkswagen",
         "marker": {
          "color": "#636efa",
          "symbol": "circle"
         },
         "mode": "markers",
         "name": "Volkswagen",
         "orientation": "v",
         "showlegend": true,
         "type": "scatter",
         "x": [
          11
         ],
         "xaxis": "x",
         "y": [
          684025
         ],
         "yaxis": "y"
        },
        {
         "hovertemplate": "Name=Exxon Mobil<br>Rank=%{x}<br>Employees=%{y}<extra></extra>",
         "legendgroup": "Exxon Mobil",
         "marker": {
          "color": "#EF553B",
          "symbol": "circle"
         },
         "mode": "markers",
         "name": "Exxon Mobil",
         "orientation": "v",
         "showlegend": true,
         "type": "scatter",
         "x": [
          12
         ],
         "xaxis": "x",
         "y": [
          61500
         ],
         "yaxis": "y"
        },
        {
         "hovertemplate": "Name=Shell<br>Rank=%{x}<br>Employees=%{y}<extra></extra>",
         "legendgroup": "Shell",
         "marker": {
          "color": "#00cc96",
          "symbol": "circle"
         },
         "mode": "markers",
         "name": "Shell",
         "orientation": "v",
         "showlegend": true,
         "type": "scatter",
         "x": [
          13
         ],
         "xaxis": "x",
         "y": [
          103000
         ],
         "yaxis": "y"
        },
        {
         "hovertemplate": "Name=China State Construction Engineering<br>Rank=%{x}<br>Employees=%{y}<extra></extra>",
         "legendgroup": "China State Construction Engineering",
         "marker": {
          "color": "#ab63fa",
          "symbol": "circle"
         },
         "mode": "markers",
         "name": "China State Construction Engineering",
         "orientation": "v",
         "showlegend": true,
         "type": "scatter",
         "x": [
          14
         ],
         "xaxis": "x",
         "y": [
          382894
         ],
         "yaxis": "y"
        },
        {
         "hovertemplate": "Name=Toyota Motor<br>Rank=%{x}<br>Employees=%{y}<extra></extra>",
         "legendgroup": "Toyota Motor",
         "marker": {
          "color": "#FFA15A",
          "symbol": "circle"
         },
         "mode": "markers",
         "name": "Toyota Motor",
         "orientation": "v",
         "showlegend": true,
         "type": "scatter",
         "x": [
          15
         ],
         "xaxis": "x",
         "y": [
          380793
         ],
         "yaxis": "y"
        },
        {
         "hovertemplate": "Name=McKesson<br>Rank=%{x}<br>Employees=%{y}<extra></extra>",
         "legendgroup": "McKesson",
         "marker": {
          "color": "#19d3f3",
          "symbol": "circle"
         },
         "mode": "markers",
         "name": "McKesson",
         "orientation": "v",
         "showlegend": true,
         "type": "scatter",
         "x": [
          16
         ],
         "xaxis": "x",
         "y": [
          48000
         ],
         "yaxis": "y"
        },
        {
         "hovertemplate": "Name=Alphabet<br>Rank=%{x}<br>Employees=%{y}<extra></extra>",
         "legendgroup": "Alphabet",
         "marker": {
          "color": "#FF6692",
          "symbol": "circle"
         },
         "mode": "markers",
         "name": "Alphabet",
         "orientation": "v",
         "showlegend": true,
         "type": "scatter",
         "x": [
          17
         ],
         "xaxis": "x",
         "y": [
          182502
         ],
         "yaxis": "y"
        },
        {
         "hovertemplate": "Name=Cencora<br>Rank=%{x}<br>Employees=%{y}<extra></extra>",
         "legendgroup": "Cencora",
         "marker": {
          "color": "#B6E880",
          "symbol": "circle"
         },
         "mode": "markers",
         "name": "Cencora",
         "orientation": "v",
         "showlegend": true,
         "type": "scatter",
         "x": [
          18
         ],
         "xaxis": "x",
         "y": [
          44000
         ],
         "yaxis": "y"
        },
        {
         "hovertemplate": "Name=Trafigura Group<br>Rank=%{x}<br>Employees=%{y}<extra></extra>",
         "legendgroup": "Trafigura Group",
         "marker": {
          "color": "#FF97FF",
          "symbol": "circle"
         },
         "mode": "markers",
         "name": "Trafigura Group",
         "orientation": "v",
         "showlegend": true,
         "type": "scatter",
         "x": [
          19
         ],
         "xaxis": "x",
         "y": [
          12479
         ],
         "yaxis": "y"
        },
        {
         "hovertemplate": "Name=Costco Wholesale<br>Rank=%{x}<br>Employees=%{y}<extra></extra>",
         "legendgroup": "Costco Wholesale",
         "marker": {
          "color": "#FECB52",
          "symbol": "circle"
         },
         "mode": "markers",
         "name": "Costco Wholesale",
         "orientation": "v",
         "showlegend": true,
         "type": "scatter",
         "x": [
          20
         ],
         "xaxis": "x",
         "y": [
          316000
         ],
         "yaxis": "y"
        },
        {
         "hovertemplate": "Name=JPMorgan Chase<br>Rank=%{x}<br>Employees=%{y}<extra></extra>",
         "legendgroup": "JPMorgan Chase",
         "marker": {
          "color": "#636efa",
          "symbol": "circle"
         },
         "mode": "markers",
         "name": "JPMorgan Chase",
         "orientation": "v",
         "showlegend": true,
         "type": "scatter",
         "x": [
          21
         ],
         "xaxis": "x",
         "y": [
          309926
         ],
         "yaxis": "y"
        },
        {
         "hovertemplate": "Name=Industrial & Commercial Bank of China<br>Rank=%{x}<br>Employees=%{y}<extra></extra>",
         "legendgroup": "Industrial & Commercial Bank of China",
         "marker": {
          "color": "#EF553B",
          "symbol": "circle"
         },
         "mode": "markers",
         "name": "Industrial & Commercial Bank of China",
         "orientation": "v",
         "showlegend": true,
         "type": "scatter",
         "x": [
          22
         ],
         "xaxis": "x",
         "y": [
          419252
         ],
         "yaxis": "y"
        },
        {
         "hovertemplate": "Name=TotalEnergies<br>Rank=%{x}<br>Employees=%{y}<extra></extra>",
         "legendgroup": "TotalEnergies",
         "marker": {
          "color": "#00cc96",
          "symbol": "circle"
         },
         "mode": "markers",
         "name": "TotalEnergies",
         "orientation": "v",
         "showlegend": true,
         "type": "scatter",
         "x": [
          23
         ],
         "xaxis": "x",
         "y": [
          102579
         ],
         "yaxis": "y"
        },
        {
         "hovertemplate": "Name=Glencore<br>Rank=%{x}<br>Employees=%{y}<extra></extra>",
         "legendgroup": "Glencore",
         "marker": {
          "color": "#ab63fa",
          "symbol": "circle"
         },
         "mode": "markers",
         "name": "Glencore",
         "orientation": "v",
         "showlegend": true,
         "type": "scatter",
         "x": [
          24
         ],
         "xaxis": "x",
         "y": [
          83426
         ],
         "yaxis": "y"
        },
        {
         "hovertemplate": "Name=BP<br>Rank=%{x}<br>Employees=%{y}<extra></extra>",
         "legendgroup": "BP",
         "marker": {
          "color": "#FFA15A",
          "symbol": "circle"
         },
         "mode": "markers",
         "name": "BP",
         "orientation": "v",
         "showlegend": true,
         "type": "scatter",
         "x": [
          25
         ],
         "xaxis": "x",
         "y": [
          79400
         ],
         "yaxis": "y"
        },
        {
         "hovertemplate": "Name=Microsoft<br>Rank=%{x}<br>Employees=%{y}<extra></extra>",
         "legendgroup": "Microsoft",
         "marker": {
          "color": "#19d3f3",
          "symbol": "circle"
         },
         "mode": "markers",
         "name": "Microsoft",
         "orientation": "v",
         "showlegend": true,
         "type": "scatter",
         "x": [
          26
         ],
         "xaxis": "x",
         "y": [
          221000
         ],
         "yaxis": "y"
        },
        {
         "hovertemplate": "Name=Cardinal Health<br>Rank=%{x}<br>Employees=%{y}<extra></extra>",
         "legendgroup": "Cardinal Health",
         "marker": {
          "color": "#FF6692",
          "symbol": "circle"
         },
         "mode": "markers",
         "name": "Cardinal Health",
         "orientation": "v",
         "showlegend": true,
         "type": "scatter",
         "x": [
          27
         ],
         "xaxis": "x",
         "y": [
          47520
         ],
         "yaxis": "y"
        },
        {
         "hovertemplate": "Name=Stellantis<br>Rank=%{x}<br>Employees=%{y}<extra></extra>",
         "legendgroup": "Stellantis",
         "marker": {
          "color": "#B6E880",
          "symbol": "circle"
         },
         "mode": "markers",
         "name": "Stellantis",
         "orientation": "v",
         "showlegend": true,
         "type": "scatter",
         "x": [
          28
         ],
         "xaxis": "x",
         "y": [
          258275
         ],
         "yaxis": "y"
        },
        {
         "hovertemplate": "Name=Chevron<br>Rank=%{x}<br>Employees=%{y}<extra></extra>",
         "legendgroup": "Chevron",
         "marker": {
          "color": "#FF97FF",
          "symbol": "circle"
         },
         "mode": "markers",
         "name": "Chevron",
         "orientation": "v",
         "showlegend": true,
         "type": "scatter",
         "x": [
          29
         ],
         "xaxis": "x",
         "y": [
          45600
         ],
         "yaxis": "y"
        },
        {
         "hovertemplate": "Name=China Construction Bank<br>Rank=%{x}<br>Employees=%{y}<extra></extra>",
         "legendgroup": "China Construction Bank",
         "marker": {
          "color": "#FECB52",
          "symbol": "circle"
         },
         "mode": "markers",
         "name": "China Construction Bank",
         "orientation": "v",
         "showlegend": true,
         "type": "scatter",
         "x": [
          30
         ],
         "xaxis": "x",
         "y": [
          376871
         ],
         "yaxis": "y"
        },
        {
         "hovertemplate": "Name=Samsung Electronics<br>Rank=%{x}<br>Employees=%{y}<extra></extra>",
         "legendgroup": "Samsung Electronics",
         "marker": {
          "color": "#636efa",
          "symbol": "circle"
         },
         "mode": "markers",
         "name": "Samsung Electronics",
         "orientation": "v",
         "showlegend": true,
         "type": "scatter",
         "x": [
          31
         ],
         "xaxis": "x",
         "y": [
          267860
         ],
         "yaxis": "y"
        },
        {
         "hovertemplate": "Name=Hon Hai Precision Industry<br>Rank=%{x}<br>Employees=%{y}<extra></extra>",
         "legendgroup": "Hon Hai Precision Industry",
         "marker": {
          "color": "#EF553B",
          "symbol": "circle"
         },
         "mode": "markers",
         "name": "Hon Hai Precision Industry",
         "orientation": "v",
         "showlegend": true,
         "type": "scatter",
         "x": [
          32
         ],
         "xaxis": "x",
         "y": [
          621393
         ],
         "yaxis": "y"
        },
        {
         "hovertemplate": "Name=Cigna<br>Rank=%{x}<br>Employees=%{y}<extra></extra>",
         "legendgroup": "Cigna",
         "marker": {
          "color": "#00cc96",
          "symbol": "circle"
         },
         "mode": "markers",
         "name": "Cigna",
         "orientation": "v",
         "showlegend": true,
         "type": "scatter",
         "x": [
          33
         ],
         "xaxis": "x",
         "y": [
          71413
         ],
         "yaxis": "y"
        },
        {
         "hovertemplate": "Name=Agricultural Bank of China<br>Rank=%{x}<br>Employees=%{y}<extra></extra>",
         "legendgroup": "Agricultural Bank of China",
         "marker": {
          "color": "#ab63fa",
          "symbol": "circle"
         },
         "mode": "markers",
         "name": "Agricultural Bank of China",
         "orientation": "v",
         "showlegend": true,
         "type": "scatter",
         "x": [
          34
         ],
         "xaxis": "x",
         "y": [
          451003
         ],
         "yaxis": "y"
        },
        {
         "hovertemplate": "Name=China Railway Engineering Group<br>Rank=%{x}<br>Employees=%{y}<extra></extra>",
         "legendgroup": "China Railway Engineering Group",
         "marker": {
          "color": "#FFA15A",
          "symbol": "circle"
         },
         "mode": "markers",
         "name": "China Railway Engineering Group",
         "orientation": "v",
         "showlegend": true,
         "type": "scatter",
         "x": [
          35
         ],
         "xaxis": "x",
         "y": [
          314149
         ],
         "yaxis": "y"
        },
        {
         "hovertemplate": "Name=Ford Motor<br>Rank=%{x}<br>Employees=%{y}<extra></extra>",
         "legendgroup": "Ford Motor",
         "marker": {
          "color": "#19d3f3",
          "symbol": "circle"
         },
         "mode": "markers",
         "name": "Ford Motor",
         "orientation": "v",
         "showlegend": true,
         "type": "scatter",
         "x": [
          36
         ],
         "xaxis": "x",
         "y": [
          177000
         ],
         "yaxis": "y"
        },
        {
         "hovertemplate": "Name=Bank of China<br>Rank=%{x}<br>Employees=%{y}<extra></extra>",
         "legendgroup": "Bank of China",
         "marker": {
          "color": "#FF6692",
          "symbol": "circle"
         },
         "mode": "markers",
         "name": "Bank of China",
         "orientation": "v",
         "showlegend": true,
         "type": "scatter",
         "x": [
          37
         ],
         "xaxis": "x",
         "y": [
          306931
         ],
         "yaxis": "y"
        },
        {
         "hovertemplate": "Name=Bank of America<br>Rank=%{x}<br>Employees=%{y}<extra></extra>",
         "legendgroup": "Bank of America",
         "marker": {
          "color": "#B6E880",
          "symbol": "circle"
         },
         "mode": "markers",
         "name": "Bank of America",
         "orientation": "v",
         "showlegend": true,
         "type": "scatter",
         "x": [
          38
         ],
         "xaxis": "x",
         "y": [
          212985
         ],
         "yaxis": "y"
        },
        {
         "hovertemplate": "Name=General Motors<br>Rank=%{x}<br>Employees=%{y}<extra></extra>",
         "legendgroup": "General Motors",
         "marker": {
          "color": "#FF97FF",
          "symbol": "circle"
         },
         "mode": "markers",
         "name": "General Motors",
         "orientation": "v",
         "showlegend": true,
         "type": "scatter",
         "x": [
          39
         ],
         "xaxis": "x",
         "y": [
          163000
         ],
         "yaxis": "y"
        },
        {
         "hovertemplate": "Name=Elevance Health<br>Rank=%{x}<br>Employees=%{y}<extra></extra>",
         "legendgroup": "Elevance Health",
         "marker": {
          "color": "#FECB52",
          "symbol": "circle"
         },
         "mode": "markers",
         "name": "Elevance Health",
         "orientation": "v",
         "showlegend": true,
         "type": "scatter",
         "x": [
          40
         ],
         "xaxis": "x",
         "y": [
          104900
         ],
         "yaxis": "y"
        },
        {
         "hovertemplate": "Name=BMW Group<br>Rank=%{x}<br>Employees=%{y}<extra></extra>",
         "legendgroup": "BMW Group",
         "marker": {
          "color": "#636efa",
          "symbol": "circle"
         },
         "mode": "markers",
         "name": "BMW Group",
         "orientation": "v",
         "showlegend": true,
         "type": "scatter",
         "x": [
          41
         ],
         "xaxis": "x",
         "y": [
          154950
         ],
         "yaxis": "y"
        },
        {
         "hovertemplate": "Name=Mercedes-Benz Group<br>Rank=%{x}<br>Employees=%{y}<extra></extra>",
         "legendgroup": "Mercedes-Benz Group",
         "marker": {
          "color": "#EF553B",
          "symbol": "circle"
         },
         "mode": "markers",
         "name": "Mercedes-Benz Group",
         "orientation": "v",
         "showlegend": true,
         "type": "scatter",
         "x": [
          42
         ],
         "xaxis": "x",
         "y": [
          166056
         ],
         "yaxis": "y"
        },
        {
         "hovertemplate": "Name=China Railway Construction<br>Rank=%{x}<br>Employees=%{y}<extra></extra>",
         "legendgroup": "China Railway Construction",
         "marker": {
          "color": "#00cc96",
          "symbol": "circle"
         },
         "mode": "markers",
         "name": "China Railway Construction",
         "orientation": "v",
         "showlegend": true,
         "type": "scatter",
         "x": [
          43
         ],
         "xaxis": "x",
         "y": [
          336433
         ],
         "yaxis": "y"
        },
        {
         "hovertemplate": "Name=China Baowu Steel Group<br>Rank=%{x}<br>Employees=%{y}<extra></extra>",
         "legendgroup": "China Baowu Steel Group",
         "marker": {
          "color": "#ab63fa",
          "symbol": "circle"
         },
         "mode": "markers",
         "name": "China Baowu Steel Group",
         "orientation": "v",
         "showlegend": true,
         "type": "scatter",
         "x": [
          44
         ],
         "xaxis": "x",
         "y": [
          258697
         ],
         "yaxis": "y"
        },
        {
         "hovertemplate": "Name=Citigroup<br>Rank=%{x}<br>Employees=%{y}<extra></extra>",
         "legendgroup": "Citigroup",
         "marker": {
          "color": "#FFA15A",
          "symbol": "circle"
         },
         "mode": "markers",
         "name": "Citigroup",
         "orientation": "v",
         "showlegend": true,
         "type": "scatter",
         "x": [
          45
         ],
         "xaxis": "x",
         "y": [
          237925
         ],
         "yaxis": "y"
        },
        {
         "hovertemplate": "Name=Centene<br>Rank=%{x}<br>Employees=%{y}<extra></extra>",
         "legendgroup": "Centene",
         "marker": {
          "color": "#19d3f3",
          "symbol": "circle"
         },
         "mode": "markers",
         "name": "Centene",
         "orientation": "v",
         "showlegend": true,
         "type": "scatter",
         "x": [
          46
         ],
         "xaxis": "x",
         "y": [
          67700
         ],
         "yaxis": "y"
        },
        {
         "hovertemplate": "Name=JD.com<br>Rank=%{x}<br>Employees=%{y}<extra></extra>",
         "legendgroup": "JD.com",
         "marker": {
          "color": "#FF6692",
          "symbol": "circle"
         },
         "mode": "markers",
         "name": "JD.com",
         "orientation": "v",
         "showlegend": true,
         "type": "scatter",
         "x": [
          47
         ],
         "xaxis": "x",
         "y": [
          517124
         ],
         "yaxis": "y"
        },
        {
         "hovertemplate": "Name=Home Depot<br>Rank=%{x}<br>Employees=%{y}<extra></extra>",
         "legendgroup": "Home Depot",
         "marker": {
          "color": "#B6E880",
          "symbol": "circle"
         },
         "mode": "markers",
         "name": "Home Depot",
         "orientation": "v",
         "showlegend": true,
         "type": "scatter",
         "x": [
          48
         ],
         "xaxis": "x",
         "y": [
          463100
         ],
         "yaxis": "y"
        },
        {
         "hovertemplate": "Name=Electricité de France<br>Rank=%{x}<br>Employees=%{y}<extra></extra>",
         "legendgroup": "Electricité de France",
         "marker": {
          "color": "#FF97FF",
          "symbol": "circle"
         },
         "mode": "markers",
         "name": "Electricité de France",
         "orientation": "v",
         "showlegend": true,
         "type": "scatter",
         "x": [
          49
         ],
         "xaxis": "x",
         "y": [
          171862
         ],
         "yaxis": "y"
        },
        {
         "hovertemplate": "Name=Marathon Petroleum<br>Rank=%{x}<br>Employees=%{y}<extra></extra>",
         "legendgroup": "Marathon Petroleum",
         "marker": {
          "color": "#FECB52",
          "symbol": "circle"
         },
         "mode": "markers",
         "name": "Marathon Petroleum",
         "orientation": "v",
         "showlegend": true,
         "type": "scatter",
         "x": [
          50
         ],
         "xaxis": "x",
         "y": [
          18200
         ],
         "yaxis": "y"
        },
        {
         "hovertemplate": "Name=Kroger<br>Rank=%{x}<br>Employees=%{y}<extra></extra>",
         "legendgroup": "Kroger",
         "marker": {
          "color": "#636efa",
          "symbol": "circle"
         },
         "mode": "markers",
         "name": "Kroger",
         "orientation": "v",
         "showlegend": true,
         "type": "scatter",
         "x": [
          51
         ],
         "xaxis": "x",
         "y": [
          414000
         ],
         "yaxis": "y"
        },
        {
         "hovertemplate": "Name=Phillips 66<br>Rank=%{x}<br>Employees=%{y}<extra></extra>",
         "legendgroup": "Phillips 66",
         "marker": {
          "color": "#EF553B",
          "symbol": "circle"
         },
         "mode": "markers",
         "name": "Phillips 66",
         "orientation": "v",
         "showlegend": true,
         "type": "scatter",
         "x": [
          52
         ],
         "xaxis": "x",
         "y": [
          14000
         ],
         "yaxis": "y"
        },
        {
         "hovertemplate": "Name=Ping An Insurance<br>Rank=%{x}<br>Employees=%{y}<extra></extra>",
         "legendgroup": "Ping An Insurance",
         "marker": {
          "color": "#00cc96",
          "symbol": "circle"
         },
         "mode": "markers",
         "name": "Ping An Insurance",
         "orientation": "v",
         "showlegend": true,
         "type": "scatter",
         "x": [
          53
         ],
         "xaxis": "x",
         "y": [
          288751
         ],
         "yaxis": "y"
        },
        {
         "hovertemplate": "Name=Sinochem Holdings<br>Rank=%{x}<br>Employees=%{y}<extra></extra>",
         "legendgroup": "Sinochem Holdings",
         "marker": {
          "color": "#ab63fa",
          "symbol": "circle"
         },
         "mode": "markers",
         "name": "Sinochem Holdings",
         "orientation": "v",
         "showlegend": true,
         "type": "scatter",
         "x": [
          54
         ],
         "xaxis": "x",
         "y": [
          203727
         ],
         "yaxis": "y"
        },
        {
         "hovertemplate": "Name=China Mobile Communications<br>Rank=%{x}<br>Employees=%{y}<extra></extra>",
         "legendgroup": "China Mobile Communications",
         "marker": {
          "color": "#FFA15A",
          "symbol": "circle"
         },
         "mode": "markers",
         "name": "China Mobile Communications",
         "orientation": "v",
         "showlegend": true,
         "type": "scatter",
         "x": [
          55
         ],
         "xaxis": "x",
         "y": [
          453394
         ],
         "yaxis": "y"
        },
        {
         "hovertemplate": "Name=China National Offshore Oil<br>Rank=%{x}<br>Employees=%{y}<extra></extra>",
         "legendgroup": "China National Offshore Oil",
         "marker": {
          "color": "#19d3f3",
          "symbol": "circle"
         },
         "mode": "markers",
         "name": "China National Offshore Oil",
         "orientation": "v",
         "showlegend": true,
         "type": "scatter",
         "x": [
          56
         ],
         "xaxis": "x",
         "y": [
          82560
         ],
         "yaxis": "y"
        },
        {
         "hovertemplate": "Name=Honda Motor<br>Rank=%{x}<br>Employees=%{y}<extra></extra>",
         "legendgroup": "Honda Motor",
         "marker": {
          "color": "#FF6692",
          "symbol": "circle"
         },
         "mode": "markers",
         "name": "Honda Motor",
         "orientation": "v",
         "showlegend": true,
         "type": "scatter",
         "x": [
          57
         ],
         "xaxis": "x",
         "y": [
          194993
         ],
         "yaxis": "y"
        },
        {
         "hovertemplate": "Name=Fannie Mae<br>Rank=%{x}<br>Employees=%{y}<extra></extra>",
         "legendgroup": "Fannie Mae",
         "marker": {
          "color": "#B6E880",
          "symbol": "circle"
         },
         "mode": "markers",
         "name": "Fannie Mae",
         "orientation": "v",
         "showlegend": true,
         "type": "scatter",
         "x": [
          58
         ],
         "xaxis": "x",
         "y": [
          8100
         ],
         "yaxis": "y"
        },
        {
         "hovertemplate": "Name=China Life Insurance<br>Rank=%{x}<br>Employees=%{y}<extra></extra>",
         "legendgroup": "China Life Insurance",
         "marker": {
          "color": "#FF97FF",
          "symbol": "circle"
         },
         "mode": "markers",
         "name": "China Life Insurance",
         "orientation": "v",
         "showlegend": true,
         "type": "scatter",
         "x": [
          59
         ],
         "xaxis": "x",
         "y": [
          176625
         ],
         "yaxis": "y"
        },
        {
         "hovertemplate": "Name=Walgreens Boots Alliance<br>Rank=%{x}<br>Employees=%{y}<extra></extra>",
         "legendgroup": "Walgreens Boots Alliance",
         "marker": {
          "color": "#FECB52",
          "symbol": "circle"
         },
         "mode": "markers",
         "name": "Walgreens Boots Alliance",
         "orientation": "v",
         "showlegend": true,
         "type": "scatter",
         "x": [
          60
         ],
         "xaxis": "x",
         "y": [
          268500
         ],
         "yaxis": "y"
        },
        {
         "hovertemplate": "Name=Valero Energy<br>Rank=%{x}<br>Employees=%{y}<extra></extra>",
         "legendgroup": "Valero Energy",
         "marker": {
          "color": "#636efa",
          "symbol": "circle"
         },
         "mode": "markers",
         "name": "Valero Energy",
         "orientation": "v",
         "showlegend": true,
         "type": "scatter",
         "x": [
          61
         ],
         "xaxis": "x",
         "y": [
          9897
         ],
         "yaxis": "y"
        },
        {
         "hovertemplate": "Name=Banco Santander<br>Rank=%{x}<br>Employees=%{y}<extra></extra>",
         "legendgroup": "Banco Santander",
         "marker": {
          "color": "#EF553B",
          "symbol": "circle"
         },
         "mode": "markers",
         "name": "Banco Santander",
         "orientation": "v",
         "showlegend": true,
         "type": "scatter",
         "x": [
          62
         ],
         "xaxis": "x",
         "y": [
          207206
         ],
         "yaxis": "y"
        },
        {
         "hovertemplate": "Name=China Communications Construction<br>Rank=%{x}<br>Employees=%{y}<extra></extra>",
         "legendgroup": "China Communications Construction",
         "marker": {
          "color": "#00cc96",
          "symbol": "circle"
         },
         "mode": "markers",
         "name": "China Communications Construction",
         "orientation": "v",
         "showlegend": true,
         "type": "scatter",
         "x": [
          63
         ],
         "xaxis": "x",
         "y": [
          219034
         ],
         "yaxis": "y"
        },
        {
         "hovertemplate": "Name=BNP Paribas<br>Rank=%{x}<br>Employees=%{y}<extra></extra>",
         "legendgroup": "BNP Paribas",
         "marker": {
          "color": "#ab63fa",
          "symbol": "circle"
         },
         "mode": "markers",
         "name": "BNP Paribas",
         "orientation": "v",
         "showlegend": true,
         "type": "scatter",
         "x": [
          64
         ],
         "xaxis": "x",
         "y": [
          182656
         ],
         "yaxis": "y"
        },
        {
         "hovertemplate": "Name=Mitsubishi<br>Rank=%{x}<br>Employees=%{y}<extra></extra>",
         "legendgroup": "Mitsubishi",
         "marker": {
          "color": "#FFA15A",
          "symbol": "circle"
         },
         "mode": "markers",
         "name": "Mitsubishi",
         "orientation": "v",
         "showlegend": true,
         "type": "scatter",
         "x": [
          65
         ],
         "xaxis": "x",
         "y": [
          80037
         ],
         "yaxis": "y"
        },
        {
         "hovertemplate": "Name=Meta Platforms<br>Rank=%{x}<br>Employees=%{y}<extra></extra>",
         "legendgroup": "Meta Platforms",
         "marker": {
          "color": "#19d3f3",
          "symbol": "circle"
         },
         "mode": "markers",
         "name": "Meta Platforms",
         "orientation": "v",
         "showlegend": true,
         "type": "scatter",
         "x": [
          66
         ],
         "xaxis": "x",
         "y": [
          67317
         ],
         "yaxis": "y"
        },
        {
         "hovertemplate": "Name=HSBC Holdings<br>Rank=%{x}<br>Employees=%{y}<extra></extra>",
         "legendgroup": "HSBC Holdings",
         "marker": {
          "color": "#FF6692",
          "symbol": "circle"
         },
         "mode": "markers",
         "name": "HSBC Holdings",
         "orientation": "v",
         "showlegend": true,
         "type": "scatter",
         "x": [
          67
         ],
         "xaxis": "x",
         "y": [
          220861
         ],
         "yaxis": "y"
        },
        {
         "hovertemplate": "Name=Verizon Communications<br>Rank=%{x}<br>Employees=%{y}<extra></extra>",
         "legendgroup": "Verizon Communications",
         "marker": {
          "color": "#B6E880",
          "symbol": "circle"
         },
         "mode": "markers",
         "name": "Verizon Communications",
         "orientation": "v",
         "showlegend": true,
         "type": "scatter",
         "x": [
          68
         ],
         "xaxis": "x",
         "y": [
          105400
         ],
         "yaxis": "y"
        },
        {
         "hovertemplate": "Name=China Minmetals<br>Rank=%{x}<br>Employees=%{y}<extra></extra>",
         "legendgroup": "China Minmetals",
         "marker": {
          "color": "#FF97FF",
          "symbol": "circle"
         },
         "mode": "markers",
         "name": "China Minmetals",
         "orientation": "v",
         "showlegend": true,
         "type": "scatter",
         "x": [
          69
         ],
         "xaxis": "x",
         "y": [
          175524
         ],
         "yaxis": "y"
        },
        {
         "hovertemplate": "Name=Alibaba Group<br>Rank=%{x}<br>Employees=%{y}<extra></extra>",
         "legendgroup": "Alibaba Group",
         "marker": {
          "color": "#FECB52",
          "symbol": "circle"
         },
         "mode": "markers",
         "name": "Alibaba Group",
         "orientation": "v",
         "showlegend": true,
         "type": "scatter",
         "x": [
          70
         ],
         "xaxis": "x",
         "y": [
          204891
         ],
         "yaxis": "y"
        },
        {
         "hovertemplate": "Name=CITIC Group<br>Rank=%{x}<br>Employees=%{y}<extra></extra>",
         "legendgroup": "CITIC Group",
         "marker": {
          "color": "#636efa",
          "symbol": "circle"
         },
         "mode": "markers",
         "name": "CITIC Group",
         "orientation": "v",
         "showlegend": true,
         "type": "scatter",
         "x": [
          71
         ],
         "xaxis": "x",
         "y": [
          213290
         ],
         "yaxis": "y"
        },
        {
         "hovertemplate": "Name=China Resources<br>Rank=%{x}<br>Employees=%{y}<extra></extra>",
         "legendgroup": "China Resources",
         "marker": {
          "color": "#EF553B",
          "symbol": "circle"
         },
         "mode": "markers",
         "name": "China Resources",
         "orientation": "v",
         "showlegend": true,
         "type": "scatter",
         "x": [
          72
         ],
         "xaxis": "x",
         "y": [
          394112
         ],
         "yaxis": "y"
        },
        {
         "hovertemplate": "Name=Hyundai Motor<br>Rank=%{x}<br>Employees=%{y}<extra></extra>",
         "legendgroup": "Hyundai Motor",
         "marker": {
          "color": "#00cc96",
          "symbol": "circle"
         },
         "mode": "markers",
         "name": "Hyundai Motor",
         "orientation": "v",
         "showlegend": true,
         "type": "scatter",
         "x": [
          73
         ],
         "xaxis": "x",
         "y": [
          73502
         ],
         "yaxis": "y"
        },
        {
         "hovertemplate": "Name=AT&T<br>Rank=%{x}<br>Employees=%{y}<extra></extra>",
         "legendgroup": "AT&T",
         "marker": {
          "color": "#ab63fa",
          "symbol": "circle"
         },
         "mode": "markers",
         "name": "AT&T",
         "orientation": "v",
         "showlegend": true,
         "type": "scatter",
         "x": [
          74
         ],
         "xaxis": "x",
         "y": [
          150470
         ],
         "yaxis": "y"
        },
        {
         "hovertemplate": "Name=Shandong Energy Group<br>Rank=%{x}<br>Employees=%{y}<extra></extra>",
         "legendgroup": "Shandong Energy Group",
         "marker": {
          "color": "#FFA15A",
          "symbol": "circle"
         },
         "mode": "markers",
         "name": "Shandong Energy Group",
         "orientation": "v",
         "showlegend": true,
         "type": "scatter",
         "x": [
          75
         ],
         "xaxis": "x",
         "y": [
          214409
         ],
         "yaxis": "y"
        },
        {
         "hovertemplate": "Name=Comcast<br>Rank=%{x}<br>Employees=%{y}<extra></extra>",
         "legendgroup": "Comcast",
         "marker": {
          "color": "#19d3f3",
          "symbol": "circle"
         },
         "mode": "markers",
         "name": "Comcast",
         "orientation": "v",
         "showlegend": true,
         "type": "scatter",
         "x": [
          76
         ],
         "xaxis": "x",
         "y": [
          186000
         ],
         "yaxis": "y"
        },
        {
         "hovertemplate": "Name=Deutsche Telekom<br>Rank=%{x}<br>Employees=%{y}<extra></extra>",
         "legendgroup": "Deutsche Telekom",
         "marker": {
          "color": "#FF6692",
          "symbol": "circle"
         },
         "mode": "markers",
         "name": "Deutsche Telekom",
         "orientation": "v",
         "showlegend": true,
         "type": "scatter",
         "x": [
          77
         ],
         "xaxis": "x",
         "y": [
          199652
         ],
         "yaxis": "y"
        },
        {
         "hovertemplate": "Name=China Southern Power Grid<br>Rank=%{x}<br>Employees=%{y}<extra></extra>",
         "legendgroup": "China Southern Power Grid",
         "marker": {
          "color": "#B6E880",
          "symbol": "circle"
         },
         "mode": "markers",
         "name": "China Southern Power Grid",
         "orientation": "v",
         "showlegend": true,
         "type": "scatter",
         "x": [
          78
         ],
         "xaxis": "x",
         "y": [
          268471
         ],
         "yaxis": "y"
        },
        {
         "hovertemplate": "Name=Uniper<br>Rank=%{x}<br>Employees=%{y}<extra></extra>",
         "legendgroup": "Uniper",
         "marker": {
          "color": "#FF97FF",
          "symbol": "circle"
         },
         "mode": "markers",
         "name": "Uniper",
         "orientation": "v",
         "showlegend": true,
         "type": "scatter",
         "x": [
          79
         ],
         "xaxis": "x",
         "y": [
          6863
         ],
         "yaxis": "y"
        },
        {
         "hovertemplate": "Name=Wells Fargo<br>Rank=%{x}<br>Employees=%{y}<extra></extra>",
         "legendgroup": "Wells Fargo",
         "marker": {
          "color": "#FECB52",
          "symbol": "circle"
         },
         "mode": "markers",
         "name": "Wells Fargo",
         "orientation": "v",
         "showlegend": true,
         "type": "scatter",
         "x": [
          80
         ],
         "xaxis": "x",
         "y": [
          226000
         ],
         "yaxis": "y"
        },
        {
         "hovertemplate": "Name=Hengli Group<br>Rank=%{x}<br>Employees=%{y}<extra></extra>",
         "legendgroup": "Hengli Group",
         "marker": {
          "color": "#636efa",
          "symbol": "circle"
         },
         "mode": "markers",
         "name": "Hengli Group",
         "orientation": "v",
         "showlegend": true,
         "type": "scatter",
         "x": [
          81
         ],
         "xaxis": "x",
         "y": [
          173250
         ],
         "yaxis": "y"
        },
        {
         "hovertemplate": "Name=Allianz<br>Rank=%{x}<br>Employees=%{y}<extra></extra>",
         "legendgroup": "Allianz",
         "marker": {
          "color": "#EF553B",
          "symbol": "circle"
         },
         "mode": "markers",
         "name": "Allianz",
         "orientation": "v",
         "showlegend": true,
         "type": "scatter",
         "x": [
          82
         ],
         "xaxis": "x",
         "y": [
          157883
         ],
         "yaxis": "y"
        },
        {
         "hovertemplate": "Name=China Post Group<br>Rank=%{x}<br>Employees=%{y}<extra></extra>",
         "legendgroup": "China Post Group",
         "marker": {
          "color": "#00cc96",
          "symbol": "circle"
         },
         "mode": "markers",
         "name": "China Post Group",
         "orientation": "v",
         "showlegend": true,
         "type": "scatter",
         "x": [
          83
         ],
         "xaxis": "x",
         "y": [
          728776
         ],
         "yaxis": "y"
        },
        {
         "hovertemplate": "Name=China Energy Investment<br>Rank=%{x}<br>Employees=%{y}<extra></extra>",
         "legendgroup": "China Energy Investment",
         "marker": {
          "color": "#ab63fa",
          "symbol": "circle"
         },
         "mode": "markers",
         "name": "China Energy Investment",
         "orientation": "v",
         "showlegend": true,
         "type": "scatter",
         "x": [
          84
         ],
         "xaxis": "x",
         "y": [
          309037
         ],
         "yaxis": "y"
        },
        {
         "hovertemplate": "Name=Xiamen C&D<br>Rank=%{x}<br>Employees=%{y}<extra></extra>",
         "legendgroup": "Xiamen C&D",
         "marker": {
          "color": "#FFA15A",
          "symbol": "circle"
         },
         "mode": "markers",
         "name": "Xiamen C&D",
         "orientation": "v",
         "showlegend": true,
         "type": "scatter",
         "x": [
          85
         ],
         "xaxis": "x",
         "y": [
          62740
         ],
         "yaxis": "y"
        },
        {
         "hovertemplate": "Name=Reliance Industries<br>Rank=%{x}<br>Employees=%{y}<extra></extra>",
         "legendgroup": "Reliance Industries",
         "marker": {
          "color": "#19d3f3",
          "symbol": "circle"
         },
         "mode": "markers",
         "name": "Reliance Industries",
         "orientation": "v",
         "showlegend": true,
         "type": "scatter",
         "x": [
          86
         ],
         "xaxis": "x",
         "y": [
          347000
         ],
         "yaxis": "y"
        },
        {
         "hovertemplate": "Name=Goldman Sachs Group<br>Rank=%{x}<br>Employees=%{y}<extra></extra>",
         "legendgroup": "Goldman Sachs Group",
         "marker": {
          "color": "#FF6692",
          "symbol": "circle"
         },
         "mode": "markers",
         "name": "Goldman Sachs Group",
         "orientation": "v",
         "showlegend": true,
         "type": "scatter",
         "x": [
          87
         ],
         "xaxis": "x",
         "y": [
          45300
         ],
         "yaxis": "y"
        },
        {
         "hovertemplate": "Name=Freddie Mac<br>Rank=%{x}<br>Employees=%{y}<extra></extra>",
         "legendgroup": "Freddie Mac",
         "marker": {
          "color": "#B6E880",
          "symbol": "circle"
         },
         "mode": "markers",
         "name": "Freddie Mac",
         "orientation": "v",
         "showlegend": true,
         "type": "scatter",
         "x": [
          88
         ],
         "xaxis": "x",
         "y": [
          8020
         ],
         "yaxis": "y"
        },
        {
         "hovertemplate": "Name=Rosneft Oil<br>Rank=%{x}<br>Employees=%{y}<extra></extra>",
         "legendgroup": "Rosneft Oil",
         "marker": {
          "color": "#FF97FF",
          "symbol": "circle"
         },
         "mode": "markers",
         "name": "Rosneft Oil",
         "orientation": "v",
         "showlegend": true,
         "type": "scatter",
         "x": [
          89
         ],
         "xaxis": "x",
         "y": [
          323900
         ],
         "yaxis": "y"
        },
        {
         "hovertemplate": "Name=Target<br>Rank=%{x}<br>Employees=%{y}<extra></extra>",
         "legendgroup": "Target",
         "marker": {
          "color": "#FECB52",
          "symbol": "circle"
         },
         "mode": "markers",
         "name": "Target",
         "orientation": "v",
         "showlegend": true,
         "type": "scatter",
         "x": [
          90
         ],
         "xaxis": "x",
         "y": [
          415000
         ],
         "yaxis": "y"
        },
        {
         "hovertemplate": "Name=Equinor<br>Rank=%{x}<br>Employees=%{y}<extra></extra>",
         "legendgroup": "Equinor",
         "marker": {
          "color": "#636efa",
          "symbol": "circle"
         },
         "mode": "markers",
         "name": "Equinor",
         "orientation": "v",
         "showlegend": true,
         "type": "scatter",
         "x": [
          91
         ],
         "xaxis": "x",
         "y": [
          23449
         ],
         "yaxis": "y"
        },
        {
         "hovertemplate": "Name=Humana<br>Rank=%{x}<br>Employees=%{y}<extra></extra>",
         "legendgroup": "Humana",
         "marker": {
          "color": "#EF553B",
          "symbol": "circle"
         },
         "mode": "markers",
         "name": "Humana",
         "orientation": "v",
         "showlegend": true,
         "type": "scatter",
         "x": [
          92
         ],
         "xaxis": "x",
         "y": [
          67600
         ],
         "yaxis": "y"
        },
        {
         "hovertemplate": "Name=SAIC Motor<br>Rank=%{x}<br>Employees=%{y}<extra></extra>",
         "legendgroup": "SAIC Motor",
         "marker": {
          "color": "#00cc96",
          "symbol": "circle"
         },
         "mode": "markers",
         "name": "SAIC Motor",
         "orientation": "v",
         "showlegend": true,
         "type": "scatter",
         "x": [
          93
         ],
         "xaxis": "x",
         "y": [
          149505
         ],
         "yaxis": "y"
        },
        {
         "hovertemplate": "Name=State Farm Insurance<br>Rank=%{x}<br>Employees=%{y}<extra></extra>",
         "legendgroup": "State Farm Insurance",
         "marker": {
          "color": "#ab63fa",
          "symbol": "circle"
         },
         "mode": "markers",
         "name": "State Farm Insurance",
         "orientation": "v",
         "showlegend": true,
         "type": "scatter",
         "x": [
          94
         ],
         "xaxis": "x",
         "y": [
          65054
         ],
         "yaxis": "y"
        },
        {
         "hovertemplate": "Name=Life Insurance Corp. of India<br>Rank=%{x}<br>Employees=%{y}<extra></extra>",
         "legendgroup": "Life Insurance Corp. of India",
         "marker": {
          "color": "#FFA15A",
          "symbol": "circle"
         },
         "mode": "markers",
         "name": "Life Insurance Corp. of India",
         "orientation": "v",
         "showlegend": true,
         "type": "scatter",
         "x": [
          95
         ],
         "xaxis": "x",
         "y": [
          98463
         ],
         "yaxis": "y"
        },
        {
         "hovertemplate": "Name=Nestlé<br>Rank=%{x}<br>Employees=%{y}<extra></extra>",
         "legendgroup": "Nestlé",
         "marker": {
          "color": "#19d3f3",
          "symbol": "circle"
         },
         "mode": "markers",
         "name": "Nestlé",
         "orientation": "v",
         "showlegend": true,
         "type": "scatter",
         "x": [
          96
         ],
         "xaxis": "x",
         "y": [
          270000
         ],
         "yaxis": "y"
        },
        {
         "hovertemplate": "Name=Enel<br>Rank=%{x}<br>Employees=%{y}<extra></extra>",
         "legendgroup": "Enel",
         "marker": {
          "color": "#FF6692",
          "symbol": "circle"
         },
         "mode": "markers",
         "name": "Enel",
         "orientation": "v",
         "showlegend": true,
         "type": "scatter",
         "x": [
          97
         ],
         "xaxis": "x",
         "y": [
          61055
         ],
         "yaxis": "y"
        },
        {
         "hovertemplate": "Name=ENI<br>Rank=%{x}<br>Employees=%{y}<extra></extra>",
         "legendgroup": "ENI",
         "marker": {
          "color": "#B6E880",
          "symbol": "circle"
         },
         "mode": "markers",
         "name": "ENI",
         "orientation": "v",
         "showlegend": true,
         "type": "scatter",
         "x": [
          98
         ],
         "xaxis": "x",
         "y": [
          33142
         ],
         "yaxis": "y"
        },
        {
         "hovertemplate": "Name=Petrobras<br>Rank=%{x}<br>Employees=%{y}<extra></extra>",
         "legendgroup": "Petrobras",
         "marker": {
          "color": "#FF97FF",
          "symbol": "circle"
         },
         "mode": "markers",
         "name": "Petrobras",
         "orientation": "v",
         "showlegend": true,
         "type": "scatter",
         "x": [
          99
         ],
         "xaxis": "x",
         "y": [
          46730
         ],
         "yaxis": "y"
        },
        {
         "hovertemplate": "Name=SK<br>Rank=%{x}<br>Employees=%{y}<extra></extra>",
         "legendgroup": "SK",
         "marker": {
          "color": "#FECB52",
          "symbol": "circle"
         },
         "mode": "markers",
         "name": "SK",
         "orientation": "v",
         "showlegend": true,
         "type": "scatter",
         "x": [
          100
         ],
         "xaxis": "x",
         "y": [
          114950
         ],
         "yaxis": "y"
        },
        {
         "hovertemplate": "Name=E.ON<br>Rank=%{x}<br>Employees=%{y}<extra></extra>",
         "legendgroup": "E.ON",
         "marker": {
          "color": "#636efa",
          "symbol": "circle"
         },
         "mode": "markers",
         "name": "E.ON",
         "orientation": "v",
         "showlegend": true,
         "type": "scatter",
         "x": [
          101
         ],
         "xaxis": "x",
         "y": [
          72242
         ],
         "yaxis": "y"
        },
        {
         "hovertemplate": "Name=Gazprom<br>Rank=%{x}<br>Employees=%{y}<extra></extra>",
         "legendgroup": "Gazprom",
         "marker": {
          "color": "#EF553B",
          "symbol": "circle"
         },
         "mode": "markers",
         "name": "Gazprom",
         "orientation": "v",
         "showlegend": true,
         "type": "scatter",
         "x": [
          102
         ],
         "xaxis": "x",
         "y": [
          492200
         ],
         "yaxis": "y"
        },
        {
         "hovertemplate": "Name=Huawei Investment & Holding<br>Rank=%{x}<br>Employees=%{y}<extra></extra>",
         "legendgroup": "Huawei Investment & Holding",
         "marker": {
          "color": "#00cc96",
          "symbol": "circle"
         },
         "mode": "markers",
         "name": "Huawei Investment & Holding",
         "orientation": "v",
         "showlegend": true,
         "type": "scatter",
         "x": [
          103
         ],
         "xaxis": "x",
         "y": [
          207000
         ],
         "yaxis": "y"
        },
        {
         "hovertemplate": "Name=Société Générale<br>Rank=%{x}<br>Employees=%{y}<extra></extra>",
         "legendgroup": "Société Générale",
         "marker": {
          "color": "#ab63fa",
          "symbol": "circle"
         },
         "mode": "markers",
         "name": "Société Générale",
         "orientation": "v",
         "showlegend": true,
         "type": "scatter",
         "x": [
          104
         ],
         "xaxis": "x",
         "y": [
          124089
         ],
         "yaxis": "y"
        },
        {
         "hovertemplate": "Name=Bosch Group<br>Rank=%{x}<br>Employees=%{y}<extra></extra>",
         "legendgroup": "Bosch Group",
         "marker": {
          "color": "#FFA15A",
          "symbol": "circle"
         },
         "mode": "markers",
         "name": "Bosch Group",
         "orientation": "v",
         "showlegend": true,
         "type": "scatter",
         "x": [
          105
         ],
         "xaxis": "x",
         "y": [
          429416
         ],
         "yaxis": "y"
        },
        {
         "hovertemplate": "Name=COFCO<br>Rank=%{x}<br>Employees=%{y}<extra></extra>",
         "legendgroup": "COFCO",
         "marker": {
          "color": "#19d3f3",
          "symbol": "circle"
         },
         "mode": "markers",
         "name": "COFCO",
         "orientation": "v",
         "showlegend": true,
         "type": "scatter",
         "x": [
          106
         ],
         "xaxis": "x",
         "y": [
          111630
         ],
         "yaxis": "y"
        },
        {
         "hovertemplate": "Name=Itochu<br>Rank=%{x}<br>Employees=%{y}<extra></extra>",
         "legendgroup": "Itochu",
         "marker": {
          "color": "#FF6692",
          "symbol": "circle"
         },
         "mode": "markers",
         "name": "Itochu",
         "orientation": "v",
         "showlegend": true,
         "type": "scatter",
         "x": [
          107
         ],
         "xaxis": "x",
         "y": [
          136334
         ],
         "yaxis": "y"
        },
        {
         "hovertemplate": "Name=PowerChina<br>Rank=%{x}<br>Employees=%{y}<extra></extra>",
         "legendgroup": "PowerChina",
         "marker": {
          "color": "#B6E880",
          "symbol": "circle"
         },
         "mode": "markers",
         "name": "PowerChina",
         "orientation": "v",
         "showlegend": true,
         "type": "scatter",
         "x": [
          108
         ],
         "xaxis": "x",
         "y": [
          184567
         ],
         "yaxis": "y"
        },
        {
         "hovertemplate": "Name=Pemex<br>Rank=%{x}<br>Employees=%{y}<extra></extra>",
         "legendgroup": "Pemex",
         "marker": {
          "color": "#FF97FF",
          "symbol": "circle"
         },
         "mode": "markers",
         "name": "Pemex",
         "orientation": "v",
         "showlegend": true,
         "type": "scatter",
         "x": [
          109
         ],
         "xaxis": "x",
         "y": [
          128616
         ],
         "yaxis": "y"
        },
        {
         "hovertemplate": "Name=Tesla<br>Rank=%{x}<br>Employees=%{y}<extra></extra>",
         "legendgroup": "Tesla",
         "marker": {
          "color": "#FECB52",
          "symbol": "circle"
         },
         "mode": "markers",
         "name": "Tesla",
         "orientation": "v",
         "showlegend": true,
         "type": "scatter",
         "x": [
          110
         ],
         "xaxis": "x",
         "y": [
          140473
         ],
         "yaxis": "y"
        },
        {
         "hovertemplate": "Name=Morgan Stanley<br>Rank=%{x}<br>Employees=%{y}<extra></extra>",
         "legendgroup": "Morgan Stanley",
         "marker": {
          "color": "#636efa",
          "symbol": "circle"
         },
         "mode": "markers",
         "name": "Morgan Stanley",
         "orientation": "v",
         "showlegend": true,
         "type": "scatter",
         "x": [
          111
         ],
         "xaxis": "x",
         "y": [
          80006
         ],
         "yaxis": "y"
        },
        {
         "hovertemplate": "Name=Sinopharm<br>Rank=%{x}<br>Employees=%{y}<extra></extra>",
         "legendgroup": "Sinopharm",
         "marker": {
          "color": "#EF553B",
          "symbol": "circle"
         },
         "mode": "markers",
         "name": "Sinopharm",
         "orientation": "v",
         "showlegend": true,
         "type": "scatter",
         "x": [
          112
         ],
         "xaxis": "x",
         "y": [
          202426
         ],
         "yaxis": "y"
        },
        {
         "hovertemplate": "Name=Brookfield<br>Rank=%{x}<br>Employees=%{y}<extra></extra>",
         "legendgroup": "Brookfield",
         "marker": {
          "color": "#00cc96",
          "symbol": "circle"
         },
         "mode": "markers",
         "name": "Brookfield",
         "orientation": "v",
         "showlegend": true,
         "type": "scatter",
         "x": [
          113
         ],
         "xaxis": "x",
         "y": [
          240000
         ],
         "yaxis": "y"
        },
        {
         "hovertemplate": "Name=Royal Ahold Delhaize<br>Rank=%{x}<br>Employees=%{y}<extra></extra>",
         "legendgroup": "Royal Ahold Delhaize",
         "marker": {
          "color": "#ab63fa",
          "symbol": "circle"
         },
         "mode": "markers",
         "name": "Royal Ahold Delhaize",
         "orientation": "v",
         "showlegend": true,
         "type": "scatter",
         "x": [
          114
         ],
         "xaxis": "x",
         "y": [
          232000
         ],
         "yaxis": "y"
        },
        {
         "hovertemplate": "Name=Johnson & Johnson<br>Rank=%{x}<br>Employees=%{y}<extra></extra>",
         "legendgroup": "Johnson & Johnson",
         "marker": {
          "color": "#FFA15A",
          "symbol": "circle"
         },
         "mode": "markers",
         "name": "Johnson & Johnson",
         "orientation": "v",
         "showlegend": true,
         "type": "scatter",
         "x": [
          115
         ],
         "xaxis": "x",
         "y": [
          131900
         ],
         "yaxis": "y"
        },
        {
         "hovertemplate": "Name=Indian Oil<br>Rank=%{x}<br>Employees=%{y}<extra></extra>",
         "legendgroup": "Indian Oil",
         "marker": {
          "color": "#19d3f3",
          "symbol": "circle"
         },
         "mode": "markers",
         "name": "Indian Oil",
         "orientation": "v",
         "showlegend": true,
         "type": "scatter",
         "x": [
          116
         ],
         "xaxis": "x",
         "y": [
          31942
         ],
         "yaxis": "y"
        },
        {
         "hovertemplate": "Name=Archer Daniels Midland<br>Rank=%{x}<br>Employees=%{y}<extra></extra>",
         "legendgroup": "Archer Daniels Midland",
         "marker": {
          "color": "#FF6692",
          "symbol": "circle"
         },
         "mode": "markers",
         "name": "Archer Daniels Midland",
         "orientation": "v",
         "showlegend": true,
         "type": "scatter",
         "x": [
          117
         ],
         "xaxis": "x",
         "y": [
          41008
         ],
         "yaxis": "y"
        },
        {
         "hovertemplate": "Name=Crédit Agricole<br>Rank=%{x}<br>Employees=%{y}<extra></extra>",
         "legendgroup": "Crédit Agricole",
         "marker": {
          "color": "#B6E880",
          "symbol": "circle"
         },
         "mode": "markers",
         "name": "Crédit Agricole",
         "orientation": "v",
         "showlegend": true,
         "type": "scatter",
         "x": [
          118
         ],
         "xaxis": "x",
         "y": [
          75125
         ],
         "yaxis": "y"
        },
        {
         "hovertemplate": "Name=Christian Dior<br>Rank=%{x}<br>Employees=%{y}<extra></extra>",
         "legendgroup": "Christian Dior",
         "marker": {
          "color": "#FF97FF",
          "symbol": "circle"
         },
         "mode": "markers",
         "name": "Christian Dior",
         "orientation": "v",
         "showlegend": true,
         "type": "scatter",
         "x": [
          119
         ],
         "xaxis": "x",
         "y": [
          197141
         ],
         "yaxis": "y"
        },
        {
         "hovertemplate": "Name=Nippon Telegraph and Telephone<br>Rank=%{x}<br>Employees=%{y}<extra></extra>",
         "legendgroup": "Nippon Telegraph and Telephone",
         "marker": {
          "color": "#FECB52",
          "symbol": "circle"
         },
         "mode": "markers",
         "name": "Nippon Telegraph and Telephone",
         "orientation": "v",
         "showlegend": true,
         "type": "scatter",
         "x": [
          120
         ],
         "xaxis": "x",
         "y": [
          338467
         ],
         "yaxis": "y"
        },
        {
         "hovertemplate": "Name=Mitsui<br>Rank=%{x}<br>Employees=%{y}<extra></extra>",
         "legendgroup": "Mitsui",
         "marker": {
          "color": "#636efa",
          "symbol": "circle"
         },
         "mode": "markers",
         "name": "Mitsui",
         "orientation": "v",
         "showlegend": true,
         "type": "scatter",
         "x": [
          121
         ],
         "xaxis": "x",
         "y": [
          53602
         ],
         "yaxis": "y"
        },
        {
         "hovertemplate": "Name=Carrefour<br>Rank=%{x}<br>Employees=%{y}<extra></extra>",
         "legendgroup": "Carrefour",
         "marker": {
          "color": "#EF553B",
          "symbol": "circle"
         },
         "mode": "markers",
         "name": "Carrefour",
         "orientation": "v",
         "showlegend": true,
         "type": "scatter",
         "x": [
          122
         ],
         "xaxis": "x",
         "y": [
          305333
         ],
         "yaxis": "y"
        },
        {
         "hovertemplate": "Name=PepsiCo<br>Rank=%{x}<br>Employees=%{y}<extra></extra>",
         "legendgroup": "PepsiCo",
         "marker": {
          "color": "#00cc96",
          "symbol": "circle"
         },
         "mode": "markers",
         "name": "PepsiCo",
         "orientation": "v",
         "showlegend": true,
         "type": "scatter",
         "x": [
          123
         ],
         "xaxis": "x",
         "y": [
          318000
         ],
         "yaxis": "y"
        },
        {
         "hovertemplate": "Name=United Parcel Service<br>Rank=%{x}<br>Employees=%{y}<extra></extra>",
         "legendgroup": "United Parcel Service",
         "marker": {
          "color": "#ab63fa",
          "symbol": "circle"
         },
         "mode": "markers",
         "name": "United Parcel Service",
         "orientation": "v",
         "showlegend": true,
         "type": "scatter",
         "x": [
          124
         ],
         "xaxis": "x",
         "y": [
          382550
         ],
         "yaxis": "y"
        },
        {
         "hovertemplate": "Name=PTT<br>Rank=%{x}<br>Employees=%{y}<extra></extra>",
         "legendgroup": "PTT",
         "marker": {
          "color": "#FFA15A",
          "symbol": "circle"
         },
         "mode": "markers",
         "name": "PTT",
         "orientation": "v",
         "showlegend": true,
         "type": "scatter",
         "x": [
          125
         ],
         "xaxis": "x",
         "y": [
          30772
         ],
         "yaxis": "y"
        },
        {
         "hovertemplate": "Name=AXA<br>Rank=%{x}<br>Employees=%{y}<extra></extra>",
         "legendgroup": "AXA",
         "marker": {
          "color": "#19d3f3",
          "symbol": "circle"
         },
         "mode": "markers",
         "name": "AXA",
         "orientation": "v",
         "showlegend": true,
         "type": "scatter",
         "x": [
          126
         ],
         "xaxis": "x",
         "y": [
          94705
         ],
         "yaxis": "y"
        },
        {
         "hovertemplate": "Name=FedEx<br>Rank=%{x}<br>Employees=%{y}<extra></extra>",
         "legendgroup": "FedEx",
         "marker": {
          "color": "#FF6692",
          "symbol": "circle"
         },
         "mode": "markers",
         "name": "FedEx",
         "orientation": "v",
         "showlegend": true,
         "type": "scatter",
         "x": [
          127
         ],
         "xaxis": "x",
         "y": [
          423228
         ],
         "yaxis": "y"
        },
        {
         "hovertemplate": "Name=Sony<br>Rank=%{x}<br>Employees=%{y}<extra></extra>",
         "legendgroup": "Sony",
         "marker": {
          "color": "#B6E880",
          "symbol": "circle"
         },
         "mode": "markers",
         "name": "Sony",
         "orientation": "v",
         "showlegend": true,
         "type": "scatter",
         "x": [
          128
         ],
         "xaxis": "x",
         "y": [
          113000
         ],
         "yaxis": "y"
        },
        {
         "hovertemplate": "Name=China FAW Group<br>Rank=%{x}<br>Employees=%{y}<extra></extra>",
         "legendgroup": "China FAW Group",
         "marker": {
          "color": "#FF97FF",
          "symbol": "circle"
         },
         "mode": "markers",
         "name": "China FAW Group",
         "orientation": "v",
         "showlegend": true,
         "type": "scatter",
         "x": [
          129
         ],
         "xaxis": "x",
         "y": [
          119658
         ],
         "yaxis": "y"
        },
        {
         "hovertemplate": "Name=Engie<br>Rank=%{x}<br>Employees=%{y}<extra></extra>",
         "legendgroup": "Engie",
         "marker": {
          "color": "#FECB52",
          "symbol": "circle"
         },
         "mode": "markers",
         "name": "Engie",
         "orientation": "v",
         "showlegend": true,
         "type": "scatter",
         "x": [
          130
         ],
         "xaxis": "x",
         "y": [
          97297
         ],
         "yaxis": "y"
        },
        {
         "hovertemplate": "Name=Walt Disney<br>Rank=%{x}<br>Employees=%{y}<extra></extra>",
         "legendgroup": "Walt Disney",
         "marker": {
          "color": "#636efa",
          "symbol": "circle"
         },
         "mode": "markers",
         "name": "Walt Disney",
         "orientation": "v",
         "showlegend": true,
         "type": "scatter",
         "x": [
          131
         ],
         "xaxis": "x",
         "y": [
          199125
         ],
         "yaxis": "y"
        },
        {
         "hovertemplate": "Name=Orlen<br>Rank=%{x}<br>Employees=%{y}<extra></extra>",
         "legendgroup": "Orlen",
         "marker": {
          "color": "#EF553B",
          "symbol": "circle"
         },
         "mode": "markers",
         "name": "Orlen",
         "orientation": "v",
         "showlegend": true,
         "type": "scatter",
         "x": [
          132
         ],
         "xaxis": "x",
         "y": [
          66554
         ],
         "yaxis": "y"
        },
        {
         "hovertemplate": "Name=Dell Technologies<br>Rank=%{x}<br>Employees=%{y}<extra></extra>",
         "legendgroup": "Dell Technologies",
         "marker": {
          "color": "#00cc96",
          "symbol": "circle"
         },
         "mode": "markers",
         "name": "Dell Technologies",
         "orientation": "v",
         "showlegend": true,
         "type": "scatter",
         "x": [
          133
         ],
         "xaxis": "x",
         "y": [
          120000
         ],
         "yaxis": "y"
        },
        {
         "hovertemplate": "Name=DHL Group<br>Rank=%{x}<br>Employees=%{y}<extra></extra>",
         "legendgroup": "DHL Group",
         "marker": {
          "color": "#ab63fa",
          "symbol": "circle"
         },
         "mode": "markers",
         "name": "DHL Group",
         "orientation": "v",
         "showlegend": true,
         "type": "scatter",
         "x": [
          134
         ],
         "xaxis": "x",
         "y": [
          551233
         ],
         "yaxis": "y"
        },
        {
         "hovertemplate": "Name=China Telecommunications<br>Rank=%{x}<br>Employees=%{y}<extra></extra>",
         "legendgroup": "China Telecommunications",
         "marker": {
          "color": "#FFA15A",
          "symbol": "circle"
         },
         "mode": "markers",
         "name": "China Telecommunications",
         "orientation": "v",
         "showlegend": true,
         "type": "scatter",
         "x": [
          135
         ],
         "xaxis": "x",
         "y": [
          391691
         ],
         "yaxis": "y"
        },
        {
         "hovertemplate": "Name=Nissan Motor<br>Rank=%{x}<br>Employees=%{y}<extra></extra>",
         "legendgroup": "Nissan Motor",
         "marker": {
          "color": "#19d3f3",
          "symbol": "circle"
         },
         "mode": "markers",
         "name": "Nissan Motor",
         "orientation": "v",
         "showlegend": true,
         "type": "scatter",
         "x": [
          136
         ],
         "xaxis": "x",
         "y": [
          141855
         ],
         "yaxis": "y"
        },
        {
         "hovertemplate": "Name=Royal Bank of Canada<br>Rank=%{x}<br>Employees=%{y}<extra></extra>",
         "legendgroup": "Royal Bank of Canada",
         "marker": {
          "color": "#FF6692",
          "symbol": "circle"
         },
         "mode": "markers",
         "name": "Royal Bank of Canada",
         "orientation": "v",
         "showlegend": true,
         "type": "scatter",
         "x": [
          137
         ],
         "xaxis": "x",
         "y": [
          91398
         ],
         "yaxis": "y"
        },
        {
         "hovertemplate": "Name=Zhejiang Rongsheng Holding Group<br>Rank=%{x}<br>Employees=%{y}<extra></extra>",
         "legendgroup": "Zhejiang Rongsheng Holding Group",
         "marker": {
          "color": "#B6E880",
          "symbol": "circle"
         },
         "mode": "markers",
         "name": "Zhejiang Rongsheng Holding Group",
         "orientation": "v",
         "showlegend": true,
         "type": "scatter",
         "x": [
          138
         ],
         "xaxis": "x",
         "y": [
          23373
         ],
         "yaxis": "y"
        },
        {
         "hovertemplate": "Name=Lowe's<br>Rank=%{x}<br>Employees=%{y}<extra></extra>",
         "legendgroup": "Lowe's",
         "marker": {
          "color": "#FF97FF",
          "symbol": "circle"
         },
         "mode": "markers",
         "name": "Lowe's",
         "orientation": "v",
         "showlegend": true,
         "type": "scatter",
         "x": [
          139
         ],
         "xaxis": "x",
         "y": [
          226000
         ],
         "yaxis": "y"
        },
        {
         "hovertemplate": "Name=Tesco<br>Rank=%{x}<br>Employees=%{y}<extra></extra>",
         "legendgroup": "Tesco",
         "marker": {
          "color": "#FECB52",
          "symbol": "circle"
         },
         "mode": "markers",
         "name": "Tesco",
         "orientation": "v",
         "showlegend": true,
         "type": "scatter",
         "x": [
          140
         ],
         "xaxis": "x",
         "y": [
          225659
         ],
         "yaxis": "y"
        },
        {
         "hovertemplate": "Name=Tencent Holdings<br>Rank=%{x}<br>Employees=%{y}<extra></extra>",
         "legendgroup": "Tencent Holdings",
         "marker": {
          "color": "#636efa",
          "symbol": "circle"
         },
         "mode": "markers",
         "name": "Tencent Holdings",
         "orientation": "v",
         "showlegend": true,
         "type": "scatter",
         "x": [
          141
         ],
         "xaxis": "x",
         "y": [
          105417
         ],
         "yaxis": "y"
        },
        {
         "hovertemplate": "Name=Xiamen ITG Holding Group<br>Rank=%{x}<br>Employees=%{y}<extra></extra>",
         "legendgroup": "Xiamen ITG Holding Group",
         "marker": {
          "color": "#EF553B",
          "symbol": "circle"
         },
         "mode": "markers",
         "name": "Xiamen ITG Holding Group",
         "orientation": "v",
         "showlegend": true,
         "type": "scatter",
         "x": [
          142
         ],
         "xaxis": "x",
         "y": [
          34289
         ],
         "yaxis": "y"
        },
        {
         "hovertemplate": "Name=BYD<br>Rank=%{x}<br>Employees=%{y}<extra></extra>",
         "legendgroup": "BYD",
         "marker": {
          "color": "#00cc96",
          "symbol": "circle"
         },
         "mode": "markers",
         "name": "BYD",
         "orientation": "v",
         "showlegend": true,
         "type": "scatter",
         "x": [
          143
         ],
         "xaxis": "x",
         "y": [
          703504
         ],
         "yaxis": "y"
        },
        {
         "hovertemplate": "Name=Nippon Life Insurance<br>Rank=%{x}<br>Employees=%{y}<extra></extra>",
         "legendgroup": "Nippon Life Insurance",
         "marker": {
          "color": "#ab63fa",
          "symbol": "circle"
         },
         "mode": "markers",
         "name": "Nippon Life Insurance",
         "orientation": "v",
         "showlegend": true,
         "type": "scatter",
         "x": [
          144
         ],
         "xaxis": "x",
         "y": [
          85740
         ],
         "yaxis": "y"
        },
        {
         "hovertemplate": "Name=Siemens<br>Rank=%{x}<br>Employees=%{y}<extra></extra>",
         "legendgroup": "Siemens",
         "marker": {
          "color": "#FFA15A",
          "symbol": "circle"
         },
         "mode": "markers",
         "name": "Siemens",
         "orientation": "v",
         "showlegend": true,
         "type": "scatter",
         "x": [
          145
         ],
         "xaxis": "x",
         "y": [
          320000
         ],
         "yaxis": "y"
        },
        {
         "hovertemplate": "Name=Japan Post Holdings<br>Rank=%{x}<br>Employees=%{y}<extra></extra>",
         "legendgroup": "Japan Post Holdings",
         "marker": {
          "color": "#19d3f3",
          "symbol": "circle"
         },
         "mode": "markers",
         "name": "Japan Post Holdings",
         "orientation": "v",
         "showlegend": true,
         "type": "scatter",
         "x": [
          146
         ],
         "xaxis": "x",
         "y": [
          221387
         ],
         "yaxis": "y"
        },
        {
         "hovertemplate": "Name=Aviation Industry Corp. of China<br>Rank=%{x}<br>Employees=%{y}<extra></extra>",
         "legendgroup": "Aviation Industry Corp. of China",
         "marker": {
          "color": "#FF6692",
          "symbol": "circle"
         },
         "mode": "markers",
         "name": "Aviation Industry Corp. of China",
         "orientation": "v",
         "showlegend": true,
         "type": "scatter",
         "x": [
          147
         ],
         "xaxis": "x",
         "y": [
          384000
         ],
         "yaxis": "y"
        },
        {
         "hovertemplate": "Name=Mitsubishi UFJ Financial Group<br>Rank=%{x}<br>Employees=%{y}<extra></extra>",
         "legendgroup": "Mitsubishi UFJ Financial Group",
         "marker": {
          "color": "#B6E880",
          "symbol": "circle"
         },
         "mode": "markers",
         "name": "Mitsubishi UFJ Financial Group",
         "orientation": "v",
         "showlegend": true,
         "type": "scatter",
         "x": [
          148
         ],
         "xaxis": "x",
         "y": [
          145412
         ],
         "yaxis": "y"
        },
        {
         "hovertemplate": "Name=Procter & Gamble<br>Rank=%{x}<br>Employees=%{y}<extra></extra>",
         "legendgroup": "Procter & Gamble",
         "marker": {
          "color": "#FF97FF",
          "symbol": "circle"
         },
         "mode": "markers",
         "name": "Procter & Gamble",
         "orientation": "v",
         "showlegend": true,
         "type": "scatter",
         "x": [
          149
         ],
         "xaxis": "x",
         "y": [
          107000
         ],
         "yaxis": "y"
        },
        {
         "hovertemplate": "Name=Wuchan Zhongda Group<br>Rank=%{x}<br>Employees=%{y}<extra></extra>",
         "legendgroup": "Wuchan Zhongda Group",
         "marker": {
          "color": "#FECB52",
          "symbol": "circle"
         },
         "mode": "markers",
         "name": "Wuchan Zhongda Group",
         "orientation": "v",
         "showlegend": true,
         "type": "scatter",
         "x": [
          150
         ],
         "xaxis": "x",
         "y": [
          26354
         ],
         "yaxis": "y"
        },
        {
         "hovertemplate": "Name=Seven & I Holdings<br>Rank=%{x}<br>Employees=%{y}<extra></extra>",
         "legendgroup": "Seven & I Holdings",
         "marker": {
          "color": "#636efa",
          "symbol": "circle"
         },
         "mode": "markers",
         "name": "Seven & I Holdings",
         "orientation": "v",
         "showlegend": true,
         "type": "scatter",
         "x": [
          151
         ],
         "xaxis": "x",
         "y": [
          117540
         ],
         "yaxis": "y"
        },
        {
         "hovertemplate": "Name=Albertsons<br>Rank=%{x}<br>Employees=%{y}<extra></extra>",
         "legendgroup": "Albertsons",
         "marker": {
          "color": "#EF553B",
          "symbol": "circle"
         },
         "mode": "markers",
         "name": "Albertsons",
         "orientation": "v",
         "showlegend": true,
         "type": "scatter",
         "x": [
          152
         ],
         "xaxis": "x",
         "y": [
          196650
         ],
         "yaxis": "y"
        },
        {
         "hovertemplate": "Name=ENEOS Holdings<br>Rank=%{x}<br>Employees=%{y}<extra></extra>",
         "legendgroup": "ENEOS Holdings",
         "marker": {
          "color": "#00cc96",
          "symbol": "circle"
         },
         "mode": "markers",
         "name": "ENEOS Holdings",
         "orientation": "v",
         "showlegend": true,
         "type": "scatter",
         "x": [
          153
         ],
         "xaxis": "x",
         "y": [
          50269
         ],
         "yaxis": "y"
        },
        {
         "hovertemplate": "Name=Bank of Communications<br>Rank=%{x}<br>Employees=%{y}<extra></extra>",
         "legendgroup": "Bank of Communications",
         "marker": {
          "color": "#ab63fa",
          "symbol": "circle"
         },
         "mode": "markers",
         "name": "Bank of Communications",
         "orientation": "v",
         "showlegend": true,
         "type": "scatter",
         "x": [
          154
         ],
         "xaxis": "x",
         "y": [
          94275
         ],
         "yaxis": "y"
        },
        {
         "hovertemplate": "Name=Energy Transfer<br>Rank=%{x}<br>Employees=%{y}<extra></extra>",
         "legendgroup": "Energy Transfer",
         "marker": {
          "color": "#FFA15A",
          "symbol": "circle"
         },
         "mode": "markers",
         "name": "Energy Transfer",
         "orientation": "v",
         "showlegend": true,
         "type": "scatter",
         "x": [
          155
         ],
         "xaxis": "x",
         "y": [
          13786
         ],
         "yaxis": "y"
        },
        {
         "hovertemplate": "Name=U.S. Postal Service<br>Rank=%{x}<br>Employees=%{y}<extra></extra>",
         "legendgroup": "U.S. Postal Service",
         "marker": {
          "color": "#19d3f3",
          "symbol": "circle"
         },
         "mode": "markers",
         "name": "U.S. Postal Service",
         "orientation": "v",
         "showlegend": true,
         "type": "scatter",
         "x": [
          156
         ],
         "xaxis": "x",
         "y": [
          582781
         ],
         "yaxis": "y"
        },
        {
         "hovertemplate": "Name=Jiangxi Copper<br>Rank=%{x}<br>Employees=%{y}<extra></extra>",
         "legendgroup": "Jiangxi Copper",
         "marker": {
          "color": "#FF6692",
          "symbol": "circle"
         },
         "mode": "markers",
         "name": "Jiangxi Copper",
         "orientation": "v",
         "showlegend": true,
         "type": "scatter",
         "x": [
          157
         ],
         "xaxis": "x",
         "y": [
          32746
         ],
         "yaxis": "y"
        },
        {
         "hovertemplate": "Name=People's Insurance Co. of China<br>Rank=%{x}<br>Employees=%{y}<extra></extra>",
         "legendgroup": "People's Insurance Co. of China",
         "marker": {
          "color": "#B6E880",
          "symbol": "circle"
         },
         "mode": "markers",
         "name": "People's Insurance Co. of China",
         "orientation": "v",
         "showlegend": true,
         "type": "scatter",
         "x": [
          158
         ],
         "xaxis": "x",
         "y": [
          175881
         ],
         "yaxis": "y"
        },
        {
         "hovertemplate": "Name=Boeing<br>Rank=%{x}<br>Employees=%{y}<extra></extra>",
         "legendgroup": "Boeing",
         "marker": {
          "color": "#FF97FF",
          "symbol": "circle"
         },
         "mode": "markers",
         "name": "Boeing",
         "orientation": "v",
         "showlegend": true,
         "type": "scatter",
         "x": [
          159
         ],
         "xaxis": "x",
         "y": [
          171000
         ],
         "yaxis": "y"
        },
        {
         "hovertemplate": "Name=China North Industries Group<br>Rank=%{x}<br>Employees=%{y}<extra></extra>",
         "legendgroup": "China North Industries Group",
         "marker": {
          "color": "#FECB52",
          "symbol": "circle"
         },
         "mode": "markers",
         "name": "China North Industries Group",
         "orientation": "v",
         "showlegend": true,
         "type": "scatter",
         "x": [
          160
         ],
         "xaxis": "x",
         "y": [
          216528
         ],
         "yaxis": "y"
        },
        {
         "hovertemplate": "Name=Pacific Construction Group<br>Rank=%{x}<br>Employees=%{y}<extra></extra>",
         "legendgroup": "Pacific Construction Group",
         "marker": {
          "color": "#636efa",
          "symbol": "circle"
         },
         "mode": "markers",
         "name": "Pacific Construction Group",
         "orientation": "v",
         "showlegend": true,
         "type": "scatter",
         "x": [
          161
         ],
         "xaxis": "x",
         "y": [
          293125
         ],
         "yaxis": "y"
        },
        {
         "hovertemplate": "Name=Kia<br>Rank=%{x}<br>Employees=%{y}<extra></extra>",
         "legendgroup": "Kia",
         "marker": {
          "color": "#EF553B",
          "symbol": "circle"
         },
         "mode": "markers",
         "name": "Kia",
         "orientation": "v",
         "showlegend": true,
         "type": "scatter",
         "x": [
          162
         ],
         "xaxis": "x",
         "y": [
          52871
         ],
         "yaxis": "y"
        },
        {
         "hovertemplate": "Name=Sysco<br>Rank=%{x}<br>Employees=%{y}<extra></extra>",
         "legendgroup": "Sysco",
         "marker": {
          "color": "#00cc96",
          "symbol": "circle"
         },
         "mode": "markers",
         "name": "Sysco",
         "orientation": "v",
         "showlegend": true,
         "type": "scatter",
         "x": [
          163
         ],
         "xaxis": "x",
         "y": [
          71750
         ],
         "yaxis": "y"
        },
        {
         "hovertemplate": "Name=Dai-ichi Life Holdings<br>Rank=%{x}<br>Employees=%{y}<extra></extra>",
         "legendgroup": "Dai-ichi Life Holdings",
         "marker": {
          "color": "#ab63fa",
          "symbol": "circle"
         },
         "mode": "markers",
         "name": "Dai-ichi Life Holdings",
         "orientation": "v",
         "showlegend": true,
         "type": "scatter",
         "x": [
          164
         ],
         "xaxis": "x",
         "y": [
          59495
         ],
         "yaxis": "y"
        },
        {
         "hovertemplate": "Name=Pertamina<br>Rank=%{x}<br>Employees=%{y}<extra></extra>",
         "legendgroup": "Pertamina",
         "marker": {
          "color": "#FFA15A",
          "symbol": "circle"
         },
         "mode": "markers",
         "name": "Pertamina",
         "orientation": "v",
         "showlegend": true,
         "type": "scatter",
         "x": [
          165
         ],
         "xaxis": "x",
         "y": [
          40415
         ],
         "yaxis": "y"
        },
        {
         "hovertemplate": "Name=Vinci<br>Rank=%{x}<br>Employees=%{y}<extra></extra>",
         "legendgroup": "Vinci",
         "marker": {
          "color": "#19d3f3",
          "symbol": "circle"
         },
         "mode": "markers",
         "name": "Vinci",
         "orientation": "v",
         "showlegend": true,
         "type": "scatter",
         "x": [
          166
         ],
         "xaxis": "x",
         "y": [
          279426
         ],
         "yaxis": "y"
        },
        {
         "hovertemplate": "Name=Petronas<br>Rank=%{x}<br>Employees=%{y}<extra></extra>",
         "legendgroup": "Petronas",
         "marker": {
          "color": "#FF6692",
          "symbol": "circle"
         },
         "mode": "markers",
         "name": "Petronas",
         "orientation": "v",
         "showlegend": true,
         "type": "scatter",
         "x": [
          167
         ],
         "xaxis": "x",
         "y": [
          54105
         ],
         "yaxis": "y"
        },
        {
         "hovertemplate": "Name=Toronto-Dominion Bank<br>Rank=%{x}<br>Employees=%{y}<extra></extra>",
         "legendgroup": "Toronto-Dominion Bank",
         "marker": {
          "color": "#B6E880",
          "symbol": "circle"
         },
         "mode": "markers",
         "name": "Toronto-Dominion Bank",
         "orientation": "v",
         "showlegend": true,
         "type": "scatter",
         "x": [
          168
         ],
         "xaxis": "x",
         "y": [
          103257
         ],
         "yaxis": "y"
        },
        {
         "hovertemplate": "Name=Lukoil<br>Rank=%{x}<br>Employees=%{y}<extra></extra>",
         "legendgroup": "Lukoil",
         "marker": {
          "color": "#FF97FF",
          "symbol": "circle"
         },
         "mode": "markers",
         "name": "Lukoil",
         "orientation": "v",
         "showlegend": true,
         "type": "scatter",
         "x": [
          169
         ],
         "xaxis": "x",
         "y": [
          107596
         ],
         "yaxis": "y"
        },
        {
         "hovertemplate": "Name=Shaanxi Coal & Chemical Industry<br>Rank=%{x}<br>Employees=%{y}<extra></extra>",
         "legendgroup": "Shaanxi Coal & Chemical Industry",
         "marker": {
          "color": "#FECB52",
          "symbol": "circle"
         },
         "mode": "markers",
         "name": "Shaanxi Coal & Chemical Industry",
         "orientation": "v",
         "showlegend": true,
         "type": "scatter",
         "x": [
          170
         ],
         "xaxis": "x",
         "y": [
          140142
         ],
         "yaxis": "y"
        },
        {
         "hovertemplate": "Name=Shenghong Holding Group<br>Rank=%{x}<br>Employees=%{y}<extra></extra>",
         "legendgroup": "Shenghong Holding Group",
         "marker": {
          "color": "#636efa",
          "symbol": "circle"
         },
         "mode": "markers",
         "name": "Shenghong Holding Group",
         "orientation": "v",
         "showlegend": true,
         "type": "scatter",
         "x": [
          171
         ],
         "xaxis": "x",
         "y": [
          56863
         ],
         "yaxis": "y"
        },
        {
         "hovertemplate": "Name=BASF<br>Rank=%{x}<br>Employees=%{y}<extra></extra>",
         "legendgroup": "BASF",
         "marker": {
          "color": "#EF553B",
          "symbol": "circle"
         },
         "mode": "markers",
         "name": "BASF",
         "orientation": "v",
         "showlegend": true,
         "type": "scatter",
         "x": [
          172
         ],
         "xaxis": "x",
         "y": [
          111991
         ],
         "yaxis": "y"
        },
        {
         "hovertemplate": "Name=China Poly Group<br>Rank=%{x}<br>Employees=%{y}<extra></extra>",
         "legendgroup": "China Poly Group",
         "marker": {
          "color": "#00cc96",
          "symbol": "circle"
         },
         "mode": "markers",
         "name": "China Poly Group",
         "orientation": "v",
         "showlegend": true,
         "type": "scatter",
         "x": [
          173
         ],
         "xaxis": "x",
         "y": [
          102834
         ],
         "yaxis": "y"
        },
        {
         "hovertemplate": "Name=Groupe BPCE<br>Rank=%{x}<br>Employees=%{y}<extra></extra>",
         "legendgroup": "Groupe BPCE",
         "marker": {
          "color": "#ab63fa",
          "symbol": "circle"
         },
         "mode": "markers",
         "name": "Groupe BPCE",
         "orientation": "v",
         "showlegend": true,
         "type": "scatter",
         "x": [
          174
         ],
         "xaxis": "x",
         "y": [
          97835
         ],
         "yaxis": "y"
        },
        {
         "hovertemplate": "Name=Shandong Weiqiao Pioneering Group<br>Rank=%{x}<br>Employees=%{y}<extra></extra>",
         "legendgroup": "Shandong Weiqiao Pioneering Group",
         "marker": {
          "color": "#FFA15A",
          "symbol": "circle"
         },
         "mode": "markers",
         "name": "Shandong Weiqiao Pioneering Group",
         "orientation": "v",
         "showlegend": true,
         "type": "scatter",
         "x": [
          175
         ],
         "xaxis": "x",
         "y": [
          97281
         ],
         "yaxis": "y"
        },
        {
         "hovertemplate": "Name=JBS<br>Rank=%{x}<br>Employees=%{y}<extra></extra>",
         "legendgroup": "JBS",
         "marker": {
          "color": "#19d3f3",
          "symbol": "circle"
         },
         "mode": "markers",
         "name": "JBS",
         "orientation": "v",
         "showlegend": true,
         "type": "scatter",
         "x": [
          176
         ],
         "xaxis": "x",
         "y": [
          272565
         ],
         "yaxis": "y"
        },
        {
         "hovertemplate": "Name=Alimentation Couche-Tard<br>Rank=%{x}<br>Employees=%{y}<extra></extra>",
         "legendgroup": "Alimentation Couche-Tard",
         "marker": {
          "color": "#FF6692",
          "symbol": "circle"
         },
         "mode": "markers",
         "name": "Alimentation Couche-Tard",
         "orientation": "v",
         "showlegend": true,
         "type": "scatter",
         "x": [
          177
         ],
         "xaxis": "x",
         "y": [
          128000
         ],
         "yaxis": "y"
        },
        {
         "hovertemplate": "Name=State Bank of India<br>Rank=%{x}<br>Employees=%{y}<extra></extra>",
         "legendgroup": "State Bank of India",
         "marker": {
          "color": "#B6E880",
          "symbol": "circle"
         },
         "mode": "markers",
         "name": "State Bank of India",
         "orientation": "v",
         "showlegend": true,
         "type": "scatter",
         "x": [
          178
         ],
         "xaxis": "x",
         "y": [
          232296
         ],
         "yaxis": "y"
        },
        {
         "hovertemplate": "Name=China Merchants Bank<br>Rank=%{x}<br>Employees=%{y}<extra></extra>",
         "legendgroup": "China Merchants Bank",
         "marker": {
          "color": "#FF97FF",
          "symbol": "circle"
         },
         "mode": "markers",
         "name": "China Merchants Bank",
         "orientation": "v",
         "showlegend": true,
         "type": "scatter",
         "x": [
          179
         ],
         "xaxis": "x",
         "y": [
          116529
         ],
         "yaxis": "y"
        },
        {
         "hovertemplate": "Name=Oil & Natural Gas<br>Rank=%{x}<br>Employees=%{y}<extra></extra>",
         "legendgroup": "Oil & Natural Gas",
         "marker": {
          "color": "#FECB52",
          "symbol": "circle"
         },
         "mode": "markers",
         "name": "Oil & Natural Gas",
         "orientation": "v",
         "showlegend": true,
         "type": "scatter",
         "x": [
          180
         ],
         "xaxis": "x",
         "y": [
          36549
         ],
         "yaxis": "y"
        },
        {
         "hovertemplate": "Name=Guangzhou Automobile Industry Group<br>Rank=%{x}<br>Employees=%{y}<extra></extra>",
         "legendgroup": "Guangzhou Automobile Industry Group",
         "marker": {
          "color": "#636efa",
          "symbol": "circle"
         },
         "mode": "markers",
         "name": "Guangzhou Automobile Industry Group",
         "orientation": "v",
         "showlegend": true,
         "type": "scatter",
         "x": [
          181
         ],
         "xaxis": "x",
         "y": [
          110847
         ],
         "yaxis": "y"
        },
        {
         "hovertemplate": "Name=UBS Group<br>Rank=%{x}<br>Employees=%{y}<extra></extra>",
         "legendgroup": "UBS Group",
         "marker": {
          "color": "#EF553B",
          "symbol": "circle"
         },
         "mode": "markers",
         "name": "UBS Group",
         "orientation": "v",
         "showlegend": true,
         "type": "scatter",
         "x": [
          182
         ],
         "xaxis": "x",
         "y": [
          112842
         ],
         "yaxis": "y"
        },
        {
         "hovertemplate": "Name=Airbus<br>Rank=%{x}<br>Employees=%{y}<extra></extra>",
         "legendgroup": "Airbus",
         "marker": {
          "color": "#00cc96",
          "symbol": "circle"
         },
         "mode": "markers",
         "name": "Airbus",
         "orientation": "v",
         "showlegend": true,
         "type": "scatter",
         "x": [
          183
         ],
         "xaxis": "x",
         "y": [
          147893
         ],
         "yaxis": "y"
        },
        {
         "hovertemplate": "Name=Toyota Tsusho<br>Rank=%{x}<br>Employees=%{y}<extra></extra>",
         "legendgroup": "Toyota Tsusho",
         "marker": {
          "color": "#ab63fa",
          "symbol": "circle"
         },
         "mode": "markers",
         "name": "Toyota Tsusho",
         "orientation": "v",
         "showlegend": true,
         "type": "scatter",
         "x": [
          184
         ],
         "xaxis": "x",
         "y": [
          69517
         ],
         "yaxis": "y"
        },
        {
         "hovertemplate": "Name=Zhejiang Geely Holding Group<br>Rank=%{x}<br>Employees=%{y}<extra></extra>",
         "legendgroup": "Zhejiang Geely Holding Group",
         "marker": {
          "color": "#FFA15A",
          "symbol": "circle"
         },
         "mode": "markers",
         "name": "Zhejiang Geely Holding Group",
         "orientation": "v",
         "showlegend": true,
         "type": "scatter",
         "x": [
          185
         ],
         "xaxis": "x",
         "y": [
          143994
         ],
         "yaxis": "y"
        },
        {
         "hovertemplate": "Name=Taiwan Semiconductor Manufacturing<br>Rank=%{x}<br>Employees=%{y}<extra></extra>",
         "legendgroup": "Taiwan Semiconductor Manufacturing",
         "marker": {
          "color": "#19d3f3",
          "symbol": "circle"
         },
         "mode": "markers",
         "name": "Taiwan Semiconductor Manufacturing",
         "orientation": "v",
         "showlegend": true,
         "type": "scatter",
         "x": [
          186
         ],
         "xaxis": "x",
         "y": [
          76478
         ],
         "yaxis": "y"
        },
        {
         "hovertemplate": "Name=XMXYG<br>Rank=%{x}<br>Employees=%{y}<extra></extra>",
         "legendgroup": "XMXYG",
         "marker": {
          "color": "#FF6692",
          "symbol": "circle"
         },
         "mode": "markers",
         "name": "XMXYG",
         "orientation": "v",
         "showlegend": true,
         "type": "scatter",
         "x": [
          187
         ],
         "xaxis": "x",
         "y": [
          33214
         ],
         "yaxis": "y"
        },
        {
         "hovertemplate": "Name=RTX<br>Rank=%{x}<br>Employees=%{y}<extra></extra>",
         "legendgroup": "RTX",
         "marker": {
          "color": "#B6E880",
          "symbol": "circle"
         },
         "mode": "markers",
         "name": "RTX",
         "orientation": "v",
         "showlegend": true,
         "type": "scatter",
         "x": [
          188
         ],
         "xaxis": "x",
         "y": [
          185000
         ],
         "yaxis": "y"
        },
        {
         "hovertemplate": "Name=Itau Unibanco Holding<br>Rank=%{x}<br>Employees=%{y}<extra></extra>",
         "legendgroup": "Itau Unibanco Holding",
         "marker": {
          "color": "#FF97FF",
          "symbol": "circle"
         },
         "mode": "markers",
         "name": "Itau Unibanco Holding",
         "orientation": "v",
         "showlegend": true,
         "type": "scatter",
         "x": [
          189
         ],
         "xaxis": "x",
         "y": [
          95702
         ],
         "yaxis": "y"
        },
        {
         "hovertemplate": "Name=ArcelorMittal<br>Rank=%{x}<br>Employees=%{y}<extra></extra>",
         "legendgroup": "ArcelorMittal",
         "marker": {
          "color": "#FECB52",
          "symbol": "circle"
         },
         "mode": "markers",
         "name": "ArcelorMittal",
         "orientation": "v",
         "showlegend": true,
         "type": "scatter",
         "x": [
          190
         ],
         "xaxis": "x",
         "y": [
          126756
         ],
         "yaxis": "y"
        },
        {
         "hovertemplate": "Name=General Electric<br>Rank=%{x}<br>Employees=%{y}<extra></extra>",
         "legendgroup": "General Electric",
         "marker": {
          "color": "#636efa",
          "symbol": "circle"
         },
         "mode": "markers",
         "name": "General Electric",
         "orientation": "v",
         "showlegend": true,
         "type": "scatter",
         "x": [
          191
         ],
         "xaxis": "x",
         "y": [
          125000
         ],
         "yaxis": "y"
        },
        {
         "hovertemplate": "Name=Beijing Automotive Group<br>Rank=%{x}<br>Employees=%{y}<extra></extra>",
         "legendgroup": "Beijing Automotive Group",
         "marker": {
          "color": "#EF553B",
          "symbol": "circle"
         },
         "mode": "markers",
         "name": "Beijing Automotive Group",
         "orientation": "v",
         "showlegend": true,
         "type": "scatter",
         "x": [
          192
         ],
         "xaxis": "x",
         "y": [
          90000
         ],
         "yaxis": "y"
        },
        {
         "hovertemplate": "Name=Lockheed Martin<br>Rank=%{x}<br>Employees=%{y}<extra></extra>",
         "legendgroup": "Lockheed Martin",
         "marker": {
          "color": "#00cc96",
          "symbol": "circle"
         },
         "mode": "markers",
         "name": "Lockheed Martin",
         "orientation": "v",
         "showlegend": true,
         "type": "scatter",
         "x": [
          193
         ],
         "xaxis": "x",
         "y": [
          122000
         ],
         "yaxis": "y"
        },
        {
         "hovertemplate": "Name=Koç Holding<br>Rank=%{x}<br>Employees=%{y}<extra></extra>",
         "legendgroup": "Koç Holding",
         "marker": {
          "color": "#ab63fa",
          "symbol": "circle"
         },
         "mode": "markers",
         "name": "Koç Holding",
         "orientation": "v",
         "showlegend": true,
         "type": "scatter",
         "x": [
          194
         ],
         "xaxis": "x",
         "y": [
          119306
         ],
         "yaxis": "y"
        },
        {
         "hovertemplate": "Name=American Express<br>Rank=%{x}<br>Employees=%{y}<extra></extra>",
         "legendgroup": "American Express",
         "marker": {
          "color": "#FFA15A",
          "symbol": "circle"
         },
         "mode": "markers",
         "name": "American Express",
         "orientation": "v",
         "showlegend": true,
         "type": "scatter",
         "x": [
          195
         ],
         "xaxis": "x",
         "y": [
          74600
         ],
         "yaxis": "y"
        },
        {
         "hovertemplate": "Name=Hitachi<br>Rank=%{x}<br>Employees=%{y}<extra></extra>",
         "legendgroup": "Hitachi",
         "marker": {
          "color": "#19d3f3",
          "symbol": "circle"
         },
         "mode": "markers",
         "name": "Hitachi",
         "orientation": "v",
         "showlegend": true,
         "type": "scatter",
         "x": [
          196
         ],
         "xaxis": "x",
         "y": [
          268655
         ],
         "yaxis": "y"
        },
        {
         "hovertemplate": "Name=Roche Group<br>Rank=%{x}<br>Employees=%{y}<extra></extra>",
         "legendgroup": "Roche Group",
         "marker": {
          "color": "#FF6692",
          "symbol": "circle"
         },
         "mode": "markers",
         "name": "Roche Group",
         "orientation": "v",
         "showlegend": true,
         "type": "scatter",
         "x": [
          197
         ],
         "xaxis": "x",
         "y": [
          103605
         ],
         "yaxis": "y"
        },
        {
         "hovertemplate": "Name=Wilmar International<br>Rank=%{x}<br>Employees=%{y}<extra></extra>",
         "legendgroup": "Wilmar International",
         "marker": {
          "color": "#B6E880",
          "symbol": "circle"
         },
         "mode": "markers",
         "name": "Wilmar International",
         "orientation": "v",
         "showlegend": true,
         "type": "scatter",
         "x": [
          198
         ],
         "xaxis": "x",
         "y": [
          114123
         ],
         "yaxis": "y"
        },
        {
         "hovertemplate": "Name=Caterpillar<br>Rank=%{x}<br>Employees=%{y}<extra></extra>",
         "legendgroup": "Caterpillar",
         "marker": {
          "color": "#FF97FF",
          "symbol": "circle"
         },
         "mode": "markers",
         "name": "Caterpillar",
         "orientation": "v",
         "showlegend": true,
         "type": "scatter",
         "x": [
          199
         ],
         "xaxis": "x",
         "y": [
          113200
         ],
         "yaxis": "y"
        },
        {
         "hovertemplate": "Name=Banco Bilbao Vizcaya Argentaria<br>Rank=%{x}<br>Employees=%{y}<extra></extra>",
         "legendgroup": "Banco Bilbao Vizcaya Argentaria",
         "marker": {
          "color": "#FECB52",
          "symbol": "circle"
         },
         "mode": "markers",
         "name": "Banco Bilbao Vizcaya Argentaria",
         "orientation": "v",
         "showlegend": true,
         "type": "scatter",
         "x": [
          200
         ],
         "xaxis": "x",
         "y": [
          121486
         ],
         "yaxis": "y"
        },
        {
         "hovertemplate": "Name=Korea Electric Power<br>Rank=%{x}<br>Employees=%{y}<extra></extra>",
         "legendgroup": "Korea Electric Power",
         "marker": {
          "color": "#636efa",
          "symbol": "circle"
         },
         "mode": "markers",
         "name": "Korea Electric Power",
         "orientation": "v",
         "showlegend": true,
         "type": "scatter",
         "x": [
          201
         ],
         "xaxis": "x",
         "y": [
          48696
         ],
         "yaxis": "y"
        },
        {
         "hovertemplate": "Name=MetLife<br>Rank=%{x}<br>Employees=%{y}<extra></extra>",
         "legendgroup": "MetLife",
         "marker": {
          "color": "#EF553B",
          "symbol": "circle"
         },
         "mode": "markers",
         "name": "MetLife",
         "orientation": "v",
         "showlegend": true,
         "type": "scatter",
         "x": [
          202
         ],
         "xaxis": "x",
         "y": [
          45000
         ],
         "yaxis": "y"
        },
        {
         "hovertemplate": "Name=AEON<br>Rank=%{x}<br>Employees=%{y}<extra></extra>",
         "legendgroup": "AEON",
         "marker": {
          "color": "#00cc96",
          "symbol": "circle"
         },
         "mode": "markers",
         "name": "AEON",
         "orientation": "v",
         "showlegend": true,
         "type": "scatter",
         "x": [
          203
         ],
         "xaxis": "x",
         "y": [
          381084
         ],
         "yaxis": "y"
        },
        {
         "hovertemplate": "Name=Lloyds Banking Group<br>Rank=%{x}<br>Employees=%{y}<extra></extra>",
         "legendgroup": "Lloyds Banking Group",
         "marker": {
          "color": "#ab63fa",
          "symbol": "circle"
         },
         "mode": "markers",
         "name": "Lloyds Banking Group",
         "orientation": "v",
         "showlegend": true,
         "type": "scatter",
         "x": [
          204
         ],
         "xaxis": "x",
         "y": [
          62569
         ],
         "yaxis": "y"
        },
        {
         "hovertemplate": "Name=Deutsche Bank<br>Rank=%{x}<br>Employees=%{y}<extra></extra>",
         "legendgroup": "Deutsche Bank",
         "marker": {
          "color": "#FFA15A",
          "symbol": "circle"
         },
         "mode": "markers",
         "name": "Deutsche Bank",
         "orientation": "v",
         "showlegend": true,
         "type": "scatter",
         "x": [
          205
         ],
         "xaxis": "x",
         "y": [
          90130
         ],
         "yaxis": "y"
        },
        {
         "hovertemplate": "Name=China Vanke<br>Rank=%{x}<br>Employees=%{y}<extra></extra>",
         "legendgroup": "China Vanke",
         "marker": {
          "color": "#19d3f3",
          "symbol": "circle"
         },
         "mode": "markers",
         "name": "China Vanke",
         "orientation": "v",
         "showlegend": true,
         "type": "scatter",
         "x": [
          206
         ],
         "xaxis": "x",
         "y": [
          131097
         ],
         "yaxis": "y"
        },
        {
         "hovertemplate": "Name=HCA Healthcare<br>Rank=%{x}<br>Employees=%{y}<extra></extra>",
         "legendgroup": "HCA Healthcare",
         "marker": {
          "color": "#FF6692",
          "symbol": "circle"
         },
         "mode": "markers",
         "name": "HCA Healthcare",
         "orientation": "v",
         "showlegend": true,
         "type": "scatter",
         "x": [
          207
         ],
         "xaxis": "x",
         "y": [
          265000
         ],
         "yaxis": "y"
        },
        {
         "hovertemplate": "Name=Sumitomo Mitsui Financial Group<br>Rank=%{x}<br>Employees=%{y}<extra></extra>",
         "legendgroup": "Sumitomo Mitsui Financial Group",
         "marker": {
          "color": "#B6E880",
          "symbol": "circle"
         },
         "mode": "markers",
         "name": "Sumitomo Mitsui Financial Group",
         "orientation": "v",
         "showlegend": true,
         "type": "scatter",
         "x": [
          208
         ],
         "xaxis": "x",
         "y": [
          120373
         ],
         "yaxis": "y"
        },
        {
         "hovertemplate": "Name=LG Electronics<br>Rank=%{x}<br>Employees=%{y}<extra></extra>",
         "legendgroup": "LG Electronics",
         "marker": {
          "color": "#FF97FF",
          "symbol": "circle"
         },
         "mode": "markers",
         "name": "LG Electronics",
         "orientation": "v",
         "showlegend": true,
         "type": "scatter",
         "x": [
          209
         ],
         "xaxis": "x",
         "y": [
          74000
         ],
         "yaxis": "y"
        },
        {
         "hovertemplate": "Name=Unilever<br>Rank=%{x}<br>Employees=%{y}<extra></extra>",
         "legendgroup": "Unilever",
         "marker": {
          "color": "#FECB52",
          "symbol": "circle"
         },
         "mode": "markers",
         "name": "Unilever",
         "orientation": "v",
         "showlegend": true,
         "type": "scatter",
         "x": [
          210
         ],
         "xaxis": "x",
         "y": [
          128377
         ],
         "yaxis": "y"
        },
        {
         "hovertemplate": "Name=Accenture<br>Rank=%{x}<br>Employees=%{y}<extra></extra>",
         "legendgroup": "Accenture",
         "marker": {
          "color": "#636efa",
          "symbol": "circle"
         },
         "mode": "markers",
         "name": "Accenture",
         "orientation": "v",
         "showlegend": true,
         "type": "scatter",
         "x": [
          211
         ],
         "xaxis": "x",
         "y": [
          732819
         ],
         "yaxis": "y"
        },
        {
         "hovertemplate": "Name=Barclays<br>Rank=%{x}<br>Employees=%{y}<extra></extra>",
         "legendgroup": "Barclays",
         "marker": {
          "color": "#EF553B",
          "symbol": "circle"
         },
         "mode": "markers",
         "name": "Barclays",
         "orientation": "v",
         "showlegend": true,
         "type": "scatter",
         "x": [
          212
         ],
         "xaxis": "x",
         "y": [
          92400
         ],
         "yaxis": "y"
        },
        {
         "hovertemplate": "Name=Jinneng Holding Group<br>Rank=%{x}<br>Employees=%{y}<extra></extra>",
         "legendgroup": "Jinneng Holding Group",
         "marker": {
          "color": "#00cc96",
          "symbol": "circle"
         },
         "mode": "markers",
         "name": "Jinneng Holding Group",
         "orientation": "v",
         "showlegend": true,
         "type": "scatter",
         "x": [
          213
         ],
         "xaxis": "x",
         "y": [
          439051
         ],
         "yaxis": "y"
        },
        {
         "hovertemplate": "Name=Aluminum Corp. of China<br>Rank=%{x}<br>Employees=%{y}<extra></extra>",
         "legendgroup": "Aluminum Corp. of China",
         "marker": {
          "color": "#ab63fa",
          "symbol": "circle"
         },
         "mode": "markers",
         "name": "Aluminum Corp. of China",
         "orientation": "v",
         "showlegend": true,
         "type": "scatter",
         "x": [
          214
         ],
         "xaxis": "x",
         "y": [
          124995
         ],
         "yaxis": "y"
        },
        {
         "hovertemplate": "Name=Munich Re Group<br>Rank=%{x}<br>Employees=%{y}<extra></extra>",
         "legendgroup": "Munich Re Group",
         "marker": {
          "color": "#FFA15A",
          "symbol": "circle"
         },
         "mode": "markers",
         "name": "Munich Re Group",
         "orientation": "v",
         "showlegend": true,
         "type": "scatter",
         "x": [
          215
         ],
         "xaxis": "x",
         "y": [
          42812
         ],
         "yaxis": "y"
        },
        {
         "hovertemplate": "Name=Sberbank<br>Rank=%{x}<br>Employees=%{y}<extra></extra>",
         "legendgroup": "Sberbank",
         "marker": {
          "color": "#19d3f3",
          "symbol": "circle"
         },
         "mode": "markers",
         "name": "Sberbank",
         "orientation": "v",
         "showlegend": true,
         "type": "scatter",
         "x": [
          216
         ],
         "xaxis": "x",
         "y": [
          210753
         ],
         "yaxis": "y"
        },
        {
         "hovertemplate": "Name=Banco do Brasil<br>Rank=%{x}<br>Employees=%{y}<extra></extra>",
         "legendgroup": "Banco do Brasil",
         "marker": {
          "color": "#FF6692",
          "symbol": "circle"
         },
         "mode": "markers",
         "name": "Banco do Brasil",
         "orientation": "v",
         "showlegend": true,
         "type": "scatter",
         "x": [
          217
         ],
         "xaxis": "x",
         "y": [
          86220
         ],
         "yaxis": "y"
        },
        {
         "hovertemplate": "Name=The Progressive Corporation<br>Rank=%{x}<br>Employees=%{y}<extra></extra>",
         "legendgroup": "The Progressive Corporation",
         "marker": {
          "color": "#B6E880",
          "symbol": "circle"
         },
         "mode": "markers",
         "name": "The Progressive Corporation",
         "orientation": "v",
         "showlegend": true,
         "type": "scatter",
         "x": [
          218
         ],
         "xaxis": "x",
         "y": [
          61432
         ],
         "yaxis": "y"
        },
        {
         "hovertemplate": "Name=IBM<br>Rank=%{x}<br>Employees=%{y}<extra></extra>",
         "legendgroup": "IBM",
         "marker": {
          "color": "#FF97FF",
          "symbol": "circle"
         },
         "mode": "markers",
         "name": "IBM",
         "orientation": "v",
         "showlegend": true,
         "type": "scatter",
         "x": [
          219
         ],
         "xaxis": "x",
         "y": [
          296600
         ],
         "yaxis": "y"
        },
        {
         "hovertemplate": "Name=Nippon Steel Corporation<br>Rank=%{x}<br>Employees=%{y}<extra></extra>",
         "legendgroup": "Nippon Steel Corporation",
         "marker": {
          "color": "#FECB52",
          "symbol": "circle"
         },
         "mode": "markers",
         "name": "Nippon Steel Corporation",
         "orientation": "v",
         "showlegend": true,
         "type": "scatter",
         "x": [
          220
         ],
         "xaxis": "x",
         "y": [
          121236
         ],
         "yaxis": "y"
        },
        {
         "hovertemplate": "Name=Deere<br>Rank=%{x}<br>Employees=%{y}<extra></extra>",
         "legendgroup": "Deere",
         "marker": {
          "color": "#636efa",
          "symbol": "circle"
         },
         "mode": "markers",
         "name": "Deere",
         "orientation": "v",
         "showlegend": true,
         "type": "scatter",
         "x": [
          221
         ],
         "xaxis": "x",
         "y": [
          82956
         ],
         "yaxis": "y"
        },
        {
         "hovertemplate": "Name=Nvidia<br>Rank=%{x}<br>Employees=%{y}<extra></extra>",
         "legendgroup": "Nvidia",
         "marker": {
          "color": "#EF553B",
          "symbol": "circle"
         },
         "mode": "markers",
         "name": "Nvidia",
         "orientation": "v",
         "showlegend": true,
         "type": "scatter",
         "x": [
          222
         ],
         "xaxis": "x",
         "y": [
          29600
         ],
         "yaxis": "y"
        },
        {
         "hovertemplate": "Name=StoneX Group<br>Rank=%{x}<br>Employees=%{y}<extra></extra>",
         "legendgroup": "StoneX Group",
         "marker": {
          "color": "#00cc96",
          "symbol": "circle"
         },
         "mode": "markers",
         "name": "StoneX Group",
         "orientation": "v",
         "showlegend": true,
         "type": "scatter",
         "x": [
          223
         ],
         "xaxis": "x",
         "y": [
          4137
         ],
         "yaxis": "y"
        },
        {
         "hovertemplate": "Name=Zurich Insurance Group<br>Rank=%{x}<br>Employees=%{y}<extra></extra>",
         "legendgroup": "Zurich Insurance Group",
         "marker": {
          "color": "#ab63fa",
          "symbol": "circle"
         },
         "mode": "markers",
         "name": "Zurich Insurance Group",
         "orientation": "v",
         "showlegend": true,
         "type": "scatter",
         "x": [
          224
         ],
         "xaxis": "x",
         "y": [
          59593
         ],
         "yaxis": "y"
        },
        {
         "hovertemplate": "Name=Bouygues<br>Rank=%{x}<br>Employees=%{y}<extra></extra>",
         "legendgroup": "Bouygues",
         "marker": {
          "color": "#FFA15A",
          "symbol": "circle"
         },
         "mode": "markers",
         "name": "Bouygues",
         "orientation": "v",
         "showlegend": true,
         "type": "scatter",
         "x": [
          225
         ],
         "xaxis": "x",
         "y": [
          201498
         ],
         "yaxis": "y"
        },
        {
         "hovertemplate": "Name=Mizuho Financial Group<br>Rank=%{x}<br>Employees=%{y}<extra></extra>",
         "legendgroup": "Mizuho Financial Group",
         "marker": {
          "color": "#19d3f3",
          "symbol": "circle"
         },
         "mode": "markers",
         "name": "Mizuho Financial Group",
         "orientation": "v",
         "showlegend": true,
         "type": "scatter",
         "x": [
          226
         ],
         "xaxis": "x",
         "y": [
          52307
         ],
         "yaxis": "y"
        },
        {
         "hovertemplate": "Name=Daimler Truck Holding<br>Rank=%{x}<br>Employees=%{y}<extra></extra>",
         "legendgroup": "Daimler Truck Holding",
         "marker": {
          "color": "#FF6692",
          "symbol": "circle"
         },
         "mode": "markers",
         "name": "Daimler Truck Holding",
         "orientation": "v",
         "showlegend": true,
         "type": "scatter",
         "x": [
          227
         ],
         "xaxis": "x",
         "y": [
          102946
         ],
         "yaxis": "y"
        },
        {
         "hovertemplate": "Name=ING Group<br>Rank=%{x}<br>Employees=%{y}<extra></extra>",
         "legendgroup": "ING Group",
         "marker": {
          "color": "#B6E880",
          "symbol": "circle"
         },
         "mode": "markers",
         "name": "ING Group",
         "orientation": "v",
         "showlegend": true,
         "type": "scatter",
         "x": [
          228
         ],
         "xaxis": "x",
         "y": [
          59434
         ],
         "yaxis": "y"
        },
        {
         "hovertemplate": "Name=Merck<br>Rank=%{x}<br>Employees=%{y}<extra></extra>",
         "legendgroup": "Merck",
         "marker": {
          "color": "#FF97FF",
          "symbol": "circle"
         },
         "mode": "markers",
         "name": "Merck",
         "orientation": "v",
         "showlegend": true,
         "type": "scatter",
         "x": [
          229
         ],
         "xaxis": "x",
         "y": [
          71000
         ],
         "yaxis": "y"
        },
        {
         "hovertemplate": "Name=Bunge<br>Rank=%{x}<br>Employees=%{y}<extra></extra>",
         "legendgroup": "Bunge",
         "marker": {
          "color": "#FECB52",
          "symbol": "circle"
         },
         "mode": "markers",
         "name": "Bunge",
         "orientation": "v",
         "showlegend": true,
         "type": "scatter",
         "x": [
          230
         ],
         "xaxis": "x",
         "y": [
          23000
         ],
         "yaxis": "y"
        },
        {
         "hovertemplate": "Name=Anheuser-Busch InBev<br>Rank=%{x}<br>Employees=%{y}<extra></extra>",
         "legendgroup": "Anheuser-Busch InBev",
         "marker": {
          "color": "#636efa",
          "symbol": "circle"
         },
         "mode": "markers",
         "name": "Anheuser-Busch InBev",
         "orientation": "v",
         "showlegend": true,
         "type": "scatter",
         "x": [
          231
         ],
         "xaxis": "x",
         "y": [
          154540
         ],
         "yaxis": "y"
        },
        {
         "hovertemplate": "Name=Industrial Bank<br>Rank=%{x}<br>Employees=%{y}<extra></extra>",
         "legendgroup": "Industrial Bank",
         "marker": {
          "color": "#EF553B",
          "symbol": "circle"
         },
         "mode": "markers",
         "name": "Industrial Bank",
         "orientation": "v",
         "showlegend": true,
         "type": "scatter",
         "x": [
          232
         ],
         "xaxis": "x",
         "y": [
          66569
         ],
         "yaxis": "y"
        },
        {
         "hovertemplate": "Name=POSCO Holdings<br>Rank=%{x}<br>Employees=%{y}<extra></extra>",
         "legendgroup": "POSCO Holdings",
         "marker": {
          "color": "#00cc96",
          "symbol": "circle"
         },
         "mode": "markers",
         "name": "POSCO Holdings",
         "orientation": "v",
         "showlegend": true,
         "type": "scatter",
         "x": [
          233
         ],
         "xaxis": "x",
         "y": [
          44501
         ],
         "yaxis": "y"
        },
        {
         "hovertemplate": "Name=Panasonic Holdings<br>Rank=%{x}<br>Employees=%{y}<extra></extra>",
         "legendgroup": "Panasonic Holdings",
         "marker": {
          "color": "#ab63fa",
          "symbol": "circle"
         },
         "mode": "markers",
         "name": "Panasonic Holdings",
         "orientation": "v",
         "showlegend": true,
         "type": "scatter",
         "x": [
          234
         ],
         "xaxis": "x",
         "y": [
          228420
         ],
         "yaxis": "y"
        },
        {
         "hovertemplate": "Name=ConocoPhillips<br>Rank=%{x}<br>Employees=%{y}<extra></extra>",
         "legendgroup": "ConocoPhillips",
         "marker": {
          "color": "#FFA15A",
          "symbol": "circle"
         },
         "mode": "markers",
         "name": "ConocoPhillips",
         "orientation": "v",
         "showlegend": true,
         "type": "scatter",
         "x": [
          235
         ],
         "xaxis": "x",
         "y": [
          9900
         ],
         "yaxis": "y"
        },
        {
         "hovertemplate": "Name=Pfizer<br>Rank=%{x}<br>Employees=%{y}<extra></extra>",
         "legendgroup": "Pfizer",
         "marker": {
          "color": "#19d3f3",
          "symbol": "circle"
         },
         "mode": "markers",
         "name": "Pfizer",
         "orientation": "v",
         "showlegend": true,
         "type": "scatter",
         "x": [
          236
         ],
         "xaxis": "x",
         "y": [
          88000
         ],
         "yaxis": "y"
        },
        {
         "hovertemplate": "Name=Delta Air Lines<br>Rank=%{x}<br>Employees=%{y}<extra></extra>",
         "legendgroup": "Delta Air Lines",
         "marker": {
          "color": "#FF6692",
          "symbol": "circle"
         },
         "mode": "markers",
         "name": "Delta Air Lines",
         "orientation": "v",
         "showlegend": true,
         "type": "scatter",
         "x": [
          237
         ],
         "xaxis": "x",
         "y": [
          103000
         ],
         "yaxis": "y"
        },
        {
         "hovertemplate": "Name=China Huaneng Group<br>Rank=%{x}<br>Employees=%{y}<extra></extra>",
         "legendgroup": "China Huaneng Group",
         "marker": {
          "color": "#B6E880",
          "symbol": "circle"
         },
         "mode": "markers",
         "name": "China Huaneng Group",
         "orientation": "v",
         "showlegend": true,
         "type": "scatter",
         "x": [
          238
         ],
         "xaxis": "x",
         "y": [
          124623
         ],
         "yaxis": "y"
        },
        {
         "hovertemplate": "Name=China Energy Engineering Group<br>Rank=%{x}<br>Employees=%{y}<extra></extra>",
         "legendgroup": "China Energy Engineering Group",
         "marker": {
          "color": "#FF97FF",
          "symbol": "circle"
         },
         "mode": "markers",
         "name": "China Energy Engineering Group",
         "orientation": "v",
         "showlegend": true,
         "type": "scatter",
         "x": [
          239
         ],
         "xaxis": "x",
         "y": [
          119182
         ],
         "yaxis": "y"
        },
        {
         "hovertemplate": "Name=Dongfeng Motor<br>Rank=%{x}<br>Employees=%{y}<extra></extra>",
         "legendgroup": "Dongfeng Motor",
         "marker": {
          "color": "#FECB52",
          "symbol": "circle"
         },
         "mode": "markers",
         "name": "Dongfeng Motor",
         "orientation": "v",
         "showlegend": true,
         "type": "scatter",
         "x": [
          240
         ],
         "xaxis": "x",
         "y": [
          122658
         ],
         "yaxis": "y"
        },
        {
         "hovertemplate": "Name=TD Synnex<br>Rank=%{x}<br>Employees=%{y}<extra></extra>",
         "legendgroup": "TD Synnex",
         "marker": {
          "color": "#636efa",
          "symbol": "circle"
         },
         "mode": "markers",
         "name": "TD Synnex",
         "orientation": "v",
         "showlegend": true,
         "type": "scatter",
         "x": [
          241
         ],
         "xaxis": "x",
         "y": [
          28000
         ],
         "yaxis": "y"
        },
        {
         "hovertemplate": "Name=Publix Super Markets<br>Rank=%{x}<br>Employees=%{y}<extra></extra>",
         "legendgroup": "Publix Super Markets",
         "marker": {
          "color": "#EF553B",
          "symbol": "circle"
         },
         "mode": "markers",
         "name": "Publix Super Markets",
         "orientation": "v",
         "showlegend": true,
         "type": "scatter",
         "x": [
          242
         ],
         "xaxis": "x",
         "y": [
          253000
         ],
         "yaxis": "y"
        },
        {
         "hovertemplate": "Name=Zhejiang Hengyi Group<br>Rank=%{x}<br>Employees=%{y}<extra></extra>",
         "legendgroup": "Zhejiang Hengyi Group",
         "marker": {
          "color": "#00cc96",
          "symbol": "circle"
         },
         "mode": "markers",
         "name": "Zhejiang Hengyi Group",
         "orientation": "v",
         "showlegend": true,
         "type": "scatter",
         "x": [
          243
         ],
         "xaxis": "x",
         "y": [
          22417
         ],
         "yaxis": "y"
        },
        {
         "hovertemplate": "Name=Allstate<br>Rank=%{x}<br>Employees=%{y}<extra></extra>",
         "legendgroup": "Allstate",
         "marker": {
          "color": "#ab63fa",
          "symbol": "circle"
         },
         "mode": "markers",
         "name": "Allstate",
         "orientation": "v",
         "showlegend": true,
         "type": "scatter",
         "x": [
          244
         ],
         "xaxis": "x",
         "y": [
          53200
         ],
         "yaxis": "y"
        },
        {
         "hovertemplate": "Name=Assicurazioni Generali<br>Rank=%{x}<br>Employees=%{y}<extra></extra>",
         "legendgroup": "Assicurazioni Generali",
         "marker": {
          "color": "#FFA15A",
          "symbol": "circle"
         },
         "mode": "markers",
         "name": "Assicurazioni Generali",
         "orientation": "v",
         "showlegend": true,
         "type": "scatter",
         "x": [
          245
         ],
         "xaxis": "x",
         "y": [
          81879
         ],
         "yaxis": "y"
        },
        {
         "hovertemplate": "Name=Cisco Systems<br>Rank=%{x}<br>Employees=%{y}<extra></extra>",
         "legendgroup": "Cisco Systems",
         "marker": {
          "color": "#19d3f3",
          "symbol": "circle"
         },
         "mode": "markers",
         "name": "Cisco Systems",
         "orientation": "v",
         "showlegend": true,
         "type": "scatter",
         "x": [
          246
         ],
         "xaxis": "x",
         "y": [
          84900
         ],
         "yaxis": "y"
        },
        {
         "hovertemplate": "Name=Repsol<br>Rank=%{x}<br>Employees=%{y}<extra></extra>",
         "legendgroup": "Repsol",
         "marker": {
          "color": "#FF6692",
          "symbol": "circle"
         },
         "mode": "markers",
         "name": "Repsol",
         "orientation": "v",
         "showlegend": true,
         "type": "scatter",
         "x": [
          247
         ],
         "xaxis": "x",
         "y": [
          23943
         ],
         "yaxis": "y"
        },
        {
         "hovertemplate": "Name=Lenovo Group<br>Rank=%{x}<br>Employees=%{y}<extra></extra>",
         "legendgroup": "Lenovo Group",
         "marker": {
          "color": "#B6E880",
          "symbol": "circle"
         },
         "mode": "markers",
         "name": "Lenovo Group",
         "orientation": "v",
         "showlegend": true,
         "type": "scatter",
         "x": [
          248
         ],
         "xaxis": "x",
         "y": [
          69500
         ],
         "yaxis": "y"
        },
        {
         "hovertemplate": "Name=HBIS Group<br>Rank=%{x}<br>Employees=%{y}<extra></extra>",
         "legendgroup": "HBIS Group",
         "marker": {
          "color": "#FF97FF",
          "symbol": "circle"
         },
         "mode": "markers",
         "name": "HBIS Group",
         "orientation": "v",
         "showlegend": true,
         "type": "scatter",
         "x": [
          249
         ],
         "xaxis": "x",
         "y": [
          97802
         ],
         "yaxis": "y"
        },
        {
         "hovertemplate": "Name=Contemporary Amperex Technology<br>Rank=%{x}<br>Employees=%{y}<extra></extra>",
         "legendgroup": "Contemporary Amperex Technology",
         "marker": {
          "color": "#FECB52",
          "symbol": "circle"
         },
         "mode": "markers",
         "name": "Contemporary Amperex Technology",
         "orientation": "v",
         "showlegend": true,
         "type": "scatter",
         "x": [
          250
         ],
         "xaxis": "x",
         "y": [
          116055
         ],
         "yaxis": "y"
        },
        {
         "hovertemplate": "Name=Renault<br>Rank=%{x}<br>Employees=%{y}<extra></extra>",
         "legendgroup": "Renault",
         "marker": {
          "color": "#636efa",
          "symbol": "circle"
         },
         "mode": "markers",
         "name": "Renault",
         "orientation": "v",
         "showlegend": true,
         "type": "scatter",
         "x": [
          251
         ],
         "xaxis": "x",
         "y": [
          105497
         ],
         "yaxis": "y"
        },
        {
         "hovertemplate": "Name=Banco Bradesco<br>Rank=%{x}<br>Employees=%{y}<extra></extra>",
         "legendgroup": "Banco Bradesco",
         "marker": {
          "color": "#EF553B",
          "symbol": "circle"
         },
         "mode": "markers",
         "name": "Banco Bradesco",
         "orientation": "v",
         "showlegend": true,
         "type": "scatter",
         "x": [
          252
         ],
         "xaxis": "x",
         "y": [
          79583
         ],
         "yaxis": "y"
        },
        {
         "hovertemplate": "Name=China Electronics Technology Group<br>Rank=%{x}<br>Employees=%{y}<extra></extra>",
         "legendgroup": "China Electronics Technology Group",
         "marker": {
          "color": "#00cc96",
          "symbol": "circle"
         },
         "mode": "markers",
         "name": "China Electronics Technology Group",
         "orientation": "v",
         "showlegend": true,
         "type": "scatter",
         "x": [
          253
         ],
         "xaxis": "x",
         "y": [
          241097
         ],
         "yaxis": "y"
        },
        {
         "hovertemplate": "Name=Nationwide<br>Rank=%{x}<br>Employees=%{y}<extra></extra>",
         "legendgroup": "Nationwide",
         "marker": {
          "color": "#ab63fa",
          "symbol": "circle"
         },
         "mode": "markers",
         "name": "Nationwide",
         "orientation": "v",
         "showlegend": true,
         "type": "scatter",
         "x": [
          254
         ],
         "xaxis": "x",
         "y": [
          24118
         ],
         "yaxis": "y"
        },
        {
         "hovertemplate": "Name=Charter Communications<br>Rank=%{x}<br>Employees=%{y}<extra></extra>",
         "legendgroup": "Charter Communications",
         "marker": {
          "color": "#FFA15A",
          "symbol": "circle"
         },
         "mode": "markers",
         "name": "Charter Communications",
         "orientation": "v",
         "showlegend": true,
         "type": "scatter",
         "x": [
          255
         ],
         "xaxis": "x",
         "y": [
          101100
         ],
         "yaxis": "y"
        },
        {
         "hovertemplate": "Name=State Power Investment<br>Rank=%{x}<br>Employees=%{y}<extra></extra>",
         "legendgroup": "State Power Investment",
         "marker": {
          "color": "#19d3f3",
          "symbol": "circle"
         },
         "mode": "markers",
         "name": "State Power Investment",
         "orientation": "v",
         "showlegend": true,
         "type": "scatter",
         "x": [
          256
         ],
         "xaxis": "x",
         "y": [
          127514
         ],
         "yaxis": "y"
        },
        {
         "hovertemplate": "Name=Edeka Zentrale<br>Rank=%{x}<br>Employees=%{y}<extra></extra>",
         "legendgroup": "Edeka Zentrale",
         "marker": {
          "color": "#FF6692",
          "symbol": "circle"
         },
         "mode": "markers",
         "name": "Edeka Zentrale",
         "orientation": "v",
         "showlegend": true,
         "type": "scatter",
         "x": [
          257
         ],
         "xaxis": "x",
         "y": [
          410700
         ],
         "yaxis": "y"
        },
        {
         "hovertemplate": "Name=Bharat Petroleum<br>Rank=%{x}<br>Employees=%{y}<extra></extra>",
         "legendgroup": "Bharat Petroleum",
         "marker": {
          "color": "#B6E880",
          "symbol": "circle"
         },
         "mode": "markers",
         "name": "Bharat Petroleum",
         "orientation": "v",
         "showlegend": true,
         "type": "scatter",
         "x": [
          258
         ],
         "xaxis": "x",
         "y": [
          8511
         ],
         "yaxis": "y"
        },
        {
         "hovertemplate": "Name=AbbVie<br>Rank=%{x}<br>Employees=%{y}<extra></extra>",
         "legendgroup": "AbbVie",
         "marker": {
          "color": "#FF97FF",
          "symbol": "circle"
         },
         "mode": "markers",
         "name": "AbbVie",
         "orientation": "v",
         "showlegend": true,
         "type": "scatter",
         "x": [
          259
         ],
         "xaxis": "x",
         "y": [
          50000
         ],
         "yaxis": "y"
        },
        {
         "hovertemplate": "Name=New York Life Insurance<br>Rank=%{x}<br>Employees=%{y}<extra></extra>",
         "legendgroup": "New York Life Insurance",
         "marker": {
          "color": "#FECB52",
          "symbol": "circle"
         },
         "mode": "markers",
         "name": "New York Life Insurance",
         "orientation": "v",
         "showlegend": true,
         "type": "scatter",
         "x": [
          260
         ],
         "xaxis": "x",
         "y": [
          15384
         ],
         "yaxis": "y"
        },
        {
         "hovertemplate": "Name=Intel<br>Rank=%{x}<br>Employees=%{y}<extra></extra>",
         "legendgroup": "Intel",
         "marker": {
          "color": "#636efa",
          "symbol": "circle"
         },
         "mode": "markers",
         "name": "Intel",
         "orientation": "v",
         "showlegend": true,
         "type": "scatter",
         "x": [
          261
         ],
         "xaxis": "x",
         "y": [
          124800
         ],
         "yaxis": "y"
        },
        {
         "hovertemplate": "Name=TJX<br>Rank=%{x}<br>Employees=%{y}<extra></extra>",
         "legendgroup": "TJX",
         "marker": {
          "color": "#EF553B",
          "symbol": "circle"
         },
         "mode": "markers",
         "name": "TJX",
         "orientation": "v",
         "showlegend": true,
         "type": "scatter",
         "x": [
          262
         ],
         "xaxis": "x",
         "y": [
          349000
         ],
         "yaxis": "y"
        },
        {
         "hovertemplate": "Name=Novartis<br>Rank=%{x}<br>Employees=%{y}<extra></extra>",
         "legendgroup": "Novartis",
         "marker": {
          "color": "#00cc96",
          "symbol": "circle"
         },
         "mode": "markers",
         "name": "Novartis",
         "orientation": "v",
         "showlegend": true,
         "type": "scatter",
         "x": [
          263
         ],
         "xaxis": "x",
         "y": [
          76057
         ],
         "yaxis": "y"
        },
        {
         "hovertemplate": "Name=Rio Tinto Group<br>Rank=%{x}<br>Employees=%{y}<extra></extra>",
         "legendgroup": "Rio Tinto Group",
         "marker": {
          "color": "#ab63fa",
          "symbol": "circle"
         },
         "mode": "markers",
         "name": "Rio Tinto Group",
         "orientation": "v",
         "showlegend": true,
         "type": "scatter",
         "x": [
          264
         ],
         "xaxis": "x",
         "y": [
          57174
         ],
         "yaxis": "y"
        },
        {
         "hovertemplate": "Name=Tsingshan Holding Group<br>Rank=%{x}<br>Employees=%{y}<extra></extra>",
         "legendgroup": "Tsingshan Holding Group",
         "marker": {
          "color": "#FFA15A",
          "symbol": "circle"
         },
         "mode": "markers",
         "name": "Tsingshan Holding Group",
         "orientation": "v",
         "showlegend": true,
         "type": "scatter",
         "x": [
          265
         ],
         "xaxis": "x",
         "y": [
          107805
         ],
         "yaxis": "y"
        },
        {
         "hovertemplate": "Name=Prudential Financial<br>Rank=%{x}<br>Employees=%{y}<extra></extra>",
         "legendgroup": "Prudential Financial",
         "marker": {
          "color": "#19d3f3",
          "symbol": "circle"
         },
         "mode": "markers",
         "name": "Prudential Financial",
         "orientation": "v",
         "showlegend": true,
         "type": "scatter",
         "x": [
          266
         ],
         "xaxis": "x",
         "y": [
          40366
         ],
         "yaxis": "y"
        },
        {
         "hovertemplate": "Name=COSCO Shipping<br>Rank=%{x}<br>Employees=%{y}<extra></extra>",
         "legendgroup": "COSCO Shipping",
         "marker": {
          "color": "#FF6692",
          "symbol": "circle"
         },
         "mode": "markers",
         "name": "COSCO Shipping",
         "orientation": "v",
         "showlegend": true,
         "type": "scatter",
         "x": [
          267
         ],
         "xaxis": "x",
         "y": [
          106221
         ],
         "yaxis": "y"
        },
        {
         "hovertemplate": "Name=BHP Group<br>Rank=%{x}<br>Employees=%{y}<extra></extra>",
         "legendgroup": "BHP Group",
         "marker": {
          "color": "#B6E880",
          "symbol": "circle"
         },
         "mode": "markers",
         "name": "BHP Group",
         "orientation": "v",
         "showlegend": true,
         "type": "scatter",
         "x": [
          268
         ],
         "xaxis": "x",
         "y": [
          42319
         ],
         "yaxis": "y"
        },
        {
         "hovertemplate": "Name=HP<br>Rank=%{x}<br>Employees=%{y}<extra></extra>",
         "legendgroup": "HP",
         "marker": {
          "color": "#FF97FF",
          "symbol": "circle"
         },
         "mode": "markers",
         "name": "HP",
         "orientation": "v",
         "showlegend": true,
         "type": "scatter",
         "x": [
          269
         ],
         "xaxis": "x",
         "y": [
          58000
         ],
         "yaxis": "y"
        },
        {
         "hovertemplate": "Name=United Airlines Holdings<br>Rank=%{x}<br>Employees=%{y}<extra></extra>",
         "legendgroup": "United Airlines Holdings",
         "marker": {
          "color": "#FECB52",
          "symbol": "circle"
         },
         "mode": "markers",
         "name": "United Airlines Holdings",
         "orientation": "v",
         "showlegend": true,
         "type": "scatter",
         "x": [
          270
         ],
         "xaxis": "x",
         "y": [
          103300
         ],
         "yaxis": "y"
        },
        {
         "hovertemplate": "Name=Tata Motors<br>Rank=%{x}<br>Employees=%{y}<extra></extra>",
         "legendgroup": "Tata Motors",
         "marker": {
          "color": "#636efa",
          "symbol": "circle"
         },
         "mode": "markers",
         "name": "Tata Motors",
         "orientation": "v",
         "showlegend": true,
         "type": "scatter",
         "x": [
          271
         ],
         "xaxis": "x",
         "y": [
          91496
         ],
         "yaxis": "y"
        },
        {
         "hovertemplate": "Name=Performance Food Group<br>Rank=%{x}<br>Employees=%{y}<extra></extra>",
         "legendgroup": "Performance Food Group",
         "marker": {
          "color": "#EF553B",
          "symbol": "circle"
         },
         "mode": "markers",
         "name": "Performance Food Group",
         "orientation": "v",
         "showlegend": true,
         "type": "scatter",
         "x": [
          272
         ],
         "xaxis": "x",
         "y": [
          34825
         ],
         "yaxis": "y"
        },
        {
         "hovertemplate": "Name=Iberdrola<br>Rank=%{x}<br>Employees=%{y}<extra></extra>",
         "legendgroup": "Iberdrola",
         "marker": {
          "color": "#00cc96",
          "symbol": "circle"
         },
         "mode": "markers",
         "name": "Iberdrola",
         "orientation": "v",
         "showlegend": true,
         "type": "scatter",
         "x": [
          273
         ],
         "xaxis": "x",
         "y": [
          41448
         ],
         "yaxis": "y"
        },
        {
         "hovertemplate": "Name=Deutsche Bahn<br>Rank=%{x}<br>Employees=%{y}<extra></extra>",
         "legendgroup": "Deutsche Bahn",
         "marker": {
          "color": "#ab63fa",
          "symbol": "circle"
         },
         "mode": "markers",
         "name": "Deutsche Bahn",
         "orientation": "v",
         "showlegend": true,
         "type": "scatter",
         "x": [
          274
         ],
         "xaxis": "x",
         "y": [
          326781
         ],
         "yaxis": "y"
        },
        {
         "hovertemplate": "Name=Idemitsu Kosan<br>Rank=%{x}<br>Employees=%{y}<extra></extra>",
         "legendgroup": "Idemitsu Kosan",
         "marker": {
          "color": "#FFA15A",
          "symbol": "circle"
         },
         "mode": "markers",
         "name": "Idemitsu Kosan",
         "orientation": "v",
         "showlegend": true,
         "type": "scatter",
         "x": [
          275
         ],
         "xaxis": "x",
         "y": [
          16571
         ],
         "yaxis": "y"
        },
        {
         "hovertemplate": "Name=Tyson Foods<br>Rank=%{x}<br>Employees=%{y}<extra></extra>",
         "legendgroup": "Tyson Foods",
         "marker": {
          "color": "#19d3f3",
          "symbol": "circle"
         },
         "mode": "markers",
         "name": "Tyson Foods",
         "orientation": "v",
         "showlegend": true,
         "type": "scatter",
         "x": [
          276
         ],
         "xaxis": "x",
         "y": [
          139000
         ],
         "yaxis": "y"
        },
        {
         "hovertemplate": "Name=Midea Group<br>Rank=%{x}<br>Employees=%{y}<extra></extra>",
         "legendgroup": "Midea Group",
         "marker": {
          "color": "#FF6692",
          "symbol": "circle"
         },
         "mode": "markers",
         "name": "Midea Group",
         "orientation": "v",
         "showlegend": true,
         "type": "scatter",
         "x": [
          277
         ],
         "xaxis": "x",
         "y": [
          198613
         ],
         "yaxis": "y"
        },
        {
         "hovertemplate": "Name=American Airlines Group<br>Rank=%{x}<br>Employees=%{y}<extra></extra>",
         "legendgroup": "American Airlines Group",
         "marker": {
          "color": "#B6E880",
          "symbol": "circle"
         },
         "mode": "markers",
         "name": "American Airlines Group",
         "orientation": "v",
         "showlegend": true,
         "type": "scatter",
         "x": [
          278
         ],
         "xaxis": "x",
         "y": [
          132100
         ],
         "yaxis": "y"
        },
        {
         "hovertemplate": "Name=China United Network Communications<br>Rank=%{x}<br>Employees=%{y}<extra></extra>",
         "legendgroup": "China United Network Communications",
         "marker": {
          "color": "#FF97FF",
          "symbol": "circle"
         },
         "mode": "markers",
         "name": "China United Network Communications",
         "orientation": "v",
         "showlegend": true,
         "type": "scatter",
         "x": [
          279
         ],
         "xaxis": "x",
         "y": [
          242891
         ],
         "yaxis": "y"
        },
        {
         "hovertemplate": "Name=Liberty Mutual Insurance Group<br>Rank=%{x}<br>Employees=%{y}<extra></extra>",
         "legendgroup": "Liberty Mutual Insurance Group",
         "marker": {
          "color": "#FECB52",
          "symbol": "circle"
         },
         "mode": "markers",
         "name": "Liberty Mutual Insurance Group",
         "orientation": "v",
         "showlegend": true,
         "type": "scatter",
         "x": [
          280
         ],
         "xaxis": "x",
         "y": [
          45000
         ],
         "yaxis": "y"
        },
        {
         "hovertemplate": "Name=Bank of Nova Scotia<br>Rank=%{x}<br>Employees=%{y}<extra></extra>",
         "legendgroup": "Bank of Nova Scotia",
         "marker": {
          "color": "#636efa",
          "symbol": "circle"
         },
         "mode": "markers",
         "name": "Bank of Nova Scotia",
         "orientation": "v",
         "showlegend": true,
         "type": "scatter",
         "x": [
          281
         ],
         "xaxis": "x",
         "y": [
          89483
         ],
         "yaxis": "y"
        },
        {
         "hovertemplate": "Name=Volvo<br>Rank=%{x}<br>Employees=%{y}<extra></extra>",
         "legendgroup": "Volvo",
         "marker": {
          "color": "#EF553B",
          "symbol": "circle"
         },
         "mode": "markers",
         "name": "Volvo",
         "orientation": "v",
         "showlegend": true,
         "type": "scatter",
         "x": [
          282
         ],
         "xaxis": "x",
         "y": [
          97440
         ],
         "yaxis": "y"
        },
        {
         "hovertemplate": "Name=Intesa Sanpaolo<br>Rank=%{x}<br>Employees=%{y}<extra></extra>",
         "legendgroup": "Intesa Sanpaolo",
         "marker": {
          "color": "#00cc96",
          "symbol": "circle"
         },
         "mode": "markers",
         "name": "Intesa Sanpaolo",
         "orientation": "v",
         "showlegend": true,
         "type": "scatter",
         "x": [
          283
         ],
         "xaxis": "x",
         "y": [
          94368
         ],
         "yaxis": "y"
        },
        {
         "hovertemplate": "Name=Saint-Gobain<br>Rank=%{x}<br>Employees=%{y}<extra></extra>",
         "legendgroup": "Saint-Gobain",
         "marker": {
          "color": "#ab63fa",
          "symbol": "circle"
         },
         "mode": "markers",
         "name": "Saint-Gobain",
         "orientation": "v",
         "showlegend": true,
         "type": "scatter",
         "x": [
          284
         ],
         "xaxis": "x",
         "y": [
          144422
         ],
         "yaxis": "y"
        },
        {
         "hovertemplate": "Name=Shaanxi Yanchang Petroleum (Group)<br>Rank=%{x}<br>Employees=%{y}<extra></extra>",
         "legendgroup": "Shaanxi Yanchang Petroleum (Group)",
         "marker": {
          "color": "#FFA15A",
          "symbol": "circle"
         },
         "mode": "markers",
         "name": "Shaanxi Yanchang Petroleum (Group)",
         "orientation": "v",
         "showlegend": true,
         "type": "scatter",
         "x": [
          285
         ],
         "xaxis": "x",
         "y": [
          130427
         ],
         "yaxis": "y"
        },
        {
         "hovertemplate": "Name=Bayer<br>Rank=%{x}<br>Employees=%{y}<extra></extra>",
         "legendgroup": "Bayer",
         "marker": {
          "color": "#19d3f3",
          "symbol": "circle"
         },
         "mode": "markers",
         "name": "Bayer",
         "orientation": "v",
         "showlegend": true,
         "type": "scatter",
         "x": [
          286
         ],
         "xaxis": "x",
         "y": [
          99723
         ],
         "yaxis": "y"
        },
        {
         "hovertemplate": "Name=Tokio Marine Holdings<br>Rank=%{x}<br>Employees=%{y}<extra></extra>",
         "legendgroup": "Tokio Marine Holdings",
         "marker": {
          "color": "#FF6692",
          "symbol": "circle"
         },
         "mode": "markers",
         "name": "Tokio Marine Holdings",
         "orientation": "v",
         "showlegend": true,
         "type": "scatter",
         "x": [
          287
         ],
         "xaxis": "x",
         "y": [
          43870
         ],
         "yaxis": "y"
        },
        {
         "hovertemplate": "Name=Nike<br>Rank=%{x}<br>Employees=%{y}<extra></extra>",
         "legendgroup": "Nike",
         "marker": {
          "color": "#B6E880",
          "symbol": "circle"
         },
         "mode": "markers",
         "name": "Nike",
         "orientation": "v",
         "showlegend": true,
         "type": "scatter",
         "x": [
          288
         ],
         "xaxis": "x",
         "y": [
          83700
         ],
         "yaxis": "y"
        },
        {
         "hovertemplate": "Name=Maersk Group<br>Rank=%{x}<br>Employees=%{y}<extra></extra>",
         "legendgroup": "Maersk Group",
         "marker": {
          "color": "#FF97FF",
          "symbol": "circle"
         },
         "mode": "markers",
         "name": "Maersk Group",
         "orientation": "v",
         "showlegend": true,
         "type": "scatter",
         "x": [
          289
         ],
         "xaxis": "x",
         "y": [
          105909
         ],
         "yaxis": "y"
        },
        {
         "hovertemplate": "Name=Phoenix Pharma<br>Rank=%{x}<br>Employees=%{y}<extra></extra>",
         "legendgroup": "Phoenix Pharma",
         "marker": {
          "color": "#FECB52",
          "symbol": "circle"
         },
         "mode": "markers",
         "name": "Phoenix Pharma",
         "orientation": "v",
         "showlegend": true,
         "type": "scatter",
         "x": [
          290
         ],
         "xaxis": "x",
         "y": [
          41276
         ],
         "yaxis": "y"
        },
        {
         "hovertemplate": "Name=Greenland Holding Group<br>Rank=%{x}<br>Employees=%{y}<extra></extra>",
         "legendgroup": "Greenland Holding Group",
         "marker": {
          "color": "#636efa",
          "symbol": "circle"
         },
         "mode": "markers",
         "name": "Greenland Holding Group",
         "orientation": "v",
         "showlegend": true,
         "type": "scatter",
         "x": [
          291
         ],
         "xaxis": "x",
         "y": [
          59970
         ],
         "yaxis": "y"
        },
        {
         "hovertemplate": "Name=Shanghai Pudong Development Bank<br>Rank=%{x}<br>Employees=%{y}<extra></extra>",
         "legendgroup": "Shanghai Pudong Development Bank",
         "marker": {
          "color": "#EF553B",
          "symbol": "circle"
         },
         "mode": "markers",
         "name": "Shanghai Pudong Development Bank",
         "orientation": "v",
         "showlegend": true,
         "type": "scatter",
         "x": [
          292
         ],
         "xaxis": "x",
         "y": [
          63582
         ],
         "yaxis": "y"
        },
        {
         "hovertemplate": "Name=Louis Dreyfus<br>Rank=%{x}<br>Employees=%{y}<extra></extra>",
         "legendgroup": "Louis Dreyfus",
         "marker": {
          "color": "#00cc96",
          "symbol": "circle"
         },
         "mode": "markers",
         "name": "Louis Dreyfus",
         "orientation": "v",
         "showlegend": true,
         "type": "scatter",
         "x": [
          293
         ],
         "xaxis": "x",
         "y": [
          17017
         ],
         "yaxis": "y"
        },
        {
         "hovertemplate": "Name=Bank of Montreal<br>Rank=%{x}<br>Employees=%{y}<extra></extra>",
         "legendgroup": "Bank of Montreal",
         "marker": {
          "color": "#ab63fa",
          "symbol": "circle"
         },
         "mode": "markers",
         "name": "Bank of Montreal",
         "orientation": "v",
         "showlegend": true,
         "type": "scatter",
         "x": [
          294
         ],
         "xaxis": "x",
         "y": [
          55767
         ],
         "yaxis": "y"
        },
        {
         "hovertemplate": "Name=ZF Friedrichshafen<br>Rank=%{x}<br>Employees=%{y}<extra></extra>",
         "legendgroup": "ZF Friedrichshafen",
         "marker": {
          "color": "#FFA15A",
          "symbol": "circle"
         },
         "mode": "markers",
         "name": "ZF Friedrichshafen",
         "orientation": "v",
         "showlegend": true,
         "type": "scatter",
         "x": [
          295
         ],
         "xaxis": "x",
         "y": [
          165938
         ],
         "yaxis": "y"
        },
        {
         "hovertemplate": "Name=KB Financial Group<br>Rank=%{x}<br>Employees=%{y}<extra></extra>",
         "legendgroup": "KB Financial Group",
         "marker": {
          "color": "#19d3f3",
          "symbol": "circle"
         },
         "mode": "markers",
         "name": "KB Financial Group",
         "orientation": "v",
         "showlegend": true,
         "type": "scatter",
         "x": [
          296
         ],
         "xaxis": "x",
         "y": [
          25003
         ],
         "yaxis": "y"
        },
        {
         "hovertemplate": "Name=Sanofi<br>Rank=%{x}<br>Employees=%{y}<extra></extra>",
         "legendgroup": "Sanofi",
         "marker": {
          "color": "#FF6692",
          "symbol": "circle"
         },
         "mode": "markers",
         "name": "Sanofi",
         "orientation": "v",
         "showlegend": true,
         "type": "scatter",
         "x": [
          297
         ],
         "xaxis": "x",
         "y": [
          86088
         ],
         "yaxis": "y"
        },
        {
         "hovertemplate": "Name=Marubeni<br>Rank=%{x}<br>Employees=%{y}<extra></extra>",
         "legendgroup": "Marubeni",
         "marker": {
          "color": "#B6E880",
          "symbol": "circle"
         },
         "mode": "markers",
         "name": "Marubeni",
         "orientation": "v",
         "showlegend": true,
         "type": "scatter",
         "x": [
          298
         ],
         "xaxis": "x",
         "y": [
          53804
         ],
         "yaxis": "y"
        },
        {
         "hovertemplate": "Name=Oracle<br>Rank=%{x}<br>Employees=%{y}<extra></extra>",
         "legendgroup": "Oracle",
         "marker": {
          "color": "#FF97FF",
          "symbol": "circle"
         },
         "mode": "markers",
         "name": "Oracle",
         "orientation": "v",
         "showlegend": true,
         "type": "scatter",
         "x": [
          299
         ],
         "xaxis": "x",
         "y": [
          164000
         ],
         "yaxis": "y"
        },
        {
         "hovertemplate": "Name=Jinchuan Group<br>Rank=%{x}<br>Employees=%{y}<extra></extra>",
         "legendgroup": "Jinchuan Group",
         "marker": {
          "color": "#FECB52",
          "symbol": "circle"
         },
         "mode": "markers",
         "name": "Jinchuan Group",
         "orientation": "v",
         "showlegend": true,
         "type": "scatter",
         "x": [
          300
         ],
         "xaxis": "x",
         "y": [
          31025
         ],
         "yaxis": "y"
        },
        {
         "hovertemplate": "Name=Swiss Re<br>Rank=%{x}<br>Employees=%{y}<extra></extra>",
         "legendgroup": "Swiss Re",
         "marker": {
          "color": "#636efa",
          "symbol": "circle"
         },
         "mode": "markers",
         "name": "Swiss Re",
         "orientation": "v",
         "showlegend": true,
         "type": "scatter",
         "x": [
          301
         ],
         "xaxis": "x",
         "y": [
          14719
         ],
         "yaxis": "y"
        },
        {
         "hovertemplate": "Name=Chubb<br>Rank=%{x}<br>Employees=%{y}<extra></extra>",
         "legendgroup": "Chubb",
         "marker": {
          "color": "#EF553B",
          "symbol": "circle"
         },
         "mode": "markers",
         "name": "Chubb",
         "orientation": "v",
         "showlegend": true,
         "type": "scatter",
         "x": [
          302
         ],
         "xaxis": "x",
         "y": [
          40000
         ],
         "yaxis": "y"
        },
        {
         "hovertemplate": "Name=Enterprise Products Partners<br>Rank=%{x}<br>Employees=%{y}<extra></extra>",
         "legendgroup": "Enterprise Products Partners",
         "marker": {
          "color": "#00cc96",
          "symbol": "circle"
         },
         "mode": "markers",
         "name": "Enterprise Products Partners",
         "orientation": "v",
         "showlegend": true,
         "type": "scatter",
         "x": [
          303
         ],
         "xaxis": "x",
         "y": [
          7500
         ],
         "yaxis": "y"
        },
        {
         "hovertemplate": "Name=Capital One Financial<br>Rank=%{x}<br>Employees=%{y}<extra></extra>",
         "legendgroup": "Capital One Financial",
         "marker": {
          "color": "#ab63fa",
          "symbol": "circle"
         },
         "mode": "markers",
         "name": "Capital One Financial",
         "orientation": "v",
         "showlegend": true,
         "type": "scatter",
         "x": [
          304
         ],
         "xaxis": "x",
         "y": [
          51987
         ],
         "yaxis": "y"
        },
        {
         "hovertemplate": "Name=Denso<br>Rank=%{x}<br>Employees=%{y}<extra></extra>",
         "legendgroup": "Denso",
         "marker": {
          "color": "#FFA15A",
          "symbol": "circle"
         },
         "mode": "markers",
         "name": "Denso",
         "orientation": "v",
         "showlegend": true,
         "type": "scatter",
         "x": [
          305
         ],
         "xaxis": "x",
         "y": [
          162029
         ],
         "yaxis": "y"
        },
        {
         "hovertemplate": "Name=HDFC Bank<br>Rank=%{x}<br>Employees=%{y}<extra></extra>",
         "legendgroup": "HDFC Bank",
         "marker": {
          "color": "#19d3f3",
          "symbol": "circle"
         },
         "mode": "markers",
         "name": "HDFC Bank",
         "orientation": "v",
         "showlegend": true,
         "type": "scatter",
         "x": [
          306
         ],
         "xaxis": "x",
         "y": [
          213527
         ],
         "yaxis": "y"
        },
        {
         "hovertemplate": "Name=China National Building Material Group<br>Rank=%{x}<br>Employees=%{y}<extra></extra>",
         "legendgroup": "China National Building Material Group",
         "marker": {
          "color": "#FF6692",
          "symbol": "circle"
         },
         "mode": "markers",
         "name": "China National Building Material Group",
         "orientation": "v",
         "showlegend": true,
         "type": "scatter",
         "x": [
          307
         ],
         "xaxis": "x",
         "y": [
          206518
         ],
         "yaxis": "y"
        },
        {
         "hovertemplate": "Name=Veolia Environnement<br>Rank=%{x}<br>Employees=%{y}<extra></extra>",
         "legendgroup": "Veolia Environnement",
         "marker": {
          "color": "#B6E880",
          "symbol": "circle"
         },
         "mode": "markers",
         "name": "Veolia Environnement",
         "orientation": "v",
         "showlegend": true,
         "type": "scatter",
         "x": [
          308
         ],
         "xaxis": "x",
         "y": [
          218288
         ],
         "yaxis": "y"
        },
        {
         "hovertemplate": "Name=China State Shipbuilding<br>Rank=%{x}<br>Employees=%{y}<extra></extra>",
         "legendgroup": "China State Shipbuilding",
         "marker": {
          "color": "#FF97FF",
          "symbol": "circle"
         },
         "mode": "markers",
         "name": "China State Shipbuilding",
         "orientation": "v",
         "showlegend": true,
         "type": "scatter",
         "x": [
          309
         ],
         "xaxis": "x",
         "y": [
          196309
         ],
         "yaxis": "y"
        },
        {
         "hovertemplate": "Name=Vodafone Group<br>Rank=%{x}<br>Employees=%{y}<extra></extra>",
         "legendgroup": "Vodafone Group",
         "marker": {
          "color": "#FECB52",
          "symbol": "circle"
         },
         "mode": "markers",
         "name": "Vodafone Group",
         "orientation": "v",
         "showlegend": true,
         "type": "scatter",
         "x": [
          310
         ],
         "xaxis": "x",
         "y": [
          96282
         ],
         "yaxis": "y"
        },
        {
         "hovertemplate": "Name=Plains GP Holdings<br>Rank=%{x}<br>Employees=%{y}<extra></extra>",
         "legendgroup": "Plains GP Holdings",
         "marker": {
          "color": "#636efa",
          "symbol": "circle"
         },
         "mode": "markers",
         "name": "Plains GP Holdings",
         "orientation": "v",
         "showlegend": true,
         "type": "scatter",
         "x": [
          311
         ],
         "xaxis": "x",
         "y": [
          4200
         ],
         "yaxis": "y"
        },
        {
         "hovertemplate": "Name=Landesbank Baden-Württemberg<br>Rank=%{x}<br>Employees=%{y}<extra></extra>",
         "legendgroup": "Landesbank Baden-Württemberg",
         "marker": {
          "color": "#EF553B",
          "symbol": "circle"
         },
         "mode": "markers",
         "name": "Landesbank Baden-Württemberg",
         "orientation": "v",
         "showlegend": true,
         "type": "scatter",
         "x": [
          312
         ],
         "xaxis": "x",
         "y": [
          10434
         ],
         "yaxis": "y"
        },
        {
         "hovertemplate": "Name=EXOR Group<br>Rank=%{x}<br>Employees=%{y}<extra></extra>",
         "legendgroup": "EXOR Group",
         "marker": {
          "color": "#00cc96",
          "symbol": "circle"
         },
         "mode": "markers",
         "name": "EXOR Group",
         "orientation": "v",
         "showlegend": true,
         "type": "scatter",
         "x": [
          313
         ],
         "xaxis": "x",
         "y": [
          83773
         ],
         "yaxis": "y"
        },
        {
         "hovertemplate": "Name=Jingye Group<br>Rank=%{x}<br>Employees=%{y}<extra></extra>",
         "legendgroup": "Jingye Group",
         "marker": {
          "color": "#ab63fa",
          "symbol": "circle"
         },
         "mode": "markers",
         "name": "Jingye Group",
         "orientation": "v",
         "showlegend": true,
         "type": "scatter",
         "x": [
          314
         ],
         "xaxis": "x",
         "y": [
          33000
         ],
         "yaxis": "y"
        },
        {
         "hovertemplate": "Name=UniCredit Group<br>Rank=%{x}<br>Employees=%{y}<extra></extra>",
         "legendgroup": "UniCredit Group",
         "marker": {
          "color": "#FFA15A",
          "symbol": "circle"
         },
         "mode": "markers",
         "name": "UniCredit Group",
         "orientation": "v",
         "showlegend": true,
         "type": "scatter",
         "x": [
          315
         ],
         "xaxis": "x",
         "y": [
          70752
         ],
         "yaxis": "y"
        },
        {
         "hovertemplate": "Name=Energie Baden-Württemberg<br>Rank=%{x}<br>Employees=%{y}<extra></extra>",
         "legendgroup": "Energie Baden-Württemberg",
         "marker": {
          "color": "#19d3f3",
          "symbol": "circle"
         },
         "mode": "markers",
         "name": "Energie Baden-Württemberg",
         "orientation": "v",
         "showlegend": true,
         "type": "scatter",
         "x": [
          316
         ],
         "xaxis": "x",
         "y": [
          26943
         ],
         "yaxis": "y"
        },
        {
         "hovertemplate": "Name=Tokyo Electric Power<br>Rank=%{x}<br>Employees=%{y}<extra></extra>",
         "legendgroup": "Tokyo Electric Power",
         "marker": {
          "color": "#FF6692",
          "symbol": "circle"
         },
         "mode": "markers",
         "name": "Tokyo Electric Power",
         "orientation": "v",
         "showlegend": true,
         "type": "scatter",
         "x": [
          317
         ],
         "xaxis": "x",
         "y": [
          38183
         ],
         "yaxis": "y"
        },
        {
         "hovertemplate": "Name=Sumitomo<br>Rank=%{x}<br>Employees=%{y}<extra></extra>",
         "legendgroup": "Sumitomo",
         "marker": {
          "color": "#B6E880",
          "symbol": "circle"
         },
         "mode": "markers",
         "name": "Sumitomo",
         "orientation": "v",
         "showlegend": true,
         "type": "scatter",
         "x": [
          318
         ],
         "xaxis": "x",
         "y": [
          79692
         ],
         "yaxis": "y"
        },
        {
         "hovertemplate": "Name=World Kinect<br>Rank=%{x}<br>Employees=%{y}<extra></extra>",
         "legendgroup": "World Kinect",
         "marker": {
          "color": "#FF97FF",
          "symbol": "circle"
         },
         "mode": "markers",
         "name": "World Kinect",
         "orientation": "v",
         "showlegend": true,
         "type": "scatter",
         "x": [
          319
         ],
         "xaxis": "x",
         "y": [
          5289
         ],
         "yaxis": "y"
        },
        {
         "hovertemplate": "Name=Orange<br>Rank=%{x}<br>Employees=%{y}<extra></extra>",
         "legendgroup": "Orange",
         "marker": {
          "color": "#FECB52",
          "symbol": "circle"
         },
         "mode": "markers",
         "name": "Orange",
         "orientation": "v",
         "showlegend": true,
         "type": "scatter",
         "x": [
          320
         ],
         "xaxis": "x",
         "y": [
          127109
         ],
         "yaxis": "y"
        },
        {
         "hovertemplate": "Name=HD Hyundai<br>Rank=%{x}<br>Employees=%{y}<extra></extra>",
         "legendgroup": "HD Hyundai",
         "marker": {
          "color": "#636efa",
          "symbol": "circle"
         },
         "mode": "markers",
         "name": "HD Hyundai",
         "orientation": "v",
         "showlegend": true,
         "type": "scatter",
         "x": [
          321
         ],
         "xaxis": "x",
         "y": [
          34097
         ],
         "yaxis": "y"
        },
        {
         "hovertemplate": "Name=Ingka Group<br>Rank=%{x}<br>Employees=%{y}<extra></extra>",
         "legendgroup": "Ingka Group",
         "marker": {
          "color": "#EF553B",
          "symbol": "circle"
         },
         "mode": "markers",
         "name": "Ingka Group",
         "orientation": "v",
         "showlegend": true,
         "type": "scatter",
         "x": [
          322
         ],
         "xaxis": "x",
         "y": [
          165353
         ],
         "yaxis": "y"
        },
        {
         "hovertemplate": "Name=ANZ Group Holdings<br>Rank=%{x}<br>Employees=%{y}<extra></extra>",
         "legendgroup": "ANZ Group Holdings",
         "marker": {
          "color": "#00cc96",
          "symbol": "circle"
         },
         "mode": "markers",
         "name": "ANZ Group Holdings",
         "orientation": "v",
         "showlegend": true,
         "type": "scatter",
         "x": [
          323
         ],
         "xaxis": "x",
         "y": [
          40342
         ],
         "yaxis": "y"
        },
        {
         "hovertemplate": "Name=AIG<br>Rank=%{x}<br>Employees=%{y}<extra></extra>",
         "legendgroup": "AIG",
         "marker": {
          "color": "#ab63fa",
          "symbol": "circle"
         },
         "mode": "markers",
         "name": "AIG",
         "orientation": "v",
         "showlegend": true,
         "type": "scatter",
         "x": [
          324
         ],
         "xaxis": "x",
         "y": [
          25200
         ],
         "yaxis": "y"
        },
        {
         "hovertemplate": "Name=SoftBank Group<br>Rank=%{x}<br>Employees=%{y}<extra></extra>",
         "legendgroup": "SoftBank Group",
         "marker": {
          "color": "#FFA15A",
          "symbol": "circle"
         },
         "mode": "markers",
         "name": "SoftBank Group",
         "orientation": "v",
         "showlegend": true,
         "type": "scatter",
         "x": [
          325
         ],
         "xaxis": "x",
         "y": [
          65352
         ],
         "yaxis": "y"
        },
        {
         "hovertemplate": "Name=Sinomach<br>Rank=%{x}<br>Employees=%{y}<extra></extra>",
         "legendgroup": "Sinomach",
         "marker": {
          "color": "#19d3f3",
          "symbol": "circle"
         },
         "mode": "markers",
         "name": "Sinomach",
         "orientation": "v",
         "showlegend": true,
         "type": "scatter",
         "x": [
          326
         ],
         "xaxis": "x",
         "y": [
          117357
         ],
         "yaxis": "y"
        },
        {
         "hovertemplate": "Name=Talanx<br>Rank=%{x}<br>Employees=%{y}<extra></extra>",
         "legendgroup": "Talanx",
         "marker": {
          "color": "#FF6692",
          "symbol": "circle"
         },
         "mode": "markers",
         "name": "Talanx",
         "orientation": "v",
         "showlegend": true,
         "type": "scatter",
         "x": [
          327
         ],
         "xaxis": "x",
         "y": [
          27863
         ],
         "yaxis": "y"
        },
        {
         "hovertemplate": "Name=America Movil<br>Rank=%{x}<br>Employees=%{y}<extra></extra>",
         "legendgroup": "America Movil",
         "marker": {
          "color": "#B6E880",
          "symbol": "circle"
         },
         "mode": "markers",
         "name": "America Movil",
         "orientation": "v",
         "showlegend": true,
         "type": "scatter",
         "x": [
          328
         ],
         "xaxis": "x",
         "y": [
          176083
         ],
         "yaxis": "y"
        },
        {
         "hovertemplate": "Name=AstraZeneca<br>Rank=%{x}<br>Employees=%{y}<extra></extra>",
         "legendgroup": "AstraZeneca",
         "marker": {
          "color": "#FF97FF",
          "symbol": "circle"
         },
         "mode": "markers",
         "name": "AstraZeneca",
         "orientation": "v",
         "showlegend": true,
         "type": "scatter",
         "x": [
          329
         ],
         "xaxis": "x",
         "y": [
          89900
         ],
         "yaxis": "y"
        },
        {
         "hovertemplate": "Name=Zhejiang Communications Investment Group<br>Rank=%{x}<br>Employees=%{y}<extra></extra>",
         "legendgroup": "Zhejiang Communications Investment Group",
         "marker": {
          "color": "#FECB52",
          "symbol": "circle"
         },
         "mode": "markers",
         "name": "Zhejiang Communications Investment Group",
         "orientation": "v",
         "showlegend": true,
         "type": "scatter",
         "x": [
          330
         ],
         "xaxis": "x",
         "y": [
          43266
         ],
         "yaxis": "y"
        },
        {
         "hovertemplate": "Name=China Pacific Insurance (Group)<br>Rank=%{x}<br>Employees=%{y}<extra></extra>",
         "legendgroup": "China Pacific Insurance (Group)",
         "marker": {
          "color": "#636efa",
          "symbol": "circle"
         },
         "mode": "markers",
         "name": "China Pacific Insurance (Group)",
         "orientation": "v",
         "showlegend": true,
         "type": "scatter",
         "x": [
          331
         ],
         "xaxis": "x",
         "y": [
          98732
         ],
         "yaxis": "y"
        },
        {
         "hovertemplate": "Name=Coca-Cola<br>Rank=%{x}<br>Employees=%{y}<extra></extra>",
         "legendgroup": "Coca-Cola",
         "marker": {
          "color": "#EF553B",
          "symbol": "circle"
         },
         "mode": "markers",
         "name": "Coca-Cola",
         "orientation": "v",
         "showlegend": true,
         "type": "scatter",
         "x": [
          332
         ],
         "xaxis": "x",
         "y": [
          79100
         ],
         "yaxis": "y"
        },
        {
         "hovertemplate": "Name=TIAA<br>Rank=%{x}<br>Employees=%{y}<extra></extra>",
         "legendgroup": "TIAA",
         "marker": {
          "color": "#00cc96",
          "symbol": "circle"
         },
         "mode": "markers",
         "name": "TIAA",
         "orientation": "v",
         "showlegend": true,
         "type": "scatter",
         "x": [
          333
         ],
         "xaxis": "x",
         "y": [
          16023
         ],
         "yaxis": "y"
        },
        {
         "hovertemplate": "Name=Caixa Economica Federal<br>Rank=%{x}<br>Employees=%{y}<extra></extra>",
         "legendgroup": "Caixa Economica Federal",
         "marker": {
          "color": "#ab63fa",
          "symbol": "circle"
         },
         "mode": "markers",
         "name": "Caixa Economica Federal",
         "orientation": "v",
         "showlegend": true,
         "type": "scatter",
         "x": [
          334
         ],
         "xaxis": "x",
         "y": [
          86962
         ],
         "yaxis": "y"
        },
        {
         "hovertemplate": "Name=CHS<br>Rank=%{x}<br>Employees=%{y}<extra></extra>",
         "legendgroup": "CHS",
         "marker": {
          "color": "#FFA15A",
          "symbol": "circle"
         },
         "mode": "markers",
         "name": "CHS",
         "orientation": "v",
         "showlegend": true,
         "type": "scatter",
         "x": [
          335
         ],
         "xaxis": "x",
         "y": [
          10609
         ],
         "yaxis": "y"
        },
        {
         "hovertemplate": "Name=China Huadian<br>Rank=%{x}<br>Employees=%{y}<extra></extra>",
         "legendgroup": "China Huadian",
         "marker": {
          "color": "#19d3f3",
          "symbol": "circle"
         },
         "mode": "markers",
         "name": "China Huadian",
         "orientation": "v",
         "showlegend": true,
         "type": "scatter",
         "x": [
          336
         ],
         "xaxis": "x",
         "y": [
          93459
         ],
         "yaxis": "y"
        },
        {
         "hovertemplate": "Name=Crédit Mutuel Group<br>Rank=%{x}<br>Employees=%{y}<extra></extra>",
         "legendgroup": "Crédit Mutuel Group",
         "marker": {
          "color": "#FF6692",
          "symbol": "circle"
         },
         "mode": "markers",
         "name": "Crédit Mutuel Group",
         "orientation": "v",
         "showlegend": true,
         "type": "scatter",
         "x": [
          337
         ],
         "xaxis": "x",
         "y": [
          77283
         ],
         "yaxis": "y"
        },
        {
         "hovertemplate": "Name=MS&AD Insurance Group Holdings<br>Rank=%{x}<br>Employees=%{y}<extra></extra>",
         "legendgroup": "MS&AD Insurance Group Holdings",
         "marker": {
          "color": "#B6E880",
          "symbol": "circle"
         },
         "mode": "markers",
         "name": "MS&AD Insurance Group Holdings",
         "orientation": "v",
         "showlegend": true,
         "type": "scatter",
         "x": [
          338
         ],
         "xaxis": "x",
         "y": [
          38391
         ],
         "yaxis": "y"
        },
        {
         "hovertemplate": "Name=Hyundai Mobis<br>Rank=%{x}<br>Employees=%{y}<extra></extra>",
         "legendgroup": "Hyundai Mobis",
         "marker": {
          "color": "#FF97FF",
          "symbol": "circle"
         },
         "mode": "markers",
         "name": "Hyundai Mobis",
         "orientation": "v",
         "showlegend": true,
         "type": "scatter",
         "x": [
          339
         ],
         "xaxis": "x",
         "y": [
          46183
         ],
         "yaxis": "y"
        },
        {
         "hovertemplate": "Name=Susun Construction Group<br>Rank=%{x}<br>Employees=%{y}<extra></extra>",
         "legendgroup": "Susun Construction Group",
         "marker": {
          "color": "#FECB52",
          "symbol": "circle"
         },
         "mode": "markers",
         "name": "Susun Construction Group",
         "orientation": "v",
         "showlegend": true,
         "type": "scatter",
         "x": [
          340
         ],
         "xaxis": "x",
         "y": [
          141256
         ],
         "yaxis": "y"
        },
        {
         "hovertemplate": "Name=SNCF Group<br>Rank=%{x}<br>Employees=%{y}<extra></extra>",
         "legendgroup": "SNCF Group",
         "marker": {
          "color": "#636efa",
          "symbol": "circle"
         },
         "mode": "markers",
         "name": "SNCF Group",
         "orientation": "v",
         "showlegend": true,
         "type": "scatter",
         "x": [
          341
         ],
         "xaxis": "x",
         "y": [
          282786
         ],
         "yaxis": "y"
        },
        {
         "hovertemplate": "Name=Bristol-Myers Squibb<br>Rank=%{x}<br>Employees=%{y}<extra></extra>",
         "legendgroup": "Bristol-Myers Squibb",
         "marker": {
          "color": "#EF553B",
          "symbol": "circle"
         },
         "mode": "markers",
         "name": "Bristol-Myers Squibb",
         "orientation": "v",
         "showlegend": true,
         "type": "scatter",
         "x": [
          342
         ],
         "xaxis": "x",
         "y": [
          34100
         ],
         "yaxis": "y"
        },
        {
         "hovertemplate": "Name=China South Industries Group<br>Rank=%{x}<br>Employees=%{y}<extra></extra>",
         "legendgroup": "China South Industries Group",
         "marker": {
          "color": "#00cc96",
          "symbol": "circle"
         },
         "mode": "markers",
         "name": "China South Industries Group",
         "orientation": "v",
         "showlegend": true,
         "type": "scatter",
         "x": [
          343
         ],
         "xaxis": "x",
         "y": [
          159837
         ],
         "yaxis": "y"
        },
        {
         "hovertemplate": "Name=Continental<br>Rank=%{x}<br>Employees=%{y}<extra></extra>",
         "legendgroup": "Continental",
         "marker": {
          "color": "#ab63fa",
          "symbol": "circle"
         },
         "mode": "markers",
         "name": "Continental",
         "orientation": "v",
         "showlegend": true,
         "type": "scatter",
         "x": [
          344
         ],
         "xaxis": "x",
         "y": [
          202763
         ],
         "yaxis": "y"
        },
        {
         "hovertemplate": "Name=Raizen<br>Rank=%{x}<br>Employees=%{y}<extra></extra>",
         "legendgroup": "Raizen",
         "marker": {
          "color": "#FFA15A",
          "symbol": "circle"
         },
         "mode": "markers",
         "name": "Raizen",
         "orientation": "v",
         "showlegend": true,
         "type": "scatter",
         "x": [
          345
         ],
         "xaxis": "x",
         "y": [
          45417
         ],
         "yaxis": "y"
        },
        {
         "hovertemplate": "Name=Dow<br>Rank=%{x}<br>Employees=%{y}<extra></extra>",
         "legendgroup": "Dow",
         "marker": {
          "color": "#19d3f3",
          "symbol": "circle"
         },
         "mode": "markers",
         "name": "Dow",
         "orientation": "v",
         "showlegend": true,
         "type": "scatter",
         "x": [
          346
         ],
         "xaxis": "x",
         "y": [
          35900
         ],
         "yaxis": "y"
        },
        {
         "hovertemplate": "Name=George Weston<br>Rank=%{x}<br>Employees=%{y}<extra></extra>",
         "legendgroup": "George Weston",
         "marker": {
          "color": "#FF6692",
          "symbol": "circle"
         },
         "mode": "markers",
         "name": "George Weston",
         "orientation": "v",
         "showlegend": true,
         "type": "scatter",
         "x": [
          347
         ],
         "xaxis": "x",
         "y": [
          220280
         ],
         "yaxis": "y"
        },
        {
         "hovertemplate": "Name=L'Oréal<br>Rank=%{x}<br>Employees=%{y}<extra></extra>",
         "legendgroup": "L'Oréal",
         "marker": {
          "color": "#B6E880",
          "symbol": "circle"
         },
         "mode": "markers",
         "name": "L'Oréal",
         "orientation": "v",
         "showlegend": true,
         "type": "scatter",
         "x": [
          348
         ],
         "xaxis": "x",
         "y": [
          94605
         ],
         "yaxis": "y"
        },
        {
         "hovertemplate": "Name=Fomento Economico Mexicano<br>Rank=%{x}<br>Employees=%{y}<extra></extra>",
         "legendgroup": "Fomento Economico Mexicano",
         "marker": {
          "color": "#FF97FF",
          "symbol": "circle"
         },
         "mode": "markers",
         "name": "Fomento Economico Mexicano",
         "orientation": "v",
         "showlegend": true,
         "type": "scatter",
         "x": [
          349
         ],
         "xaxis": "x",
         "y": [
          392932
         ],
         "yaxis": "y"
        },
        {
         "hovertemplate": "Name=Telefónica<br>Rank=%{x}<br>Employees=%{y}<extra></extra>",
         "legendgroup": "Telefónica",
         "marker": {
          "color": "#FECB52",
          "symbol": "circle"
         },
         "mode": "markers",
         "name": "Telefónica",
         "orientation": "v",
         "showlegend": true,
         "type": "scatter",
         "x": [
          350
         ],
         "xaxis": "x",
         "y": [
          104142
         ],
         "yaxis": "y"
        },
        {
         "hovertemplate": "Name=China Minsheng Banking<br>Rank=%{x}<br>Employees=%{y}<extra></extra>",
         "legendgroup": "China Minsheng Banking",
         "marker": {
          "color": "#636efa",
          "symbol": "circle"
         },
         "mode": "markers",
         "name": "China Minsheng Banking",
         "orientation": "v",
         "showlegend": true,
         "type": "scatter",
         "x": [
          351
         ],
         "xaxis": "x",
         "y": [
          63742
         ],
         "yaxis": "y"
        },
        {
         "hovertemplate": "Name=Best Buy<br>Rank=%{x}<br>Employees=%{y}<extra></extra>",
         "legendgroup": "Best Buy",
         "marker": {
          "color": "#EF553B",
          "symbol": "circle"
         },
         "mode": "markers",
         "name": "Best Buy",
         "orientation": "v",
         "showlegend": true,
         "type": "scatter",
         "x": [
          352
         ],
         "xaxis": "x",
         "y": [
          85000
         ],
         "yaxis": "y"
        },
        {
         "hovertemplate": "Name=Woolworths Group<br>Rank=%{x}<br>Employees=%{y}<extra></extra>",
         "legendgroup": "Woolworths Group",
         "marker": {
          "color": "#00cc96",
          "symbol": "circle"
         },
         "mode": "markers",
         "name": "Woolworths Group",
         "orientation": "v",
         "showlegend": true,
         "type": "scatter",
         "x": [
          353
         ],
         "xaxis": "x",
         "y": [
          200364
         ],
         "yaxis": "y"
        },
        {
         "hovertemplate": "Name=Shanghai Construction Group<br>Rank=%{x}<br>Employees=%{y}<extra></extra>",
         "legendgroup": "Shanghai Construction Group",
         "marker": {
          "color": "#ab63fa",
          "symbol": "circle"
         },
         "mode": "markers",
         "name": "Shanghai Construction Group",
         "orientation": "v",
         "showlegend": true,
         "type": "scatter",
         "x": [
          354
         ],
         "xaxis": "x",
         "y": [
          51272
         ],
         "yaxis": "y"
        },
        {
         "hovertemplate": "Name=LG Chem<br>Rank=%{x}<br>Employees=%{y}<extra></extra>",
         "legendgroup": "LG Chem",
         "marker": {
          "color": "#FFA15A",
          "symbol": "circle"
         },
         "mode": "markers",
         "name": "LG Chem",
         "orientation": "v",
         "showlegend": true,
         "type": "scatter",
         "x": [
          355
         ],
         "xaxis": "x",
         "y": [
          40000
         ],
         "yaxis": "y"
        },
        {
         "hovertemplate": "Name=Thermo Fisher Scientific<br>Rank=%{x}<br>Employees=%{y}<extra></extra>",
         "legendgroup": "Thermo Fisher Scientific",
         "marker": {
          "color": "#19d3f3",
          "symbol": "circle"
         },
         "mode": "markers",
         "name": "Thermo Fisher Scientific",
         "orientation": "v",
         "showlegend": true,
         "type": "scatter",
         "x": [
          356
         ],
         "xaxis": "x",
         "y": [
          122000
         ],
         "yaxis": "y"
        },
        {
         "hovertemplate": "Name=Magna International<br>Rank=%{x}<br>Employees=%{y}<extra></extra>",
         "legendgroup": "Magna International",
         "marker": {
          "color": "#FF6692",
          "symbol": "circle"
         },
         "mode": "markers",
         "name": "Magna International",
         "orientation": "v",
         "showlegend": true,
         "type": "scatter",
         "x": [
          357
         ],
         "xaxis": "x",
         "y": [
          166000
         ],
         "yaxis": "y"
        },
        {
         "hovertemplate": "Name=OMV Group<br>Rank=%{x}<br>Employees=%{y}<extra></extra>",
         "legendgroup": "OMV Group",
         "marker": {
          "color": "#B6E880",
          "symbol": "circle"
         },
         "mode": "markers",
         "name": "OMV Group",
         "orientation": "v",
         "showlegend": true,
         "type": "scatter",
         "x": [
          358
         ],
         "xaxis": "x",
         "y": [
          20592
         ],
         "yaxis": "y"
        },
        {
         "hovertemplate": "Name=Massachusetts Mutual Life Insurance<br>Rank=%{x}<br>Employees=%{y}<extra></extra>",
         "legendgroup": "Massachusetts Mutual Life Insurance",
         "marker": {
          "color": "#FF97FF",
          "symbol": "circle"
         },
         "mode": "markers",
         "name": "Massachusetts Mutual Life Insurance",
         "orientation": "v",
         "showlegend": true,
         "type": "scatter",
         "x": [
          359
         ],
         "xaxis": "x",
         "y": [
          11323
         ],
         "yaxis": "y"
        },
        {
         "hovertemplate": "Name=USAA<br>Rank=%{x}<br>Employees=%{y}<extra></extra>",
         "legendgroup": "USAA",
         "marker": {
          "color": "#FECB52",
          "symbol": "circle"
         },
         "mode": "markers",
         "name": "USAA",
         "orientation": "v",
         "showlegend": true,
         "type": "scatter",
         "x": [
          360
         ],
         "xaxis": "x",
         "y": [
          37376
         ],
         "yaxis": "y"
        },
        {
         "hovertemplate": "Name=Guangzhou Municipal Construction Group<br>Rank=%{x}<br>Employees=%{y}<extra></extra>",
         "legendgroup": "Guangzhou Municipal Construction Group",
         "marker": {
          "color": "#636efa",
          "symbol": "circle"
         },
         "mode": "markers",
         "name": "Guangzhou Municipal Construction Group",
         "orientation": "v",
         "showlegend": true,
         "type": "scatter",
         "x": [
          361
         ],
         "xaxis": "x",
         "y": [
          50608
         ],
         "yaxis": "y"
        },
        {
         "hovertemplate": "Name=General Dynamics<br>Rank=%{x}<br>Employees=%{y}<extra></extra>",
         "legendgroup": "General Dynamics",
         "marker": {
          "color": "#EF553B",
          "symbol": "circle"
         },
         "mode": "markers",
         "name": "General Dynamics",
         "orientation": "v",
         "showlegend": true,
         "type": "scatter",
         "x": [
          362
         ],
         "xaxis": "x",
         "y": [
          111600
         ],
         "yaxis": "y"
        },
        {
         "hovertemplate": "Name=Vale<br>Rank=%{x}<br>Employees=%{y}<extra></extra>",
         "legendgroup": "Vale",
         "marker": {
          "color": "#00cc96",
          "symbol": "circle"
         },
         "mode": "markers",
         "name": "Vale",
         "orientation": "v",
         "showlegend": true,
         "type": "scatter",
         "x": [
          363
         ],
         "xaxis": "x",
         "y": [
          66807
         ],
         "yaxis": "y"
        },
        {
         "hovertemplate": "Name=Zijin Mining Group<br>Rank=%{x}<br>Employees=%{y}<extra></extra>",
         "legendgroup": "Zijin Mining Group",
         "marker": {
          "color": "#ab63fa",
          "symbol": "circle"
         },
         "mode": "markers",
         "name": "Zijin Mining Group",
         "orientation": "v",
         "showlegend": true,
         "type": "scatter",
         "x": [
          364
         ],
         "xaxis": "x",
         "y": [
          55239
         ],
         "yaxis": "y"
        },
        {
         "hovertemplate": "Name=Travelers<br>Rank=%{x}<br>Employees=%{y}<extra></extra>",
         "legendgroup": "Travelers",
         "marker": {
          "color": "#FFA15A",
          "symbol": "circle"
         },
         "mode": "markers",
         "name": "Travelers",
         "orientation": "v",
         "showlegend": true,
         "type": "scatter",
         "x": [
          365
         ],
         "xaxis": "x",
         "y": [
          33133
         ],
         "yaxis": "y"
        },
        {
         "hovertemplate": "Name=Warner Bros. Discovery<br>Rank=%{x}<br>Employees=%{y}<extra></extra>",
         "legendgroup": "Warner Bros. Discovery",
         "marker": {
          "color": "#19d3f3",
          "symbol": "circle"
         },
         "mode": "markers",
         "name": "Warner Bros. Discovery",
         "orientation": "v",
         "showlegend": true,
         "type": "scatter",
         "x": [
          366
         ],
         "xaxis": "x",
         "y": [
          35300
         ],
         "yaxis": "y"
        },
        {
         "hovertemplate": "Name=Canadian Imperial Bank of Commerce<br>Rank=%{x}<br>Employees=%{y}<extra></extra>",
         "legendgroup": "Canadian Imperial Bank of Commerce",
         "marker": {
          "color": "#FF6692",
          "symbol": "circle"
         },
         "mode": "markers",
         "name": "Canadian Imperial Bank of Commerce",
         "orientation": "v",
         "showlegend": true,
         "type": "scatter",
         "x": [
          367
         ],
         "xaxis": "x",
         "y": [
          48074
         ],
         "yaxis": "y"
        },
        {
         "hovertemplate": "Name=LyondellBasell Industries<br>Rank=%{x}<br>Employees=%{y}<extra></extra>",
         "legendgroup": "LyondellBasell Industries",
         "marker": {
          "color": "#B6E880",
          "symbol": "circle"
         },
         "mode": "markers",
         "name": "LyondellBasell Industries",
         "orientation": "v",
         "showlegend": true,
         "type": "scatter",
         "x": [
          368
         ],
         "xaxis": "x",
         "y": [
          20000
         ],
         "yaxis": "y"
        },
        {
         "hovertemplate": "Name=J. Sainsbury<br>Rank=%{x}<br>Employees=%{y}<extra></extra>",
         "legendgroup": "J. Sainsbury",
         "marker": {
          "color": "#FF97FF",
          "symbol": "circle"
         },
         "mode": "markers",
         "name": "J. Sainsbury",
         "orientation": "v",
         "showlegend": true,
         "type": "scatter",
         "x": [
          369
         ],
         "xaxis": "x",
         "y": [
          100000
         ],
         "yaxis": "y"
        },
        {
         "hovertemplate": "Name=Shenzhen Investment Holdings<br>Rank=%{x}<br>Employees=%{y}<extra></extra>",
         "legendgroup": "Shenzhen Investment Holdings",
         "marker": {
          "color": "#FECB52",
          "symbol": "circle"
         },
         "mode": "markers",
         "name": "Shenzhen Investment Holdings",
         "orientation": "v",
         "showlegend": true,
         "type": "scatter",
         "x": [
          370
         ],
         "xaxis": "x",
         "y": [
          103928
         ],
         "yaxis": "y"
        },
        {
         "hovertemplate": "Name=Ansteel Group<br>Rank=%{x}<br>Employees=%{y}<extra></extra>",
         "legendgroup": "Ansteel Group",
         "marker": {
          "color": "#636efa",
          "symbol": "circle"
         },
         "mode": "markers",
         "name": "Ansteel Group",
         "orientation": "v",
         "showlegend": true,
         "type": "scatter",
         "x": [
          371
         ],
         "xaxis": "x",
         "y": [
          149765
         ],
         "yaxis": "y"
        },
        {
         "hovertemplate": "Name=Hanwha<br>Rank=%{x}<br>Employees=%{y}<extra></extra>",
         "legendgroup": "Hanwha",
         "marker": {
          "color": "#EF553B",
          "symbol": "circle"
         },
         "mode": "markers",
         "name": "Hanwha",
         "orientation": "v",
         "showlegend": true,
         "type": "scatter",
         "x": [
          372
         ],
         "xaxis": "x",
         "y": [
          69345
         ],
         "yaxis": "y"
        },
        {
         "hovertemplate": "Name=U.S. Bancorp<br>Rank=%{x}<br>Employees=%{y}<extra></extra>",
         "legendgroup": "U.S. Bancorp",
         "marker": {
          "color": "#00cc96",
          "symbol": "circle"
         },
         "mode": "markers",
         "name": "U.S. Bancorp",
         "orientation": "v",
         "showlegend": true,
         "type": "scatter",
         "x": [
          373
         ],
         "xaxis": "x",
         "y": [
          75465
         ],
         "yaxis": "y"
        },
        {
         "hovertemplate": "Name=Lufthansa Group<br>Rank=%{x}<br>Employees=%{y}<extra></extra>",
         "legendgroup": "Lufthansa Group",
         "marker": {
          "color": "#ab63fa",
          "symbol": "circle"
         },
         "mode": "markers",
         "name": "Lufthansa Group",
         "orientation": "v",
         "showlegend": true,
         "type": "scatter",
         "x": [
          374
         ],
         "xaxis": "x",
         "y": [
          79759
         ],
         "yaxis": "y"
        },
        {
         "hovertemplate": "Name=Pegatron<br>Rank=%{x}<br>Employees=%{y}<extra></extra>",
         "legendgroup": "Pegatron",
         "marker": {
          "color": "#FFA15A",
          "symbol": "circle"
         },
         "mode": "markers",
         "name": "Pegatron",
         "orientation": "v",
         "showlegend": true,
         "type": "scatter",
         "x": [
          375
         ],
         "xaxis": "x",
         "y": [
          147360
         ],
         "yaxis": "y"
        },
        {
         "hovertemplate": "Name=Abbott Laboratories<br>Rank=%{x}<br>Employees=%{y}<extra></extra>",
         "legendgroup": "Abbott Laboratories",
         "marker": {
          "color": "#19d3f3",
          "symbol": "circle"
         },
         "mode": "markers",
         "name": "Abbott Laboratories",
         "orientation": "v",
         "showlegend": true,
         "type": "scatter",
         "x": [
          376
         ],
         "xaxis": "x",
         "y": [
          114000
         ],
         "yaxis": "y"
        },
        {
         "hovertemplate": "Name=ThyssenKrupp<br>Rank=%{x}<br>Employees=%{y}<extra></extra>",
         "legendgroup": "ThyssenKrupp",
         "marker": {
          "color": "#FF6692",
          "symbol": "circle"
         },
         "mode": "markers",
         "name": "ThyssenKrupp",
         "orientation": "v",
         "showlegend": true,
         "type": "scatter",
         "x": [
          377
         ],
         "xaxis": "x",
         "y": [
          99981
         ],
         "yaxis": "y"
        },
        {
         "hovertemplate": "Name=New Hope Holding Group<br>Rank=%{x}<br>Employees=%{y}<extra></extra>",
         "legendgroup": "New Hope Holding Group",
         "marker": {
          "color": "#B6E880",
          "symbol": "circle"
         },
         "mode": "markers",
         "name": "New Hope Holding Group",
         "orientation": "v",
         "showlegend": true,
         "type": "scatter",
         "x": [
          378
         ],
         "xaxis": "x",
         "y": [
          79066
         ],
         "yaxis": "y"
        },
        {
         "hovertemplate": "Name=KDDI<br>Rank=%{x}<br>Employees=%{y}<extra></extra>",
         "legendgroup": "KDDI",
         "marker": {
          "color": "#FF97FF",
          "symbol": "circle"
         },
         "mode": "markers",
         "name": "KDDI",
         "orientation": "v",
         "showlegend": true,
         "type": "scatter",
         "x": [
          379
         ],
         "xaxis": "x",
         "y": [
          61288
         ],
         "yaxis": "y"
        },
        {
         "hovertemplate": "Name=China National Nuclear<br>Rank=%{x}<br>Employees=%{y}<extra></extra>",
         "legendgroup": "China National Nuclear",
         "marker": {
          "color": "#FECB52",
          "symbol": "circle"
         },
         "mode": "markers",
         "name": "China National Nuclear",
         "orientation": "v",
         "showlegend": true,
         "type": "scatter",
         "x": [
          380
         ],
         "xaxis": "x",
         "y": [
          182750
         ],
         "yaxis": "y"
        },
        {
         "hovertemplate": "Name=Taikang Insurance Group<br>Rank=%{x}<br>Employees=%{y}<extra></extra>",
         "legendgroup": "Taikang Insurance Group",
         "marker": {
          "color": "#636efa",
          "symbol": "circle"
         },
         "mode": "markers",
         "name": "Taikang Insurance Group",
         "orientation": "v",
         "showlegend": true,
         "type": "scatter",
         "x": [
          381
         ],
         "xaxis": "x",
         "y": [
          55408
         ],
         "yaxis": "y"
        },
        {
         "hovertemplate": "Name=Northrop Grumman<br>Rank=%{x}<br>Employees=%{y}<extra></extra>",
         "legendgroup": "Northrop Grumman",
         "marker": {
          "color": "#EF553B",
          "symbol": "circle"
         },
         "mode": "markers",
         "name": "Northrop Grumman",
         "orientation": "v",
         "showlegend": true,
         "type": "scatter",
         "x": [
          382
         ],
         "xaxis": "x",
         "y": [
          101000
         ],
         "yaxis": "y"
        },
        {
         "hovertemplate": "Name=Jiangsu Shagang Group<br>Rank=%{x}<br>Employees=%{y}<extra></extra>",
         "legendgroup": "Jiangsu Shagang Group",
         "marker": {
          "color": "#00cc96",
          "symbol": "circle"
         },
         "mode": "markers",
         "name": "Jiangsu Shagang Group",
         "orientation": "v",
         "showlegend": true,
         "type": "scatter",
         "x": [
          383
         ],
         "xaxis": "x",
         "y": [
          44004
         ],
         "yaxis": "y"
        },
        {
         "hovertemplate": "Name=Meituan<br>Rank=%{x}<br>Employees=%{y}<extra></extra>",
         "legendgroup": "Meituan",
         "marker": {
          "color": "#ab63fa",
          "symbol": "circle"
         },
         "mode": "markers",
         "name": "Meituan",
         "orientation": "v",
         "showlegend": true,
         "type": "scatter",
         "x": [
          384
         ],
         "xaxis": "x",
         "y": [
          114860
         ],
         "yaxis": "y"
        },
        {
         "hovertemplate": "Name=Chery Holding Group<br>Rank=%{x}<br>Employees=%{y}<extra></extra>",
         "legendgroup": "Chery Holding Group",
         "marker": {
          "color": "#FFA15A",
          "symbol": "circle"
         },
         "mode": "markers",
         "name": "Chery Holding Group",
         "orientation": "v",
         "showlegend": true,
         "type": "scatter",
         "x": [
          385
         ],
         "xaxis": "x",
         "y": [
          56584
         ],
         "yaxis": "y"
        },
        {
         "hovertemplate": "Name=Inditex<br>Rank=%{x}<br>Employees=%{y}<extra></extra>",
         "legendgroup": "Inditex",
         "marker": {
          "color": "#19d3f3",
          "symbol": "circle"
         },
         "mode": "markers",
         "name": "Inditex",
         "orientation": "v",
         "showlegend": true,
         "type": "scatter",
         "x": [
          386
         ],
         "xaxis": "x",
         "y": [
          114510
         ],
         "yaxis": "y"
        },
        {
         "hovertemplate": "Name=Schneider Electric<br>Rank=%{x}<br>Employees=%{y}<extra></extra>",
         "legendgroup": "Schneider Electric",
         "marker": {
          "color": "#FF6692",
          "symbol": "circle"
         },
         "mode": "markers",
         "name": "Schneider Electric",
         "orientation": "v",
         "showlegend": true,
         "type": "scatter",
         "x": [
          387
         ],
         "xaxis": "x",
         "y": [
          168044
         ],
         "yaxis": "y"
        },
        {
         "hovertemplate": "Name=Northwestern Mutual<br>Rank=%{x}<br>Employees=%{y}<extra></extra>",
         "legendgroup": "Northwestern Mutual",
         "marker": {
          "color": "#B6E880",
          "symbol": "circle"
         },
         "mode": "markers",
         "name": "Northwestern Mutual",
         "orientation": "v",
         "showlegend": true,
         "type": "scatter",
         "x": [
          388
         ],
         "xaxis": "x",
         "y": [
          8239
         ],
         "yaxis": "y"
        },
        {
         "hovertemplate": "Name=Dollar General<br>Rank=%{x}<br>Employees=%{y}<extra></extra>",
         "legendgroup": "Dollar General",
         "marker": {
          "color": "#FF97FF",
          "symbol": "circle"
         },
         "mode": "markers",
         "name": "Dollar General",
         "orientation": "v",
         "showlegend": true,
         "type": "scatter",
         "x": [
          389
         ],
         "xaxis": "x",
         "y": [
          185800
         ],
         "yaxis": "y"
        },
        {
         "hovertemplate": "Name=Cenovus Energy<br>Rank=%{x}<br>Employees=%{y}<extra></extra>",
         "legendgroup": "Cenovus Energy",
         "marker": {
          "color": "#FECB52",
          "symbol": "circle"
         },
         "mode": "markers",
         "name": "Cenovus Energy",
         "orientation": "v",
         "showlegend": true,
         "type": "scatter",
         "x": [
          390
         ],
         "xaxis": "x",
         "y": [
          6925
         ],
         "yaxis": "y"
        },
        {
         "hovertemplate": "Name=ACS<br>Rank=%{x}<br>Employees=%{y}<extra></extra>",
         "legendgroup": "ACS",
         "marker": {
          "color": "#636efa",
          "symbol": "circle"
         },
         "mode": "markers",
         "name": "ACS",
         "orientation": "v",
         "showlegend": true,
         "type": "scatter",
         "x": [
          391
         ],
         "xaxis": "x",
         "y": [
          122979
         ],
         "yaxis": "y"
        },
        {
         "hovertemplate": "Name=Coop Group<br>Rank=%{x}<br>Employees=%{y}<extra></extra>",
         "legendgroup": "Coop Group",
         "marker": {
          "color": "#EF553B",
          "symbol": "circle"
         },
         "mode": "markers",
         "name": "Coop Group",
         "orientation": "v",
         "showlegend": true,
         "type": "scatter",
         "x": [
          392
         ],
         "xaxis": "x",
         "y": [
          82983
         ],
         "yaxis": "y"
        },
        {
         "hovertemplate": "Name=Fairfax Financial Holdings<br>Rank=%{x}<br>Employees=%{y}<extra></extra>",
         "legendgroup": "Fairfax Financial Holdings",
         "marker": {
          "color": "#00cc96",
          "symbol": "circle"
         },
         "mode": "markers",
         "name": "Fairfax Financial Holdings",
         "orientation": "v",
         "showlegend": true,
         "type": "scatter",
         "x": [
          393
         ],
         "xaxis": "x",
         "y": [
          51044
         ],
         "yaxis": "y"
        },
        {
         "hovertemplate": "Name=Guangzhou Industrial Investment Holdings<br>Rank=%{x}<br>Employees=%{y}<extra></extra>",
         "legendgroup": "Guangzhou Industrial Investment Holdings",
         "marker": {
          "color": "#ab63fa",
          "symbol": "circle"
         },
         "mode": "markers",
         "name": "Guangzhou Industrial Investment Holdings",
         "orientation": "v",
         "showlegend": true,
         "type": "scatter",
         "x": [
          394
         ],
         "xaxis": "x",
         "y": [
          88440
         ],
         "yaxis": "y"
        },
        {
         "hovertemplate": "Name=PBF Energy<br>Rank=%{x}<br>Employees=%{y}<extra></extra>",
         "legendgroup": "PBF Energy",
         "marker": {
          "color": "#FFA15A",
          "symbol": "circle"
         },
         "mode": "markers",
         "name": "PBF Energy",
         "orientation": "v",
         "showlegend": true,
         "type": "scatter",
         "x": [
          395
         ],
         "xaxis": "x",
         "y": [
          3776
         ],
         "yaxis": "y"
        },
        {
         "hovertemplate": "Name=Standard Chartered<br>Rank=%{x}<br>Employees=%{y}<extra></extra>",
         "legendgroup": "Standard Chartered",
         "marker": {
          "color": "#19d3f3",
          "symbol": "circle"
         },
         "mode": "markers",
         "name": "Standard Chartered",
         "orientation": "v",
         "showlegend": true,
         "type": "scatter",
         "x": [
          396
         ],
         "xaxis": "x",
         "y": [
          84958
         ],
         "yaxis": "y"
        },
        {
         "hovertemplate": "Name=Xiaomi<br>Rank=%{x}<br>Employees=%{y}<extra></extra>",
         "legendgroup": "Xiaomi",
         "marker": {
          "color": "#FF6692",
          "symbol": "circle"
         },
         "mode": "markers",
         "name": "Xiaomi",
         "orientation": "v",
         "showlegend": true,
         "type": "scatter",
         "x": [
          397
         ],
         "xaxis": "x",
         "y": [
          33627
         ],
         "yaxis": "y"
        },
        {
         "hovertemplate": "Name=Compass Group<br>Rank=%{x}<br>Employees=%{y}<extra></extra>",
         "legendgroup": "Compass Group",
         "marker": {
          "color": "#B6E880",
          "symbol": "circle"
         },
         "mode": "markers",
         "name": "Compass Group",
         "orientation": "v",
         "showlegend": true,
         "type": "scatter",
         "x": [
          398
         ],
         "xaxis": "x",
         "y": [
          562460
         ],
         "yaxis": "y"
        },
        {
         "hovertemplate": "Name=Meiji Yasuda Life Insurance<br>Rank=%{x}<br>Employees=%{y}<extra></extra>",
         "legendgroup": "Meiji Yasuda Life Insurance",
         "marker": {
          "color": "#FF97FF",
          "symbol": "circle"
         },
         "mode": "markers",
         "name": "Meiji Yasuda Life Insurance",
         "orientation": "v",
         "showlegend": true,
         "type": "scatter",
         "x": [
          399
         ],
         "xaxis": "x",
         "y": [
          47140
         ],
         "yaxis": "y"
        },
        {
         "hovertemplate": "Name=GSK<br>Rank=%{x}<br>Employees=%{y}<extra></extra>",
         "legendgroup": "GSK",
         "marker": {
          "color": "#FECB52",
          "symbol": "circle"
         },
         "mode": "markers",
         "name": "GSK",
         "orientation": "v",
         "showlegend": true,
         "type": "scatter",
         "x": [
          400
         ],
         "xaxis": "x",
         "y": [
          70212
         ],
         "yaxis": "y"
        },
        {
         "hovertemplate": "Name=Suncor Energy<br>Rank=%{x}<br>Employees=%{y}<extra></extra>",
         "legendgroup": "Suncor Energy",
         "marker": {
          "color": "#636efa",
          "symbol": "circle"
         },
         "mode": "markers",
         "name": "Suncor Energy",
         "orientation": "v",
         "showlegend": true,
         "type": "scatter",
         "x": [
          401
         ],
         "xaxis": "x",
         "y": [
          14906
         ],
         "yaxis": "y"
        },
        {
         "hovertemplate": "Name=Hangzhou Industrial Investment Group<br>Rank=%{x}<br>Employees=%{y}<extra></extra>",
         "legendgroup": "Hangzhou Industrial Investment Group",
         "marker": {
          "color": "#EF553B",
          "symbol": "circle"
         },
         "mode": "markers",
         "name": "Hangzhou Industrial Investment Group",
         "orientation": "v",
         "showlegend": true,
         "type": "scatter",
         "x": [
          402
         ],
         "xaxis": "x",
         "y": [
          4056
         ],
         "yaxis": "y"
        },
        {
         "hovertemplate": "Name=Uber Technologies<br>Rank=%{x}<br>Employees=%{y}<extra></extra>",
         "legendgroup": "Uber Technologies",
         "marker": {
          "color": "#00cc96",
          "symbol": "circle"
         },
         "mode": "markers",
         "name": "Uber Technologies",
         "orientation": "v",
         "showlegend": true,
         "type": "scatter",
         "x": [
          403
         ],
         "xaxis": "x",
         "y": [
          30400
         ],
         "yaxis": "y"
        },
        {
         "hovertemplate": "Name=DZ Bank<br>Rank=%{x}<br>Employees=%{y}<extra></extra>",
         "legendgroup": "DZ Bank",
         "marker": {
          "color": "#ab63fa",
          "symbol": "circle"
         },
         "mode": "markers",
         "name": "DZ Bank",
         "orientation": "v",
         "showlegend": true,
         "type": "scatter",
         "x": [
          404
         ],
         "xaxis": "x",
         "y": [
          29901
         ],
         "yaxis": "y"
        },
        {
         "hovertemplate": "Name=GS Caltex<br>Rank=%{x}<br>Employees=%{y}<extra></extra>",
         "legendgroup": "GS Caltex",
         "marker": {
          "color": "#FFA15A",
          "symbol": "circle"
         },
         "mode": "markers",
         "name": "GS Caltex",
         "orientation": "v",
         "showlegend": true,
         "type": "scatter",
         "x": [
          405
         ],
         "xaxis": "x",
         "y": [
          3268
         ],
         "yaxis": "y"
        },
        {
         "hovertemplate": "Name=Suzuki Motor<br>Rank=%{x}<br>Employees=%{y}<extra></extra>",
         "legendgroup": "Suzuki Motor",
         "marker": {
          "color": "#19d3f3",
          "symbol": "circle"
         },
         "mode": "markers",
         "name": "Suzuki Motor",
         "orientation": "v",
         "showlegend": true,
         "type": "scatter",
         "x": [
          406
         ],
         "xaxis": "x",
         "y": [
          72372
         ],
         "yaxis": "y"
        },
        {
         "hovertemplate": "Name=Haier Smart Home<br>Rank=%{x}<br>Employees=%{y}<extra></extra>",
         "legendgroup": "Haier Smart Home",
         "marker": {
          "color": "#FF6692",
          "symbol": "circle"
         },
         "mode": "markers",
         "name": "Haier Smart Home",
         "orientation": "v",
         "showlegend": true,
         "type": "scatter",
         "x": [
          407
         ],
         "xaxis": "x",
         "y": [
          112458
         ],
         "yaxis": "y"
        },
        {
         "hovertemplate": "Name=X5 Retail Group<br>Rank=%{x}<br>Employees=%{y}<extra></extra>",
         "legendgroup": "X5 Retail Group",
         "marker": {
          "color": "#B6E880",
          "symbol": "circle"
         },
         "mode": "markers",
         "name": "X5 Retail Group",
         "orientation": "v",
         "showlegend": true,
         "type": "scatter",
         "x": [
          408
         ],
         "xaxis": "x",
         "y": [
          372200
         ],
         "yaxis": "y"
        },
        {
         "hovertemplate": "Name=La Poste<br>Rank=%{x}<br>Employees=%{y}<extra></extra>",
         "legendgroup": "La Poste",
         "marker": {
          "color": "#FF97FF",
          "symbol": "circle"
         },
         "mode": "markers",
         "name": "La Poste",
         "orientation": "v",
         "showlegend": true,
         "type": "scatter",
         "x": [
          409
         ],
         "xaxis": "x",
         "y": [
          232726
         ],
         "yaxis": "y"
        },
        {
         "hovertemplate": "Name=Hangzhou Iron and Steel Group<br>Rank=%{x}<br>Employees=%{y}<extra></extra>",
         "legendgroup": "Hangzhou Iron and Steel Group",
         "marker": {
          "color": "#FECB52",
          "symbol": "circle"
         },
         "mode": "markers",
         "name": "Hangzhou Iron and Steel Group",
         "orientation": "v",
         "showlegend": true,
         "type": "scatter",
         "x": [
          410
         ],
         "xaxis": "x",
         "y": [
          11492
         ],
         "yaxis": "y"
        },
        {
         "hovertemplate": "Name=Shanghai Pharmaceuticals Holding<br>Rank=%{x}<br>Employees=%{y}<extra></extra>",
         "legendgroup": "Shanghai Pharmaceuticals Holding",
         "marker": {
          "color": "#636efa",
          "symbol": "circle"
         },
         "mode": "markers",
         "name": "Shanghai Pharmaceuticals Holding",
         "orientation": "v",
         "showlegend": true,
         "type": "scatter",
         "x": [
          411
         ],
         "xaxis": "x",
         "y": [
          48164
         ],
         "yaxis": "y"
        },
        {
         "hovertemplate": "Name=Shandong Hi-Speed Group<br>Rank=%{x}<br>Employees=%{y}<extra></extra>",
         "legendgroup": "Shandong Hi-Speed Group",
         "marker": {
          "color": "#EF553B",
          "symbol": "circle"
         },
         "mode": "markers",
         "name": "Shandong Hi-Speed Group",
         "orientation": "v",
         "showlegend": true,
         "type": "scatter",
         "x": [
          412
         ],
         "xaxis": "x",
         "y": [
          56432
         ],
         "yaxis": "y"
        },
        {
         "hovertemplate": "Name=Honeywell International<br>Rank=%{x}<br>Employees=%{y}<extra></extra>",
         "legendgroup": "Honeywell International",
         "marker": {
          "color": "#00cc96",
          "symbol": "circle"
         },
         "mode": "markers",
         "name": "Honeywell International",
         "orientation": "v",
         "showlegend": true,
         "type": "scatter",
         "x": [
          413
         ],
         "xaxis": "x",
         "y": [
          95000
         ],
         "yaxis": "y"
        },
        {
         "hovertemplate": "Name=Guangdong Guangxin Holdings<br>Rank=%{x}<br>Employees=%{y}<extra></extra>",
         "legendgroup": "Guangdong Guangxin Holdings",
         "marker": {
          "color": "#ab63fa",
          "symbol": "circle"
         },
         "mode": "markers",
         "name": "Guangdong Guangxin Holdings",
         "orientation": "v",
         "showlegend": true,
         "type": "scatter",
         "x": [
          414
         ],
         "xaxis": "x",
         "y": [
          44837
         ],
         "yaxis": "y"
        },
        {
         "hovertemplate": "Name=S.F. Holding<br>Rank=%{x}<br>Employees=%{y}<extra></extra>",
         "legendgroup": "S.F. Holding",
         "marker": {
          "color": "#FFA15A",
          "symbol": "circle"
         },
         "mode": "markers",
         "name": "S.F. Holding",
         "orientation": "v",
         "showlegend": true,
         "type": "scatter",
         "x": [
          415
         ],
         "xaxis": "x",
         "y": [
          153125
         ],
         "yaxis": "y"
        },
        {
         "hovertemplate": "Name=Mitsubishi Electric<br>Rank=%{x}<br>Employees=%{y}<extra></extra>",
         "legendgroup": "Mitsubishi Electric",
         "marker": {
          "color": "#19d3f3",
          "symbol": "circle"
         },
         "mode": "markers",
         "name": "Mitsubishi Electric",
         "orientation": "v",
         "showlegend": true,
         "type": "scatter",
         "x": [
          416
         ],
         "xaxis": "x",
         "y": [
          149134
         ],
         "yaxis": "y"
        },
        {
         "hovertemplate": "Name=Guangzhou Pharmaceutical Holdings<br>Rank=%{x}<br>Employees=%{y}<extra></extra>",
         "legendgroup": "Guangzhou Pharmaceutical Holdings",
         "marker": {
          "color": "#FF6692",
          "symbol": "circle"
         },
         "mode": "markers",
         "name": "Guangzhou Pharmaceutical Holdings",
         "orientation": "v",
         "showlegend": true,
         "type": "scatter",
         "x": [
          417
         ],
         "xaxis": "x",
         "y": [
          35391
         ],
         "yaxis": "y"
        },
        {
         "hovertemplate": "Name=China Datang<br>Rank=%{x}<br>Employees=%{y}<extra></extra>",
         "legendgroup": "China Datang",
         "marker": {
          "color": "#B6E880",
          "symbol": "circle"
         },
         "mode": "markers",
         "name": "China Datang",
         "orientation": "v",
         "showlegend": true,
         "type": "scatter",
         "x": [
          418
         ],
         "xaxis": "x",
         "y": [
          87991
         ],
         "yaxis": "y"
        },
        {
         "hovertemplate": "Name=Mapfre Group<br>Rank=%{x}<br>Employees=%{y}<extra></extra>",
         "legendgroup": "Mapfre Group",
         "marker": {
          "color": "#FF97FF",
          "symbol": "circle"
         },
         "mode": "markers",
         "name": "Mapfre Group",
         "orientation": "v",
         "showlegend": true,
         "type": "scatter",
         "x": [
          419
         ],
         "xaxis": "x",
         "y": [
          30873
         ],
         "yaxis": "y"
        },
        {
         "hovertemplate": "Name=CFE<br>Rank=%{x}<br>Employees=%{y}<extra></extra>",
         "legendgroup": "CFE",
         "marker": {
          "color": "#FECB52",
          "symbol": "circle"
         },
         "mode": "markers",
         "name": "CFE",
         "orientation": "v",
         "showlegend": true,
         "type": "scatter",
         "x": [
          420
         ],
         "xaxis": "x",
         "y": [
          92054
         ],
         "yaxis": "y"
        },
        {
         "hovertemplate": "Name=Jardine Matheson<br>Rank=%{x}<br>Employees=%{y}<extra></extra>",
         "legendgroup": "Jardine Matheson",
         "marker": {
          "color": "#636efa",
          "symbol": "circle"
         },
         "mode": "markers",
         "name": "Jardine Matheson",
         "orientation": "v",
         "showlegend": true,
         "type": "scatter",
         "x": [
          421
         ],
         "xaxis": "x",
         "y": [
          443000
         ],
         "yaxis": "y"
        },
        {
         "hovertemplate": "Name=Mondelez International<br>Rank=%{x}<br>Employees=%{y}<extra></extra>",
         "legendgroup": "Mondelez International",
         "marker": {
          "color": "#EF553B",
          "symbol": "circle"
         },
         "mode": "markers",
         "name": "Mondelez International",
         "orientation": "v",
         "showlegend": true,
         "type": "scatter",
         "x": [
          422
         ],
         "xaxis": "x",
         "y": [
          91000
         ],
         "yaxis": "y"
        },
        {
         "hovertemplate": "Name=Daiwa House Industry<br>Rank=%{x}<br>Employees=%{y}<extra></extra>",
         "legendgroup": "Daiwa House Industry",
         "marker": {
          "color": "#00cc96",
          "symbol": "circle"
         },
         "mode": "markers",
         "name": "Daiwa House Industry",
         "orientation": "v",
         "showlegend": true,
         "type": "scatter",
         "x": [
          423
         ],
         "xaxis": "x",
         "y": [
          48483
         ],
         "yaxis": "y"
        },
        {
         "hovertemplate": "Name=Starbucks<br>Rank=%{x}<br>Employees=%{y}<extra></extra>",
         "legendgroup": "Starbucks",
         "marker": {
          "color": "#ab63fa",
          "symbol": "circle"
         },
         "mode": "markers",
         "name": "Starbucks",
         "orientation": "v",
         "showlegend": true,
         "type": "scatter",
         "x": [
          424
         ],
         "xaxis": "x",
         "y": [
          381000
         ],
         "yaxis": "y"
        },
        {
         "hovertemplate": "Name=Olam Group<br>Rank=%{x}<br>Employees=%{y}<extra></extra>",
         "legendgroup": "Olam Group",
         "marker": {
          "color": "#FFA15A",
          "symbol": "circle"
         },
         "mode": "markers",
         "name": "Olam Group",
         "orientation": "v",
         "showlegend": true,
         "type": "scatter",
         "x": [
          425
         ],
         "xaxis": "x",
         "y": [
          65980
         ],
         "yaxis": "y"
        },
        {
         "hovertemplate": "Name=Qualcomm<br>Rank=%{x}<br>Employees=%{y}<extra></extra>",
         "legendgroup": "Qualcomm",
         "marker": {
          "color": "#19d3f3",
          "symbol": "circle"
         },
         "mode": "markers",
         "name": "Qualcomm",
         "orientation": "v",
         "showlegend": true,
         "type": "scatter",
         "x": [
          426
         ],
         "xaxis": "x",
         "y": [
          50000
         ],
         "yaxis": "y"
        },
        {
         "hovertemplate": "Name=Broadcom<br>Rank=%{x}<br>Employees=%{y}<extra></extra>",
         "legendgroup": "Broadcom",
         "marker": {
          "color": "#FF6692",
          "symbol": "circle"
         },
         "mode": "markers",
         "name": "Broadcom",
         "orientation": "v",
         "showlegend": true,
         "type": "scatter",
         "x": [
          427
         ],
         "xaxis": "x",
         "y": [
          20000
         ],
         "yaxis": "y"
        },
        {
         "hovertemplate": "Name=JFE Holdings<br>Rank=%{x}<br>Employees=%{y}<extra></extra>",
         "legendgroup": "JFE Holdings",
         "marker": {
          "color": "#B6E880",
          "symbol": "circle"
         },
         "mode": "markers",
         "name": "JFE Holdings",
         "orientation": "v",
         "showlegend": true,
         "type": "scatter",
         "x": [
          428
         ],
         "xaxis": "x",
         "y": [
          62218
         ],
         "yaxis": "y"
        },
        {
         "hovertemplate": "Name=Hailiang Group<br>Rank=%{x}<br>Employees=%{y}<extra></extra>",
         "legendgroup": "Hailiang Group",
         "marker": {
          "color": "#FF97FF",
          "symbol": "circle"
         },
         "mode": "markers",
         "name": "Hailiang Group",
         "orientation": "v",
         "showlegend": true,
         "type": "scatter",
         "x": [
          429
         ],
         "xaxis": "x",
         "y": [
          26727
         ],
         "yaxis": "y"
        },
        {
         "hovertemplate": "Name=US Foods Holding<br>Rank=%{x}<br>Employees=%{y}<extra></extra>",
         "legendgroup": "US Foods Holding",
         "marker": {
          "color": "#FECB52",
          "symbol": "circle"
         },
         "mode": "markers",
         "name": "US Foods Holding",
         "orientation": "v",
         "showlegend": true,
         "type": "scatter",
         "x": [
          430
         ],
         "xaxis": "x",
         "y": [
          30000
         ],
         "yaxis": "y"
        },
        {
         "hovertemplate": "Name=ELO Group<br>Rank=%{x}<br>Employees=%{y}<extra></extra>",
         "legendgroup": "ELO Group",
         "marker": {
          "color": "#636efa",
          "symbol": "circle"
         },
         "mode": "markers",
         "name": "ELO Group",
         "orientation": "v",
         "showlegend": true,
         "type": "scatter",
         "x": [
          431
         ],
         "xaxis": "x",
         "y": [
          145025
         ],
         "yaxis": "y"
        },
        {
         "hovertemplate": "Name=Migros Group<br>Rank=%{x}<br>Employees=%{y}<extra></extra>",
         "legendgroup": "Migros Group",
         "marker": {
          "color": "#EF553B",
          "symbol": "circle"
         },
         "mode": "markers",
         "name": "Migros Group",
         "orientation": "v",
         "showlegend": true,
         "type": "scatter",
         "x": [
          432
         ],
         "xaxis": "x",
         "y": [
          72523
         ],
         "yaxis": "y"
        },
        {
         "hovertemplate": "Name=Mercadona<br>Rank=%{x}<br>Employees=%{y}<extra></extra>",
         "legendgroup": "Mercadona",
         "marker": {
          "color": "#00cc96",
          "symbol": "circle"
         },
         "mode": "markers",
         "name": "Mercadona",
         "orientation": "v",
         "showlegend": true,
         "type": "scatter",
         "x": [
          433
         ],
         "xaxis": "x",
         "y": [
          98700
         ],
         "yaxis": "y"
        },
        {
         "hovertemplate": "Name=D.R. Horton<br>Rank=%{x}<br>Employees=%{y}<extra></extra>",
         "legendgroup": "D.R. Horton",
         "marker": {
          "color": "#ab63fa",
          "symbol": "circle"
         },
         "mode": "markers",
         "name": "D.R. Horton",
         "orientation": "v",
         "showlegend": true,
         "type": "scatter",
         "x": [
          434
         ],
         "xaxis": "x",
         "y": [
          13450
         ],
         "yaxis": "y"
        },
        {
         "hovertemplate": "Name=China Electronics<br>Rank=%{x}<br>Employees=%{y}<extra></extra>",
         "legendgroup": "China Electronics",
         "marker": {
          "color": "#FFA15A",
          "symbol": "circle"
         },
         "mode": "markers",
         "name": "China Electronics",
         "orientation": "v",
         "showlegend": true,
         "type": "scatter",
         "x": [
          435
         ],
         "xaxis": "x",
         "y": [
          183469
         ],
         "yaxis": "y"
        },
        {
         "hovertemplate": "Name=Shudao Investment Group<br>Rank=%{x}<br>Employees=%{y}<extra></extra>",
         "legendgroup": "Shudao Investment Group",
         "marker": {
          "color": "#19d3f3",
          "symbol": "circle"
         },
         "mode": "markers",
         "name": "Shudao Investment Group",
         "orientation": "v",
         "showlegend": true,
         "type": "scatter",
         "x": [
          436
         ],
         "xaxis": "x",
         "y": [
          55878
         ],
         "yaxis": "y"
        },
        {
         "hovertemplate": "Name=China National Coal Group<br>Rank=%{x}<br>Employees=%{y}<extra></extra>",
         "legendgroup": "China National Coal Group",
         "marker": {
          "color": "#FF6692",
          "symbol": "circle"
         },
         "mode": "markers",
         "name": "China National Coal Group",
         "orientation": "v",
         "showlegend": true,
         "type": "scatter",
         "x": [
          437
         ],
         "xaxis": "x",
         "y": [
          144531
         ],
         "yaxis": "y"
        },
        {
         "hovertemplate": "Name=TongLing Nonferrous Metals Group<br>Rank=%{x}<br>Employees=%{y}<extra></extra>",
         "legendgroup": "TongLing Nonferrous Metals Group",
         "marker": {
          "color": "#B6E880",
          "symbol": "circle"
         },
         "mode": "markers",
         "name": "TongLing Nonferrous Metals Group",
         "orientation": "v",
         "showlegend": true,
         "type": "scatter",
         "x": [
          438
         ],
         "xaxis": "x",
         "y": [
          21443
         ],
         "yaxis": "y"
        },
        {
         "hovertemplate": "Name=CK Hutchison Holdings<br>Rank=%{x}<br>Employees=%{y}<extra></extra>",
         "legendgroup": "CK Hutchison Holdings",
         "marker": {
          "color": "#FF97FF",
          "symbol": "circle"
         },
         "mode": "markers",
         "name": "CK Hutchison Holdings",
         "orientation": "v",
         "showlegend": true,
         "type": "scatter",
         "x": [
          439
         ],
         "xaxis": "x",
         "y": [
          300000
         ],
         "yaxis": "y"
        },
        {
         "hovertemplate": "Name=Philip Morris International<br>Rank=%{x}<br>Employees=%{y}<extra></extra>",
         "legendgroup": "Philip Morris International",
         "marker": {
          "color": "#FECB52",
          "symbol": "circle"
         },
         "mode": "markers",
         "name": "Philip Morris International",
         "orientation": "v",
         "showlegend": true,
         "type": "scatter",
         "x": [
          440
         ],
         "xaxis": "x",
         "y": [
          82700
         ],
         "yaxis": "y"
        },
        {
         "hovertemplate": "Name=Paccar<br>Rank=%{x}<br>Employees=%{y}<extra></extra>",
         "legendgroup": "Paccar",
         "marker": {
          "color": "#636efa",
          "symbol": "circle"
         },
         "mode": "markers",
         "name": "Paccar",
         "orientation": "v",
         "showlegend": true,
         "type": "scatter",
         "x": [
          441
         ],
         "xaxis": "x",
         "y": [
          32400
         ],
         "yaxis": "y"
        },
        {
         "hovertemplate": "Name=PDD Holdings<br>Rank=%{x}<br>Employees=%{y}<extra></extra>",
         "legendgroup": "PDD Holdings",
         "marker": {
          "color": "#EF553B",
          "symbol": "circle"
         },
         "mode": "markers",
         "name": "PDD Holdings",
         "orientation": "v",
         "showlegend": true,
         "type": "scatter",
         "x": [
          442
         ],
         "xaxis": "x",
         "y": [
          17403
         ],
         "yaxis": "y"
        },
        {
         "hovertemplate": "Name=CRH<br>Rank=%{x}<br>Employees=%{y}<extra></extra>",
         "legendgroup": "CRH",
         "marker": {
          "color": "#00cc96",
          "symbol": "circle"
         },
         "mode": "markers",
         "name": "CRH",
         "orientation": "v",
         "showlegend": true,
         "type": "scatter",
         "x": [
          443
         ],
         "xaxis": "x",
         "y": [
          78500
         ],
         "yaxis": "y"
        },
        {
         "hovertemplate": "Name=Quanta Computer<br>Rank=%{x}<br>Employees=%{y}<extra></extra>",
         "legendgroup": "Quanta Computer",
         "marker": {
          "color": "#ab63fa",
          "symbol": "circle"
         },
         "mode": "markers",
         "name": "Quanta Computer",
         "orientation": "v",
         "showlegend": true,
         "type": "scatter",
         "x": [
          444
         ],
         "xaxis": "x",
         "y": [
          56708
         ],
         "yaxis": "y"
        },
        {
         "hovertemplate": "Name=Salesforce<br>Rank=%{x}<br>Employees=%{y}<extra></extra>",
         "legendgroup": "Salesforce",
         "marker": {
          "color": "#FFA15A",
          "symbol": "circle"
         },
         "mode": "markers",
         "name": "Salesforce",
         "orientation": "v",
         "showlegend": true,
         "type": "scatter",
         "x": [
          445
         ],
         "xaxis": "x",
         "y": [
          72682
         ],
         "yaxis": "y"
        },
        {
         "hovertemplate": "Name=AIA Group<br>Rank=%{x}<br>Employees=%{y}<extra></extra>",
         "legendgroup": "AIA Group",
         "marker": {
          "color": "#19d3f3",
          "symbol": "circle"
         },
         "mode": "markers",
         "name": "AIA Group",
         "orientation": "v",
         "showlegend": true,
         "type": "scatter",
         "x": [
          446
         ],
         "xaxis": "x",
         "y": [
          27320
         ],
         "yaxis": "y"
        },
        {
         "hovertemplate": "Name=Nucor<br>Rank=%{x}<br>Employees=%{y}<extra></extra>",
         "legendgroup": "Nucor",
         "marker": {
          "color": "#FF6692",
          "symbol": "circle"
         },
         "mode": "markers",
         "name": "Nucor",
         "orientation": "v",
         "showlegend": true,
         "type": "scatter",
         "x": [
          447
         ],
         "xaxis": "x",
         "y": [
          32000
         ],
         "yaxis": "y"
        },
        {
         "hovertemplate": "Name=Jabil<br>Rank=%{x}<br>Employees=%{y}<extra></extra>",
         "legendgroup": "Jabil",
         "marker": {
          "color": "#B6E880",
          "symbol": "circle"
         },
         "mode": "markers",
         "name": "Jabil",
         "orientation": "v",
         "showlegend": true,
         "type": "scatter",
         "x": [
          448
         ],
         "xaxis": "x",
         "y": [
          236000
         ],
         "yaxis": "y"
        },
        {
         "hovertemplate": "Name=National Australia Bank<br>Rank=%{x}<br>Employees=%{y}<extra></extra>",
         "legendgroup": "National Australia Bank",
         "marker": {
          "color": "#FF97FF",
          "symbol": "circle"
         },
         "mode": "markers",
         "name": "National Australia Bank",
         "orientation": "v",
         "showlegend": true,
         "type": "scatter",
         "x": [
          449
         ],
         "xaxis": "x",
         "y": [
          38516
         ],
         "yaxis": "y"
        },
        {
         "hovertemplate": "Name=SAP SE<br>Rank=%{x}<br>Employees=%{y}<extra></extra>",
         "legendgroup": "SAP SE",
         "marker": {
          "color": "#FECB52",
          "symbol": "circle"
         },
         "mode": "markers",
         "name": "SAP SE",
         "orientation": "v",
         "showlegend": true,
         "type": "scatter",
         "x": [
          450
         ],
         "xaxis": "x",
         "y": [
          107602
         ],
         "yaxis": "y"
        },
        {
         "hovertemplate": "Name=CRRC Group<br>Rank=%{x}<br>Employees=%{y}<extra></extra>",
         "legendgroup": "CRRC Group",
         "marker": {
          "color": "#636efa",
          "symbol": "circle"
         },
         "mode": "markers",
         "name": "CRRC Group",
         "orientation": "v",
         "showlegend": true,
         "type": "scatter",
         "x": [
          451
         ],
         "xaxis": "x",
         "y": [
          165344
         ],
         "yaxis": "y"
        },
        {
         "hovertemplate": "Name=Shanghai Delong Steel Group<br>Rank=%{x}<br>Employees=%{y}<extra></extra>",
         "legendgroup": "Shanghai Delong Steel Group",
         "marker": {
          "color": "#EF553B",
          "symbol": "circle"
         },
         "mode": "markers",
         "name": "Shanghai Delong Steel Group",
         "orientation": "v",
         "showlegend": true,
         "type": "scatter",
         "x": [
          452
         ],
         "xaxis": "x",
         "y": [
          42843
         ],
         "yaxis": "y"
        },
        {
         "hovertemplate": "Name=Lennar<br>Rank=%{x}<br>Employees=%{y}<extra></extra>",
         "legendgroup": "Lennar",
         "marker": {
          "color": "#00cc96",
          "symbol": "circle"
         },
         "mode": "markers",
         "name": "Lennar",
         "orientation": "v",
         "showlegend": true,
         "type": "scatter",
         "x": [
          453
         ],
         "xaxis": "x",
         "y": [
          12284
         ],
         "yaxis": "y"
        },
        {
         "hovertemplate": "Name=Sompo Holdings<br>Rank=%{x}<br>Employees=%{y}<extra></extra>",
         "legendgroup": "Sompo Holdings",
         "marker": {
          "color": "#ab63fa",
          "symbol": "circle"
         },
         "mode": "markers",
         "name": "Sompo Holdings",
         "orientation": "v",
         "showlegend": true,
         "type": "scatter",
         "x": [
          454
         ],
         "xaxis": "x",
         "y": [
          48421
         ],
         "yaxis": "y"
        },
        {
         "hovertemplate": "Name=Eli Lilly<br>Rank=%{x}<br>Employees=%{y}<extra></extra>",
         "legendgroup": "Eli Lilly",
         "marker": {
          "color": "#FFA15A",
          "symbol": "circle"
         },
         "mode": "markers",
         "name": "Eli Lilly",
         "orientation": "v",
         "showlegend": true,
         "type": "scatter",
         "x": [
          455
         ],
         "xaxis": "x",
         "y": [
          43000
         ],
         "yaxis": "y"
        },
        {
         "hovertemplate": "Name=Korea Gas<br>Rank=%{x}<br>Employees=%{y}<extra></extra>",
         "legendgroup": "Korea Gas",
         "marker": {
          "color": "#19d3f3",
          "symbol": "circle"
         },
         "mode": "markers",
         "name": "Korea Gas",
         "orientation": "v",
         "showlegend": true,
         "type": "scatter",
         "x": [
          456
         ],
         "xaxis": "x",
         "y": [
          4163
         ],
         "yaxis": "y"
        },
        {
         "hovertemplate": "Name=Molina Healthcare<br>Rank=%{x}<br>Employees=%{y}<extra></extra>",
         "legendgroup": "Molina Healthcare",
         "marker": {
          "color": "#FF6692",
          "symbol": "circle"
         },
         "mode": "markers",
         "name": "Molina Healthcare",
         "orientation": "v",
         "showlegend": true,
         "type": "scatter",
         "x": [
          457
         ],
         "xaxis": "x",
         "y": [
          18000
         ],
         "yaxis": "y"
        },
        {
         "hovertemplate": "Name=Beijing Jianlong Heavy Industry Group<br>Rank=%{x}<br>Employees=%{y}<extra></extra>",
         "legendgroup": "Beijing Jianlong Heavy Industry Group",
         "marker": {
          "color": "#B6E880",
          "symbol": "circle"
         },
         "mode": "markers",
         "name": "Beijing Jianlong Heavy Industry Group",
         "orientation": "v",
         "showlegend": true,
         "type": "scatter",
         "x": [
          458
         ],
         "xaxis": "x",
         "y": [
          57863
         ],
         "yaxis": "y"
        },
        {
         "hovertemplate": "Name=Cummins<br>Rank=%{x}<br>Employees=%{y}<extra></extra>",
         "legendgroup": "Cummins",
         "marker": {
          "color": "#FF97FF",
          "symbol": "circle"
         },
         "mode": "markers",
         "name": "Cummins",
         "orientation": "v",
         "showlegend": true,
         "type": "scatter",
         "x": [
          459
         ],
         "xaxis": "x",
         "y": [
          75500
         ],
         "yaxis": "y"
        },
        {
         "hovertemplate": "Name=Shaanxi Construction Engineering Holding<br>Rank=%{x}<br>Employees=%{y}<extra></extra>",
         "legendgroup": "Shaanxi Construction Engineering Holding",
         "marker": {
          "color": "#FECB52",
          "symbol": "circle"
         },
         "mode": "markers",
         "name": "Shaanxi Construction Engineering Holding",
         "orientation": "v",
         "showlegend": true,
         "type": "scatter",
         "x": [
          460
         ],
         "xaxis": "x",
         "y": [
          41390
         ],
         "yaxis": "y"
        },
        {
         "hovertemplate": "Name=Rabobank Group<br>Rank=%{x}<br>Employees=%{y}<extra></extra>",
         "legendgroup": "Rabobank Group",
         "marker": {
          "color": "#636efa",
          "symbol": "circle"
         },
         "mode": "markers",
         "name": "Rabobank Group",
         "orientation": "v",
         "showlegend": true,
         "type": "scatter",
         "x": [
          461
         ],
         "xaxis": "x",
         "y": [
          49132
         ],
         "yaxis": "y"
        },
        {
         "hovertemplate": "Name=Aisin<br>Rank=%{x}<br>Employees=%{y}<extra></extra>",
         "legendgroup": "Aisin",
         "marker": {
          "color": "#EF553B",
          "symbol": "circle"
         },
         "mode": "markers",
         "name": "Aisin",
         "orientation": "v",
         "showlegend": true,
         "type": "scatter",
         "x": [
          462
         ],
         "xaxis": "x",
         "y": [
          115140
         ],
         "yaxis": "y"
        },
        {
         "hovertemplate": "Name=Rajesh Exports<br>Rank=%{x}<br>Employees=%{y}<extra></extra>",
         "legendgroup": "Rajesh Exports",
         "marker": {
          "color": "#00cc96",
          "symbol": "circle"
         },
         "mode": "markers",
         "name": "Rajesh Exports",
         "orientation": "v",
         "showlegend": true,
         "type": "scatter",
         "x": [
          463
         ],
         "xaxis": "x",
         "y": [
          141
         ],
         "yaxis": "y"
        },
        {
         "hovertemplate": "Name=British American Tobacco<br>Rank=%{x}<br>Employees=%{y}<extra></extra>",
         "legendgroup": "British American Tobacco",
         "marker": {
          "color": "#ab63fa",
          "symbol": "circle"
         },
         "mode": "markers",
         "name": "British American Tobacco",
         "orientation": "v",
         "showlegend": true,
         "type": "scatter",
         "x": [
          464
         ],
         "xaxis": "x",
         "y": [
          49839
         ],
         "yaxis": "y"
        },
        {
         "hovertemplate": "Name=CPC<br>Rank=%{x}<br>Employees=%{y}<extra></extra>",
         "legendgroup": "CPC",
         "marker": {
          "color": "#FFA15A",
          "symbol": "circle"
         },
         "mode": "markers",
         "name": "CPC",
         "orientation": "v",
         "showlegend": true,
         "type": "scatter",
         "x": [
          465
         ],
         "xaxis": "x",
         "y": [
          17142
         ],
         "yaxis": "y"
        },
        {
         "hovertemplate": "Name=Bank of New York Mellon<br>Rank=%{x}<br>Employees=%{y}<extra></extra>",
         "legendgroup": "Bank of New York Mellon",
         "marker": {
          "color": "#19d3f3",
          "symbol": "circle"
         },
         "mode": "markers",
         "name": "Bank of New York Mellon",
         "orientation": "v",
         "showlegend": true,
         "type": "scatter",
         "x": [
          466
         ],
         "xaxis": "x",
         "y": [
          53400
         ],
         "yaxis": "y"
        },
        {
         "hovertemplate": "Name=Tongwei Group<br>Rank=%{x}<br>Employees=%{y}<extra></extra>",
         "legendgroup": "Tongwei Group",
         "marker": {
          "color": "#FF6692",
          "symbol": "circle"
         },
         "mode": "markers",
         "name": "Tongwei Group",
         "orientation": "v",
         "showlegend": true,
         "type": "scatter",
         "x": [
          467
         ],
         "xaxis": "x",
         "y": [
          58329
         ],
         "yaxis": "y"
        },
        {
         "hovertemplate": "Name=Netflix<br>Rank=%{x}<br>Employees=%{y}<extra></extra>",
         "legendgroup": "Netflix",
         "marker": {
          "color": "#B6E880",
          "symbol": "circle"
         },
         "mode": "markers",
         "name": "Netflix",
         "orientation": "v",
         "showlegend": true,
         "type": "scatter",
         "x": [
          468
         ],
         "xaxis": "x",
         "y": [
          13000
         ],
         "yaxis": "y"
        },
        {
         "hovertemplate": "Name=Novo Nordisk<br>Rank=%{x}<br>Employees=%{y}<extra></extra>",
         "legendgroup": "Novo Nordisk",
         "marker": {
          "color": "#FF97FF",
          "symbol": "circle"
         },
         "mode": "markers",
         "name": "Novo Nordisk",
         "orientation": "v",
         "showlegend": true,
         "type": "scatter",
         "x": [
          469
         ],
         "xaxis": "x",
         "y": [
          63845
         ],
         "yaxis": "y"
        },
        {
         "hovertemplate": "Name=Shougang Group<br>Rank=%{x}<br>Employees=%{y}<extra></extra>",
         "legendgroup": "Shougang Group",
         "marker": {
          "color": "#FECB52",
          "symbol": "circle"
         },
         "mode": "markers",
         "name": "Shougang Group",
         "orientation": "v",
         "showlegend": true,
         "type": "scatter",
         "x": [
          470
         ],
         "xaxis": "x",
         "y": [
          83509
         ],
         "yaxis": "y"
        },
        {
         "hovertemplate": "Name=Shanxi Coking Coal Group<br>Rank=%{x}<br>Employees=%{y}<extra></extra>",
         "legendgroup": "Shanxi Coking Coal Group",
         "marker": {
          "color": "#636efa",
          "symbol": "circle"
         },
         "mode": "markers",
         "name": "Shanxi Coking Coal Group",
         "orientation": "v",
         "showlegend": true,
         "type": "scatter",
         "x": [
          471
         ],
         "xaxis": "x",
         "y": [
          214937
         ],
         "yaxis": "y"
        },
        {
         "hovertemplate": "Name=Guangxi Investment Group<br>Rank=%{x}<br>Employees=%{y}<extra></extra>",
         "legendgroup": "Guangxi Investment Group",
         "marker": {
          "color": "#EF553B",
          "symbol": "circle"
         },
         "mode": "markers",
         "name": "Guangxi Investment Group",
         "orientation": "v",
         "showlegend": true,
         "type": "scatter",
         "x": [
          472
         ],
         "xaxis": "x",
         "y": [
          32241
         ],
         "yaxis": "y"
        },
        {
         "hovertemplate": "Name=VTB Bank<br>Rank=%{x}<br>Employees=%{y}<extra></extra>",
         "legendgroup": "VTB Bank",
         "marker": {
          "color": "#00cc96",
          "symbol": "circle"
         },
         "mode": "markers",
         "name": "VTB Bank",
         "orientation": "v",
         "showlegend": true,
         "type": "scatter",
         "x": [
          473
         ],
         "xaxis": "x",
         "y": [
          76100
         ],
         "yaxis": "y"
        },
        {
         "hovertemplate": "Name=Mazda Motor<br>Rank=%{x}<br>Employees=%{y}<extra></extra>",
         "legendgroup": "Mazda Motor",
         "marker": {
          "color": "#ab63fa",
          "symbol": "circle"
         },
         "mode": "markers",
         "name": "Mazda Motor",
         "orientation": "v",
         "showlegend": true,
         "type": "scatter",
         "x": [
          474
         ],
         "xaxis": "x",
         "y": [
          48685
         ],
         "yaxis": "y"
        },
        {
         "hovertemplate": "Name=Hunan Iron & Steel Group<br>Rank=%{x}<br>Employees=%{y}<extra></extra>",
         "legendgroup": "Hunan Iron & Steel Group",
         "marker": {
          "color": "#FFA15A",
          "symbol": "circle"
         },
         "mode": "markers",
         "name": "Hunan Iron & Steel Group",
         "orientation": "v",
         "showlegend": true,
         "type": "scatter",
         "x": [
          475
         ],
         "xaxis": "x",
         "y": [
          36114
         ],
         "yaxis": "y"
        },
        {
         "hovertemplate": "Name=Power Corp. of Canada<br>Rank=%{x}<br>Employees=%{y}<extra></extra>",
         "legendgroup": "Power Corp. of Canada",
         "marker": {
          "color": "#19d3f3",
          "symbol": "circle"
         },
         "mode": "markers",
         "name": "Power Corp. of Canada",
         "orientation": "v",
         "showlegend": true,
         "type": "scatter",
         "x": [
          476
         ],
         "xaxis": "x",
         "y": [
          40300
         ],
         "yaxis": "y"
        },
        {
         "hovertemplate": "Name=Truist Financial<br>Rank=%{x}<br>Employees=%{y}<extra></extra>",
         "legendgroup": "Truist Financial",
         "marker": {
          "color": "#FF6692",
          "symbol": "circle"
         },
         "mode": "markers",
         "name": "Truist Financial",
         "orientation": "v",
         "showlegend": true,
         "type": "scatter",
         "x": [
          477
         ],
         "xaxis": "x",
         "y": [
          49935
         ],
         "yaxis": "y"
        },
        {
         "hovertemplate": "Name=Siemens Energy<br>Rank=%{x}<br>Employees=%{y}<extra></extra>",
         "legendgroup": "Siemens Energy",
         "marker": {
          "color": "#B6E880",
          "symbol": "circle"
         },
         "mode": "markers",
         "name": "Siemens Energy",
         "orientation": "v",
         "showlegend": true,
         "type": "scatter",
         "x": [
          478
         ],
         "xaxis": "x",
         "y": [
          94000
         ],
         "yaxis": "y"
        },
        {
         "hovertemplate": "Name=Schlumberger<br>Rank=%{x}<br>Employees=%{y}<extra></extra>",
         "legendgroup": "Schlumberger",
         "marker": {
          "color": "#FF97FF",
          "symbol": "circle"
         },
         "mode": "markers",
         "name": "Schlumberger",
         "orientation": "v",
         "showlegend": true,
         "type": "scatter",
         "x": [
          479
         ],
         "xaxis": "x",
         "y": [
          111000
         ],
         "yaxis": "y"
        },
        {
         "hovertemplate": "Name=Ecopetrol<br>Rank=%{x}<br>Employees=%{y}<extra></extra>",
         "legendgroup": "Ecopetrol",
         "marker": {
          "color": "#FECB52",
          "symbol": "circle"
         },
         "mode": "markers",
         "name": "Ecopetrol",
         "orientation": "v",
         "showlegend": true,
         "type": "scatter",
         "x": [
          480
         ],
         "xaxis": "x",
         "y": [
          19657
         ],
         "yaxis": "y"
        },
        {
         "hovertemplate": "Name=Arrow Electronics<br>Rank=%{x}<br>Employees=%{y}<extra></extra>",
         "legendgroup": "Arrow Electronics",
         "marker": {
          "color": "#636efa",
          "symbol": "circle"
         },
         "mode": "markers",
         "name": "Arrow Electronics",
         "orientation": "v",
         "showlegend": true,
         "type": "scatter",
         "x": [
          481
         ],
         "xaxis": "x",
         "y": [
          22100
         ],
         "yaxis": "y"
        },
        {
         "hovertemplate": "Name=Jerónimo Martins<br>Rank=%{x}<br>Employees=%{y}<extra></extra>",
         "legendgroup": "Jerónimo Martins",
         "marker": {
          "color": "#EF553B",
          "symbol": "circle"
         },
         "mode": "markers",
         "name": "Jerónimo Martins",
         "orientation": "v",
         "showlegend": true,
         "type": "scatter",
         "x": [
          482
         ],
         "xaxis": "x",
         "y": [
          134379
         ],
         "yaxis": "y"
        },
        {
         "hovertemplate": "Name=China National Aviation Fuel Group<br>Rank=%{x}<br>Employees=%{y}<extra></extra>",
         "legendgroup": "China National Aviation Fuel Group",
         "marker": {
          "color": "#00cc96",
          "symbol": "circle"
         },
         "mode": "markers",
         "name": "China National Aviation Fuel Group",
         "orientation": "v",
         "showlegend": true,
         "type": "scatter",
         "x": [
          483
         ],
         "xaxis": "x",
         "y": [
          13694
         ],
         "yaxis": "y"
        },
        {
         "hovertemplate": "Name=Commonwealth Bank of Australia<br>Rank=%{x}<br>Employees=%{y}<extra></extra>",
         "legendgroup": "Commonwealth Bank of Australia",
         "marker": {
          "color": "#ab63fa",
          "symbol": "circle"
         },
         "mode": "markers",
         "name": "Commonwealth Bank of Australia",
         "orientation": "v",
         "showlegend": true,
         "type": "scatter",
         "x": [
          484
         ],
         "xaxis": "x",
         "y": [
          49454
         ],
         "yaxis": "y"
        },
        {
         "hovertemplate": "Name=Centrica<br>Rank=%{x}<br>Employees=%{y}<extra></extra>",
         "legendgroup": "Centrica",
         "marker": {
          "color": "#FFA15A",
          "symbol": "circle"
         },
         "mode": "markers",
         "name": "Centrica",
         "orientation": "v",
         "showlegend": true,
         "type": "scatter",
         "x": [
          485
         ],
         "xaxis": "x",
         "y": [
          21014
         ],
         "yaxis": "y"
        },
        {
         "hovertemplate": "Name=Linde<br>Rank=%{x}<br>Employees=%{y}<extra></extra>",
         "legendgroup": "Linde",
         "marker": {
          "color": "#19d3f3",
          "symbol": "circle"
         },
         "mode": "markers",
         "name": "Linde",
         "orientation": "v",
         "showlegend": true,
         "type": "scatter",
         "x": [
          486
         ],
         "xaxis": "x",
         "y": [
          66323
         ],
         "yaxis": "y"
        },
        {
         "hovertemplate": "Name=Heineken<br>Rank=%{x}<br>Employees=%{y}<extra></extra>",
         "legendgroup": "Heineken",
         "marker": {
          "color": "#FF6692",
          "symbol": "circle"
         },
         "mode": "markers",
         "name": "Heineken",
         "orientation": "v",
         "showlegend": true,
         "type": "scatter",
         "x": [
          487
         ],
         "xaxis": "x",
         "y": [
          89732
         ],
         "yaxis": "y"
        },
        {
         "hovertemplate": "Name=Luxshare Precision Industry<br>Rank=%{x}<br>Employees=%{y}<extra></extra>",
         "legendgroup": "Luxshare Precision Industry",
         "marker": {
          "color": "#B6E880",
          "symbol": "circle"
         },
         "mode": "markers",
         "name": "Luxshare Precision Industry",
         "orientation": "v",
         "showlegend": true,
         "type": "scatter",
         "x": [
          488
         ],
         "xaxis": "x",
         "y": [
          232585
         ],
         "yaxis": "y"
        },
        {
         "hovertemplate": "Name=3M<br>Rank=%{x}<br>Employees=%{y}<extra></extra>",
         "legendgroup": "3M",
         "marker": {
          "color": "#FF97FF",
          "symbol": "circle"
         },
         "mode": "markers",
         "name": "3M",
         "orientation": "v",
         "showlegend": true,
         "type": "scatter",
         "x": [
          489
         ],
         "xaxis": "x",
         "y": [
          85000
         ],
         "yaxis": "y"
        },
        {
         "hovertemplate": "Name=Visa<br>Rank=%{x}<br>Employees=%{y}<extra></extra>",
         "legendgroup": "Visa",
         "marker": {
          "color": "#FECB52",
          "symbol": "circle"
         },
         "mode": "markers",
         "name": "Visa",
         "orientation": "v",
         "showlegend": true,
         "type": "scatter",
         "x": [
          490
         ],
         "xaxis": "x",
         "y": [
          28800
         ],
         "yaxis": "y"
        },
        {
         "hovertemplate": "Name=Apollo Global Management<br>Rank=%{x}<br>Employees=%{y}<extra></extra>",
         "legendgroup": "Apollo Global Management",
         "marker": {
          "color": "#636efa",
          "symbol": "circle"
         },
         "mode": "markers",
         "name": "Apollo Global Management",
         "orientation": "v",
         "showlegend": true,
         "type": "scatter",
         "x": [
          491
         ],
         "xaxis": "x",
         "y": [
          6855
         ],
         "yaxis": "y"
        },
        {
         "hovertemplate": "Name=Emirates Group<br>Rank=%{x}<br>Employees=%{y}<extra></extra>",
         "legendgroup": "Emirates Group",
         "marker": {
          "color": "#EF553B",
          "symbol": "circle"
         },
         "mode": "markers",
         "name": "Emirates Group",
         "orientation": "v",
         "showlegend": true,
         "type": "scatter",
         "x": [
          492
         ],
         "xaxis": "x",
         "y": [
          112406
         ],
         "yaxis": "y"
        },
        {
         "hovertemplate": "Name=Vibra Energia<br>Rank=%{x}<br>Employees=%{y}<extra></extra>",
         "legendgroup": "Vibra Energia",
         "marker": {
          "color": "#00cc96",
          "symbol": "circle"
         },
         "mode": "markers",
         "name": "Vibra Energia",
         "orientation": "v",
         "showlegend": true,
         "type": "scatter",
         "x": [
          493
         ],
         "xaxis": "x",
         "y": [
          3526
         ],
         "yaxis": "y"
        },
        {
         "hovertemplate": "Name=Metro<br>Rank=%{x}<br>Employees=%{y}<extra></extra>",
         "legendgroup": "Metro",
         "marker": {
          "color": "#ab63fa",
          "symbol": "circle"
         },
         "mode": "markers",
         "name": "Metro",
         "orientation": "v",
         "showlegend": true,
         "type": "scatter",
         "x": [
          494
         ],
         "xaxis": "x",
         "y": [
          81834
         ],
         "yaxis": "y"
        },
        {
         "hovertemplate": "Name=Subaru<br>Rank=%{x}<br>Employees=%{y}<extra></extra>",
         "legendgroup": "Subaru",
         "marker": {
          "color": "#FFA15A",
          "symbol": "circle"
         },
         "mode": "markers",
         "name": "Subaru",
         "orientation": "v",
         "showlegend": true,
         "type": "scatter",
         "x": [
          495
         ],
         "xaxis": "x",
         "y": [
          37693
         ],
         "yaxis": "y"
        },
        {
         "hovertemplate": "Name=Air France-KLM Group<br>Rank=%{x}<br>Employees=%{y}<extra></extra>",
         "legendgroup": "Air France-KLM Group",
         "marker": {
          "color": "#19d3f3",
          "symbol": "circle"
         },
         "mode": "markers",
         "name": "Air France-KLM Group",
         "orientation": "v",
         "showlegend": true,
         "type": "scatter",
         "x": [
          496
         ],
         "xaxis": "x",
         "y": [
          76271
         ],
         "yaxis": "y"
        },
        {
         "hovertemplate": "Name=Enbridge<br>Rank=%{x}<br>Employees=%{y}<extra></extra>",
         "legendgroup": "Enbridge",
         "marker": {
          "color": "#FF6692",
          "symbol": "circle"
         },
         "mode": "markers",
         "name": "Enbridge",
         "orientation": "v",
         "showlegend": true,
         "type": "scatter",
         "x": [
          497
         ],
         "xaxis": "x",
         "y": [
          12450
         ],
         "yaxis": "y"
        },
        {
         "hovertemplate": "Name=ABB<br>Rank=%{x}<br>Employees=%{y}<extra></extra>",
         "legendgroup": "ABB",
         "marker": {
          "color": "#B6E880",
          "symbol": "circle"
         },
         "mode": "markers",
         "name": "ABB",
         "orientation": "v",
         "showlegend": true,
         "type": "scatter",
         "x": [
          498
         ],
         "xaxis": "x",
         "y": [
          107900
         ],
         "yaxis": "y"
        },
        {
         "hovertemplate": "Name=Mitsubishi Heavy Industries<br>Rank=%{x}<br>Employees=%{y}<extra></extra>",
         "legendgroup": "Mitsubishi Heavy Industries",
         "marker": {
          "color": "#FF97FF",
          "symbol": "circle"
         },
         "mode": "markers",
         "name": "Mitsubishi Heavy Industries",
         "orientation": "v",
         "showlegend": true,
         "type": "scatter",
         "x": [
          499
         ],
         "xaxis": "x",
         "y": [
          77697
         ],
         "yaxis": "y"
        },
        {
         "hovertemplate": "Name=Samsung C&T<br>Rank=%{x}<br>Employees=%{y}<extra></extra>",
         "legendgroup": "Samsung C&T",
         "marker": {
          "color": "#FECB52",
          "symbol": "circle"
         },
         "mode": "markers",
         "name": "Samsung C&T",
         "orientation": "v",
         "showlegend": true,
         "type": "scatter",
         "x": [
          500
         ],
         "xaxis": "x",
         "y": [
          18685
         ],
         "yaxis": "y"
        }
       ],
       "layout": {
        "legend": {
         "title": {
          "text": "Name"
         },
         "tracegroupgap": 0
        },
        "template": {
         "data": {
          "bar": [
           {
            "error_x": {
             "color": "#2a3f5f"
            },
            "error_y": {
             "color": "#2a3f5f"
            },
            "marker": {
             "line": {
              "color": "#E5ECF6",
              "width": 0.5
             },
             "pattern": {
              "fillmode": "overlay",
              "size": 10,
              "solidity": 0.2
             }
            },
            "type": "bar"
           }
          ],
          "barpolar": [
           {
            "marker": {
             "line": {
              "color": "#E5ECF6",
              "width": 0.5
             },
             "pattern": {
              "fillmode": "overlay",
              "size": 10,
              "solidity": 0.2
             }
            },
            "type": "barpolar"
           }
          ],
          "carpet": [
           {
            "aaxis": {
             "endlinecolor": "#2a3f5f",
             "gridcolor": "white",
             "linecolor": "white",
             "minorgridcolor": "white",
             "startlinecolor": "#2a3f5f"
            },
            "baxis": {
             "endlinecolor": "#2a3f5f",
             "gridcolor": "white",
             "linecolor": "white",
             "minorgridcolor": "white",
             "startlinecolor": "#2a3f5f"
            },
            "type": "carpet"
           }
          ],
          "choropleth": [
           {
            "colorbar": {
             "outlinewidth": 0,
             "ticks": ""
            },
            "type": "choropleth"
           }
          ],
          "contour": [
           {
            "colorbar": {
             "outlinewidth": 0,
             "ticks": ""
            },
            "colorscale": [
             [
              0,
              "#0d0887"
             ],
             [
              0.1111111111111111,
              "#46039f"
             ],
             [
              0.2222222222222222,
              "#7201a8"
             ],
             [
              0.3333333333333333,
              "#9c179e"
             ],
             [
              0.4444444444444444,
              "#bd3786"
             ],
             [
              0.5555555555555556,
              "#d8576b"
             ],
             [
              0.6666666666666666,
              "#ed7953"
             ],
             [
              0.7777777777777778,
              "#fb9f3a"
             ],
             [
              0.8888888888888888,
              "#fdca26"
             ],
             [
              1,
              "#f0f921"
             ]
            ],
            "type": "contour"
           }
          ],
          "contourcarpet": [
           {
            "colorbar": {
             "outlinewidth": 0,
             "ticks": ""
            },
            "type": "contourcarpet"
           }
          ],
          "heatmap": [
           {
            "colorbar": {
             "outlinewidth": 0,
             "ticks": ""
            },
            "colorscale": [
             [
              0,
              "#0d0887"
             ],
             [
              0.1111111111111111,
              "#46039f"
             ],
             [
              0.2222222222222222,
              "#7201a8"
             ],
             [
              0.3333333333333333,
              "#9c179e"
             ],
             [
              0.4444444444444444,
              "#bd3786"
             ],
             [
              0.5555555555555556,
              "#d8576b"
             ],
             [
              0.6666666666666666,
              "#ed7953"
             ],
             [
              0.7777777777777778,
              "#fb9f3a"
             ],
             [
              0.8888888888888888,
              "#fdca26"
             ],
             [
              1,
              "#f0f921"
             ]
            ],
            "type": "heatmap"
           }
          ],
          "heatmapgl": [
           {
            "colorbar": {
             "outlinewidth": 0,
             "ticks": ""
            },
            "colorscale": [
             [
              0,
              "#0d0887"
             ],
             [
              0.1111111111111111,
              "#46039f"
             ],
             [
              0.2222222222222222,
              "#7201a8"
             ],
             [
              0.3333333333333333,
              "#9c179e"
             ],
             [
              0.4444444444444444,
              "#bd3786"
             ],
             [
              0.5555555555555556,
              "#d8576b"
             ],
             [
              0.6666666666666666,
              "#ed7953"
             ],
             [
              0.7777777777777778,
              "#fb9f3a"
             ],
             [
              0.8888888888888888,
              "#fdca26"
             ],
             [
              1,
              "#f0f921"
             ]
            ],
            "type": "heatmapgl"
           }
          ],
          "histogram": [
           {
            "marker": {
             "pattern": {
              "fillmode": "overlay",
              "size": 10,
              "solidity": 0.2
             }
            },
            "type": "histogram"
           }
          ],
          "histogram2d": [
           {
            "colorbar": {
             "outlinewidth": 0,
             "ticks": ""
            },
            "colorscale": [
             [
              0,
              "#0d0887"
             ],
             [
              0.1111111111111111,
              "#46039f"
             ],
             [
              0.2222222222222222,
              "#7201a8"
             ],
             [
              0.3333333333333333,
              "#9c179e"
             ],
             [
              0.4444444444444444,
              "#bd3786"
             ],
             [
              0.5555555555555556,
              "#d8576b"
             ],
             [
              0.6666666666666666,
              "#ed7953"
             ],
             [
              0.7777777777777778,
              "#fb9f3a"
             ],
             [
              0.8888888888888888,
              "#fdca26"
             ],
             [
              1,
              "#f0f921"
             ]
            ],
            "type": "histogram2d"
           }
          ],
          "histogram2dcontour": [
           {
            "colorbar": {
             "outlinewidth": 0,
             "ticks": ""
            },
            "colorscale": [
             [
              0,
              "#0d0887"
             ],
             [
              0.1111111111111111,
              "#46039f"
             ],
             [
              0.2222222222222222,
              "#7201a8"
             ],
             [
              0.3333333333333333,
              "#9c179e"
             ],
             [
              0.4444444444444444,
              "#bd3786"
             ],
             [
              0.5555555555555556,
              "#d8576b"
             ],
             [
              0.6666666666666666,
              "#ed7953"
             ],
             [
              0.7777777777777778,
              "#fb9f3a"
             ],
             [
              0.8888888888888888,
              "#fdca26"
             ],
             [
              1,
              "#f0f921"
             ]
            ],
            "type": "histogram2dcontour"
           }
          ],
          "mesh3d": [
           {
            "colorbar": {
             "outlinewidth": 0,
             "ticks": ""
            },
            "type": "mesh3d"
           }
          ],
          "parcoords": [
           {
            "line": {
             "colorbar": {
              "outlinewidth": 0,
              "ticks": ""
             }
            },
            "type": "parcoords"
           }
          ],
          "pie": [
           {
            "automargin": true,
            "type": "pie"
           }
          ],
          "scatter": [
           {
            "fillpattern": {
             "fillmode": "overlay",
             "size": 10,
             "solidity": 0.2
            },
            "type": "scatter"
           }
          ],
          "scatter3d": [
           {
            "line": {
             "colorbar": {
              "outlinewidth": 0,
              "ticks": ""
             }
            },
            "marker": {
             "colorbar": {
              "outlinewidth": 0,
              "ticks": ""
             }
            },
            "type": "scatter3d"
           }
          ],
          "scattercarpet": [
           {
            "marker": {
             "colorbar": {
              "outlinewidth": 0,
              "ticks": ""
             }
            },
            "type": "scattercarpet"
           }
          ],
          "scattergeo": [
           {
            "marker": {
             "colorbar": {
              "outlinewidth": 0,
              "ticks": ""
             }
            },
            "type": "scattergeo"
           }
          ],
          "scattergl": [
           {
            "marker": {
             "colorbar": {
              "outlinewidth": 0,
              "ticks": ""
             }
            },
            "type": "scattergl"
           }
          ],
          "scattermapbox": [
           {
            "marker": {
             "colorbar": {
              "outlinewidth": 0,
              "ticks": ""
             }
            },
            "type": "scattermapbox"
           }
          ],
          "scatterpolar": [
           {
            "marker": {
             "colorbar": {
              "outlinewidth": 0,
              "ticks": ""
             }
            },
            "type": "scatterpolar"
           }
          ],
          "scatterpolargl": [
           {
            "marker": {
             "colorbar": {
              "outlinewidth": 0,
              "ticks": ""
             }
            },
            "type": "scatterpolargl"
           }
          ],
          "scatterternary": [
           {
            "marker": {
             "colorbar": {
              "outlinewidth": 0,
              "ticks": ""
             }
            },
            "type": "scatterternary"
           }
          ],
          "surface": [
           {
            "colorbar": {
             "outlinewidth": 0,
             "ticks": ""
            },
            "colorscale": [
             [
              0,
              "#0d0887"
             ],
             [
              0.1111111111111111,
              "#46039f"
             ],
             [
              0.2222222222222222,
              "#7201a8"
             ],
             [
              0.3333333333333333,
              "#9c179e"
             ],
             [
              0.4444444444444444,
              "#bd3786"
             ],
             [
              0.5555555555555556,
              "#d8576b"
             ],
             [
              0.6666666666666666,
              "#ed7953"
             ],
             [
              0.7777777777777778,
              "#fb9f3a"
             ],
             [
              0.8888888888888888,
              "#fdca26"
             ],
             [
              1,
              "#f0f921"
             ]
            ],
            "type": "surface"
           }
          ],
          "table": [
           {
            "cells": {
             "fill": {
              "color": "#EBF0F8"
             },
             "line": {
              "color": "white"
             }
            },
            "header": {
             "fill": {
              "color": "#C8D4E3"
             },
             "line": {
              "color": "white"
             }
            },
            "type": "table"
           }
          ]
         },
         "layout": {
          "annotationdefaults": {
           "arrowcolor": "#2a3f5f",
           "arrowhead": 0,
           "arrowwidth": 1
          },
          "autotypenumbers": "strict",
          "coloraxis": {
           "colorbar": {
            "outlinewidth": 0,
            "ticks": ""
           }
          },
          "colorscale": {
           "diverging": [
            [
             0,
             "#8e0152"
            ],
            [
             0.1,
             "#c51b7d"
            ],
            [
             0.2,
             "#de77ae"
            ],
            [
             0.3,
             "#f1b6da"
            ],
            [
             0.4,
             "#fde0ef"
            ],
            [
             0.5,
             "#f7f7f7"
            ],
            [
             0.6,
             "#e6f5d0"
            ],
            [
             0.7,
             "#b8e186"
            ],
            [
             0.8,
             "#7fbc41"
            ],
            [
             0.9,
             "#4d9221"
            ],
            [
             1,
             "#276419"
            ]
           ],
           "sequential": [
            [
             0,
             "#0d0887"
            ],
            [
             0.1111111111111111,
             "#46039f"
            ],
            [
             0.2222222222222222,
             "#7201a8"
            ],
            [
             0.3333333333333333,
             "#9c179e"
            ],
            [
             0.4444444444444444,
             "#bd3786"
            ],
            [
             0.5555555555555556,
             "#d8576b"
            ],
            [
             0.6666666666666666,
             "#ed7953"
            ],
            [
             0.7777777777777778,
             "#fb9f3a"
            ],
            [
             0.8888888888888888,
             "#fdca26"
            ],
            [
             1,
             "#f0f921"
            ]
           ],
           "sequentialminus": [
            [
             0,
             "#0d0887"
            ],
            [
             0.1111111111111111,
             "#46039f"
            ],
            [
             0.2222222222222222,
             "#7201a8"
            ],
            [
             0.3333333333333333,
             "#9c179e"
            ],
            [
             0.4444444444444444,
             "#bd3786"
            ],
            [
             0.5555555555555556,
             "#d8576b"
            ],
            [
             0.6666666666666666,
             "#ed7953"
            ],
            [
             0.7777777777777778,
             "#fb9f3a"
            ],
            [
             0.8888888888888888,
             "#fdca26"
            ],
            [
             1,
             "#f0f921"
            ]
           ]
          },
          "colorway": [
           "#636efa",
           "#EF553B",
           "#00cc96",
           "#ab63fa",
           "#FFA15A",
           "#19d3f3",
           "#FF6692",
           "#B6E880",
           "#FF97FF",
           "#FECB52"
          ],
          "font": {
           "color": "#2a3f5f"
          },
          "geo": {
           "bgcolor": "white",
           "lakecolor": "white",
           "landcolor": "#E5ECF6",
           "showlakes": true,
           "showland": true,
           "subunitcolor": "white"
          },
          "hoverlabel": {
           "align": "left"
          },
          "hovermode": "closest",
          "mapbox": {
           "style": "light"
          },
          "paper_bgcolor": "white",
          "plot_bgcolor": "#E5ECF6",
          "polar": {
           "angularaxis": {
            "gridcolor": "white",
            "linecolor": "white",
            "ticks": ""
           },
           "bgcolor": "#E5ECF6",
           "radialaxis": {
            "gridcolor": "white",
            "linecolor": "white",
            "ticks": ""
           }
          },
          "scene": {
           "xaxis": {
            "backgroundcolor": "#E5ECF6",
            "gridcolor": "white",
            "gridwidth": 2,
            "linecolor": "white",
            "showbackground": true,
            "ticks": "",
            "zerolinecolor": "white"
           },
           "yaxis": {
            "backgroundcolor": "#E5ECF6",
            "gridcolor": "white",
            "gridwidth": 2,
            "linecolor": "white",
            "showbackground": true,
            "ticks": "",
            "zerolinecolor": "white"
           },
           "zaxis": {
            "backgroundcolor": "#E5ECF6",
            "gridcolor": "white",
            "gridwidth": 2,
            "linecolor": "white",
            "showbackground": true,
            "ticks": "",
            "zerolinecolor": "white"
           }
          },
          "shapedefaults": {
           "line": {
            "color": "#2a3f5f"
           }
          },
          "ternary": {
           "aaxis": {
            "gridcolor": "white",
            "linecolor": "white",
            "ticks": ""
           },
           "baxis": {
            "gridcolor": "white",
            "linecolor": "white",
            "ticks": ""
           },
           "bgcolor": "#E5ECF6",
           "caxis": {
            "gridcolor": "white",
            "linecolor": "white",
            "ticks": ""
           }
          },
          "title": {
           "x": 0.05
          },
          "xaxis": {
           "automargin": true,
           "gridcolor": "white",
           "linecolor": "white",
           "ticks": "",
           "title": {
            "standoff": 15
           },
           "zerolinecolor": "white",
           "zerolinewidth": 2
          },
          "yaxis": {
           "automargin": true,
           "gridcolor": "white",
           "linecolor": "white",
           "ticks": "",
           "title": {
            "standoff": 15
           },
           "zerolinecolor": "white",
           "zerolinewidth": 2
          }
         }
        },
        "title": {
         "text": "Ranking vs Number of Employees among companies"
        },
        "xaxis": {
         "anchor": "y",
         "domain": [
          0,
          1
         ],
         "title": {
          "text": "Rank"
         }
        },
        "yaxis": {
         "anchor": "x",
         "domain": [
          0,
          1
         ],
         "title": {
          "text": "Employees"
         }
        }
       }
      }
     },
     "metadata": {},
     "output_type": "display_data"
    }
   ],
   "source": [
    "# plotting the number of employees vs Rank\n",
    "fig = px.scatter(df, x='Rank', y='Employees', color='Name', title='Ranking vs Number of Employees among companies')\n",
    "fig.show()"
   ]
  },
  {
   "cell_type": "code",
   "execution_count": 12,
   "metadata": {},
   "outputs": [
    {
     "data": {
      "application/vnd.plotly.v1+json": {
       "config": {
        "plotlyServerURL": "https://plot.ly"
       },
       "data": [
        {
         "alignmentgroup": "True",
         "hovertemplate": "CEO Type=%{x}<br>Avg ATR=%{y}<extra></extra>",
         "legendgroup": "Female CEO",
         "marker": {
          "color": "#636efa",
          "pattern": {
           "shape": ""
          }
         },
         "name": "Female CEO",
         "offsetgroup": "Female CEO",
         "orientation": "v",
         "showlegend": true,
         "textposition": "auto",
         "type": "bar",
         "x": [
          "Female CEO"
         ],
         "xaxis": "x",
         "y": [
          1.0658671580764778
         ],
         "yaxis": "y"
        },
        {
         "alignmentgroup": "True",
         "hovertemplate": "CEO Type=%{x}<br>Avg ATR=%{y}<extra></extra>",
         "legendgroup": "Non-Female CEO",
         "marker": {
          "color": "#EF553B",
          "pattern": {
           "shape": ""
          }
         },
         "name": "Non-Female CEO",
         "offsetgroup": "Non-Female CEO",
         "orientation": "v",
         "showlegend": true,
         "textposition": "auto",
         "type": "bar",
         "x": [
          "Non-Female CEO"
         ],
         "xaxis": "x",
         "y": [
          0.9003651589494345
         ],
         "yaxis": "y"
        }
       ],
       "layout": {
        "barmode": "relative",
        "legend": {
         "title": {
          "text": "CEO Type"
         },
         "tracegroupgap": 0
        },
        "template": {
         "data": {
          "bar": [
           {
            "error_x": {
             "color": "#2a3f5f"
            },
            "error_y": {
             "color": "#2a3f5f"
            },
            "marker": {
             "line": {
              "color": "#E5ECF6",
              "width": 0.5
             },
             "pattern": {
              "fillmode": "overlay",
              "size": 10,
              "solidity": 0.2
             }
            },
            "type": "bar"
           }
          ],
          "barpolar": [
           {
            "marker": {
             "line": {
              "color": "#E5ECF6",
              "width": 0.5
             },
             "pattern": {
              "fillmode": "overlay",
              "size": 10,
              "solidity": 0.2
             }
            },
            "type": "barpolar"
           }
          ],
          "carpet": [
           {
            "aaxis": {
             "endlinecolor": "#2a3f5f",
             "gridcolor": "white",
             "linecolor": "white",
             "minorgridcolor": "white",
             "startlinecolor": "#2a3f5f"
            },
            "baxis": {
             "endlinecolor": "#2a3f5f",
             "gridcolor": "white",
             "linecolor": "white",
             "minorgridcolor": "white",
             "startlinecolor": "#2a3f5f"
            },
            "type": "carpet"
           }
          ],
          "choropleth": [
           {
            "colorbar": {
             "outlinewidth": 0,
             "ticks": ""
            },
            "type": "choropleth"
           }
          ],
          "contour": [
           {
            "colorbar": {
             "outlinewidth": 0,
             "ticks": ""
            },
            "colorscale": [
             [
              0,
              "#0d0887"
             ],
             [
              0.1111111111111111,
              "#46039f"
             ],
             [
              0.2222222222222222,
              "#7201a8"
             ],
             [
              0.3333333333333333,
              "#9c179e"
             ],
             [
              0.4444444444444444,
              "#bd3786"
             ],
             [
              0.5555555555555556,
              "#d8576b"
             ],
             [
              0.6666666666666666,
              "#ed7953"
             ],
             [
              0.7777777777777778,
              "#fb9f3a"
             ],
             [
              0.8888888888888888,
              "#fdca26"
             ],
             [
              1,
              "#f0f921"
             ]
            ],
            "type": "contour"
           }
          ],
          "contourcarpet": [
           {
            "colorbar": {
             "outlinewidth": 0,
             "ticks": ""
            },
            "type": "contourcarpet"
           }
          ],
          "heatmap": [
           {
            "colorbar": {
             "outlinewidth": 0,
             "ticks": ""
            },
            "colorscale": [
             [
              0,
              "#0d0887"
             ],
             [
              0.1111111111111111,
              "#46039f"
             ],
             [
              0.2222222222222222,
              "#7201a8"
             ],
             [
              0.3333333333333333,
              "#9c179e"
             ],
             [
              0.4444444444444444,
              "#bd3786"
             ],
             [
              0.5555555555555556,
              "#d8576b"
             ],
             [
              0.6666666666666666,
              "#ed7953"
             ],
             [
              0.7777777777777778,
              "#fb9f3a"
             ],
             [
              0.8888888888888888,
              "#fdca26"
             ],
             [
              1,
              "#f0f921"
             ]
            ],
            "type": "heatmap"
           }
          ],
          "heatmapgl": [
           {
            "colorbar": {
             "outlinewidth": 0,
             "ticks": ""
            },
            "colorscale": [
             [
              0,
              "#0d0887"
             ],
             [
              0.1111111111111111,
              "#46039f"
             ],
             [
              0.2222222222222222,
              "#7201a8"
             ],
             [
              0.3333333333333333,
              "#9c179e"
             ],
             [
              0.4444444444444444,
              "#bd3786"
             ],
             [
              0.5555555555555556,
              "#d8576b"
             ],
             [
              0.6666666666666666,
              "#ed7953"
             ],
             [
              0.7777777777777778,
              "#fb9f3a"
             ],
             [
              0.8888888888888888,
              "#fdca26"
             ],
             [
              1,
              "#f0f921"
             ]
            ],
            "type": "heatmapgl"
           }
          ],
          "histogram": [
           {
            "marker": {
             "pattern": {
              "fillmode": "overlay",
              "size": 10,
              "solidity": 0.2
             }
            },
            "type": "histogram"
           }
          ],
          "histogram2d": [
           {
            "colorbar": {
             "outlinewidth": 0,
             "ticks": ""
            },
            "colorscale": [
             [
              0,
              "#0d0887"
             ],
             [
              0.1111111111111111,
              "#46039f"
             ],
             [
              0.2222222222222222,
              "#7201a8"
             ],
             [
              0.3333333333333333,
              "#9c179e"
             ],
             [
              0.4444444444444444,
              "#bd3786"
             ],
             [
              0.5555555555555556,
              "#d8576b"
             ],
             [
              0.6666666666666666,
              "#ed7953"
             ],
             [
              0.7777777777777778,
              "#fb9f3a"
             ],
             [
              0.8888888888888888,
              "#fdca26"
             ],
             [
              1,
              "#f0f921"
             ]
            ],
            "type": "histogram2d"
           }
          ],
          "histogram2dcontour": [
           {
            "colorbar": {
             "outlinewidth": 0,
             "ticks": ""
            },
            "colorscale": [
             [
              0,
              "#0d0887"
             ],
             [
              0.1111111111111111,
              "#46039f"
             ],
             [
              0.2222222222222222,
              "#7201a8"
             ],
             [
              0.3333333333333333,
              "#9c179e"
             ],
             [
              0.4444444444444444,
              "#bd3786"
             ],
             [
              0.5555555555555556,
              "#d8576b"
             ],
             [
              0.6666666666666666,
              "#ed7953"
             ],
             [
              0.7777777777777778,
              "#fb9f3a"
             ],
             [
              0.8888888888888888,
              "#fdca26"
             ],
             [
              1,
              "#f0f921"
             ]
            ],
            "type": "histogram2dcontour"
           }
          ],
          "mesh3d": [
           {
            "colorbar": {
             "outlinewidth": 0,
             "ticks": ""
            },
            "type": "mesh3d"
           }
          ],
          "parcoords": [
           {
            "line": {
             "colorbar": {
              "outlinewidth": 0,
              "ticks": ""
             }
            },
            "type": "parcoords"
           }
          ],
          "pie": [
           {
            "automargin": true,
            "type": "pie"
           }
          ],
          "scatter": [
           {
            "fillpattern": {
             "fillmode": "overlay",
             "size": 10,
             "solidity": 0.2
            },
            "type": "scatter"
           }
          ],
          "scatter3d": [
           {
            "line": {
             "colorbar": {
              "outlinewidth": 0,
              "ticks": ""
             }
            },
            "marker": {
             "colorbar": {
              "outlinewidth": 0,
              "ticks": ""
             }
            },
            "type": "scatter3d"
           }
          ],
          "scattercarpet": [
           {
            "marker": {
             "colorbar": {
              "outlinewidth": 0,
              "ticks": ""
             }
            },
            "type": "scattercarpet"
           }
          ],
          "scattergeo": [
           {
            "marker": {
             "colorbar": {
              "outlinewidth": 0,
              "ticks": ""
             }
            },
            "type": "scattergeo"
           }
          ],
          "scattergl": [
           {
            "marker": {
             "colorbar": {
              "outlinewidth": 0,
              "ticks": ""
             }
            },
            "type": "scattergl"
           }
          ],
          "scattermapbox": [
           {
            "marker": {
             "colorbar": {
              "outlinewidth": 0,
              "ticks": ""
             }
            },
            "type": "scattermapbox"
           }
          ],
          "scatterpolar": [
           {
            "marker": {
             "colorbar": {
              "outlinewidth": 0,
              "ticks": ""
             }
            },
            "type": "scatterpolar"
           }
          ],
          "scatterpolargl": [
           {
            "marker": {
             "colorbar": {
              "outlinewidth": 0,
              "ticks": ""
             }
            },
            "type": "scatterpolargl"
           }
          ],
          "scatterternary": [
           {
            "marker": {
             "colorbar": {
              "outlinewidth": 0,
              "ticks": ""
             }
            },
            "type": "scatterternary"
           }
          ],
          "surface": [
           {
            "colorbar": {
             "outlinewidth": 0,
             "ticks": ""
            },
            "colorscale": [
             [
              0,
              "#0d0887"
             ],
             [
              0.1111111111111111,
              "#46039f"
             ],
             [
              0.2222222222222222,
              "#7201a8"
             ],
             [
              0.3333333333333333,
              "#9c179e"
             ],
             [
              0.4444444444444444,
              "#bd3786"
             ],
             [
              0.5555555555555556,
              "#d8576b"
             ],
             [
              0.6666666666666666,
              "#ed7953"
             ],
             [
              0.7777777777777778,
              "#fb9f3a"
             ],
             [
              0.8888888888888888,
              "#fdca26"
             ],
             [
              1,
              "#f0f921"
             ]
            ],
            "type": "surface"
           }
          ],
          "table": [
           {
            "cells": {
             "fill": {
              "color": "#EBF0F8"
             },
             "line": {
              "color": "white"
             }
            },
            "header": {
             "fill": {
              "color": "#C8D4E3"
             },
             "line": {
              "color": "white"
             }
            },
            "type": "table"
           }
          ]
         },
         "layout": {
          "annotationdefaults": {
           "arrowcolor": "#2a3f5f",
           "arrowhead": 0,
           "arrowwidth": 1
          },
          "autotypenumbers": "strict",
          "coloraxis": {
           "colorbar": {
            "outlinewidth": 0,
            "ticks": ""
           }
          },
          "colorscale": {
           "diverging": [
            [
             0,
             "#8e0152"
            ],
            [
             0.1,
             "#c51b7d"
            ],
            [
             0.2,
             "#de77ae"
            ],
            [
             0.3,
             "#f1b6da"
            ],
            [
             0.4,
             "#fde0ef"
            ],
            [
             0.5,
             "#f7f7f7"
            ],
            [
             0.6,
             "#e6f5d0"
            ],
            [
             0.7,
             "#b8e186"
            ],
            [
             0.8,
             "#7fbc41"
            ],
            [
             0.9,
             "#4d9221"
            ],
            [
             1,
             "#276419"
            ]
           ],
           "sequential": [
            [
             0,
             "#0d0887"
            ],
            [
             0.1111111111111111,
             "#46039f"
            ],
            [
             0.2222222222222222,
             "#7201a8"
            ],
            [
             0.3333333333333333,
             "#9c179e"
            ],
            [
             0.4444444444444444,
             "#bd3786"
            ],
            [
             0.5555555555555556,
             "#d8576b"
            ],
            [
             0.6666666666666666,
             "#ed7953"
            ],
            [
             0.7777777777777778,
             "#fb9f3a"
            ],
            [
             0.8888888888888888,
             "#fdca26"
            ],
            [
             1,
             "#f0f921"
            ]
           ],
           "sequentialminus": [
            [
             0,
             "#0d0887"
            ],
            [
             0.1111111111111111,
             "#46039f"
            ],
            [
             0.2222222222222222,
             "#7201a8"
            ],
            [
             0.3333333333333333,
             "#9c179e"
            ],
            [
             0.4444444444444444,
             "#bd3786"
            ],
            [
             0.5555555555555556,
             "#d8576b"
            ],
            [
             0.6666666666666666,
             "#ed7953"
            ],
            [
             0.7777777777777778,
             "#fb9f3a"
            ],
            [
             0.8888888888888888,
             "#fdca26"
            ],
            [
             1,
             "#f0f921"
            ]
           ]
          },
          "colorway": [
           "#636efa",
           "#EF553B",
           "#00cc96",
           "#ab63fa",
           "#FFA15A",
           "#19d3f3",
           "#FF6692",
           "#B6E880",
           "#FF97FF",
           "#FECB52"
          ],
          "font": {
           "color": "#2a3f5f"
          },
          "geo": {
           "bgcolor": "white",
           "lakecolor": "white",
           "landcolor": "#E5ECF6",
           "showlakes": true,
           "showland": true,
           "subunitcolor": "white"
          },
          "hoverlabel": {
           "align": "left"
          },
          "hovermode": "closest",
          "mapbox": {
           "style": "light"
          },
          "paper_bgcolor": "white",
          "plot_bgcolor": "#E5ECF6",
          "polar": {
           "angularaxis": {
            "gridcolor": "white",
            "linecolor": "white",
            "ticks": ""
           },
           "bgcolor": "#E5ECF6",
           "radialaxis": {
            "gridcolor": "white",
            "linecolor": "white",
            "ticks": ""
           }
          },
          "scene": {
           "xaxis": {
            "backgroundcolor": "#E5ECF6",
            "gridcolor": "white",
            "gridwidth": 2,
            "linecolor": "white",
            "showbackground": true,
            "ticks": "",
            "zerolinecolor": "white"
           },
           "yaxis": {
            "backgroundcolor": "#E5ECF6",
            "gridcolor": "white",
            "gridwidth": 2,
            "linecolor": "white",
            "showbackground": true,
            "ticks": "",
            "zerolinecolor": "white"
           },
           "zaxis": {
            "backgroundcolor": "#E5ECF6",
            "gridcolor": "white",
            "gridwidth": 2,
            "linecolor": "white",
            "showbackground": true,
            "ticks": "",
            "zerolinecolor": "white"
           }
          },
          "shapedefaults": {
           "line": {
            "color": "#2a3f5f"
           }
          },
          "ternary": {
           "aaxis": {
            "gridcolor": "white",
            "linecolor": "white",
            "ticks": ""
           },
           "baxis": {
            "gridcolor": "white",
            "linecolor": "white",
            "ticks": ""
           },
           "bgcolor": "#E5ECF6",
           "caxis": {
            "gridcolor": "white",
            "linecolor": "white",
            "ticks": ""
           }
          },
          "title": {
           "x": 0.05
          },
          "xaxis": {
           "automargin": true,
           "gridcolor": "white",
           "linecolor": "white",
           "ticks": "",
           "title": {
            "standoff": 15
           },
           "zerolinecolor": "white",
           "zerolinewidth": 2
          },
          "yaxis": {
           "automargin": true,
           "gridcolor": "white",
           "linecolor": "white",
           "ticks": "",
           "title": {
            "standoff": 15
           },
           "zerolinecolor": "white",
           "zerolinewidth": 2
          }
         }
        },
        "title": {
         "text": "Average Asset Turnover Ratio by CEO Gender"
        },
        "xaxis": {
         "anchor": "y",
         "categoryarray": [
          "Female CEO",
          "Non-Female CEO"
         ],
         "categoryorder": "array",
         "domain": [
          0,
          1
         ],
         "title": {
          "text": "CEO Type"
         }
        },
        "yaxis": {
         "anchor": "x",
         "domain": [
          0,
          1
         ],
         "title": {
          "text": "Avg ATR"
         }
        }
       }
      }
     },
     "metadata": {},
     "output_type": "display_data"
    }
   ],
   "source": [
    "# Finding the average asset turnover ratio between companies run by female CEOs\n",
    "# non-female CEOs\n",
    "\n",
    "female_df = df[df['Female CEO'] == True]\n",
    "atr_female = female_df['Asset Turnover Ratio'].mean()\n",
    "\n",
    "non_female_ceo = df[df['Female CEO'] == False]\n",
    "atr_non_female = non_female_ceo['Asset Turnover Ratio'].mean()\n",
    "\n",
    "\n",
    "\n",
    "# Data for the bar graph\n",
    "data = {\n",
    "    'CEO Type': ['Female CEO', 'Non-Female CEO'],\n",
    "    'Average Asset Turnover Ratio': [atr_female, atr_non_female]\n",
    "}\n",
    "\n",
    "# Create a DataFrame\n",
    "bar_df = pd.DataFrame(data)\n",
    "\n",
    "# Create the bar graph using Plotly Express\n",
    "fig = px.bar(bar_df, \n",
    "             x='CEO Type', \n",
    "             y='Average Asset Turnover Ratio', \n",
    "             title='Average Asset Turnover Ratio by CEO Gender',\n",
    "             color ='CEO Type',\n",
    "             labels={'Average Asset Turnover Ratio': 'Avg ATR', 'CEO Type': 'CEO Type'})\n",
    "\n",
    "# Show the figure\n",
    "fig.show()\n",
    "\n",
    "\n"
   ]
  },
  {
   "attachments": {},
   "cell_type": "markdown",
   "metadata": {},
   "source": [
    "## Random Forest Classification Model\n",
    "We want to investigate that: Do companies with female CEO have better strategies, therefore, lead to stronger growth?"
   ]
  },
  {
   "cell_type": "code",
   "execution_count": 13,
   "metadata": {},
   "outputs": [],
   "source": [
    "import pandas as pd\n",
    "import numpy as np\n",
    "from sklearn.model_selection import train_test_split\n",
    "from sklearn.preprocessing import StandardScaler\n",
    "from sklearn.ensemble import RandomForestClassifier\n",
    "from sklearn.metrics import classification_report\n",
    "import matplotlib.pyplot as plt\n",
    "import seaborn as sns\n",
    "from scipy import stats"
   ]
  },
  {
   "cell_type": "code",
   "execution_count": 14,
   "metadata": {},
   "outputs": [],
   "source": [
    "def statistical_analysis(df):\n",
    "    # First metrics we use to compare performance: Revenue per Employee\n",
    "    # Second metrics: Assets turnover ratio\n",
    "    df['Revenue_per_Employee'] = df['Revenues ($M)'] / df['Employees']\n",
    "    \n",
    "    # Group by CEO gender\n",
    "    female_ceo = df[df['Female CEO'] == True]\n",
    "    male_ceo = df[df['Female CEO'] == False]\n",
    "    \n",
    "    metrics = ['Asset Turnover Ratio', 'Revenue_per_Employee']\n",
    "    stats_results = {}\n",
    "    \n",
    "    for metric in metrics:\n",
    "        stats_df = pd.DataFrame({\n",
    "            'Female CEO': [\n",
    "                female_ceo[metric].mean(),\n",
    "                female_ceo[metric].median(),\n",
    "                female_ceo[metric].std()\n",
    "            ],\n",
    "            'Male CEO': [\n",
    "                male_ceo[metric].mean(),\n",
    "                male_ceo[metric].median(),\n",
    "                male_ceo[metric].std()\n",
    "            ]\n",
    "        }, index=['Mean', 'Median', 'Std'])\n",
    "        \n",
    "        # Perform t-test\n",
    "        t_stat, p_value = stats.ttest_ind(female_ceo[metric], male_ceo[metric])\n",
    "        stats_results[metric] = {\n",
    "            'statistics': stats_df,\n",
    "            't_statistic': t_stat,\n",
    "            'p_value': p_value\n",
    "        }\n",
    "    \n",
    "    return stats_results"
   ]
  },
  {
   "cell_type": "code",
   "execution_count": 15,
   "metadata": {},
   "outputs": [],
   "source": [
    "def classification_analysis(df):\n",
    "    # Create performance score\n",
    "    df['AT_normalized'] = (df['Asset Turnover Ratio'] - df['Asset Turnover Ratio'].min()) / \\\n",
    "                         (df['Asset Turnover Ratio'].max() - df['Asset Turnover Ratio'].min())\n",
    "    \n",
    "    df['RevEmp_normalized'] = (df['Revenue_per_Employee'] - df['Revenue_per_Employee'].min()) / \\\n",
    "                             (df['Revenue_per_Employee'].max() - df['Revenue_per_Employee'].min())\n",
    "    \n",
    "    # Calculate performance score\n",
    "    df['Performance_Score'] = (df['AT_normalized'] + df['RevEmp_normalized']) / 2\n",
    "    \n",
    "    # Create binary classification target (top 25% are high performers)\n",
    "    df['High_Performance'] = (df['Performance_Score'] > df['Performance_Score'].quantile(0.75)).astype(int)\n",
    "    \n",
    "    # Features for both models\n",
    "    features_with_gender = [\n",
    "        'Female CEO',\n",
    "        'Employees',\n",
    "        'Years on Global 500 List',\n",
    "        'Profits ($M)',\n",
    "        'Assets ($M)'\n",
    "    ]\n",
    "    \n",
    "    features_without_gender = features_with_gender[1:]  # Exclude Female CEO\n",
    "    \n",
    "    # Prepare data\n",
    "    X_with_gender = df[features_with_gender].copy()\n",
    "    X_without_gender = df[features_without_gender].copy()\n",
    "    y = df['High_Performance']\n",
    "    \n",
    "    X_with_gender['Female CEO'] = X_with_gender['Female CEO'].astype(int)\n",
    "    \n",
    "    # Split data\n",
    "    X_with_train, X_with_test, y_train, y_test = train_test_split(X_with_gender, y, test_size=0.2, random_state=42)\n",
    "    X_without_train = X_with_train[features_without_gender]\n",
    "    X_without_test = X_with_test[features_without_gender]\n",
    "    \n",
    "    # Scale features\n",
    "    scaler_with = StandardScaler()\n",
    "    scaler_without = StandardScaler()\n",
    "    \n",
    "    X_with_train_scaled = scaler_with.fit_transform(X_with_train)\n",
    "    X_with_test_scaled = scaler_with.transform(X_with_test)\n",
    "    \n",
    "    X_without_train_scaled = scaler_without.fit_transform(X_without_train)\n",
    "    X_without_test_scaled = scaler_without.transform(X_without_test)\n",
    "    \n",
    "    # Train models\n",
    "    rf_with_gender = RandomForestClassifier(random_state=42)\n",
    "    rf_without_gender = RandomForestClassifier(random_state=42)\n",
    "    \n",
    "    rf_with_gender.fit(X_with_train_scaled, y_train)\n",
    "    rf_without_gender.fit(X_without_train_scaled, y_train)\n",
    "    \n",
    "    # Make predictions\n",
    "    y_pred_with = rf_with_gender.predict(X_with_test_scaled)\n",
    "    y_pred_without = rf_without_gender.predict(X_without_test_scaled)\n",
    "    \n",
    "    # Calculate feature importance for both models\n",
    "    importance_with = pd.DataFrame({\n",
    "        'feature': features_with_gender,\n",
    "        'importance': rf_with_gender.feature_importances_\n",
    "    }).sort_values('importance', ascending=False)\n",
    "    \n",
    "    importance_without = pd.DataFrame({\n",
    "        'feature': features_without_gender,\n",
    "        'importance': rf_without_gender.feature_importances_\n",
    "    }).sort_values('importance', ascending=False)\n",
    "    \n",
    "    return {\n",
    "        'model_with_gender': {\n",
    "            'report': classification_report(y_test, y_pred_with),\n",
    "            'importance': importance_with\n",
    "        },\n",
    "        'model_without_gender': {\n",
    "            'report': classification_report(y_test, y_pred_without),\n",
    "            'importance': importance_without\n",
    "        }\n",
    "    }"
   ]
  },
  {
   "cell_type": "code",
   "execution_count": 16,
   "metadata": {},
   "outputs": [
    {
     "name": "stdout",
     "output_type": "stream",
     "text": [
      "Part 1: Statistics\n",
      "\n",
      "Asset Turnover Ratio Statistics:\n",
      "        Female CEO  Male CEO\n",
      "Mean      1.065867  0.900365\n",
      "Median    0.954256  0.675326\n",
      "Std       0.812423  1.012099\n",
      "T-statistic: 0.5618\n",
      "P-value: 0.5745\n",
      "\n",
      "Revenue_per_Employee Statistics:\n",
      "        Female CEO   Male CEO\n",
      "Mean      2.225813   1.814609\n",
      "Median    0.585158   0.684692\n",
      "Std       4.831689  11.055372\n",
      "T-statistic: 0.1284\n",
      "P-value: 0.8978\n",
      "\n",
      "Part 2: ML Classification\n",
      "\n",
      "Model With CEO Gender:\n",
      "              precision    recall  f1-score   support\n",
      "\n",
      "           0       0.88      0.92      0.90        77\n",
      "           1       0.68      0.57      0.62        23\n",
      "\n",
      "    accuracy                           0.84       100\n",
      "   macro avg       0.78      0.74      0.76       100\n",
      "weighted avg       0.83      0.84      0.83       100\n",
      "\n",
      "\n",
      "Feature Importance (With Gender):\n",
      "                    feature  importance\n",
      "4               Assets ($M)    0.591773\n",
      "1                 Employees    0.155721\n",
      "3              Profits ($M)    0.154202\n",
      "2  Years on Global 500 List    0.086717\n",
      "0                Female CEO    0.011587\n",
      "\n",
      "Model Without CEO Gender:\n",
      "              precision    recall  f1-score   support\n",
      "\n",
      "           0       0.89      0.95      0.92        77\n",
      "           1       0.78      0.61      0.68        23\n",
      "\n",
      "    accuracy                           0.87       100\n",
      "   macro avg       0.83      0.78      0.80       100\n",
      "weighted avg       0.86      0.87      0.86       100\n",
      "\n",
      "\n",
      "Feature Importance (Without Gender):\n",
      "                    feature  importance\n",
      "3               Assets ($M)    0.592771\n",
      "0                 Employees    0.167569\n",
      "2              Profits ($M)    0.154727\n",
      "1  Years on Global 500 List    0.084933\n"
     ]
    },
    {
     "data": {
      "image/png": "[encoded data removed]",
      "text/plain": [
       "<Figure size 1500x600 with 2 Axes>"
      ]
     },
     "metadata": {},
     "output_type": "display_data"
    }
   ],
   "source": [
    "# Run analysis and plots\n",
    "def run_analysis(df):\n",
    "    print(\"Part 1: Statistics\")\n",
    "    stats_results = statistical_analysis(df)\n",
    "    for metric, results in stats_results.items():\n",
    "        print(f\"\\n{metric} Statistics:\")\n",
    "        print(results['statistics'])\n",
    "        print(f\"T-statistic: {results['t_statistic']:.4f}\")\n",
    "        print(f\"P-value: {results['p_value']:.4f}\")\n",
    "    \n",
    "    # Run classification analysis\n",
    "    print(\"\\nPart 2: ML Classification\")\n",
    "    class_results = classification_analysis(df)\n",
    "    \n",
    "    print(\"\\nModel With CEO Gender:\")\n",
    "    print(class_results['model_with_gender']['report'])\n",
    "    print(\"\\nFeature Importance (With Gender):\")\n",
    "    print(class_results['model_with_gender']['importance'])\n",
    "    \n",
    "    print(\"\\nModel Without CEO Gender:\")\n",
    "    print(class_results['model_without_gender']['report'])\n",
    "    print(\"\\nFeature Importance (Without Gender):\")\n",
    "    print(class_results['model_without_gender']['importance'])\n",
    "    \n",
    "    # Visualization\n",
    "    fig, (ax1, ax2) = plt.subplots(1, 2, figsize=(15, 6))\n",
    "    \n",
    "    # Plot feature importance for both models\n",
    "    sns.barplot(data=class_results['model_with_gender']['importance'], \n",
    "                x='importance', y='feature', ax=ax1)\n",
    "    ax1.set_title('Feature Importance (With Gender)')\n",
    "    \n",
    "    sns.barplot(data=class_results['model_without_gender']['importance'], \n",
    "                x='importance', y='feature', ax=ax2)\n",
    "    ax2.set_title('Feature Importance (Without Gender)')\n",
    "    \n",
    "    plt.tight_layout()\n",
    "    plt.show()\n",
    "    \n",
    "    return stats_results, class_results\n",
    "\n",
    "results = run_analysis(df)"
   ]
  },
  {
   "attachments": {},
   "cell_type": "markdown",
   "metadata": {},
   "source": [
    "### Evaluation and Discussion \n",
    "- We choose Asset Turnover Ratio and Revenue per Employee as performance metris to evalaute company performance. And we firstly conducted direct statistical comparisons of our key performance metrics such as t-tests.\n",
    "- Then, we implemented Random Forest classification model on our dataset. We created two models - one with CEO gender as a feature and one without. This dual-model approach provided stronger evidence than a single model could, as it allowed us to observe that what removing the gender feature actually affect. \n",
    "- Our models provide more information into performance prediction. The first model with CEO gender feature achieved an overall accuracy of 84% for higher performance companies with  a showing precision of 0.68, recall of 0.57 and an F1-score of 0.62. At the same time, the Random Forest Classification model excluding CEO gender demonstrated slightly better performance, achieving 87% accuracy with metrics precision of 0.78, recall of 0.61, and F1-score of 0.68.\n",
    "- These findings suggest that while female-led companies show a slightly better average performance, the difference is not statistically significant, and company performance is primarily driven by other factors such as assets, employee count and profits. The fact that removing the CEO gender metrics actually improved model performance draws a conclusion that the CEO gender has very limited contribution to company performance. \n",
    "-  This result, however, doesn't necessarily indicate a failure of our model or hypothesis. Instead it may reveal underlying issues such as the small sample size of female CEOs in Fortune 500 companies, the stronger influence of structural factors on performance compared to individual leadership, or the limitations of our metrics in capturing leadership qualities. This conclusion reveals both positive and negative views about gender-based leadership effectiveness, suggesting that success in corporate leadership goes beyond gender boundaries."
   ]
  },
  {
   "cell_type": "code",
   "execution_count": null,
   "metadata": {},
   "outputs": [],
   "source": []
  }
 ],
 "metadata": {
  "kernelspec": {
   "display_name": "Python 3 (ipykernel)",
   "language": "python",
   "name": "python3"
  },
  "language_info": {
   "codemirror_mode": {
    "name": "ipython",
    "version": 3
   },
   "file_extension": ".py",
   "mimetype": "text/x-python",
   "name": "python",
   "nbconvert_exporter": "python",
   "pygments_lexer": "ipython3",
   "version": "3.12.4"
  }
 },
 "nbformat": 4,
 "nbformat_minor": 4
}
